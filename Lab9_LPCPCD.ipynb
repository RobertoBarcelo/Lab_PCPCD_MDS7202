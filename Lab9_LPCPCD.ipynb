{
  "cells": [
    {
      "cell_type": "markdown",
      "metadata": {
        "id": "dumYaI_3CNtt"
      },
      "source": [
        "<h1><center>Laboratorio 9: Los huesos de Hipócrates 🦴</center></h1>\n",
        "\n",
        "<center><strong>MDS7202: Laboratorio de Programación Científica para Ciencia de Datos</strong></center>"
      ]
    },
    {
      "cell_type": "markdown",
      "metadata": {
        "id": "fMAZvSdxCNtu"
      },
      "source": [
        "### Cuerpo Docente:\n",
        "\n",
        "- Profesor: Matías Rojas y Mauricio Araneda\n",
        "- Auxiliar: Ignacio Meza D.\n",
        "- Ayudante: Rodrigo Guerra"
      ]
    },
    {
      "cell_type": "markdown",
      "metadata": {
        "id": "hKFUmbgeCNtu"
      },
      "source": [
        "### Equipo: SUPER IMPORTANTE - notebooks sin nombre no serán revisados\n",
        "\n",
        "- Nombre de alumno 1: Roberto Barceló\n"
      ]
    },
    {
      "cell_type": "markdown",
      "metadata": {
        "id": "K7lp-AA8CNtu"
      },
      "source": [
        "### **Link de repositorio de GitHub:** `http://....`"
      ]
    },
    {
      "cell_type": "markdown",
      "metadata": {
        "id": "aDcwv59-CNtu"
      },
      "source": [
        "### Indice \n",
        "\n",
        "1. [Temas a tratar](#Temas-a-tratar:)\n",
        "3. [Descripcción del laboratorio](#Descripción-del-laboratorio.)\n",
        "4. [Desarrollo](#Desarrollo)"
      ]
    },
    {
      "cell_type": "markdown",
      "metadata": {
        "id": "TdrxfwvrCNtv"
      },
      "source": [
        "## Temas a tratar\n",
        "\n",
        "- Creación de clasificadores de imagenes a traves de redes Fully connected y CNN.\n",
        "- Uso de Dataloaders para la carga de datasets.\n",
        "- Comparación de Fully Connected y red convolucional.\n",
        "\n",
        "## Reglas:\n",
        "\n",
        "- Fecha de entrega: 17/11/2022\n",
        "- **Grupos de 2 personas**\n",
        "- **Ausentes** deberán realizar la actividad solos. \n",
        "- Cualquier duda fuera del horario de clases al foro. Mensajes al equipo docente serán respondidos por este medio.\n",
        "- Prohibidas las copias. \n",
        "- Pueden usar cualquier material del curso que estimen conveniente.\n",
        "\n",
        "### Objetivos principales del laboratorio\n",
        "\n",
        "- Creación de modelos de clasificación de imágenes utilizando Pytorch.\n",
        "- Creación de dataloader y aplicar transformaciones sobre el dataset.\n",
        "- Comprender la diferencia entre una CNN y una Fully Connected.\n",
        "\n",
        "El laboratorio deberá ser desarrollado sin el uso indiscriminado de iteradores nativos de python (aka \"for\", \"while\"). La idea es que aprendan a exprimir al máximo las funciones de `Pytorch`, la cual, está enfocada para proyectos de Deep Learning.\n"
      ]
    },
    {
      "cell_type": "markdown",
      "metadata": {
        "id": "owpndP8gCNtv"
      },
      "source": [
        "# Importamos librerias utiles 😸\n",
        "\n",
        "Comenzamos importando librerías utiles para la ejecución del laboratorio:"
      ]
    },
    {
      "cell_type": "code",
      "execution_count": 1,
      "metadata": {
        "scrolled": true,
        "id": "pbocC6jsCNtv"
      },
      "outputs": [],
      "source": [
        "import os\n",
        "import time\n",
        "from PIL import Image\n",
        "\n",
        "import pandas as pd\n",
        "import numpy as np\n",
        "\n",
        "import matplotlib.pyplot as plt\n",
        "import plotly.express as px\n",
        "\n",
        "import torch\n",
        "import torch.nn as nn\n",
        "import torch.nn.functional as F\n",
        "\n",
        "import torch.optim as optim\n",
        "from torch.optim import lr_scheduler\n",
        "from torch.autograd import Variable\n",
        "from torch.utils.data import Dataset, DataLoader, random_split\n",
        "\n",
        "import torchvision\n",
        "from torchvision import datasets, models\n",
        "from torchvision import transforms as T"
      ]
    },
    {
      "cell_type": "code",
      "source": [
        "from google.colab import drive\n",
        "drive.mount('/content/drive')"
      ],
      "metadata": {
        "colab": {
          "base_uri": "https://localhost:8080/"
        },
        "id": "7hAymTkwDN7E",
        "outputId": "c37b607b-3341-4cd9-8e44-a972b38f0caa"
      },
      "execution_count": 2,
      "outputs": [
        {
          "output_type": "stream",
          "name": "stdout",
          "text": [
            "Mounted at /content/drive\n"
          ]
        }
      ]
    },
    {
      "cell_type": "markdown",
      "metadata": {
        "id": "qnjhV_4zCNtw"
      },
      "source": [
        "# Identificando los Huesos de Hipócrates🔎\n",
        "\n",
        "<p align=\"center\">\n",
        "  <img src=\"https://i.pinimg.com/originals/d8/58/66/d85866cd1cc3979f94526551addf74b4.gif\" width=\"300\">\n",
        "</p>\n",
        "\n",
        "Tras el éxito que han tenido proponiendo modelos de machine learning en trabajos anteriores, el famoso medico Hipócrates se ha contactado con ustedes para solicitarles ayuda para automatizar la identificación de radiografías de partes humanas. Para esto, les señala que le gustaría utilizar algoritmos de deep learning producto que Demócrito le señalo que resultan la mejor alternativa para la predicción de imágenes.\n",
        "\n",
        "En su conversación con el medico usted le comenta que ha tenido algunas clases relacionadas a Deep Learning, por esto, están motivados en abordar el problema utilizando redes Fully Connected y redes convolucionales con Pytorch. Sin embargo, al anunciarle los tipos de redes que conocen, el filósofo les comenta que no había escuchado muy buenos resultados por parte de las CNN, por lo que les pide que comprueben a traves de la métrica de accuracy que tipo de redes es mejor para la tarea de identificación de radiografías. ¿Será cierto lo que dice el filósofo?, Veámoslo en un nuevo capítulo de los Laboratorios de Programación Científica para Ciencia de Datos!"
      ]
    },
    {
      "cell_type": "markdown",
      "metadata": {
        "id": "eOL89l7PCNtw"
      },
      "source": [
        "## 1.1 Creación de Lista de Archivos\n",
        "\n",
        "<p align=\"center\">\n",
        "  <img src=\"https://media.tenor.com/BJ-9w-MUVCMAAAAM/tis100-sad.gif\" width=\"300\">\n",
        "</p>\n"
      ]
    },
    {
      "cell_type": "markdown",
      "metadata": {
        "id": "LvupL6xVCNtw"
      },
      "source": [
        "Comience revisando de forma manual cada una de las imágenes que posee la carpeta subida a material docente. Verifique la cantidad de tipos de radiografías que se tienen y la cantidad de imágenes que dispone cada carpeta.\n",
        "\n",
        "Revisado el contenido de las imágenes, utilice `os.listdir` para crear un `numpy.array` o un `Dataframe` que contenga las imágenes y un label que señale al tipo de radiografía a la que hace referencia la imagen. Para hacer las etiquetas codifique el tipo de imágenes en números que vayan del 0 al total de tipos de radiografías, no utilice strings para codificar las etiquetas.\n",
        "\n",
        "**Ejemplo de Estructura:**"
      ]
    },
    {
      "cell_type": "markdown",
      "metadata": {
        "id": "TYMZdOzcCNtw"
      },
      "source": [
        "<style type=\"text/css\">\n",
        ".tg  {border-collapse:collapse;border-spacing:0;}\n",
        ".tg td{border-color:black;border-style:solid;border-width:1px;font-family:Arial, sans-serif;font-size:14px;\n",
        "  overflow:hidden;padding:10px 5px;word-break:normal;}\n",
        ".tg th{border-color:black;border-style:solid;border-width:1px;font-family:Arial, sans-serif;font-size:14px;\n",
        "  font-weight:normal;overflow:hidden;padding:10px 5px;word-break:normal;}\n",
        ".tg .tg-0lax{text-align:left;vertical-align:top}\n",
        "</style>\n",
        "<table class=\"tg\">\n",
        "<thead>\n",
        "  <tr>\n",
        "    <th class=\"tg-0lax\"></th>\n",
        "    <th class=\"tg-0lax\">image_path</th>\n",
        "    <th class=\"tg-0lax\">label</th>\n",
        "  </tr>\n",
        "</thead>\n",
        "<tbody>\n",
        "  <tr>\n",
        "    <td class=\"tg-0lax\">0</td>\n",
        "    <td class=\"tg-0lax\">image1</td>\n",
        "    <td class=\"tg-0lax\">1</td>\n",
        "  </tr>\n",
        "  <tr>\n",
        "    <td class=\"tg-0lax\">1</td>\n",
        "    <td class=\"tg-0lax\">image2</td>\n",
        "    <td class=\"tg-0lax\">0</td>\n",
        "  </tr>\n",
        "  <tr>\n",
        "    <td class=\"tg-0lax\">2</td>\n",
        "    <td class=\"tg-0lax\">image3</td>\n",
        "    <td class=\"tg-0lax\">2</td>\n",
        "  </tr>\n",
        "  <tr>\n",
        "    <td class=\"tg-0lax\">3</td>\n",
        "    <td class=\"tg-0lax\">image4</td>\n",
        "    <td class=\"tg-0lax\">0</td>\n",
        "  </tr>\n",
        "  <tr>\n",
        "    <td class=\"tg-0lax\">4</td>\n",
        "    <td class=\"tg-0lax\">image5</td>\n",
        "    <td class=\"tg-0lax\">4</td>\n",
        "  </tr>\n",
        "</tbody>\n",
        "</table>"
      ]
    },
    {
      "cell_type": "code",
      "source": [
        "#!unzip '/content/drive/MyDrive/MDS7202_LPCPCD/Lab 9/2022111011141005A0888D541A93__Medical-MNIST.zip' -d '/content/drive/MyDrive/MDS7202_LPCPCD/Lab 9/'"
      ],
      "metadata": {
        "id": "nnu2ONFHGMnO"
      },
      "execution_count": null,
      "outputs": []
    },
    {
      "cell_type": "code",
      "execution_count": 4,
      "metadata": {
        "id": "02qUdfnSCNtw"
      },
      "outputs": [],
      "source": [
        "# Código Aquí\n",
        "df_labels = pd.DataFrame(columns=['image_path','label'])\n",
        "for i, category in enumerate(os.listdir(\"/content/drive/MyDrive/MDS7202_LPCPCD/Lab 9/Medical-MNIST\")):\n",
        "    data_carpeta = []\n",
        "    for image in os.listdir(\"/content/drive/MyDrive/MDS7202_LPCPCD/Lab 9/Medical-MNIST/\"+category):\n",
        "      #image_path = '/content/drive/MyDrive/MDS7202_LPCPCD/Lab 9/Medical-MNIST/'+category+'/'+image\n",
        "      image_path = category+'/'+image\n",
        "      label = i\n",
        "      data_carpeta.append((image_path,label))\n",
        "    df_carpeta = pd.DataFrame(data_carpeta,columns=['image_path','label'])\n",
        "    df_labels = pd.concat([df_labels,df_carpeta], ignore_index=True)\n",
        "    "
      ]
    },
    {
      "cell_type": "code",
      "source": [
        "df_labels.head(10)"
      ],
      "metadata": {
        "colab": {
          "base_uri": "https://localhost:8080/",
          "height": 363
        },
        "id": "brlhEw0QOqOI",
        "outputId": "3fdd078c-3805-461e-f2c1-64e5b29db3cd"
      },
      "execution_count": 5,
      "outputs": [
        {
          "output_type": "execute_result",
          "data": {
            "text/plain": [
              "        image_path label\n",
              "0  CXR/006335.jpeg     0\n",
              "1  CXR/004607.jpeg     0\n",
              "2  CXR/006184.jpeg     0\n",
              "3  CXR/000754.jpeg     0\n",
              "4  CXR/007814.jpeg     0\n",
              "5  CXR/002043.jpeg     0\n",
              "6  CXR/000099.jpeg     0\n",
              "7  CXR/007783.jpeg     0\n",
              "8  CXR/008309.jpeg     0\n",
              "9  CXR/004973.jpeg     0"
            ],
            "text/html": [
              "\n",
              "  <div id=\"df-d02e55a1-5120-4fc7-8295-a03a05b502a3\">\n",
              "    <div class=\"colab-df-container\">\n",
              "      <div>\n",
              "<style scoped>\n",
              "    .dataframe tbody tr th:only-of-type {\n",
              "        vertical-align: middle;\n",
              "    }\n",
              "\n",
              "    .dataframe tbody tr th {\n",
              "        vertical-align: top;\n",
              "    }\n",
              "\n",
              "    .dataframe thead th {\n",
              "        text-align: right;\n",
              "    }\n",
              "</style>\n",
              "<table border=\"1\" class=\"dataframe\">\n",
              "  <thead>\n",
              "    <tr style=\"text-align: right;\">\n",
              "      <th></th>\n",
              "      <th>image_path</th>\n",
              "      <th>label</th>\n",
              "    </tr>\n",
              "  </thead>\n",
              "  <tbody>\n",
              "    <tr>\n",
              "      <th>0</th>\n",
              "      <td>CXR/006335.jpeg</td>\n",
              "      <td>0</td>\n",
              "    </tr>\n",
              "    <tr>\n",
              "      <th>1</th>\n",
              "      <td>CXR/004607.jpeg</td>\n",
              "      <td>0</td>\n",
              "    </tr>\n",
              "    <tr>\n",
              "      <th>2</th>\n",
              "      <td>CXR/006184.jpeg</td>\n",
              "      <td>0</td>\n",
              "    </tr>\n",
              "    <tr>\n",
              "      <th>3</th>\n",
              "      <td>CXR/000754.jpeg</td>\n",
              "      <td>0</td>\n",
              "    </tr>\n",
              "    <tr>\n",
              "      <th>4</th>\n",
              "      <td>CXR/007814.jpeg</td>\n",
              "      <td>0</td>\n",
              "    </tr>\n",
              "    <tr>\n",
              "      <th>5</th>\n",
              "      <td>CXR/002043.jpeg</td>\n",
              "      <td>0</td>\n",
              "    </tr>\n",
              "    <tr>\n",
              "      <th>6</th>\n",
              "      <td>CXR/000099.jpeg</td>\n",
              "      <td>0</td>\n",
              "    </tr>\n",
              "    <tr>\n",
              "      <th>7</th>\n",
              "      <td>CXR/007783.jpeg</td>\n",
              "      <td>0</td>\n",
              "    </tr>\n",
              "    <tr>\n",
              "      <th>8</th>\n",
              "      <td>CXR/008309.jpeg</td>\n",
              "      <td>0</td>\n",
              "    </tr>\n",
              "    <tr>\n",
              "      <th>9</th>\n",
              "      <td>CXR/004973.jpeg</td>\n",
              "      <td>0</td>\n",
              "    </tr>\n",
              "  </tbody>\n",
              "</table>\n",
              "</div>\n",
              "      <button class=\"colab-df-convert\" onclick=\"convertToInteractive('df-d02e55a1-5120-4fc7-8295-a03a05b502a3')\"\n",
              "              title=\"Convert this dataframe to an interactive table.\"\n",
              "              style=\"display:none;\">\n",
              "        \n",
              "  <svg xmlns=\"http://www.w3.org/2000/svg\" height=\"24px\"viewBox=\"0 0 24 24\"\n",
              "       width=\"24px\">\n",
              "    <path d=\"M0 0h24v24H0V0z\" fill=\"none\"/>\n",
              "    <path d=\"M18.56 5.44l.94 2.06.94-2.06 2.06-.94-2.06-.94-.94-2.06-.94 2.06-2.06.94zm-11 1L8.5 8.5l.94-2.06 2.06-.94-2.06-.94L8.5 2.5l-.94 2.06-2.06.94zm10 10l.94 2.06.94-2.06 2.06-.94-2.06-.94-.94-2.06-.94 2.06-2.06.94z\"/><path d=\"M17.41 7.96l-1.37-1.37c-.4-.4-.92-.59-1.43-.59-.52 0-1.04.2-1.43.59L10.3 9.45l-7.72 7.72c-.78.78-.78 2.05 0 2.83L4 21.41c.39.39.9.59 1.41.59.51 0 1.02-.2 1.41-.59l7.78-7.78 2.81-2.81c.8-.78.8-2.07 0-2.86zM5.41 20L4 18.59l7.72-7.72 1.47 1.35L5.41 20z\"/>\n",
              "  </svg>\n",
              "      </button>\n",
              "      \n",
              "  <style>\n",
              "    .colab-df-container {\n",
              "      display:flex;\n",
              "      flex-wrap:wrap;\n",
              "      gap: 12px;\n",
              "    }\n",
              "\n",
              "    .colab-df-convert {\n",
              "      background-color: #E8F0FE;\n",
              "      border: none;\n",
              "      border-radius: 50%;\n",
              "      cursor: pointer;\n",
              "      display: none;\n",
              "      fill: #1967D2;\n",
              "      height: 32px;\n",
              "      padding: 0 0 0 0;\n",
              "      width: 32px;\n",
              "    }\n",
              "\n",
              "    .colab-df-convert:hover {\n",
              "      background-color: #E2EBFA;\n",
              "      box-shadow: 0px 1px 2px rgba(60, 64, 67, 0.3), 0px 1px 3px 1px rgba(60, 64, 67, 0.15);\n",
              "      fill: #174EA6;\n",
              "    }\n",
              "\n",
              "    [theme=dark] .colab-df-convert {\n",
              "      background-color: #3B4455;\n",
              "      fill: #D2E3FC;\n",
              "    }\n",
              "\n",
              "    [theme=dark] .colab-df-convert:hover {\n",
              "      background-color: #434B5C;\n",
              "      box-shadow: 0px 1px 3px 1px rgba(0, 0, 0, 0.15);\n",
              "      filter: drop-shadow(0px 1px 2px rgba(0, 0, 0, 0.3));\n",
              "      fill: #FFFFFF;\n",
              "    }\n",
              "  </style>\n",
              "\n",
              "      <script>\n",
              "        const buttonEl =\n",
              "          document.querySelector('#df-d02e55a1-5120-4fc7-8295-a03a05b502a3 button.colab-df-convert');\n",
              "        buttonEl.style.display =\n",
              "          google.colab.kernel.accessAllowed ? 'block' : 'none';\n",
              "\n",
              "        async function convertToInteractive(key) {\n",
              "          const element = document.querySelector('#df-d02e55a1-5120-4fc7-8295-a03a05b502a3');\n",
              "          const dataTable =\n",
              "            await google.colab.kernel.invokeFunction('convertToInteractive',\n",
              "                                                     [key], {});\n",
              "          if (!dataTable) return;\n",
              "\n",
              "          const docLinkHtml = 'Like what you see? Visit the ' +\n",
              "            '<a target=\"_blank\" href=https://colab.research.google.com/notebooks/data_table.ipynb>data table notebook</a>'\n",
              "            + ' to learn more about interactive tables.';\n",
              "          element.innerHTML = '';\n",
              "          dataTable['output_type'] = 'display_data';\n",
              "          await google.colab.output.renderOutput(dataTable, element);\n",
              "          const docLink = document.createElement('div');\n",
              "          docLink.innerHTML = docLinkHtml;\n",
              "          element.appendChild(docLink);\n",
              "        }\n",
              "      </script>\n",
              "    </div>\n",
              "  </div>\n",
              "  "
            ]
          },
          "metadata": {},
          "execution_count": 5
        }
      ]
    },
    {
      "cell_type": "markdown",
      "metadata": {
        "id": "gzhQflVzCNtw"
      },
      "source": [
        "## 1.2 Creación de Dataset\n",
        "\n",
        "Tomando en cuenta la estructura de datos desarrollada en el punto 1.1, construya la clase `MedicalDataset()` que cumpla los siguientes puntos:\n",
        "\n",
        "- [X] Poseer un `__init__` en el que se almacene `estructura` creada en 1.1, la `raiz` de la carpeta y una función que permita transformar el dataset (de esto no se preocupe mucho, ya que solamente debe almacenar una función en el atributo).\n",
        "- [X] La clase debe ser capaz de entregar la cantidad de elementos a traves de `__len__`.\n",
        "- [X] Debe poseer el método `__getitem__` que retorne una tupla con la imagen y su correspondiente etiqueta."
      ]
    },
    {
      "cell_type": "code",
      "execution_count": 6,
      "metadata": {
        "id": "jt5o4LEGCNtx"
      },
      "outputs": [],
      "source": [
        "# Código Aquí\n",
        "class MedicalDataset(Dataset):\n",
        "    def __init__(self, df_estructura, raiz_carpeta, transform = None):\n",
        "        self.estructura = df_estructura\n",
        "        self.raiz = raiz_carpeta\n",
        "        self.transform = transform\n",
        "    \n",
        "    def __getitem__(self, id):\n",
        "        \n",
        "        # Un poco de ayuda para cargar la imagen\n",
        "        img_path = os.path.join(self.raiz, self.estructura.iloc[id,0])\n",
        "        image = Image.open(img_path).convert('RGB')\n",
        "        label = self.estructura.iloc[id,1]\n",
        "        \n",
        "        # Auida para realizar la transformación\n",
        "        if self.transform:\n",
        "            image = self.transform(image)\n",
        "        \n",
        "        return (image,label)\n",
        "    \n",
        "    def __len__(self):\n",
        "        return len(self.estructura)"
      ]
    },
    {
      "cell_type": "markdown",
      "metadata": {
        "id": "DfuyP-2WCNtx"
      },
      "source": [
        "## 1.3 Prueba del MedicalDataset\n",
        "\n",
        "Con la clase construida en el punto 1.2, verifique su funcionamiento cargando el dataset y realizando las transformaciones que entrega la función `transform_image`. Compruebe a través de un ejemplo las transformaciones aplicadas en la imagen, comentando la función que cumple `MedicalDataset` y si es posible observar todas las transformaciones aplicadas con la función `transform_image`.\n",
        "\n",
        "- [X] Probar la clase MedicalDataset y aplicando una transformación de \"train\"\n",
        "- [X] Plotear un ejemplo del MedicalDataset.\n",
        "\n",
        "**Función para transformar las imagenes:**"
      ]
    },
    {
      "cell_type": "code",
      "execution_count": 7,
      "metadata": {
        "id": "ieSjwoVPCNtx"
      },
      "outputs": [],
      "source": [
        "def transform_image(stage = None):\n",
        "    \n",
        "    if stage == \"train\":\n",
        "        Tr_img = T.Compose([T.Resize(size = (64,64)),\n",
        "                T.RandomRotation(degrees = (-20,+20)),\n",
        "                T.ToTensor()])\n",
        "        \n",
        "    elif stage == \"test\" or stage == \"val\":\n",
        "        Tr_img = T.Compose([T.Resize(size = (64,64)), T.ToTensor()]) \n",
        "\n",
        "    return Tr_img"
      ]
    },
    {
      "cell_type": "markdown",
      "metadata": {
        "id": "SXD1r4gcCNtx"
      },
      "source": [
        "**Código para obtener un ejemplo:**"
      ]
    },
    {
      "cell_type": "code",
      "execution_count": 8,
      "metadata": {
        "id": "aJaEktt0CNtx"
      },
      "outputs": [],
      "source": [
        "# Prueba del dataset\n",
        "dataset = MedicalDataset(df_estructura = df_labels, raiz_carpeta = \"/content/drive/MyDrive/MDS7202_LPCPCD/Lab 9/Medical-MNIST/\", transform = transform_image(\"train\"))"
      ]
    },
    {
      "cell_type": "code",
      "execution_count": 9,
      "metadata": {
        "colab": {
          "base_uri": "https://localhost:8080/",
          "height": 542
        },
        "id": "NxjPOn8oCNtx",
        "outputId": "6ff7d5e9-e993-46dd-89a0-a306a2450d55"
      },
      "outputs": [
        {
          "output_type": "display_data",
          "data": {
            "text/html": [
              "<html>\n",
              "<head><meta charset=\"utf-8\" /></head>\n",
              "<body>\n",
              "    <div>            <script src=\"https://cdnjs.cloudflare.com/ajax/libs/mathjax/2.7.5/MathJax.js?config=TeX-AMS-MML_SVG\"></script><script type=\"text/javascript\">if (window.MathJax) {MathJax.Hub.Config({SVG: {font: \"STIX-Web\"}});}</script>                <script type=\"text/javascript\">window.PlotlyConfig = {MathJaxConfig: 'local'};</script>\n",
              "        <script src=\"https://cdn.plot.ly/plotly-2.8.3.min.js\"></script>                <div id=\"d7c6f28c-38b5-469f-a9b9-7c1113562f9b\" class=\"plotly-graph-div\" style=\"height:525px; width:100%;\"></div>            <script type=\"text/javascript\">                                    window.PLOTLYENV=window.PLOTLYENV || {};                                    if (document.getElementById(\"d7c6f28c-38b5-469f-a9b9-7c1113562f9b\")) {                    Plotly.newPlot(                        \"d7c6f28c-38b5-469f-a9b9-7c1113562f9b\",                        [{\"coloraxis\":\"coloraxis\",\"name\":\"0\",\"z\":[[0.0,0.0,0.0,0.0,0.0,0.0,0.0,0.0,0.0,0.0,0.0,0.0,0.0,0.0,0.0,0.0,0.0,0.0,0.0,0.0,0.0,0.0,0.0,0.0,0.0,0.0,0.0,0.0,0.0,0.003921568859368563,0.0,0.0,0.0,0.0,0.0,0.0,0.0,0.0,0.0,0.0,0.003921568859368563,0.0,0.0,0.003921568859368563,0.0,0.0117647061124444,0.01568627543747425,0.0313725508749485,0.027450980618596077,0.05098039284348488,0.054901961237192154,0.05882352963089943,0.06666667014360428,0.03529411926865578,0.03529411926865578,0.027450980618596077,0.0,0.0,0.0,0.0,0.0,0.0,0.0,0.0],[0.0,0.0,0.0,0.0,0.0,0.0,0.0,0.0,0.0,0.0,0.0,0.0,0.0,0.0,0.0,0.0,0.0,0.0,0.0,0.0,0.0,0.0,0.0,0.003921568859368563,0.003921568859368563,0.0,0.0,0.0,0.0,0.0,0.0,0.003921568859368563,0.003921568859368563,0.0,0.0117647061124444,0.01568627543747425,0.0117647061124444,0.0,0.0,0.0,0.0,0.01568627543747425,0.01568627543747425,0.0235294122248888,0.019607843831181526,0.05098039284348488,0.05098039284348488,0.05098039284348488,0.054901961237192154,0.007843137718737125,0.007843137718737125,0.0117647061124444,0.0235294122248888,0.0235294122248888,0.0235294122248888,0.0313725508749485,0.03529411926865578,0.0,0.0,0.0,0.0,0.0,0.0,0.0],[0.0,0.0,0.0,0.0,0.0,0.0,0.0,0.0,0.0,0.0,0.0,0.0,0.0,0.0,0.0,0.0,0.0,0.0,0.0,0.0,0.003921568859368563,0.003921568859368563,0.003921568859368563,0.0117647061124444,0.0,0.0,0.003921568859368563,0.003921568859368563,0.0,0.0,0.0117647061124444,0.0117647061124444,0.01568627543747425,0.007843137718737125,0.0,0.0,0.0,0.0,0.0784313753247261,0.0784313753247261,0.05098039284348488,0.0784313753247261,0.05882352963089943,0.0470588244497776,0.054901961237192154,0.0313725508749485,0.0235294122248888,0.0117647061124444,0.007843137718737125,0.2549019753932953,0.2823529541492462,0.03921568766236305,0.0313725508749485,0.0235294122248888,0.16862745583057404,0.11372549086809158,0.03529411926865578,0.0,0.0,0.0,0.0,0.0,0.0,0.0],[0.0,0.0,0.0,0.0,0.0,0.0,0.0,0.0,0.0,0.0,0.0,0.0,0.0,0.0,0.0,0.003921568859368563,0.0,0.0,0.003921568859368563,0.0,0.0,0.0,0.0,0.0,0.0,0.0,0.007843137718737125,0.007843137718737125,0.007843137718737125,0.007843137718737125,0.0,0.0,0.0,0.0,0.13725490868091583,0.12941177189350128,0.11372549086809158,0.10980392247438431,0.3921568691730499,0.27450981736183167,0.18431372940540314,0.0784313753247261,0.03921568766236305,0.01568627543747425,0.0235294122248888,0.019607843831181526,0.027450980618596077,0.0117647061124444,0.2862745225429535,0.19607843458652496,0.364705890417099,0.125490203499794,0.0,0.0,0.4000000059604645,0.2666666805744171,0.0,0.0,0.0,0.0,0.0,0.0,0.0,0.0],[0.0,0.0,0.0,0.0,0.0,0.0,0.0,0.0,0.0,0.0,0.0,0.007843137718737125,0.0,0.0,0.007843137718737125,0.0,0.0117647061124444,0.007843137718737125,0.007843137718737125,0.003921568859368563,0.0,0.0,0.0,0.0,0.0,0.007843137718737125,0.0,0.0,0.0,0.0,0.14901961386203766,0.14509804546833038,0.13725490868091583,0.13725490868091583,0.7843137383460999,0.729411780834198,0.6196078658103943,0.5058823823928833,0.23529411852359772,0.18039216101169586,0.125490203499794,0.07058823853731155,0.03921568766236305,0.003921568859368563,0.01568627543747425,0.019607843831181526,0.019607843831181526,0.0117647061124444,0.27450981736183167,0.47058823704719543,0.054901961237192154,0.003921568859368563,0.06666667014360428,0.003921568859368563,0.003921568859368563,0.3686274588108063,0.1764705926179886,0.0117647061124444,0.0,0.0,0.0,0.0,0.0,0.0],[0.0,0.0,0.0,0.0,0.0,0.0,0.0,0.0,0.003921568859368563,0.0,0.003921568859368563,0.0,0.0,0.0,0.0,0.0,0.0,0.0,0.0,0.0,0.0117647061124444,0.007843137718737125,0.003921568859368563,0.0235294122248888,0.007843137718737125,0.0,0.0,0.12941177189350128,0.13725490868091583,0.14509804546833038,0.8588235378265381,0.843137264251709,0.8274509906768799,0.7921568751335144,0.658823549747467,0.5568627715110779,0.4117647111415863,0.29411765933036804,0.19607843458652496,0.16078431904315948,0.10980392247438431,0.07058823853731155,0.08627451211214066,0.03529411926865578,0.0313725508749485,0.0313725508749485,0.06666667014360428,0.05882352963089943,0.0,0.18039216101169586,0.4627451002597809,0.08235294371843338,0.027450980618596077,0.1725490242242813,0.4156862795352936,0.6352941393852234,0.12941177189350128,0.05098039284348488,0.0,0.0,0.0,0.0,0.0,0.0],[0.0,0.0,0.0,0.0,0.0,0.0,0.0,0.0,0.0,0.0,0.0,0.007843137718737125,0.0,0.0,0.0117647061124444,0.0,0.0,0.007843137718737125,0.0,0.0,0.0,0.0,0.0,0.11764705926179886,0.11764705926179886,0.13333334028720856,0.12941177189350128,0.8196078538894653,0.8392156958580017,0.8588235378265381,0.7529411911964417,0.7215686440467834,0.6941176652908325,0.6823529601097107,0.5843137502670288,0.45098039507865906,0.3490196168422699,0.27450981736183167,0.2862745225429535,0.2235294133424759,0.19607843458652496,0.14901961386203766,0.14901961386203766,0.10980392247438431,0.05882352963089943,0.05882352963089943,0.12156862765550613,0.08235294371843338,0.03529411926865578,0.18039216101169586,0.3921568691730499,0.45098039507865906,0.01568627543747425,0.1921568661928177,0.2980392277240753,0.25882354378700256,0.16078431904315948,0.16470588743686676,0.0,0.0,0.0,0.0,0.0,0.0],[0.0,0.0,0.0,0.0,0.0,0.0,0.0,0.0,0.0,0.0117647061124444,0.0117647061124444,0.007843137718737125,0.0,0.0,0.0,0.0,0.003921568859368563,0.007843137718737125,0.007843137718737125,0.10196078568696976,0.12156862765550613,0.12941177189350128,0.10588235408067703,0.7647058963775635,0.8196078538894653,0.8196078538894653,0.8156862854957581,0.7254902124404907,0.7450980544090271,0.7607843279838562,0.7607843279838562,0.6901960968971252,0.6784313917160034,0.6627451181411743,0.5764706134796143,0.5254902243614197,0.4156862795352936,0.3490196168422699,0.30588236451148987,0.2549019753932953,0.23137255012989044,0.18039216101169586,0.21960784494876862,0.16862745583057404,0.13333334028720856,0.13725490868091583,0.16470588743686676,0.13725490868091583,0.2549019753932953,0.5372549295425415,0.32549020648002625,0.3529411852359772,0.1882352977991104,0.239215686917305,0.24705882370471954,0.29019609093666077,0.3607843220233917,0.2549019753932953,0.0,0.0,0.0,0.0,0.0,0.0],[0.0,0.0,0.0,0.0,0.0,0.0,0.0,0.0,0.0,0.0,0.003921568859368563,0.0,0.0,0.007843137718737125,0.003921568859368563,0.0,0.04313725605607033,0.0784313753247261,0.12156862765550613,0.5137255191802979,0.5960784554481506,0.6784313917160034,0.6980392336845398,0.4941176474094391,0.5921568870544434,0.6901960968971252,0.729411780834198,0.7215686440467834,0.6941176652908325,0.7019608020782471,0.7254902124404907,0.6274510025978088,0.6823529601097107,0.6627451181411743,0.5764706134796143,0.4941176474094391,0.40784314274787903,0.3686274588108063,0.33725491166114807,0.29019609093666077,0.26274511218070984,0.21568627655506134,0.2078431397676468,0.16470588743686676,0.1764705926179886,0.2078431397676468,0.1921568661928177,0.18039216101169586,0.23137255012989044,0.3529411852359772,0.21960784494876862,0.21960784494876862,0.1921568661928177,0.26274511218070984,0.4313725531101227,0.48627451062202454,0.46666666865348816,0.545098066329956,0.27450981736183167,0.0,0.0,0.0,0.0,0.0],[0.0117647061124444,0.0,0.0,0.0,0.003921568859368563,0.0,0.0,0.0,0.0,0.0,0.007843137718737125,0.003921568859368563,0.01568627543747425,0.0313725508749485,0.01568627543747425,0.01568627543747425,0.07058823853731155,0.13333334028720856,0.35686275362968445,0.32156863808631897,0.33725491166114807,0.3960784375667572,0.4745098054409027,0.47058823704719543,0.545098066329956,0.6235294342041016,0.658823549747467,0.6666666865348816,0.6549019813537598,0.6784313917160034,0.6274510025978088,0.5803921818733215,0.6274510025978088,0.615686297416687,0.572549045085907,0.501960813999176,0.4313725531101227,0.4000000059604645,0.33725491166114807,0.3294117748737335,0.29411765933036804,0.2549019753932953,0.250980406999588,0.239215686917305,0.239215686917305,0.24705882370471954,0.25882354378700256,0.27843138575553894,0.30588236451148987,0.24705882370471954,0.37254902720451355,0.3176470696926117,0.35686275362968445,0.3529411852359772,0.5921568870544434,0.615686297416687,0.5176470875740051,0.545098066329956,0.32549020648002625,0.0,0.0,0.0,0.0,0.0],[0.0117647061124444,0.003921568859368563,0.003921568859368563,0.003921568859368563,0.0,0.0,0.0,0.0,0.019607843831181526,0.019607843831181526,0.007843137718737125,0.0235294122248888,0.07058823853731155,0.07450980693101883,0.09019608050584793,0.06666667014360428,0.0313725508749485,0.11372549086809158,0.1882352977991104,0.32156863808631897,0.30980393290519714,0.3686274588108063,0.42352941632270813,0.4588235318660736,0.545098066329956,0.6352941393852234,0.6549019813537598,0.6196078658103943,0.6000000238418579,0.6352941393852234,0.572549045085907,0.6705882549285889,0.6392157077789307,0.6352941393852234,0.6078431606292725,0.5058823823928833,0.5058823823928833,0.4470588266849518,0.42352941632270813,0.40392157435417175,0.364705890417099,0.30980393290519714,0.29411765933036804,0.25882354378700256,0.26274511218070984,0.2705882489681244,0.3294117748737335,0.364705890417099,0.3960784375667572,0.4000000059604645,0.572549045085907,0.5921568870544434,0.5921568870544434,0.5686274766921997,0.6078431606292725,0.5764706134796143,0.5254902243614197,0.5764706134796143,0.3607843220233917,0.0,0.0,0.0,0.0,0.0],[0.0,0.007843137718737125,0.0,0.0,0.0,0.0235294122248888,0.019607843831181526,0.019607843831181526,0.062745101749897,0.062745101749897,0.07058823853731155,0.08235294371843338,0.0235294122248888,0.0313725508749485,0.05098039284348488,0.019607843831181526,0.0470588244497776,0.09803921729326248,0.1882352977991104,0.24313725531101227,0.27843138575553894,0.33725491166114807,0.3960784375667572,0.4588235318660736,0.4901960790157318,0.5803921818733215,0.6196078658103943,0.6705882549285889,0.6235294342041016,0.6235294342041016,0.6784313917160034,0.7490196228027344,0.7215686440467834,0.6784313917160034,0.6627451181411743,0.6117647290229797,0.5176470875740051,0.4745098054409027,0.4470588266849518,0.4627451002597809,0.4156862795352936,0.32549020648002625,0.29411765933036804,0.30980393290519714,0.29019609093666077,0.30588236451148987,0.3686274588108063,0.38823530077934265,0.43921568989753723,0.5137255191802979,0.5764706134796143,0.6078431606292725,0.6117647290229797,0.6392157077789307,0.7215686440467834,0.7176470756530762,0.6941176652908325,0.6941176652908325,0.7921568751335144,0.4588235318660736,0.0,0.0,0.0,0.0],[0.0,0.01568627543747425,0.0235294122248888,0.0235294122248888,0.0235294122248888,0.06666667014360428,0.062745101749897,0.062745101749897,0.03921568766236305,0.03529411926865578,0.03529411926865578,0.04313725605607033,0.0313725508749485,0.03921568766236305,0.04313725605607033,0.027450980618596077,0.04313725605607033,0.09019608050584793,0.16470588743686676,0.21568627655506134,0.2549019753932953,0.2549019753932953,0.3019607961177826,0.3490196168422699,0.40392157435417175,0.4745098054409027,0.5568627715110779,0.6196078658103943,0.6784313917160034,0.6549019813537598,0.7176470756530762,0.7137255072593689,0.6901960968971252,0.7333333492279053,0.686274528503418,0.615686297416687,0.5529412031173706,0.5254902243614197,0.4941176474094391,0.5176470875740051,0.4627451002597809,0.35686275362968445,0.32156863808631897,0.4274509847164154,0.40392157435417175,0.3803921639919281,0.3686274588108063,0.529411792755127,0.5333333611488342,0.5568627715110779,0.6431372761726379,0.5568627715110779,0.4901960790157318,0.5215686559677124,0.6352941393852234,0.6980392336845398,0.7176470756530762,0.729411780834198,0.7960784435272217,0.4627451002597809,0.0,0.0,0.0,0.0],[0.0117647061124444,0.0784313753247261,0.06666667014360428,0.06666667014360428,0.06666667014360428,0.03921568766236305,0.03921568766236305,0.03921568766236305,0.03921568766236305,0.03529411926865578,0.0313725508749485,0.0313725508749485,0.03921568766236305,0.03921568766236305,0.03921568766236305,0.03921568766236305,0.0235294122248888,0.054901961237192154,0.10588235408067703,0.15294118225574493,0.250980406999588,0.2980392277240753,0.3333333432674408,0.3686274588108063,0.4313725531101227,0.49803921580314636,0.572549045085907,0.6196078658103943,0.686274528503418,0.7137255072593689,0.7450980544090271,0.6509804129600525,0.6196078658103943,0.7058823704719543,0.6745098233222961,0.6196078658103943,0.5803921818733215,0.5686274766921997,0.5372549295425415,0.5764706134796143,0.529411792755127,0.4745098054409027,0.4745098054409027,0.46666666865348816,0.4941176474094391,0.5254902243614197,0.5490196347236633,0.6431372761726379,0.7137255072593689,0.7176470756530762,0.6901960968971252,0.6392157077789307,0.5803921818733215,0.545098066329956,0.6235294342041016,0.7019608020782471,0.7019608020782471,0.6745098233222961,0.8313725590705872,0.501960813999176,0.0,0.0,0.0,0.0],[0.07450980693101883,0.04313725605607033,0.04313725605607033,0.04313725605607033,0.04313725605607033,0.0313725508749485,0.0313725508749485,0.03529411926865578,0.03529411926865578,0.027450980618596077,0.027450980618596077,0.03921568766236305,0.03921568766236305,0.03529411926865578,0.0313725508749485,0.027450980618596077,0.054901961237192154,0.09803921729326248,0.15294118225574493,0.2078431397676468,0.2862745225429535,0.3294117748737335,0.3686274588108063,0.4000000059604645,0.45098039507865906,0.5058823823928833,0.572549045085907,0.658823549747467,0.6745098233222961,0.7098039388656616,0.686274528503418,0.6509804129600525,0.6431372761726379,0.7137255072593689,0.7215686440467834,0.7098039388656616,0.658823549747467,0.6039215922355652,0.6039215922355652,0.658823549747467,0.6078431606292725,0.545098066329956,0.48235294222831726,0.38823530077934265,0.3921568691730499,0.45490196347236633,0.5490196347236633,0.5607843399047852,0.6470588445663452,0.7058823704719543,0.6901960968971252,0.7333333492279053,0.6666666865348816,0.615686297416687,0.6196078658103943,0.6705882549285889,0.6980392336845398,0.6823529601097107,0.8274509906768799,0.47058823704719543,0.0,0.0,0.0,0.0],[0.04313725605607033,0.03529411926865578,0.04313725605607033,0.03921568766236305,0.03529411926865578,0.03921568766236305,0.03529411926865578,0.0313725508749485,0.0313725508749485,0.03921568766236305,0.03921568766236305,0.03529411926865578,0.03921568766236305,0.03529411926865578,0.0313725508749485,0.04313725605607033,0.11372549086809158,0.14901961386203766,0.1921568661928177,0.24313725531101227,0.29019609093666077,0.3333333432674408,0.3764705955982208,0.4156862795352936,0.4941176474094391,0.529411792755127,0.5803921818733215,0.5803921818733215,0.6352941393852234,0.7137255072593689,0.7215686440467834,0.6549019813537598,0.6549019813537598,0.6823529601097107,0.7176470756530762,0.729411780834198,0.6823529601097107,0.6470588445663452,0.6627451181411743,0.5921568870544434,0.501960813999176,0.4274509847164154,0.3843137323856354,0.3803921639919281,0.4156862795352936,0.4470588266849518,0.4941176474094391,0.4274509847164154,0.4274509847164154,0.5058823823928833,0.6352941393852234,0.6235294342041016,0.7254902124404907,0.686274528503418,0.6196078658103943,0.6901960968971252,0.6901960968971252,0.729411780834198,0.7529411911964417,0.8117647171020508,0.4745098054409027,0.0,0.0,0.0],[0.04313725605607033,0.03529411926865578,0.04313725605607033,0.0470588244497776,0.04313725605607033,0.03921568766236305,0.03921568766236305,0.03921568766236305,0.03921568766236305,0.03529411926865578,0.03529411926865578,0.027450980618596077,0.03529411926865578,0.05882352963089943,0.07058823853731155,0.0941176488995552,0.11372549086809158,0.18039216101169586,0.20000000298023224,0.250980406999588,0.25882354378700256,0.30588236451148987,0.364705890417099,0.42352941632270813,0.5176470875740051,0.5333333611488342,0.5490196347236633,0.5803921818733215,0.6627451181411743,0.7176470756530762,0.7607843279838562,0.6705882549285889,0.6627451181411743,0.7019608020782471,0.7333333492279053,0.729411780834198,0.686274528503418,0.6431372761726379,0.6352941393852234,0.529411792755127,0.41960784792900085,0.35686275362968445,0.3450980484485626,0.35686275362968445,0.4156862795352936,0.4470588266849518,0.45490196347236633,0.40784314274787903,0.40784314274787903,0.3607843220233917,0.3921568691730499,0.4470588266849518,0.5411764979362488,0.6784313917160034,0.729411780834198,0.7686274647712708,0.7019608020782471,0.7215686440467834,0.729411780834198,0.8039215803146362,0.4431372582912445,0.0,0.0,0.0],[0.05098039284348488,0.03529411926865578,0.03529411926865578,0.03921568766236305,0.03921568766236305,0.03529411926865578,0.03529411926865578,0.0313725508749485,0.0313725508749485,0.0313725508749485,0.0313725508749485,0.0235294122248888,0.0235294122248888,0.09019608050584793,0.11372549086809158,0.13333334028720856,0.1568627506494522,0.22745098173618317,0.2235294133424759,0.2235294133424759,0.25882354378700256,0.3019607961177826,0.3803921639919281,0.4588235318660736,0.545098066329956,0.5647059082984924,0.5882353186607361,0.6039215922355652,0.6509804129600525,0.7019608020782471,0.7529411911964417,0.6901960968971252,0.6549019813537598,0.7058823704719543,0.729411780834198,0.729411780834198,0.7137255072593689,0.6509804129600525,0.6117647290229797,0.529411792755127,0.3490196168422699,0.3490196168422699,0.3019607961177826,0.3764705955982208,0.4313725531101227,0.5098039507865906,0.501960813999176,0.32549020648002625,0.3176470696926117,0.32549020648002625,0.35686275362968445,0.3843137323856354,0.49803921580314636,0.545098066329956,0.7176470756530762,0.7647058963775635,0.7568627595901489,0.729411780834198,0.729411780834198,0.8078431487083435,0.43921568989753723,0.0,0.0,0.0],[0.04313725605607033,0.027450980618596077,0.04313725605607033,0.0313725508749485,0.0313725508749485,0.0470588244497776,0.0470588244497776,0.03921568766236305,0.03529411926865578,0.027450980618596077,0.03529411926865578,0.04313725605607033,0.054901961237192154,0.1764705926179886,0.1921568661928177,0.20000000298023224,0.21960784494876862,0.27843138575553894,0.2705882489681244,0.2666666805744171,0.24313725531101227,0.3176470696926117,0.3764705955982208,0.47058823704719543,0.5803921818733215,0.6196078658103943,0.6352941393852234,0.6313725709915161,0.6666666865348816,0.7058823704719543,0.7450980544090271,0.7098039388656616,0.6470588445663452,0.6470588445663452,0.7019608020782471,0.7215686440467834,0.7411764860153198,0.729411780834198,0.6431372761726379,0.5647059082984924,0.42352941632270813,0.3490196168422699,0.34117648005485535,0.3764705955982208,0.46666666865348816,0.4470588266849518,0.3803921639919281,0.29411765933036804,0.3176470696926117,0.30980393290519714,0.30588236451148987,0.37254902720451355,0.4000000059604645,0.48627451062202454,0.6431372761726379,0.7137255072593689,0.7764706015586853,0.772549033164978,0.7529411911964417,0.8196078538894653,0.45098039507865906,0.0,0.0,0.0],[0.03529411926865578,0.03921568766236305,0.03921568766236305,0.054901961237192154,0.0470588244497776,0.0470588244497776,0.0313725508749485,0.0313725508749485,0.027450980618596077,0.08235294371843338,0.10196078568696976,0.11372549086809158,0.14509804546833038,0.26274511218070984,0.25882354378700256,0.2549019753932953,0.2705882489681244,0.33725491166114807,0.3294117748737335,0.2980392277240753,0.27843138575553894,0.3607843220233917,0.4274509847164154,0.5137255191802979,0.5803921818733215,0.6823529601097107,0.6823529601097107,0.6823529601097107,0.6745098233222961,0.6980392336845398,0.7215686440467834,0.7450980544090271,0.7137255072593689,0.6627451181411743,0.7176470756530762,0.729411780834198,0.7647058963775635,0.7607843279838562,0.6392157077789307,0.529411792755127,0.42352941632270813,0.3960784375667572,0.4117647111415863,0.4313725531101227,0.35686275362968445,0.34117648005485535,0.3019607961177826,0.30588236451148987,0.30980393290519714,0.2980392277240753,0.3333333432674408,0.38823530077934265,0.43921568989753723,0.45490196347236633,0.45490196347236633,0.5137255191802979,0.6784313917160034,0.7843137383460999,0.7764706015586853,0.7490196228027344,0.8235294222831726,0.4588235318660736,0.0,0.0],[0.04313725605607033,0.0470588244497776,0.0235294122248888,0.03529411926865578,0.027450980618596077,0.0313725508749485,0.05882352963089943,0.062745101749897,0.07058823853731155,0.08235294371843338,0.23137255012989044,0.24705882370471954,0.24313725531101227,0.30588236451148987,0.29019609093666077,0.2862745225429535,0.30980393290519714,0.3803921639919281,0.3803921639919281,0.3529411852359772,0.3607843220233917,0.43529412150382996,0.47058823704719543,0.5568627715110779,0.6392157077789307,0.5647059082984924,0.5686274766921997,0.6117647290229797,0.6745098233222961,0.6745098233222961,0.7058823704719543,0.7333333492279053,0.686274528503418,0.6823529601097107,0.7411764860153198,0.7490196228027344,0.7882353067398071,0.7333333492279053,0.6039215922355652,0.49803921580314636,0.501960813999176,0.4627451002597809,0.4313725531101227,0.3764705955982208,0.33725491166114807,0.3294117748737335,0.2862745225429535,0.2862745225429535,0.29019609093666077,0.29411765933036804,0.2862745225429535,0.2980392277240753,0.3490196168422699,0.4000000059604645,0.4431372582912445,0.4745098054409027,0.6509804129600525,0.772549033164978,0.7686274647712708,0.7529411911964417,0.8039215803146362,0.45490196347236633,0.0,0.0],[0.03921568766236305,0.03529411926865578,0.03529411926865578,0.054901961237192154,0.04313725605607033,0.05098039284348488,0.18039216101169586,0.1882352977991104,0.19607843458652496,0.21176470816135406,0.32549020648002625,0.32549020648002625,0.3019607961177826,0.35686275362968445,0.3607843220233917,0.3921568691730499,0.4313725531101227,0.4941176474094391,0.48235294222831726,0.4431372582912445,0.38823530077934265,0.5960784554481506,0.5568627715110779,0.572549045085907,0.5843137502670288,0.3960784375667572,0.4470588266849518,0.5098039507865906,0.5803921818733215,0.5960784554481506,0.658823549747467,0.7019608020782471,0.6549019813537598,0.7019608020782471,0.7568627595901489,0.7686274647712708,0.8078431487083435,0.772549033164978,0.6509804129600525,0.6509804129600525,0.6000000238418579,0.41960784792900085,0.3529411852359772,0.34117648005485535,0.3333333432674408,0.3019607961177826,0.29019609093666077,0.26274511218070984,0.24705882370471954,0.2549019753932953,0.25882354378700256,0.2980392277240753,0.29411765933036804,0.32549020648002625,0.40784314274787903,0.4156862795352936,0.5882353186607361,0.7529411911964417,0.7921568751335144,0.7647058963775635,0.7843137383460999,0.46666666865348816,0.0,0.0],[0.03529411926865578,0.03921568766236305,0.08627451211214066,0.08627451211214066,0.12156862765550613,0.16470588743686676,0.3803921639919281,0.4000000059604645,0.3686274588108063,0.3294117748737335,0.4470588266849518,0.42352941632270813,0.4117647111415863,0.35686275362968445,0.5882353186607361,0.5803921818733215,0.529411792755127,0.6000000238418579,0.572549045085907,0.5803921818733215,0.5960784554481506,0.529411792755127,0.47058823704719543,0.43529412150382996,0.3960784375667572,0.3843137323856354,0.47843137383461,0.49803921580314636,0.529411792755127,0.5686274766921997,0.6509804129600525,0.6941176652908325,0.6941176652908325,0.6470588445663452,0.7137255072593689,0.7647058963775635,0.8352941274642944,0.8274509906768799,0.8313725590705872,0.7529411911964417,0.6745098233222961,0.5176470875740051,0.3960784375667572,0.364705890417099,0.2980392277240753,0.2705882489681244,0.239215686917305,0.21960784494876862,0.239215686917305,0.24705882370471954,0.25882354378700256,0.27843138575553894,0.29411765933036804,0.3333333432674408,0.3607843220233917,0.41960784792900085,0.5254902243614197,0.7019608020782471,0.8156862854957581,0.7803921699523926,0.7803921699523926,0.7764706015586853,0.46666666865348816,0.0],[0.0313725508749485,0.03921568766236305,0.1882352977991104,0.27450981736183167,0.32549020648002625,0.3490196168422699,0.5372549295425415,0.5058823823928833,0.4941176474094391,0.48235294222831726,0.5882353186607361,0.5686274766921997,0.5764706134796143,0.5529412031173706,0.658823549747467,0.658823549747467,0.6352941393852234,0.6000000238418579,0.7411764860153198,0.7019608020782471,0.658823549747467,0.4745098054409027,0.4470588266849518,0.4117647111415863,0.4117647111415863,0.40392157435417175,0.4274509847164154,0.4941176474094391,0.4941176474094391,0.6039215922355652,0.6039215922355652,0.6901960968971252,0.7176470756530762,0.6823529601097107,0.7215686440467834,0.7882353067398071,0.8352941274642944,0.8352941274642944,0.8039215803146362,0.7921568751335144,0.7137255072593689,0.5803921818733215,0.3960784375667572,0.33725491166114807,0.2549019753932953,0.2823529541492462,0.239215686917305,0.21960784494876862,0.2823529541492462,0.27843138575553894,0.2823529541492462,0.29019609093666077,0.30980393290519714,0.30980393290519714,0.3803921639919281,0.40392157435417175,0.4901960790157318,0.5254902243614197,0.6352941393852234,0.7764706015586853,0.800000011920929,0.7803921699523926,0.43921568989753723,0.0],[0.09019608050584793,0.125490203499794,0.38823530077934265,0.46666666865348816,0.4941176474094391,0.5764706134796143,0.5529412031173706,0.5568627715110779,0.5803921818733215,0.6000000238418579,0.6431372761726379,0.6470588445663452,0.6313725709915161,0.6470588445663452,0.6117647290229797,0.6392157077789307,0.6941176652908325,0.6941176652908325,0.7647058963775635,0.7803921699523926,0.686274528503418,0.5960784554481506,0.6000000238418579,0.572549045085907,0.5098039507865906,0.47058823704719543,0.47843137383461,0.47058823704719543,0.4627451002597809,0.6039215922355652,0.5882353186607361,0.6666666865348816,0.6823529601097107,0.729411780834198,0.7647058963775635,0.8235294222831726,0.8588235378265381,0.843137264251709,0.8352941274642944,0.8156862854957581,0.7137255072593689,0.5764706134796143,0.3529411852359772,0.3019607961177826,0.2862745225429535,0.2862745225429535,0.34117648005485535,0.2823529541492462,0.2980392277240753,0.3019607961177826,0.2823529541492462,0.27843138575553894,0.2705882489681244,0.2980392277240753,0.37254902720451355,0.4470588266849518,0.5372549295425415,0.5607843399047852,0.6000000238418579,0.7764706015586853,0.8156862854957581,0.7529411911964417,0.42352941632270813,0.0],[0.18039216101169586,0.2862745225429535,0.38823530077934265,0.48235294222831726,0.5333333611488342,0.5568627715110779,0.6549019813537598,0.6274510025978088,0.5803921818733215,0.6000000238418579,0.7019608020782471,0.7686274647712708,0.7529411911964417,0.686274528503418,0.6078431606292725,0.6549019813537598,0.6901960968971252,0.7176470756530762,0.6823529601097107,0.6078431606292725,0.5843137502670288,0.5960784554481506,0.5882353186607361,0.572549045085907,0.5411764979362488,0.5764706134796143,0.5137255191802979,0.5686274766921997,0.5647059082984924,0.6509804129600525,0.6509804129600525,0.729411780834198,0.7411764860153198,0.7686274647712708,0.8039215803146362,0.8549019694328308,0.8784313797950745,0.8549019694328308,0.8549019694328308,0.843137264251709,0.7607843279838562,0.7176470756530762,0.5843137502670288,0.3450980484485626,0.3490196168422699,0.3176470696926117,0.33725491166114807,0.2980392277240753,0.27843138575553894,0.26274511218070984,0.23529411852359772,0.24705882370471954,0.2705882489681244,0.27843138575553894,0.3294117748737335,0.40784314274787903,0.47843137383461,0.5490196347236633,0.6117647290229797,0.7529411911964417,0.8039215803146362,0.7686274647712708,0.4117647111415863,0.0],[0.25882354378700256,0.32549020648002625,0.32549020648002625,0.4117647111415863,0.501960813999176,0.5803921818733215,0.6235294342041016,0.7254902124404907,0.7098039388656616,0.6705882549285889,0.7686274647712708,0.7568627595901489,0.7176470756530762,0.6392157077789307,0.658823549747467,0.6980392336845398,0.7411764860153198,0.7411764860153198,0.5843137502670288,0.5647059082984924,0.5568627715110779,0.5411764979362488,0.49803921580314636,0.5372549295425415,0.5568627715110779,0.5764706134796143,0.5607843399047852,0.572549045085907,0.615686297416687,0.6666666865348816,0.6666666865348816,0.7019608020782471,0.772549033164978,0.7921568751335144,0.800000011920929,0.8352941274642944,0.8627451062202454,0.8666666746139526,0.8627451062202454,0.8313725590705872,0.7450980544090271,0.772549033164978,0.5686274766921997,0.3333333432674408,0.3490196168422699,0.3607843220233917,0.2862745225429535,0.29019609093666077,0.25882354378700256,0.21960784494876862,0.20000000298023224,0.239215686917305,0.27450981736183167,0.34117648005485535,0.364705890417099,0.4000000059604645,0.38823530077934265,0.49803921580314636,0.6392157077789307,0.6392157077789307,0.7254902124404907,0.8196078538894653,0.7764706015586853,0.4117647111415863],[0.24313725531101227,0.3137255012989044,0.3490196168422699,0.5372549295425415,0.6000000238418579,0.6549019813537598,0.6823529601097107,0.7607843279838562,0.8117647171020508,0.8039215803146362,0.7058823704719543,0.686274528503418,0.6980392336845398,0.6666666865348816,0.7215686440467834,0.7490196228027344,0.7333333492279053,0.6509804129600525,0.545098066329956,0.4588235318660736,0.4274509847164154,0.4470588266849518,0.4313725531101227,0.4313725531101227,0.46666666865348816,0.545098066329956,0.38823530077934265,0.45098039507865906,0.46666666865348816,0.5215686559677124,0.6313725709915161,0.7568627595901489,0.800000011920929,0.8156862854957581,0.8352941274642944,0.8627451062202454,0.8588235378265381,0.8627451062202454,0.8627451062202454,0.8470588326454163,0.800000011920929,0.7568627595901489,0.572549045085907,0.3960784375667572,0.38823530077934265,0.47843137383461,0.32549020648002625,0.2980392277240753,0.25882354378700256,0.30588236451148987,0.27450981736183167,0.27450981736183167,0.33725491166114807,0.3764705955982208,0.38823530077934265,0.3843137323856354,0.4156862795352936,0.46666666865348816,0.5333333611488342,0.5882353186607361,0.6941176652908325,0.8313725590705872,0.7921568751335144,0.4117647111415863],[0.2823529541492462,0.3764705955982208,0.45098039507865906,0.615686297416687,0.6431372761726379,0.6705882549285889,0.7137255072593689,0.7490196228027344,0.8156862854957581,0.800000011920929,0.7058823704719543,0.7058823704719543,0.729411780834198,0.6705882549285889,0.7843137383460999,0.7450980544090271,0.7450980544090271,0.686274528503418,0.5686274766921997,0.5137255191802979,0.45098039507865906,0.42352941632270813,0.3176470696926117,0.3176470696926117,0.37254902720451355,0.4470588266849518,0.47058823704719543,0.4901960790157318,0.5058823823928833,0.5215686559677124,0.6784313917160034,0.8235294222831726,0.8313725590705872,0.8156862854957581,0.8470588326454163,0.8784313797950745,0.8627451062202454,0.8784313797950745,0.8549019694328308,0.843137264251709,0.8313725590705872,0.7490196228027344,0.6627451181411743,0.5764706134796143,0.5764706134796143,0.5843137502670288,0.47843137383461,0.4470588266849518,0.2823529541492462,0.3490196168422699,0.3803921639919281,0.3176470696926117,0.364705890417099,0.32549020648002625,0.3843137323856354,0.3921568691730499,0.4117647111415863,0.529411792755127,0.5803921818733215,0.5607843399047852,0.6823529601097107,0.8117647171020508,0.8117647171020508,0.40784314274787903],[0.3450980484485626,0.4470588266849518,0.5333333611488342,0.658823549747467,0.6745098233222961,0.7058823704719543,0.7098039388656616,0.7450980544090271,0.7450980544090271,0.8196078538894653,0.8039215803146362,0.7333333492279053,0.7254902124404907,0.7098039388656616,0.7254902124404907,0.772549033164978,0.6901960968971252,0.6117647290229797,0.5921568870544434,0.5529412031173706,0.47058823704719543,0.3843137323856354,0.3450980484485626,0.3294117748737335,0.4274509847164154,0.47058823704719543,0.48235294222831726,0.5176470875740051,0.5647059082984924,0.5529412031173706,0.7960784435272217,0.8196078538894653,0.8274509906768799,0.8156862854957581,0.8627451062202454,0.8941176533699036,0.8941176533699036,0.9176470637321472,0.8980392217636108,0.8509804010391235,0.843137264251709,0.8509804010391235,0.7333333492279053,0.729411780834198,0.7372549176216125,0.6274510025978088,0.5215686559677124,0.38823530077934265,0.33725491166114807,0.364705890417099,0.3137255012989044,0.34117648005485535,0.364705890417099,0.3490196168422699,0.2862745225429535,0.33725491166114807,0.4117647111415863,0.42352941632270813,0.5254902243614197,0.5921568870544434,0.6745098233222961,0.8078431487083435,0.800000011920929,0.4156862795352936],[0.41960784792900085,0.41960784792900085,0.5215686559677124,0.6235294342041016,0.6823529601097107,0.686274528503418,0.7098039388656616,0.7411764860153198,0.7764706015586853,0.8470588326454163,0.7568627595901489,0.7647058963775635,0.7490196228027344,0.7372549176216125,0.772549033164978,0.7450980544090271,0.6470588445663452,0.5960784554481506,0.5607843399047852,0.47058823704719543,0.40392157435417175,0.3803921639919281,0.37254902720451355,0.33725491166114807,0.41960784792900085,0.4313725531101227,0.3803921639919281,0.4431372582912445,0.4941176474094391,0.4941176474094391,0.5372549295425415,0.7372549176216125,0.7882353067398071,0.8235294222831726,0.8705882430076599,0.8901960849761963,0.9176470637321472,0.9176470637321472,0.9098039269447327,0.8941176533699036,0.8549019694328308,0.8549019694328308,0.729411780834198,0.7019608020782471,0.7019608020782471,0.6823529601097107,0.6431372761726379,0.49803921580314636,0.4000000059604645,0.37254902720451355,0.34117648005485535,0.3529411852359772,0.3803921639919281,0.3450980484485626,0.3960784375667572,0.3607843220233917,0.4117647111415863,0.45490196347236633,0.4156862795352936,0.4627451002597809,0.4627451002597809,0.6431372761726379,0.8235294222831726,0.8078431487083435],[0.501960813999176,0.45490196347236633,0.5529412031173706,0.6470588445663452,0.7450980544090271,0.6823529601097107,0.7372549176216125,0.7843137383460999,0.8078431487083435,0.8117647171020508,0.7450980544090271,0.7843137383460999,0.7490196228027344,0.7607843279838562,0.8117647171020508,0.6705882549285889,0.615686297416687,0.5921568870544434,0.5607843399047852,0.46666666865348816,0.47843137383461,0.45098039507865906,0.4274509847164154,0.3921568691730499,0.3607843220233917,0.38823530077934265,0.40784314274787903,0.3960784375667572,0.43529412150382996,0.4313725531101227,0.5882353186607361,0.7372549176216125,0.7960784435272217,0.8549019694328308,0.8901960849761963,0.9098039269447327,0.9215686321258545,0.9215686321258545,0.9215686321258545,0.9058823585510254,0.8980392217636108,0.8627451062202454,0.7921568751335144,0.7607843279838562,0.7137255072593689,0.7333333492279053,0.7372549176216125,0.6784313917160034,0.529411792755127,0.6392157077789307,0.6392157077789307,0.42352941632270813,0.3450980484485626,0.3607843220233917,0.4000000059604645,0.3803921639919281,0.4000000059604645,0.49803921580314636,0.48627451062202454,0.45490196347236633,0.4745098054409027,0.6000000238418579,0.8117647171020508,0.8509804010391235],[0.5372549295425415,0.5137255191802979,0.5803921818733215,0.6470588445663452,0.7490196228027344,0.7058823704719543,0.7686274647712708,0.7921568751335144,0.8235294222831726,0.7803921699523926,0.7450980544090271,0.772549033164978,0.7411764860153198,0.7960784435272217,0.7960784435272217,0.7764706015586853,0.6509804129600525,0.5607843399047852,0.501960813999176,0.529411792755127,0.46666666865348816,0.43921568989753723,0.4274509847164154,0.3764705955982208,0.3960784375667572,0.3960784375667572,0.43529412150382996,0.48627451062202454,0.545098066329956,0.545098066329956,0.7607843279838562,0.8156862854957581,0.8392156958580017,0.8627451062202454,0.9098039269447327,0.9254902005195618,0.9372549057006836,0.9333333373069763,0.929411768913269,0.9176470637321472,0.9176470637321472,0.8627451062202454,0.8549019694328308,0.8392156958580017,0.8470588326454163,0.8627451062202454,0.8117647171020508,0.7882353067398071,0.7647058963775635,0.7411764860153198,0.7019608020782471,0.6235294342041016,0.4588235318660736,0.47058823704719543,0.4156862795352936,0.4431372582912445,0.47843137383461,0.49803921580314636,0.4431372582912445,0.45490196347236633,0.4745098054409027,0.572549045085907,0.7882353067398071,0.843137264251709],[0.6039215922355652,0.5333333611488342,0.5882353186607361,0.7176470756530762,0.7607843279838562,0.7098039388656616,0.8039215803146362,0.800000011920929,0.7686274647712708,0.8196078538894653,0.7843137383460999,0.8078431487083435,0.7568627595901489,0.7686274647712708,0.843137264251709,0.7137255072593689,0.5803921818733215,0.5686274766921997,0.5647059082984924,0.47058823704719543,0.43529412150382996,0.4000000059604645,0.3803921639919281,0.41960784792900085,0.47058823704719543,0.43529412150382996,0.45490196347236633,0.5686274766921997,0.6784313917160034,0.6470588445663452,0.7686274647712708,0.8705882430076599,0.8627451062202454,0.886274516582489,0.9176470637321472,0.9176470637321472,0.9333333373069763,0.9411764740943909,0.9450980424880981,0.9411764740943909,0.929411768913269,0.9058823585510254,0.8823529481887817,0.8627451062202454,0.886274516582489,0.8627451062202454,0.8549019694328308,0.8117647171020508,0.7803921699523926,0.7058823704719543,0.7254902124404907,0.6549019813537598,0.5960784554481506,0.6274510025978088,0.5803921818733215,0.5098039507865906,0.5137255191802979,0.6392157077789307,0.5960784554481506,0.5176470875740051,0.5058823823928833,0.5529412031173706,0.7372549176216125,0.7372549176216125],[0.27843138575553894,0.6235294342041016,0.5607843399047852,0.5803921818733215,0.7450980544090271,0.7333333492279053,0.7607843279838562,0.800000011920929,0.772549033164978,0.8078431487083435,0.7960784435272217,0.8039215803146362,0.7529411911964417,0.8117647171020508,0.8588235378265381,0.658823549747467,0.6000000238418579,0.5529412031173706,0.501960813999176,0.43529412150382996,0.4431372582912445,0.4117647111415863,0.4000000059604645,0.3843137323856354,0.4745098054409027,0.46666666865348816,0.45490196347236633,0.6196078658103943,0.6196078658103943,0.6980392336845398,0.615686297416687,0.7176470756530762,0.8352941274642944,0.8745098114013672,0.8941176533699036,0.9137254953384399,0.929411768913269,0.9411764740943909,0.9607843160629272,0.95686274766922,0.9490196108818054,0.9372549057006836,0.9098039269447327,0.886274516582489,0.886274516582489,0.8823529481887817,0.8313725590705872,0.8039215803146362,0.7607843279838562,0.7529411911964417,0.7254902124404907,0.6941176652908325,0.6941176652908325,0.7019608020782471,0.7019608020782471,0.6941176652908325,0.6941176652908325,0.4431372582912445,0.5764706134796143,0.6666666865348816,0.7215686440467834,0.7803921699523926,0.6745098233222961,0.7450980544090271],[0.29411765933036804,0.6313725709915161,0.5372549295425415,0.6313725709915161,0.7411764860153198,0.7058823704719543,0.8274509906768799,0.7647058963775635,0.7960784435272217,0.7960784435272217,0.7803921699523926,0.8039215803146362,0.772549033164978,0.843137264251709,0.8235294222831726,0.6392157077789307,0.5647059082984924,0.49803921580314636,0.43921568989753723,0.40784314274787903,0.40784314274787903,0.42352941632270813,0.41960784792900085,0.34117648005485535,0.4431372582912445,0.529411792755127,0.5568627715110779,0.5921568870544434,0.6509804129600525,0.6823529601097107,0.615686297416687,0.7568627595901489,0.8549019694328308,0.8745098114013672,0.9098039269447327,0.929411768913269,0.9411764740943909,0.9529411792755127,0.9647058844566345,0.9647058844566345,0.95686274766922,0.9372549057006836,0.8823529481887817,0.8784313797950745,0.8627451062202454,0.8352941274642944,0.8352941274642944,0.8117647171020508,0.8117647171020508,0.7568627595901489,0.8196078538894653,0.8196078538894653,0.7843137383460999,0.6235294342041016,0.5960784554481506,0.5686274766921997,0.5058823823928833,0.4274509847164154,0.4588235318660736,0.572549045085907,0.7764706015586853,0.8392156958580017,0.7960784435272217,0.7843137383460999],[0.30980393290519714,0.6431372761726379,0.5215686559677124,0.7254902124404907,0.7215686440467834,0.7686274647712708,0.772549033164978,0.7607843279838562,0.8039215803146362,0.7882353067398071,0.7647058963775635,0.7882353067398071,0.800000011920929,0.800000011920929,0.8549019694328308,0.7333333492279053,0.6392157077789307,0.5333333611488342,0.5058823823928833,0.5254902243614197,0.47058823704719543,0.42352941632270813,0.3607843220233917,0.3764705955982208,0.47058823704719543,0.5333333611488342,0.5921568870544434,0.5372549295425415,0.6274510025978088,0.6470588445663452,0.6313725709915161,0.8196078538894653,0.886274516582489,0.8941176533699036,0.9098039269447327,0.9450980424880981,0.9529411792755127,0.9607843160629272,0.9686274528503418,0.9686274528503418,0.9607843160629272,0.9607843160629272,0.9529411792755127,0.8705882430076599,0.8666666746139526,0.8705882430076599,0.8392156958580017,0.8313725590705872,0.8470588326454163,0.8549019694328308,0.7568627595901489,0.729411780834198,0.6784313917160034,0.6235294342041016,0.6078431606292725,0.5764706134796143,0.501960813999176,0.5411764979362488,0.5686274766921997,0.5960784554481506,0.772549033164978,0.8666666746139526,0.8627451062202454,0.8392156958580017],[0.32156863808631897,0.6000000238418579,0.6196078658103943,0.7568627595901489,0.729411780834198,0.729411780834198,0.8078431487083435,0.7058823704719543,0.7764706015586853,0.7921568751335144,0.7921568751335144,0.7686274647712708,0.7803921699523926,0.8352941274642944,0.8901960849761963,0.7333333492279053,0.572549045085907,0.5647059082984924,0.5490196347236633,0.5058823823928833,0.4588235318660736,0.42352941632270813,0.37254902720451355,0.40784314274787903,0.40784314274787903,0.41960784792900085,0.48235294222831726,0.5529412031173706,0.6352941393852234,0.615686297416687,0.6627451181411743,0.8274509906768799,0.8745098114013672,0.9215686321258545,0.9215686321258545,0.9529411792755127,0.9607843160629272,0.9607843160629272,0.9764705896377563,0.9803921580314636,0.9803921580314636,0.9725490212440491,0.929411768913269,0.9019607901573181,0.886274516582489,0.8666666746139526,0.8627451062202454,0.8784313797950745,0.8588235378265381,0.8078431487083435,0.6666666865348816,0.6549019813537598,0.6313725709915161,0.615686297416687,0.6039215922355652,0.5960784554481506,0.5686274766921997,0.6235294342041016,0.6980392336845398,0.7529411911964417,0.8666666746139526,0.9058823585510254,0.9058823585510254,0.9215686321258545],[0.0,0.3137255012989044,0.6235294342041016,0.7254902124404907,0.7058823704719543,0.7764706015586853,0.7647058963775635,0.7333333492279053,0.7803921699523926,0.7921568751335144,0.7764706015586853,0.772549033164978,0.8117647171020508,0.8705882430076599,0.8627451062202454,0.6823529601097107,0.6274510025978088,0.5882353186607361,0.5490196347236633,0.5058823823928833,0.45490196347236633,0.46666666865348816,0.4470588266849518,0.3960784375667572,0.3803921639919281,0.42352941632270813,0.42352941632270813,0.45490196347236633,0.5333333611488342,0.6000000238418579,0.5686274766921997,0.7098039388656616,0.8549019694328308,0.9058823585510254,0.9411764740943909,0.9647058844566345,0.9725490212440491,0.9725490212440491,0.9764705896377563,0.9843137264251709,0.9803921580314636,0.9725490212440491,0.9372549057006836,0.8941176533699036,0.8588235378265381,0.8509804010391235,0.9019607901573181,0.8784313797950745,0.8039215803146362,0.7176470756530762,0.6235294342041016,0.6235294342041016,0.615686297416687,0.6078431606292725,0.5529412031173706,0.5529412031173706,0.5764706134796143,0.6039215922355652,0.8039215803146362,0.8039215803146362,0.8784313797950745,0.9411764740943909,0.929411768913269,0.9411764740943909],[0.0,0.2823529541492462,0.7450980544090271,0.7333333492279053,0.729411780834198,0.7764706015586853,0.7176470756530762,0.7411764860153198,0.772549033164978,0.7882353067398071,0.7843137383460999,0.772549033164978,0.800000011920929,0.8666666746139526,0.8235294222831726,0.6980392336845398,0.6274510025978088,0.545098066329956,0.5137255191802979,0.5137255191802979,0.45098039507865906,0.4313725531101227,0.4313725531101227,0.4274509847164154,0.41960784792900085,0.4117647111415863,0.4156862795352936,0.45490196347236633,0.45490196347236633,0.4901960790157318,0.5372549295425415,0.7529411911964417,0.8588235378265381,0.9098039269447327,0.95686274766922,0.9529411792755127,0.9647058844566345,0.9725490212440491,0.9764705896377563,0.9803921580314636,0.9725490212440491,0.9647058844566345,0.9372549057006836,0.8941176533699036,0.9137254953384399,0.9176470637321472,0.8078431487083435,0.8078431487083435,0.7529411911964417,0.7019608020782471,0.5843137502670288,0.6000000238418579,0.5882353186607361,0.5686274766921997,0.7411764860153198,0.7568627595901489,0.772549033164978,0.7882353067398071,0.9490196108818054,0.9607843160629272,0.9607843160629272,0.9411764740943909,0.95686274766922,0.9490196108818054],[0.0,0.34117648005485535,0.8039215803146362,0.6941176652908325,0.729411780834198,0.7372549176216125,0.7529411911964417,0.7333333492279053,0.7686274647712708,0.7882353067398071,0.7764706015586853,0.7764706015586853,0.7176470756530762,0.8313725590705872,0.9019607901573181,0.7843137383460999,0.6627451181411743,0.615686297416687,0.5411764979362488,0.5058823823928833,0.47058823704719543,0.4745098054409027,0.4627451002597809,0.4274509847164154,0.5254902243614197,0.46666666865348816,0.41960784792900085,0.6784313917160034,0.5333333611488342,0.47843137383461,0.5607843399047852,0.7450980544090271,0.8352941274642944,0.9215686321258545,0.9372549057006836,0.9490196108818054,0.9647058844566345,0.9725490212440491,0.9764705896377563,0.9803921580314636,0.9803921580314636,0.9725490212440491,0.9647058844566345,0.9529411792755127,0.9450980424880981,0.929411768913269,0.772549033164978,0.7098039388656616,0.658823549747467,0.615686297416687,0.7843137383460999,0.7607843279838562,0.7490196228027344,0.7411764860153198,0.9843137264251709,0.9764705896377563,0.9607843160629272,0.9490196108818054,0.9372549057006836,0.9176470637321472,0.9333333373069763,0.9372549057006836,0.9529411792755127,0.95686274766922],[0.0,0.364705890417099,0.8078431487083435,0.7058823704719543,0.7058823704719543,0.7372549176216125,0.6980392336845398,0.7529411911964417,0.7333333492279053,0.7764706015586853,0.7921568751335144,0.7686274647712708,0.6823529601097107,0.8313725590705872,0.9098039269447327,0.7607843279838562,0.6470588445663452,0.6078431606292725,0.5803921818733215,0.529411792755127,0.5803921818733215,0.6235294342041016,0.615686297416687,0.5607843399047852,0.8274509906768799,0.7647058963775635,0.7058823704719543,0.6784313917160034,0.8196078538894653,0.7568627595901489,0.7137255072593689,0.9019607901573181,0.9019607901573181,0.8980392217636108,0.8980392217636108,0.9411764740943909,0.9529411792755127,0.9686274528503418,0.9764705896377563,0.9843137264251709,0.9882352948188782,0.9803921580314636,0.9725490212440491,0.9843137264251709,0.9098039269447327,0.8313725590705872,0.772549033164978,0.8901960849761963,0.8509804010391235,0.8117647171020508,0.9960784316062927,0.9960784316062927,0.9882352948188782,0.9843137264251709,0.9411764740943909,0.9137254953384399,0.8980392217636108,0.9098039269447327,0.9137254953384399,0.9254902005195618,0.9411764740943909,0.9411764740943909,0.9372549057006836,0.9450980424880981],[0.0,0.0,0.3686274588108063,0.8039215803146362,0.7333333492279053,0.686274528503418,0.6941176652908325,0.7137255072593689,0.7450980544090271,0.7686274647712708,0.800000011920929,0.7372549176216125,0.6470588445663452,0.8156862854957581,0.8941176533699036,0.729411780834198,0.5921568870544434,0.5686274766921997,0.5686274766921997,0.5764706134796143,0.8627451062202454,0.8705882430076599,0.843137264251709,0.8235294222831726,0.8823529481887817,0.8823529481887817,0.8784313797950745,0.8705882430076599,0.8980392217636108,0.9058823585510254,0.9058823585510254,0.9058823585510254,0.9607843160629272,0.9490196108818054,0.9333333373069763,0.95686274766922,0.9686274528503418,0.9764705896377563,0.9803921580314636,0.9803921580314636,0.9882352948188782,0.9882352948188782,0.9843137264251709,0.9921568632125854,0.9372549057006836,0.9098039269447327,0.9098039269447327,0.9882352948188782,0.9843137264251709,0.9960784316062927,0.9960784316062927,0.9686274528503418,0.9647058844566345,0.9647058844566345,0.95686274766922,0.9215686321258545,0.886274516582489,0.8705882430076599,0.8941176533699036,0.9058823585510254,0.9098039269447327,0.929411768913269,0.9529411792755127,0.95686274766922],[0.0,0.0,0.3529411852359772,0.8078431487083435,0.7372549176216125,0.6549019813537598,0.7019608020782471,0.7019608020782471,0.7450980544090271,0.7411764860153198,0.7882353067398071,0.6823529601097107,0.6470588445663452,0.8745098114013672,0.8901960849761963,0.6823529601097107,0.6196078658103943,0.6196078658103943,0.658823549747467,0.7647058963775635,0.8823529481887817,0.886274516582489,0.8901960849761963,0.8901960849761963,0.9176470637321472,0.9137254953384399,0.9098039269447327,0.8941176533699036,0.929411768913269,0.9215686321258545,0.929411768913269,0.9529411792755127,0.9764705896377563,0.9725490212440491,0.9647058844566345,0.9725490212440491,0.9803921580314636,0.9803921580314636,0.9803921580314636,0.9803921580314636,0.9882352948188782,0.9882352948188782,0.9843137264251709,0.9921568632125854,0.9764705896377563,0.9803921580314636,0.9803921580314636,0.9803921580314636,0.9725490212440491,0.9764705896377563,0.9803921580314636,0.9764705896377563,0.9843137264251709,0.9725490212440491,0.9647058844566345,0.9450980424880981,0.9176470637321472,0.8980392217636108,0.9137254953384399,0.9137254953384399,0.9254902005195618,0.9450980424880981,0.9647058844566345,0.9647058844566345],[0.0,0.0,0.35686275362968445,0.8352941274642944,0.6941176652908325,0.6705882549285889,0.6941176652908325,0.7215686440467834,0.729411780834198,0.7333333492279053,0.7333333492279053,0.7411764860153198,0.6470588445663452,0.7254902124404907,0.8823529481887817,0.8470588326454163,0.6431372761726379,0.7921568751335144,0.8745098114013672,0.8784313797950745,0.9058823585510254,0.9137254953384399,0.9176470637321472,0.9176470637321472,0.9411764740943909,0.9372549057006836,0.9333333373069763,0.9450980424880981,0.9529411792755127,0.95686274766922,0.9647058844566345,0.9725490212440491,0.9803921580314636,0.9803921580314636,0.9803921580314636,0.9725490212440491,0.9882352948188782,0.9843137264251709,0.9843137264251709,0.9843137264251709,0.9843137264251709,0.9921568632125854,0.9921568632125854,0.9921568632125854,0.9843137264251709,0.9803921580314636,0.9843137264251709,0.9843137264251709,0.9803921580314636,0.9882352948188782,0.9843137264251709,0.9843137264251709,0.9843137264251709,0.9764705896377563,0.9647058844566345,0.9529411792755127,0.9372549057006836,0.9215686321258545,0.929411768913269,0.9411764740943909,0.9411764740943909,0.95686274766922,0.9529411792755127,0.9607843160629272],[0.0,0.0,0.0,0.37254902720451355,0.8352941274642944,0.6352941393852234,0.6941176652908325,0.6745098233222961,0.7098039388656616,0.7254902124404907,0.7372549176216125,0.6980392336845398,0.6235294342041016,0.7764706015586853,0.8666666746139526,0.7568627595901489,0.6980392336845398,0.9019607901573181,0.8941176533699036,0.9019607901573181,0.9254902005195618,0.9333333373069763,0.9372549057006836,0.9411764740943909,0.9529411792755127,0.9490196108818054,0.9490196108818054,0.9529411792755127,0.9725490212440491,0.9843137264251709,0.9882352948188782,0.9882352948188782,0.9725490212440491,0.9803921580314636,0.9843137264251709,0.9882352948188782,0.9921568632125854,0.9960784316062927,0.9921568632125854,0.9843137264251709,0.9960784316062927,1.0,0.9960784316062927,0.9960784316062927,0.9882352948188782,0.9921568632125854,0.9921568632125854,0.9843137264251709,0.9843137264251709,0.9882352948188782,0.9882352948188782,0.9882352948188782,0.9843137264251709,0.9725490212440491,0.9607843160629272,0.9411764740943909,0.929411768913269,0.9215686321258545,0.929411768913269,0.929411768913269,0.9529411792755127,0.9254902005195618,0.9450980424880981,0.95686274766922],[0.0,0.0,0.0,0.33725491166114807,0.7529411911964417,0.658823549747467,0.6980392336845398,0.6549019813537598,0.6666666865348816,0.6823529601097107,0.7411764860153198,0.6627451181411743,0.6470588445663452,0.8078431487083435,0.8235294222831726,0.772549033164978,0.8196078538894653,0.929411768913269,0.9137254953384399,0.9215686321258545,0.9254902005195618,0.9450980424880981,0.9529411792755127,0.9529411792755127,0.9686274528503418,0.9686274528503418,0.9647058844566345,0.9647058844566345,0.9882352948188782,0.9803921580314636,0.9725490212440491,0.9686274528503418,1.0,1.0,0.9921568632125854,0.9803921580314636,0.9960784316062927,1.0,1.0,0.9960784316062927,0.9921568632125854,0.9921568632125854,0.9921568632125854,0.9960784316062927,0.9843137264251709,0.9921568632125854,0.9921568632125854,0.9882352948188782,0.9882352948188782,0.9921568632125854,0.9921568632125854,0.9882352948188782,0.9882352948188782,0.9882352948188782,0.9725490212440491,0.9647058844566345,0.9411764740943909,0.9176470637321472,0.9137254953384399,0.9215686321258545,0.9450980424880981,0.929411768913269,0.95686274766922,0.9647058844566345],[0.0,0.0,0.0,0.2823529541492462,0.6509804129600525,0.658823549747467,0.6470588445663452,0.6431372761726379,0.6627451181411743,0.6705882549285889,0.6901960968971252,0.6196078658103943,0.6941176652908325,0.8078431487083435,0.8313725590705872,0.8313725590705872,0.8313725590705872,0.8980392217636108,0.9058823585510254,0.9254902005195618,0.9372549057006836,0.9607843160629272,0.9647058844566345,0.9686274528503418,0.9686274528503418,0.9764705896377563,0.9764705896377563,0.9764705896377563,0.9882352948188782,0.9882352948188782,0.9921568632125854,1.0,0.9921568632125854,0.9921568632125854,0.9921568632125854,0.9960784316062927,1.0,1.0,0.9960784316062927,0.9921568632125854,0.9921568632125854,0.9921568632125854,0.9960784316062927,0.9960784316062927,0.9960784316062927,0.9882352948188782,0.9921568632125854,0.9960784316062927,0.9960784316062927,0.9960784316062927,0.9921568632125854,0.9960784316062927,0.9960784316062927,0.9960784316062927,0.9803921580314636,0.9843137264251709,0.9607843160629272,0.9254902005195618,0.9058823585510254,0.9137254953384399,0.929411768913269,0.9490196108818054,0.95686274766922,0.95686274766922],[0.0,0.0,0.0,0.25882354378700256,0.5882353186607361,0.6313725709915161,0.6235294342041016,0.6352941393852234,0.6352941393852234,0.5647059082984924,0.6431372761726379,0.6392157077789307,0.6274510025978088,0.729411780834198,0.8078431487083435,0.8588235378265381,0.8901960849761963,0.929411768913269,0.929411768913269,0.9450980424880981,0.9607843160629272,0.9725490212440491,0.9764705896377563,0.9764705896377563,0.9803921580314636,0.9843137264251709,0.9843137264251709,0.9843137264251709,0.9882352948188782,0.9960784316062927,0.9960784316062927,0.9960784316062927,1.0,1.0,1.0,1.0,1.0,1.0,1.0,0.9960784316062927,0.9921568632125854,0.9921568632125854,0.9921568632125854,0.9960784316062927,0.9960784316062927,0.9921568632125854,0.9960784316062927,0.9960784316062927,1.0,1.0,0.9960784316062927,0.9960784316062927,0.9960784316062927,0.9960784316062927,0.9921568632125854,0.9882352948188782,0.9686274528503418,0.9333333373069763,0.9058823585510254,0.9137254953384399,0.929411768913269,0.9411764740943909,0.9529411792755127,0.9372549057006836],[0.0,0.0,0.0,0.0,0.26274511218070984,0.5176470875740051,0.4745098054409027,0.5882353186607361,0.5921568870544434,0.5647059082984924,0.5843137502670288,0.6039215922355652,0.6509804129600525,0.7686274647712708,0.8392156958580017,0.8588235378265381,0.9019607901573181,0.9372549057006836,0.9450980424880981,0.9725490212440491,0.9725490212440491,0.9764705896377563,0.9803921580314636,0.9803921580314636,0.9843137264251709,0.9960784316062927,0.9960784316062927,0.9960784316062927,0.9921568632125854,1.0,1.0,1.0,1.0,1.0,1.0,1.0,1.0,1.0,1.0,0.9960784316062927,0.9960784316062927,0.9960784316062927,0.9960784316062927,0.9960784316062927,0.9960784316062927,0.9921568632125854,0.9921568632125854,0.9960784316062927,0.9960784316062927,1.0,0.9960784316062927,0.9843137264251709,0.9882352948188782,0.9882352948188782,0.9921568632125854,0.9803921580314636,0.9607843160629272,0.9333333373069763,0.9333333373069763,0.8941176533699036,0.8901960849761963,0.8941176533699036,0.9137254953384399,0.9490196108818054],[0.0,0.0,0.0,0.0,0.2705882489681244,0.4588235318660736,0.33725491166114807,0.5058823823928833,0.5058823823928833,0.5372549295425415,0.5254902243614197,0.5843137502670288,0.6431372761726379,0.7686274647712708,0.8549019694328308,0.8627451062202454,0.9019607901573181,0.9372549057006836,0.9450980424880981,0.9882352948188782,0.9764705896377563,0.9843137264251709,0.9843137264251709,0.9882352948188782,0.9921568632125854,0.9921568632125854,0.9960784316062927,0.9960784316062927,1.0,1.0,1.0,1.0,1.0,1.0,1.0,1.0,0.9960784316062927,1.0,1.0,0.9960784316062927,0.9960784316062927,0.9960784316062927,0.9960784316062927,0.9960784316062927,1.0,0.9843137264251709,0.9803921580314636,0.9882352948188782,0.9921568632125854,0.9921568632125854,0.9921568632125854,0.9882352948188782,0.9686274528503418,0.9725490212440491,0.9843137264251709,0.9607843160629272,0.9490196108818054,0.929411768913269,0.9058823585510254,0.929411768913269,0.9137254953384399,0.9058823585510254,0.9019607901573181,0.6980392336845398],[0.0,0.0,0.0,0.0,0.2666666805744171,0.43529412150382996,0.23137255012989044,0.3450980484485626,0.4156862795352936,0.48235294222831726,0.4901960790157318,0.5921568870544434,0.6666666865348816,0.7882353067398071,0.7921568751335144,0.8509804010391235,0.8901960849761963,0.9607843160629272,0.9764705896377563,0.9686274528503418,0.9843137264251709,0.9882352948188782,0.9882352948188782,0.9882352948188782,0.9882352948188782,0.9960784316062927,0.9960784316062927,1.0,1.0,1.0,1.0,1.0,1.0,1.0,1.0,0.9960784316062927,0.9960784316062927,1.0,1.0,1.0,1.0,1.0,1.0,1.0,1.0,1.0,0.9803921580314636,0.9764705896377563,0.9803921580314636,0.9882352948188782,0.9882352948188782,0.9764705896377563,0.9607843160629272,0.9607843160629272,0.9647058844566345,0.9607843160629272,1.0,0.9882352948188782,0.9607843160629272,0.6666666865348816,0.658823549747467,0.6549019813537598,0.6823529601097107,0.0],[0.0,0.0,0.0,0.0,0.24705882370471954,0.41960784792900085,0.1882352977991104,0.1882352977991104,0.18431372940540314,0.34117648005485535,0.33725491166114807,0.46666666865348816,0.615686297416687,0.7058823704719543,0.800000011920929,0.8666666746139526,0.9058823585510254,0.9607843160629272,0.9686274528503418,0.9686274528503418,0.9843137264251709,0.9882352948188782,0.9882352948188782,0.9882352948188782,0.9921568632125854,1.0,1.0,1.0,1.0,1.0,1.0,1.0,1.0,1.0,1.0,1.0,0.9960784316062927,0.9960784316062927,1.0,1.0,1.0,1.0,1.0,1.0,1.0,1.0,0.9843137264251709,0.9803921580314636,0.9725490212440491,0.9686274528503418,0.9647058844566345,0.9647058844566345,1.0,1.0,1.0,1.0,0.6784313917160034,0.6823529601097107,0.6784313917160034,0.003921568859368563,0.003921568859368563,0.007843137718737125,0.0117647061124444,0.0],[0.0,0.0,0.0,0.0,0.0,0.23529411852359772,0.364705890417099,0.16470588743686676,0.09803921729326248,0.2549019753932953,0.3019607961177826,0.43529412150382996,0.6274510025978088,0.7098039388656616,0.8039215803146362,0.8941176533699036,0.9372549057006836,0.9529411792755127,0.9725490212440491,0.9725490212440491,0.9725490212440491,0.9882352948188782,0.9921568632125854,0.9960784316062927,0.9960784316062927,1.0,1.0,1.0,1.0,1.0,1.0,1.0,1.0,1.0,1.0,0.9960784316062927,0.9960784316062927,0.9921568632125854,1.0,1.0,1.0,1.0,1.0,1.0,0.9843137264251709,0.9843137264251709,0.9764705896377563,0.9764705896377563,1.0,1.0,1.0,1.0,0.6352941393852234,0.6431372761726379,0.6509804129600525,0.6627451181411743,0.0,0.003921568859368563,0.007843137718737125,0.003921568859368563,0.0,0.0,0.003921568859368563,0.003921568859368563],[0.0,0.0,0.0,0.0,0.0,0.2235294133424759,0.33725491166114807,0.13725490868091583,0.0784313753247261,0.1764705926179886,0.2862745225429535,0.4470588266849518,0.6078431606292725,0.7372549176216125,0.8313725590705872,0.9098039269447327,0.9490196108818054,0.9725490212440491,0.9725490212440491,0.9803921580314636,0.9803921580314636,0.9764705896377563,0.9921568632125854,0.9960784316062927,1.0,1.0,1.0,1.0,1.0,1.0,1.0,1.0,1.0,1.0,1.0,0.9960784316062927,0.9960784316062927,0.9921568632125854,1.0,1.0,1.0,0.9803921580314636,0.9803921580314636,0.9843137264251709,0.9843137264251709,1.0,1.0,1.0,0.5921568870544434,0.5921568870544434,0.6039215922355652,0.615686297416687,0.003921568859368563,0.003921568859368563,0.003921568859368563,0.0,0.0117647061124444,0.007843137718737125,0.003921568859368563,0.0,0.0117647061124444,0.0117647061124444,0.0117647061124444,0.003921568859368563],[0.0,0.0,0.0,0.0,0.0,0.20392157137393951,0.33725491166114807,0.13333334028720856,0.054901961237192154,0.13725490868091583,0.2823529541492462,0.43921568989753723,0.6000000238418579,0.6000000238418579,0.7490196228027344,0.8823529481887817,0.9254902005195618,0.9490196108818054,0.9725490212440491,0.9647058844566345,0.9921568632125854,0.9882352948188782,0.9960784316062927,0.9960784316062927,1.0,1.0,1.0,1.0,1.0,1.0,1.0,1.0,1.0,1.0,1.0,0.9960784316062927,0.9960784316062927,0.9803921580314636,0.9803921580314636,0.9803921580314636,0.9803921580314636,0.9960784316062927,1.0,1.0,1.0,0.5568627715110779,0.5607843399047852,0.5803921818733215,0.0,0.0,0.0,0.0,0.007843137718737125,0.007843137718737125,0.007843137718737125,0.0117647061124444,0.0,0.003921568859368563,0.007843137718737125,0.0117647061124444,0.0,0.0,0.0,0.007843137718737125],[0.0,0.0,0.0,0.0,0.0,0.0,0.20000000298023224,0.23529411852359772,0.10588235408067703,0.04313725605607033,0.13333334028720856,0.29019609093666077,0.43529412150382996,0.5960784554481506,0.7647058963775635,0.9215686321258545,0.9333333373069763,0.9411764740943909,0.9686274528503418,0.9647058844566345,1.0,0.9921568632125854,0.9960784316062927,1.0,1.0,1.0,1.0,1.0,1.0,1.0,1.0,1.0,1.0,0.9843137264251709,0.9843137264251709,0.9843137264251709,0.9843137264251709,1.0,1.0,0.9960784316062927,0.9960784316062927,0.5058823823928833,0.5215686559677124,0.5333333611488342,0.545098066329956,0.003921568859368563,0.003921568859368563,0.0,0.0,0.019607843831181526,0.01568627543747425,0.0117647061124444,0.003921568859368563,0.007843137718737125,0.0117647061124444,0.0,0.003921568859368563,0.003921568859368563,0.003921568859368563,0.0,0.003921568859368563,0.003921568859368563,0.003921568859368563,0.007843137718737125],[0.0,0.0,0.0,0.0,0.0,0.0,0.16470588743686676,0.20000000298023224,0.08235294371843338,0.03921568766236305,0.13725490868091583,0.2980392277240753,0.4313725531101227,0.5843137502670288,0.7529411911964417,0.9215686321258545,0.9372549057006836,0.9411764740943909,0.9686274528503418,0.9725490212440491,0.9960784316062927,0.9843137264251709,1.0,1.0,1.0,1.0,1.0,1.0,1.0,1.0,0.9882352948188782,0.9882352948188782,0.9882352948188782,0.9843137264251709,1.0,1.0,1.0,0.4627451002597809,0.47058823704719543,0.4901960790157318,0.49803921580314636,0.0,0.0,0.0,0.003921568859368563,0.003921568859368563,0.003921568859368563,0.019607843831181526,0.019607843831181526,0.0,0.0,0.0,0.003921568859368563,0.0,0.0,0.0,0.0,0.0,0.0,0.0,0.0,0.0,0.0,0.0],[0.0,0.0,0.0,0.0,0.0,0.0,0.15294118225574493,0.16862745583057404,0.062745101749897,0.03921568766236305,0.14509804546833038,0.3019607961177826,0.40784314274787903,0.5411764979362488,0.7529411911964417,0.8784313797950745,0.9372549057006836,0.9529411792755127,0.9686274528503418,0.9686274528503418,0.9843137264251709,0.9921568632125854,0.9960784316062927,1.0,1.0,1.0,0.9921568632125854,0.9882352948188782,0.9882352948188782,0.9882352948188782,0.9960784316062927,0.9960784316062927,0.9960784316062927,1.0,0.4313725531101227,0.4431372582912445,0.45490196347236633,0.003921568859368563,0.003921568859368563,0.0,0.0,0.01568627543747425,0.0117647061124444,0.0117647061124444,0.007843137718737125,0.01568627543747425,0.019607843831181526,0.019607843831181526,0.0,0.007843137718737125,0.007843137718737125,0.003921568859368563,0.0,0.0,0.0,0.0,0.0,0.0,0.0,0.0,0.0,0.0,0.0,0.0],[0.0,0.0,0.0,0.0,0.0,0.0,0.14901961386203766,0.125490203499794,0.04313725605607033,0.03921568766236305,0.14901961386203766,0.14509804546833038,0.2980392277240753,0.3843137323856354,0.5098039507865906,0.6627451181411743,0.8156862854957581,0.929411768913269,0.95686274766922,0.9607843160629272,0.9921568632125854,0.9960784316062927,0.9882352948188782,0.9921568632125854,0.9921568632125854,0.9921568632125854,0.9960784316062927,0.9960784316062927,0.9960784316062927,0.9960784316062927,0.38823530077934265,0.40392157435417175,0.40784314274787903,0.4156862795352936,0.003921568859368563,0.003921568859368563,0.003921568859368563,0.003921568859368563,0.003921568859368563,0.019607843831181526,0.019607843831181526,0.0,0.0,0.003921568859368563,0.007843137718737125,0.0,0.0,0.0,0.0117647061124444,0.0,0.0,0.0,0.0,0.0,0.0,0.0,0.0,0.0,0.0,0.0,0.0,0.0,0.0,0.0],[0.0,0.0,0.0,0.0,0.0,0.0,0.0,0.07450980693101883,0.09019608050584793,0.0470588244497776,0.0470588244497776,0.12156862765550613,0.27450981736183167,0.3686274588108063,0.49803921580314636,0.6352941393852234,0.772549033164978,0.9176470637321472,0.9529411792755127,0.9647058844566345,0.9764705896377563,0.9803921580314636,0.9960784316062927,0.9921568632125854,0.9960784316062927,0.9960784316062927,0.3490196168422699,0.3607843220233917,0.37254902720451355,0.3843137323856354,0.0,0.0,0.0,0.0,0.01568627543747425,0.01568627543747425,0.0117647061124444,0.007843137718737125,0.01568627543747425,0.019607843831181526,0.0,0.0,0.0,0.0,0.0,0.003921568859368563,0.003921568859368563,0.003921568859368563,0.0,0.0,0.0,0.0,0.0,0.0,0.0,0.0,0.0,0.0,0.0,0.0,0.0,0.0,0.0,0.0],[0.0,0.0,0.0,0.0,0.0,0.0,0.0,0.05882352963089943,0.09019608050584793,0.062745101749897,0.0470588244497776,0.08627451211214066,0.24705882370471954,0.35686275362968445,0.501960813999176,0.6274510025978088,0.7176470756530762,0.8352941274642944,0.9254902005195618,0.9960784316062927,1.0,1.0,0.9960784316062927,0.32156863808631897,0.3294117748737335,0.3294117748737335,0.0,0.0,0.0,0.0,0.0117647061124444,0.0117647061124444,0.019607843831181526,0.019607843831181526,0.0,0.003921568859368563,0.0117647061124444,0.01568627543747425,0.0,0.0,0.003921568859368563,0.003921568859368563,0.0,0.0,0.0,0.0,0.0,0.0,0.0,0.0,0.0,0.0,0.0,0.0,0.0,0.0,0.0,0.0,0.0,0.0,0.0,0.0,0.0,0.0],[0.0,0.0,0.0,0.0,0.0,0.0,0.0,0.05882352963089943,0.0941176488995552,0.07450980693101883,0.0313725508749485,0.0470588244497776,0.19607843458652496,0.33725491166114807,0.46666666865348816,0.6470588445663452,0.7254902124404907,0.7254902124404907,0.843137264251709,0.23137255012989044,0.2549019753932953,0.27450981736183167,0.29019609093666077,0.007843137718737125,0.0,0.0,0.0,0.019607843831181526,0.01568627543747425,0.01568627543747425,0.007843137718737125,0.007843137718737125,0.0,0.0,0.0,0.0,0.0,0.0,0.003921568859368563,0.003921568859368563,0.0,0.0,0.0,0.0,0.0,0.0,0.0,0.0,0.0,0.0,0.0,0.0,0.0,0.0,0.0,0.0,0.0,0.0,0.0,0.0,0.0,0.0,0.0,0.0],[0.0,0.0,0.0,0.0,0.0,0.0,0.0,0.062745101749897,0.0941176488995552,0.05882352963089943,0.05882352963089943,0.07058823853731155,0.06666667014360428,0.22745098173618317,0.3764705955982208,0.1568627506494522,0.18039216101169586,0.1882352977991104,0.2078431397676468,0.0,0.0,0.003921568859368563,0.007843137718737125,0.003921568859368563,0.027450980618596077,0.027450980618596077,0.0235294122248888,0.0,0.0,0.003921568859368563,0.007843137718737125,0.0,0.003921568859368563,0.003921568859368563,0.0,0.0,0.0,0.003921568859368563,0.0,0.0,0.0,0.0,0.0,0.0,0.0,0.0,0.0,0.0,0.0,0.0,0.0,0.0,0.0,0.0,0.0,0.0,0.0,0.0,0.0,0.0,0.0,0.0,0.0,0.0]],\"type\":\"heatmap\",\"xaxis\":\"x\",\"yaxis\":\"y\",\"hovertemplate\":\"x: %{x}<br>y: %{y}<br>color: %{z}<extra></extra>\"}],                        {\"template\":{\"data\":{\"bar\":[{\"error_x\":{\"color\":\"#2a3f5f\"},\"error_y\":{\"color\":\"#2a3f5f\"},\"marker\":{\"line\":{\"color\":\"#E5ECF6\",\"width\":0.5},\"pattern\":{\"fillmode\":\"overlay\",\"size\":10,\"solidity\":0.2}},\"type\":\"bar\"}],\"barpolar\":[{\"marker\":{\"line\":{\"color\":\"#E5ECF6\",\"width\":0.5},\"pattern\":{\"fillmode\":\"overlay\",\"size\":10,\"solidity\":0.2}},\"type\":\"barpolar\"}],\"carpet\":[{\"aaxis\":{\"endlinecolor\":\"#2a3f5f\",\"gridcolor\":\"white\",\"linecolor\":\"white\",\"minorgridcolor\":\"white\",\"startlinecolor\":\"#2a3f5f\"},\"baxis\":{\"endlinecolor\":\"#2a3f5f\",\"gridcolor\":\"white\",\"linecolor\":\"white\",\"minorgridcolor\":\"white\",\"startlinecolor\":\"#2a3f5f\"},\"type\":\"carpet\"}],\"choropleth\":[{\"colorbar\":{\"outlinewidth\":0,\"ticks\":\"\"},\"type\":\"choropleth\"}],\"contour\":[{\"colorbar\":{\"outlinewidth\":0,\"ticks\":\"\"},\"colorscale\":[[0.0,\"#0d0887\"],[0.1111111111111111,\"#46039f\"],[0.2222222222222222,\"#7201a8\"],[0.3333333333333333,\"#9c179e\"],[0.4444444444444444,\"#bd3786\"],[0.5555555555555556,\"#d8576b\"],[0.6666666666666666,\"#ed7953\"],[0.7777777777777778,\"#fb9f3a\"],[0.8888888888888888,\"#fdca26\"],[1.0,\"#f0f921\"]],\"type\":\"contour\"}],\"contourcarpet\":[{\"colorbar\":{\"outlinewidth\":0,\"ticks\":\"\"},\"type\":\"contourcarpet\"}],\"heatmap\":[{\"colorbar\":{\"outlinewidth\":0,\"ticks\":\"\"},\"colorscale\":[[0.0,\"#0d0887\"],[0.1111111111111111,\"#46039f\"],[0.2222222222222222,\"#7201a8\"],[0.3333333333333333,\"#9c179e\"],[0.4444444444444444,\"#bd3786\"],[0.5555555555555556,\"#d8576b\"],[0.6666666666666666,\"#ed7953\"],[0.7777777777777778,\"#fb9f3a\"],[0.8888888888888888,\"#fdca26\"],[1.0,\"#f0f921\"]],\"type\":\"heatmap\"}],\"heatmapgl\":[{\"colorbar\":{\"outlinewidth\":0,\"ticks\":\"\"},\"colorscale\":[[0.0,\"#0d0887\"],[0.1111111111111111,\"#46039f\"],[0.2222222222222222,\"#7201a8\"],[0.3333333333333333,\"#9c179e\"],[0.4444444444444444,\"#bd3786\"],[0.5555555555555556,\"#d8576b\"],[0.6666666666666666,\"#ed7953\"],[0.7777777777777778,\"#fb9f3a\"],[0.8888888888888888,\"#fdca26\"],[1.0,\"#f0f921\"]],\"type\":\"heatmapgl\"}],\"histogram\":[{\"marker\":{\"pattern\":{\"fillmode\":\"overlay\",\"size\":10,\"solidity\":0.2}},\"type\":\"histogram\"}],\"histogram2d\":[{\"colorbar\":{\"outlinewidth\":0,\"ticks\":\"\"},\"colorscale\":[[0.0,\"#0d0887\"],[0.1111111111111111,\"#46039f\"],[0.2222222222222222,\"#7201a8\"],[0.3333333333333333,\"#9c179e\"],[0.4444444444444444,\"#bd3786\"],[0.5555555555555556,\"#d8576b\"],[0.6666666666666666,\"#ed7953\"],[0.7777777777777778,\"#fb9f3a\"],[0.8888888888888888,\"#fdca26\"],[1.0,\"#f0f921\"]],\"type\":\"histogram2d\"}],\"histogram2dcontour\":[{\"colorbar\":{\"outlinewidth\":0,\"ticks\":\"\"},\"colorscale\":[[0.0,\"#0d0887\"],[0.1111111111111111,\"#46039f\"],[0.2222222222222222,\"#7201a8\"],[0.3333333333333333,\"#9c179e\"],[0.4444444444444444,\"#bd3786\"],[0.5555555555555556,\"#d8576b\"],[0.6666666666666666,\"#ed7953\"],[0.7777777777777778,\"#fb9f3a\"],[0.8888888888888888,\"#fdca26\"],[1.0,\"#f0f921\"]],\"type\":\"histogram2dcontour\"}],\"mesh3d\":[{\"colorbar\":{\"outlinewidth\":0,\"ticks\":\"\"},\"type\":\"mesh3d\"}],\"parcoords\":[{\"line\":{\"colorbar\":{\"outlinewidth\":0,\"ticks\":\"\"}},\"type\":\"parcoords\"}],\"pie\":[{\"automargin\":true,\"type\":\"pie\"}],\"scatter\":[{\"marker\":{\"colorbar\":{\"outlinewidth\":0,\"ticks\":\"\"}},\"type\":\"scatter\"}],\"scatter3d\":[{\"line\":{\"colorbar\":{\"outlinewidth\":0,\"ticks\":\"\"}},\"marker\":{\"colorbar\":{\"outlinewidth\":0,\"ticks\":\"\"}},\"type\":\"scatter3d\"}],\"scattercarpet\":[{\"marker\":{\"colorbar\":{\"outlinewidth\":0,\"ticks\":\"\"}},\"type\":\"scattercarpet\"}],\"scattergeo\":[{\"marker\":{\"colorbar\":{\"outlinewidth\":0,\"ticks\":\"\"}},\"type\":\"scattergeo\"}],\"scattergl\":[{\"marker\":{\"colorbar\":{\"outlinewidth\":0,\"ticks\":\"\"}},\"type\":\"scattergl\"}],\"scattermapbox\":[{\"marker\":{\"colorbar\":{\"outlinewidth\":0,\"ticks\":\"\"}},\"type\":\"scattermapbox\"}],\"scatterpolar\":[{\"marker\":{\"colorbar\":{\"outlinewidth\":0,\"ticks\":\"\"}},\"type\":\"scatterpolar\"}],\"scatterpolargl\":[{\"marker\":{\"colorbar\":{\"outlinewidth\":0,\"ticks\":\"\"}},\"type\":\"scatterpolargl\"}],\"scatterternary\":[{\"marker\":{\"colorbar\":{\"outlinewidth\":0,\"ticks\":\"\"}},\"type\":\"scatterternary\"}],\"surface\":[{\"colorbar\":{\"outlinewidth\":0,\"ticks\":\"\"},\"colorscale\":[[0.0,\"#0d0887\"],[0.1111111111111111,\"#46039f\"],[0.2222222222222222,\"#7201a8\"],[0.3333333333333333,\"#9c179e\"],[0.4444444444444444,\"#bd3786\"],[0.5555555555555556,\"#d8576b\"],[0.6666666666666666,\"#ed7953\"],[0.7777777777777778,\"#fb9f3a\"],[0.8888888888888888,\"#fdca26\"],[1.0,\"#f0f921\"]],\"type\":\"surface\"}],\"table\":[{\"cells\":{\"fill\":{\"color\":\"#EBF0F8\"},\"line\":{\"color\":\"white\"}},\"header\":{\"fill\":{\"color\":\"#C8D4E3\"},\"line\":{\"color\":\"white\"}},\"type\":\"table\"}]},\"layout\":{\"annotationdefaults\":{\"arrowcolor\":\"#2a3f5f\",\"arrowhead\":0,\"arrowwidth\":1},\"autotypenumbers\":\"strict\",\"coloraxis\":{\"colorbar\":{\"outlinewidth\":0,\"ticks\":\"\"}},\"colorscale\":{\"diverging\":[[0,\"#8e0152\"],[0.1,\"#c51b7d\"],[0.2,\"#de77ae\"],[0.3,\"#f1b6da\"],[0.4,\"#fde0ef\"],[0.5,\"#f7f7f7\"],[0.6,\"#e6f5d0\"],[0.7,\"#b8e186\"],[0.8,\"#7fbc41\"],[0.9,\"#4d9221\"],[1,\"#276419\"]],\"sequential\":[[0.0,\"#0d0887\"],[0.1111111111111111,\"#46039f\"],[0.2222222222222222,\"#7201a8\"],[0.3333333333333333,\"#9c179e\"],[0.4444444444444444,\"#bd3786\"],[0.5555555555555556,\"#d8576b\"],[0.6666666666666666,\"#ed7953\"],[0.7777777777777778,\"#fb9f3a\"],[0.8888888888888888,\"#fdca26\"],[1.0,\"#f0f921\"]],\"sequentialminus\":[[0.0,\"#0d0887\"],[0.1111111111111111,\"#46039f\"],[0.2222222222222222,\"#7201a8\"],[0.3333333333333333,\"#9c179e\"],[0.4444444444444444,\"#bd3786\"],[0.5555555555555556,\"#d8576b\"],[0.6666666666666666,\"#ed7953\"],[0.7777777777777778,\"#fb9f3a\"],[0.8888888888888888,\"#fdca26\"],[1.0,\"#f0f921\"]]},\"colorway\":[\"#636efa\",\"#EF553B\",\"#00cc96\",\"#ab63fa\",\"#FFA15A\",\"#19d3f3\",\"#FF6692\",\"#B6E880\",\"#FF97FF\",\"#FECB52\"],\"font\":{\"color\":\"#2a3f5f\"},\"geo\":{\"bgcolor\":\"white\",\"lakecolor\":\"white\",\"landcolor\":\"#E5ECF6\",\"showlakes\":true,\"showland\":true,\"subunitcolor\":\"white\"},\"hoverlabel\":{\"align\":\"left\"},\"hovermode\":\"closest\",\"mapbox\":{\"style\":\"light\"},\"paper_bgcolor\":\"white\",\"plot_bgcolor\":\"#E5ECF6\",\"polar\":{\"angularaxis\":{\"gridcolor\":\"white\",\"linecolor\":\"white\",\"ticks\":\"\"},\"bgcolor\":\"#E5ECF6\",\"radialaxis\":{\"gridcolor\":\"white\",\"linecolor\":\"white\",\"ticks\":\"\"}},\"scene\":{\"xaxis\":{\"backgroundcolor\":\"#E5ECF6\",\"gridcolor\":\"white\",\"gridwidth\":2,\"linecolor\":\"white\",\"showbackground\":true,\"ticks\":\"\",\"zerolinecolor\":\"white\"},\"yaxis\":{\"backgroundcolor\":\"#E5ECF6\",\"gridcolor\":\"white\",\"gridwidth\":2,\"linecolor\":\"white\",\"showbackground\":true,\"ticks\":\"\",\"zerolinecolor\":\"white\"},\"zaxis\":{\"backgroundcolor\":\"#E5ECF6\",\"gridcolor\":\"white\",\"gridwidth\":2,\"linecolor\":\"white\",\"showbackground\":true,\"ticks\":\"\",\"zerolinecolor\":\"white\"}},\"shapedefaults\":{\"line\":{\"color\":\"#2a3f5f\"}},\"ternary\":{\"aaxis\":{\"gridcolor\":\"white\",\"linecolor\":\"white\",\"ticks\":\"\"},\"baxis\":{\"gridcolor\":\"white\",\"linecolor\":\"white\",\"ticks\":\"\"},\"bgcolor\":\"#E5ECF6\",\"caxis\":{\"gridcolor\":\"white\",\"linecolor\":\"white\",\"ticks\":\"\"}},\"title\":{\"x\":0.05},\"xaxis\":{\"automargin\":true,\"gridcolor\":\"white\",\"linecolor\":\"white\",\"ticks\":\"\",\"title\":{\"standoff\":15},\"zerolinecolor\":\"white\",\"zerolinewidth\":2},\"yaxis\":{\"automargin\":true,\"gridcolor\":\"white\",\"linecolor\":\"white\",\"ticks\":\"\",\"title\":{\"standoff\":15},\"zerolinecolor\":\"white\",\"zerolinewidth\":2}}},\"xaxis\":{\"anchor\":\"y\",\"domain\":[0.0,1.0],\"scaleanchor\":\"y\",\"constrain\":\"domain\"},\"yaxis\":{\"anchor\":\"x\",\"domain\":[0.0,1.0],\"autorange\":\"reversed\",\"constrain\":\"domain\"},\"coloraxis\":{\"colorscale\":[[0.0,\"#0d0887\"],[0.1111111111111111,\"#46039f\"],[0.2222222222222222,\"#7201a8\"],[0.3333333333333333,\"#9c179e\"],[0.4444444444444444,\"#bd3786\"],[0.5555555555555556,\"#d8576b\"],[0.6666666666666666,\"#ed7953\"],[0.7777777777777778,\"#fb9f3a\"],[0.8888888888888888,\"#fdca26\"],[1.0,\"#f0f921\"]]},\"margin\":{\"t\":60}},                        {\"responsive\": true}                    ).then(function(){\n",
              "                            \n",
              "var gd = document.getElementById('d7c6f28c-38b5-469f-a9b9-7c1113562f9b');\n",
              "var x = new MutationObserver(function (mutations, observer) {{\n",
              "        var display = window.getComputedStyle(gd).display;\n",
              "        if (!display || display === 'none') {{\n",
              "            console.log([gd, 'removed!']);\n",
              "            Plotly.purge(gd);\n",
              "            observer.disconnect();\n",
              "        }}\n",
              "}});\n",
              "\n",
              "// Listen for the removal of the full notebook cells\n",
              "var notebookContainer = gd.closest('#notebook-container');\n",
              "if (notebookContainer) {{\n",
              "    x.observe(notebookContainer, {childList: true});\n",
              "}}\n",
              "\n",
              "// Listen for the clearing of the current output cell\n",
              "var outputEl = gd.closest('.output');\n",
              "if (outputEl) {{\n",
              "    x.observe(outputEl, {childList: true});\n",
              "}}\n",
              "\n",
              "                        })                };                            </script>        </div>\n",
              "</body>\n",
              "</html>"
            ]
          },
          "metadata": {}
        }
      ],
      "source": [
        "data_test= iter(dataset)\n",
        "example_image = next(data_test)\n",
        "\n",
        "# Utilice plotly para plotear un ejemplo\n",
        "#example_image[0][0,:,:].shape\n",
        "img_ex = px.imshow(example_image[0][0,:,:])\n",
        "img_ex.show()"
      ]
    },
    {
      "cell_type": "code",
      "source": [
        "example_image[0][:,:,:].shape"
      ],
      "metadata": {
        "colab": {
          "base_uri": "https://localhost:8080/"
        },
        "id": "zEMES1KDelT3",
        "outputId": "f3e06bdc-3c79-4e13-881b-f26f483cc00f"
      },
      "execution_count": 10,
      "outputs": [
        {
          "output_type": "execute_result",
          "data": {
            "text/plain": [
              "torch.Size([3, 64, 64])"
            ]
          },
          "metadata": {},
          "execution_count": 10
        }
      ]
    },
    {
      "cell_type": "markdown",
      "metadata": {
        "id": "c5E2pPOcCNtx"
      },
      "source": [
        "> Comente que realiza la clase construida y las transformaciones aplicadas."
      ]
    },
    {
      "cell_type": "markdown",
      "metadata": {
        "id": "GFk-4Ie0CNty"
      },
      "source": [
        "## 1.4 Creación de Clasificadores\n",
        "\n",
        "<p align=\"center\">\n",
        "  <img src=\"https://149695847.v2.pressablecdn.com/wp-content/uploads/2018/01/conv-full-layer.gif\" width=\"300\">\n",
        "</p>\n",
        "\n",
        "A continuación, deben construir tres clasificadores con los que deberán verificar cuál de las arquitecturas posee un mejor desempeño para la tarea de clasificación de imágenes. Para la construcción considere los siguientes puntos:\n",
        "\n",
        "- [ ] Señale cual es el objetivo del `forward` en este tipo de redes, sea breve para su explicación.\n",
        "- [ ] Construir una red Fully Connected para solucionar el problema de clasificación. Para esta parte se le aconseja que rellene el esqueleto dispuesto más abajo y que lleva el nombre de `FCClassifier`, en el deberá rellenar con la dimensión de las capas ocultas y verificar cual será el tamaño de la entrada.\n",
        "- [ ] Construya una red convolucional **simple** (no más de una capa convolucional) para la tarea de clasificación de imágenes, para esto basen su código en la clase del día `09-11-2022`.\n",
        "- [ ] Crear una red convolucional más compleja. Para esta parte tienen completa libertad en la construcción de su red, lo único que debe cumplir es que sea convolucional.\n",
        "\n",
        "**Esqueletos Propuestos:**"
      ]
    },
    {
      "cell_type": "code",
      "execution_count": 11,
      "metadata": {
        "id": "UlM_h88oCNty"
      },
      "outputs": [],
      "source": [
        "class FCClassifier(nn.Module):\n",
        "    def __init__(self, in_channels, hidden_size, num_classes):\n",
        "        super(FCClassifier, self).__init__()\n",
        "        #self.flatten = nn.Flatten()\n",
        "        self.lin1 = nn.Linear(in_channels, hidden_size)\n",
        "        self.relu = nn.ReLU()\n",
        "        self.lin2 = nn.Linear(hidden_size, num_classes)\n",
        "        \n",
        "    def forward(self, x):\n",
        "        #out = self.flatten(x)\n",
        "        out = x.view(x.size(0), -1)\n",
        "        out = self.lin1(out)\n",
        "        out = self.relu(out)\n",
        "        out = self.lin2(out)\n",
        "\n",
        "        return out"
      ]
    },
    {
      "cell_type": "code",
      "execution_count": 12,
      "metadata": {
        "id": "psV6rFAcCNty"
      },
      "outputs": [],
      "source": [
        "class CNNClassifier1(nn.Module):\n",
        "    def __init__(self, in_channels,num_classes):\n",
        "        super(CNNClassifier1, self).__init__()\n",
        "\n",
        "        self.layer1 = nn.Sequential(\n",
        "            nn.Conv2d(in_channels=in_channels, out_channels=6, kernel_size=3, padding=1),\n",
        "            nn.BatchNorm2d(6),\n",
        "            nn.ReLU(),\n",
        "            nn.MaxPool2d(kernel_size=2, stride=2),\n",
        "        )\n",
        "\n",
        "\n",
        "        self.fc1 = nn.Linear(in_features=6144, out_features=40)\n",
        "        self.relu_1 = nn.ReLU()\n",
        "        self.drop = nn.Dropout(0.25)\n",
        "        self.fc2 = nn.Linear(in_features=40, out_features=32)\n",
        "        self.relu_2 = nn.ReLU()\n",
        "        self.fc3 = nn.Linear(in_features=32, out_features=num_classes)\n",
        "    def forward(self, x):\n",
        "        out = self.layer1(x)\n",
        "        out = out.view(out.size(0), -1)\n",
        "        out = self.fc1(out)\n",
        "        out = self.relu_1(out)\n",
        "        out = self.drop(out)\n",
        "        out = self.fc2(out)\n",
        "        out = self.relu_2(out)\n",
        "        out = self.fc3(out)\n",
        "        # noten que al optimizar con CrossEntropyLoss no necesitamos que la salida sea probabilidad.\n",
        "        # es decir, no necesitamos poner un softmax previo a la salida\n",
        "        return out\n",
        "\n",
        "class CNNClassifier2(nn.Module):\n",
        "    def __init__(self, in_channels,num_classes):\n",
        "        super(CNNClassifier2, self).__init__()\n",
        "\n",
        "        self.layer1 = nn.Sequential(\n",
        "            nn.Conv2d(in_channels=in_channels, out_channels=16, kernel_size=3, padding=1),\n",
        "            nn.BatchNorm2d(16),\n",
        "            nn.ReLU(),\n",
        "            nn.MaxPool2d(kernel_size=2, stride=2),\n",
        "        )\n",
        "        self.layer2 = nn.Sequential(\n",
        "            nn.Conv2d(in_channels=16, out_channels=32, kernel_size=3, padding=1),\n",
        "            nn.BatchNorm2d(32),\n",
        "            nn.ReLU(),\n",
        "            nn.MaxPool2d(kernel_size=2, stride=2),\n",
        "        )\n",
        "        self.layer3 = nn.Sequential(\n",
        "            nn.Conv2d(in_channels=32, out_channels=64, kernel_size=3, padding=1),\n",
        "            nn.BatchNorm2d(64),\n",
        "            nn.ReLU(),\n",
        "            nn.MaxPool2d(kernel_size=2, stride=2),\n",
        "        )\n",
        "\n",
        "\n",
        "        self.fc1 = nn.Linear(in_features=4096, out_features=64)\n",
        "        self.relu_1 = nn.ReLU()\n",
        "        self.drop = nn.Dropout(0.25)\n",
        "        self.fc2 = nn.Linear(in_features=64, out_features=32)\n",
        "        self.relu_2 = nn.ReLU()\n",
        "        self.fc3 = nn.Linear(in_features=32, out_features=num_classes)\n",
        "    def forward(self, x):\n",
        "        out = self.layer1(x)\n",
        "        out = self.layer2(out)\n",
        "        out = self.layer3(out)\n",
        "        out = out.view(out.size(0), -1)\n",
        "        out = self.fc1(out)\n",
        "        out = self.relu_1(out)\n",
        "        out = self.drop(out)\n",
        "        out = self.fc2(out)\n",
        "        out = self.relu_2(out)\n",
        "        out = self.fc3(out)\n",
        "        # noten que al optimizar con CrossEntropyLoss no necesitamos que la salida sea probabilidad.\n",
        "        # es decir, no necesitamos poner un softmax previo a la salida\n",
        "        return out"
      ]
    },
    {
      "cell_type": "markdown",
      "metadata": {
        "id": "JuXoU_ClCNty"
      },
      "source": [
        "## 1.5 Separando Datos para el Entrenamiento\n",
        "\n",
        "<p align=\"center\">\n",
        "  <img src=\"https://c.tenor.com/Esn7Jif-ZLQAAAAC/separate-square.gif\" width=\"200\">\n",
        "</p>\n",
        "\n",
        "Utilizando un Holdout a su gusto, separe los datos en un conjunto de entrenamiento y de testing. Aplique las transformaciones correspondientes usando `transform_image` para cada conjunto de datos y utilice `torch.utils.data.DataLoader` para crear un objeto iterable del dataset.\n",
        "\n",
        "- [ ] Definir el Holdout a utilizar.\n",
        "- [ ] Separar los datos en un conjunto de entrenamiento y prueba.\n",
        "- [ ] Aplicar las transformaciones correspondientes en cada uno de los dataset.\n",
        "- [ ] Utilizar `DataLoader` de pytorch sobre los dataset."
      ]
    },
    {
      "cell_type": "code",
      "source": [
        "len(dataset)"
      ],
      "metadata": {
        "colab": {
          "base_uri": "https://localhost:8080/"
        },
        "id": "iLhv1XRSTwi2",
        "outputId": "48439d97-9035-4899-850e-7e0eb5d399c3"
      },
      "execution_count": 13,
      "outputs": [
        {
          "output_type": "execute_result",
          "data": {
            "text/plain": [
              "5948"
            ]
          },
          "metadata": {},
          "execution_count": 13
        }
      ]
    },
    {
      "cell_type": "code",
      "source": [
        "from sklearn.model_selection import train_test_split\n",
        "train_df, test_df = train_test_split(df_labels, test_size = 0.2, random_state=123)"
      ],
      "metadata": {
        "id": "DCFhN-YfLBT0"
      },
      "execution_count": 14,
      "outputs": []
    },
    {
      "cell_type": "code",
      "execution_count": 15,
      "metadata": {
        "id": "otwRRYW1CNty"
      },
      "outputs": [],
      "source": [
        "# Separar Datos de Entrenamiento\n",
        "train_data = MedicalDataset(df_estructura = train_df, raiz_carpeta = \"/content/drive/MyDrive/MDS7202_LPCPCD/Lab 9/Medical-MNIST/\", transform = transform_image(\"train\"))\n",
        "test_data  = MedicalDataset(df_estructura = test_df, raiz_carpeta = \"/content/drive/MyDrive/MDS7202_LPCPCD/Lab 9/Medical-MNIST/\", transform = transform_image(\"test\"))"
      ]
    },
    {
      "cell_type": "code",
      "execution_count": 16,
      "metadata": {
        "id": "EDw5X6umCNty"
      },
      "outputs": [],
      "source": [
        "# Uso de torch.utils.data.DataLoader\n",
        "train_loader = DataLoader(train_data, batch_size=200, shuffle=True)\n",
        "test_loader = DataLoader(test_data, batch_size=200,shuffle=True)"
      ]
    },
    {
      "cell_type": "markdown",
      "metadata": {
        "id": "fGXC0CeUCNty"
      },
      "source": [
        "## 1.6 Creación de Funciones de Entrenamiento y Evaluación\n",
        "\n",
        "<p align=\"center\">\n",
        "  <img src=\"https://www.researchgate.net/publication/319535615/figure/fig3/AS:536187598065664@1504848493070/A-typical-convolutional-neural-network-CNN-Architecture-for-Medical-Image-Classification.png\" width=\"500\">\n",
        "</p>\n",
        "\n",
        "\n",
        "Ya construido todas las funciones y clases necesarias llego el momento más importante... probar la red. Para esta sección, ustedes deberán ser capaces de definir los hiperparámetros de la red, definir las funciones de perdida a utilizar, señalar el optimizador a usar y finalmente crear sus funciones para el entrenamiento y prueba. Para realizar esta parte más estructurada, seguir los siguientes puntos de forma secuencial:\n",
        "\n",
        "- [ ] Especifique los Hiperparámetros de las 3 redes. Para esta parte sea claro de su elección y señale el porqué de sus elecciones (o sea justifique el setting de sus hiperparámetros).\n",
        "- [ ] Defina los modelos a utilizar, el optimizador que utilizará para el modelo y señale la función de perdida que utilizará.\n",
        "- [ ] Explique de forma breve la función que cumplen los pasos `Backward` y `Descenso del gradiente` en una red neuronal.\n",
        "- [ ] Cree una función llamado `train` que entrene a los clasificadores. Para esto, recuerde que estos modelos suelen utilizar un número de épocas, por lo que deberá generar un proceso iterativo de entrenamiento. Es importante que su función imprima las `loss` obtenidas por el modelo en cada época (si gusta puede almacenar estas losses en una lista para luego graficarlas y comparar).\n",
        "- [ ] Diseñe una función para evaluar el desempeño de las redes. Para evaluar las redes utilice solamente la métrica accuracy (para esto se le recomienda comparar la predicción con el ground truth)"
      ]
    },
    {
      "cell_type": "code",
      "execution_count": 28,
      "metadata": {
        "id": "y4zWpCUJCNty"
      },
      "outputs": [],
      "source": [
        "# Especificar hyperparámetros de las redes\n",
        "device = torch.device('cuda' if torch.cuda.is_available() else 'cpu')\n",
        "\n",
        "in_channels_fc = 3*64*64\n",
        "hidden_size_fc = 32\n",
        "in_channels_cnn = 3\n",
        "num_classes = 6\n",
        "lr = 0.001\n",
        "batch_size = 200\n",
        "n_epochs = 5"
      ]
    },
    {
      "cell_type": "code",
      "source": [
        "def count_parameters(model):\n",
        "    params = [p.numel() for p in model.parameters() if p.requires_grad]\n",
        "    for item in params:\n",
        "        print(f'{item:>8}')\n",
        "    print(f'________\\n{sum(params):>8}')"
      ],
      "metadata": {
        "id": "bX9Qwww_ZEkE"
      },
      "execution_count": 18,
      "outputs": []
    },
    {
      "cell_type": "code",
      "execution_count": 29,
      "metadata": {
        "id": "ntIvXc2-CNty"
      },
      "outputs": [],
      "source": [
        "# Red 1\n",
        "model_fc = FCClassifier(in_channels_fc,hidden_size_fc,num_classes).to(device)\n",
        "\n",
        "# Loss and optimizer\n",
        "criterion = nn.CrossEntropyLoss()\n",
        "optimizer = optim.Adam(model_fc.parameters(),lr=lr)"
      ]
    },
    {
      "cell_type": "code",
      "source": [
        "count_parameters(model_fc)"
      ],
      "metadata": {
        "colab": {
          "base_uri": "https://localhost:8080/"
        },
        "id": "K-Vkbe-tZGMr",
        "outputId": "c4060312-6497-4107-90e2-4cc64f3ad000"
      },
      "execution_count": 30,
      "outputs": [
        {
          "output_type": "stream",
          "name": "stdout",
          "text": [
            "  393216\n",
            "      32\n",
            "     192\n",
            "       6\n",
            "________\n",
            "  393446\n"
          ]
        }
      ]
    },
    {
      "cell_type": "code",
      "source": [
        "# Red 2\n",
        "model_cnn_1 = CNNClassifier1(in_channels_cnn,num_classes).to(device)\n",
        "\n",
        "# Loss and optimizer\n",
        "criterion_1 = nn.CrossEntropyLoss()\n",
        "optimizer_1 = optim.Adam(model_cnn_1.parameters(),lr=lr)"
      ],
      "metadata": {
        "id": "eCi7p9UfAcV7"
      },
      "execution_count": 21,
      "outputs": []
    },
    {
      "cell_type": "code",
      "source": [
        "count_parameters(model_cnn_1)"
      ],
      "metadata": {
        "colab": {
          "base_uri": "https://localhost:8080/"
        },
        "id": "3Wpzp9X_ZMvW",
        "outputId": "faa92849-08ae-4f09-9cdd-c7e8d364aba9"
      },
      "execution_count": 22,
      "outputs": [
        {
          "output_type": "stream",
          "name": "stdout",
          "text": [
            "     162\n",
            "       6\n",
            "       6\n",
            "       6\n",
            "  245760\n",
            "      40\n",
            "    1280\n",
            "      32\n",
            "     192\n",
            "       6\n",
            "________\n",
            "  247490\n"
          ]
        }
      ]
    },
    {
      "cell_type": "code",
      "source": [
        "# Red 3\n",
        "model_cnn_2 = CNNClassifier2(in_channels_cnn,num_classes).to(device)\n",
        "\n",
        "# Loss and optimizer\n",
        "criterion_2 = nn.CrossEntropyLoss()\n",
        "optimizer_2 = optim.Adam(model_cnn_2.parameters(),lr=lr)"
      ],
      "metadata": {
        "id": "kqFLTHIXAePs"
      },
      "execution_count": 23,
      "outputs": []
    },
    {
      "cell_type": "code",
      "source": [
        "count_parameters(model_cnn_2)"
      ],
      "metadata": {
        "colab": {
          "base_uri": "https://localhost:8080/"
        },
        "id": "DtCBEE_0ZUQU",
        "outputId": "610532d3-6e9c-44a2-e9df-e58c4c577a7f"
      },
      "execution_count": 24,
      "outputs": [
        {
          "output_type": "stream",
          "name": "stdout",
          "text": [
            "     432\n",
            "      16\n",
            "      16\n",
            "      16\n",
            "    4608\n",
            "      32\n",
            "      32\n",
            "      32\n",
            "   18432\n",
            "      64\n",
            "      64\n",
            "      64\n",
            "  262144\n",
            "      64\n",
            "    2048\n",
            "      32\n",
            "     192\n",
            "       6\n",
            "________\n",
            "  288294\n"
          ]
        }
      ]
    },
    {
      "cell_type": "code",
      "source": [
        "model_cnn_1"
      ],
      "metadata": {
        "colab": {
          "base_uri": "https://localhost:8080/"
        },
        "id": "75OYUYdp8bCy",
        "outputId": "a75756e6-171d-4b6d-cc8b-6a557d4a6b66"
      },
      "execution_count": 25,
      "outputs": [
        {
          "output_type": "execute_result",
          "data": {
            "text/plain": [
              "CNNClassifier1(\n",
              "  (layer1): Sequential(\n",
              "    (0): Conv2d(3, 6, kernel_size=(3, 3), stride=(1, 1), padding=(1, 1))\n",
              "    (1): BatchNorm2d(6, eps=1e-05, momentum=0.1, affine=True, track_running_stats=True)\n",
              "    (2): ReLU()\n",
              "    (3): MaxPool2d(kernel_size=2, stride=2, padding=0, dilation=1, ceil_mode=False)\n",
              "  )\n",
              "  (fc1): Linear(in_features=6144, out_features=40, bias=True)\n",
              "  (relu_1): ReLU()\n",
              "  (drop): Dropout(p=0.25, inplace=False)\n",
              "  (fc2): Linear(in_features=40, out_features=32, bias=True)\n",
              "  (relu_2): ReLU()\n",
              "  (fc3): Linear(in_features=32, out_features=6, bias=True)\n",
              ")"
            ]
          },
          "metadata": {},
          "execution_count": 25
        }
      ]
    },
    {
      "cell_type": "code",
      "execution_count": 26,
      "metadata": {
        "id": "AvbfloSNCNty"
      },
      "outputs": [],
      "source": [
        "# train\n",
        "def train(model, train_loader, num_epochs, criterion, optimizer):\n",
        "    for e in range(n_epochs):\n",
        "        for i, (data, label) in enumerate(train_loader):\n",
        "            data = data.to(device=device)\n",
        "            targets = label.to(device=device)\n",
        "            \n",
        "            #Forward\n",
        "            outputs = model(data)\n",
        "            loss = criterion(outputs, targets)\n",
        "            \n",
        "            #Backward\n",
        "            optimizer.zero_grad()\n",
        "            loss.backward()\n",
        "            \n",
        "            # Descenso del gradiente\n",
        "            optimizer.step()\n",
        "\n",
        "            if i%200==0:\n",
        "              print(f\"epoch: {e} loss: {loss} batch: {i}\")\n",
        "            # testeo del modelo en proceso de entrenamiento\n",
        "        print(f\"epoch: {e} loss: {loss}\")\n",
        "# Evaluate\n",
        "def evaluate(test_loader, model):\n",
        "    correctas = 0\n",
        "    total = 0\n",
        "    model.eval()\n",
        "    with torch.no_grad():\n",
        "        for X,y in test_loader:\n",
        "          X = X.to(device=device)\n",
        "          y = y.to(device=device)\n",
        "\n",
        "          scores = model(X)\n",
        "\n",
        "          pred = scores.max(1)[1]\n",
        "          correctas += (pred == y).sum()\n",
        "          total += pred.size(0)\n",
        "        print(f\"Accuracy: {correctas/total*100}%\")"
      ]
    },
    {
      "cell_type": "markdown",
      "metadata": {
        "id": "0JtFC7p0CNtz"
      },
      "source": [
        "## 1.7 Comparación de Resultados\n",
        "\n",
        "<p align=\"center\">\n",
        "  <img src=\"https://media2.giphy.com/media/icJA0VF7ntoEL18Jez/giphy.gif\"  width=\"200\">\n",
        "</p>\n",
        "\n",
        "Construidas las funciones de entrenamiento y evaluación, entrene a las redes que construyo y compare los resultados obtenidos con todas las redes señalando cual posee mejor rendimiento. Comente una diferencia entre las redes Fully Connected y CNN podría generar un mejor desempeño en una u otra en la tarea de clasificación de imágenes.\n",
        "\n",
        "- [ ] Entrenar las redes.\n",
        "- [ ] Evaluar las redes.\n",
        "- [ ] Comentar los resultados obtenidos y visualizar si existe una diferencia significativa en el rendimiento debido a la naturaleza de la red."
      ]
    },
    {
      "cell_type": "code",
      "execution_count": 31,
      "metadata": {
        "colab": {
          "base_uri": "https://localhost:8080/"
        },
        "id": "TmNwjXawCNtz",
        "outputId": "693dbcd3-753b-4983-8272-05540acc838d"
      },
      "outputs": [
        {
          "output_type": "stream",
          "name": "stdout",
          "text": [
            "epoch: 0 loss: 1.774779200553894 batch: 0\n",
            "epoch: 0 loss: 0.4188772737979889\n",
            "epoch: 1 loss: 0.4124292731285095 batch: 0\n",
            "epoch: 1 loss: 0.3398815095424652\n",
            "epoch: 2 loss: 0.2963653802871704 batch: 0\n",
            "epoch: 2 loss: 0.20721213519573212\n",
            "epoch: 3 loss: 0.24453258514404297 batch: 0\n",
            "epoch: 3 loss: 0.28069525957107544\n",
            "epoch: 4 loss: 0.16786926984786987 batch: 0\n",
            "epoch: 4 loss: 0.14956210553646088\n"
          ]
        }
      ],
      "source": [
        "# Entrenamiento red 1\n",
        "train(model_fc, train_loader, n_epochs, criterion, optimizer)"
      ]
    },
    {
      "cell_type": "code",
      "source": [
        "# Testing red 1\n",
        "evaluate(test_loader, model_fc)"
      ],
      "metadata": {
        "id": "SM6OPMi7caF5",
        "colab": {
          "base_uri": "https://localhost:8080/"
        },
        "outputId": "e7ae1735-864c-4e0d-a26d-714f63077537"
      },
      "execution_count": 32,
      "outputs": [
        {
          "output_type": "stream",
          "name": "stdout",
          "text": [
            "Accuracy: 94.87395477294922%\n"
          ]
        }
      ]
    },
    {
      "cell_type": "code",
      "source": [
        "# Entrenamiento red 2\n",
        "train(model_cnn_1, train_loader, n_epochs, criterion_1, optimizer_1)"
      ],
      "metadata": {
        "id": "pXFfrKXGcx_K",
        "colab": {
          "base_uri": "https://localhost:8080/"
        },
        "outputId": "ce5360b9-3fd3-4618-a7db-9e839b1b1203"
      },
      "execution_count": 33,
      "outputs": [
        {
          "output_type": "stream",
          "name": "stdout",
          "text": [
            "epoch: 0 loss: 1.7974787950515747 batch: 0\n",
            "epoch: 0 loss: 0.34788578748703003\n",
            "epoch: 1 loss: 0.44516944885253906 batch: 0\n",
            "epoch: 1 loss: 0.2630845904350281\n",
            "epoch: 2 loss: 0.17768435180187225 batch: 0\n",
            "epoch: 2 loss: 0.11434551328420639\n",
            "epoch: 3 loss: 0.08117161691188812 batch: 0\n",
            "epoch: 3 loss: 0.151793971657753\n",
            "epoch: 4 loss: 0.06538262218236923 batch: 0\n",
            "epoch: 4 loss: 0.12267723679542542\n"
          ]
        }
      ]
    },
    {
      "cell_type": "code",
      "source": [
        "# testing red 2\n",
        "evaluate(test_loader, model_cnn_1)"
      ],
      "metadata": {
        "id": "AZCPnAeMc1v_",
        "colab": {
          "base_uri": "https://localhost:8080/"
        },
        "outputId": "a8f60297-3d8e-4955-a41d-ea2306a61d75"
      },
      "execution_count": 34,
      "outputs": [
        {
          "output_type": "stream",
          "name": "stdout",
          "text": [
            "Accuracy: 94.2016830444336%\n"
          ]
        }
      ]
    },
    {
      "cell_type": "code",
      "source": [
        "# Entrenamiento red 3\n",
        "train(model_cnn_2, train_loader, n_epochs, criterion_2, optimizer_2)"
      ],
      "metadata": {
        "id": "WB-y-8FEc3OI",
        "colab": {
          "base_uri": "https://localhost:8080/"
        },
        "outputId": "18784c65-daef-4af8-d53e-4f1690d98423"
      },
      "execution_count": 35,
      "outputs": [
        {
          "output_type": "stream",
          "name": "stdout",
          "text": [
            "epoch: 0 loss: 1.7746678590774536 batch: 0\n",
            "epoch: 0 loss: 0.07432598620653152\n",
            "epoch: 1 loss: 0.06431233137845993 batch: 0\n",
            "epoch: 1 loss: 0.014405625872313976\n",
            "epoch: 2 loss: 0.06072736904025078 batch: 0\n",
            "epoch: 2 loss: 0.017537763342261314\n",
            "epoch: 3 loss: 0.011610065586864948 batch: 0\n",
            "epoch: 3 loss: 0.011938374489545822\n",
            "epoch: 4 loss: 0.00530437333509326 batch: 0\n",
            "epoch: 4 loss: 0.009555329568684101\n"
          ]
        }
      ]
    },
    {
      "cell_type": "code",
      "source": [
        "# testing red 3\n",
        "evaluate(test_loader, model_cnn_2)"
      ],
      "metadata": {
        "id": "4evOrrzKc6iW",
        "colab": {
          "base_uri": "https://localhost:8080/"
        },
        "outputId": "ba0c6488-e0ca-4bcc-c259-aca7cce8b68a"
      },
      "execution_count": 36,
      "outputs": [
        {
          "output_type": "stream",
          "name": "stdout",
          "text": [
            "Accuracy: 99.7479019165039%\n"
          ]
        }
      ]
    },
    {
      "cell_type": "markdown",
      "metadata": {
        "id": "RZiFSACpCNtz"
      },
      "source": [
        "> Comente los resultados"
      ]
    },
    {
      "cell_type": "markdown",
      "metadata": {
        "id": "mq6fa_qSCNtz"
      },
      "source": [
        "# Conclusión\n",
        "\n",
        "Eso ha sido todo para el lab de hoy, recuerden que el laboratorio tiene un plazo de entrega de una semana. Cualquier duda del laboratorio, no duden en contactarnos por mail o U-cursos.\n",
        "\n",
        "<p align=\"center\">\n",
        "  <img src=\"https://media.tenor.com/vKSR-ZakVMIAAAAC/pochitadancing-pochita.gif\">\n",
        "</p>"
      ]
    }
  ],
  "metadata": {
    "kernelspec": {
      "display_name": "Python 3 (ipykernel)",
      "language": "python",
      "name": "python3"
    },
    "language_info": {
      "codemirror_mode": {
        "name": "ipython",
        "version": 3
      },
      "file_extension": ".py",
      "mimetype": "text/x-python",
      "name": "python",
      "nbconvert_exporter": "python",
      "pygments_lexer": "ipython3",
      "version": "3.7.13"
    },
    "vscode": {
      "interpreter": {
        "hash": "74a3d55773e9b3c246359d50654dd4558d2f2e3d7e6e6cc3c5c43d1d4b65ec31"
      }
    },
    "colab": {
      "provenance": []
    },
    "accelerator": "GPU",
    "gpuClass": "standard"
  },
  "nbformat": 4,
  "nbformat_minor": 0
}