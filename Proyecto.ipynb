{
  "cells": [
    {
      "cell_type": "markdown",
      "metadata": {
        "id": "yNkIyWMw3pvz"
      },
      "source": [
        "# Proyecto: El Desafío de Don Rene\n",
        "\n",
        "**MDS7202: Laboratorio de Programación Científica para Ciencia de Datos**\n",
        "\n",
        "### Cuerpo Docente:\n",
        "\n",
        "- Profesores: Matías Rojas - Mauricio Araneda\n",
        "- Auxiliar: Ignacio Meza D.\n",
        "- Ayudante: Rodrigo Guerra\n",
        "\n",
        "*Por favor, lean detalladamente las instrucciones de la tarea antes de empezar a escribir.*\n"
      ],
      "id": "yNkIyWMw3pvz"
    },
    {
      "cell_type": "markdown",
      "metadata": {
        "id": "AHy5rhgf3pv0"
      },
      "source": [
        "----\n",
        "\n",
        "## Reglas\n",
        "\n",
        "- Fecha de entrega: 13/12/2022 (Sin atrasos)\n",
        "- **Grupos de 2 personas.**\n",
        "- Cualquier duda fuera del horario de clases al foro. Mensajes al equipo docente serán respondidos por este medio.\n",
        "- Estrictamente prohibida la copia. \n",
        "- Pueden usar cualquier material del curso que estimen conveniente.\n"
      ],
      "id": "AHy5rhgf3pv0"
    },
    {
      "cell_type": "markdown",
      "metadata": {
        "id": "VGSc0-sg3pv0"
      },
      "source": [
        "---\n",
        "\n",
        "## El desafio de Don Rene\n",
        "\n",
        "\n",
        "Don Rene, afamado *influencer* y próximo emprendedor de IA, decide que será una buena idea darle un giro a su vida y dedicarse al rubro del asesoramiento de inversionistas en la industria de los videojuegos. \n",
        "\n",
        "El futuro empresario plantea que el éxito relativo de una inversión en una desarrolladora de juegos debe ser analizado desde un punto de vista basado en evidencia y no en la intuición. \n",
        "Por dicha razón, plantea que para el sería ideal que existiera una máquina que, dada las características de un nuevo videojuego (su género, el estudio que lo desarrolla, su historia, etc...), indique si este será potencialmente una inversión rentable o no.\n",
        "\n",
        "Rene está convencido que el éxito de una inversión en videojuegos estar relacionada por dos características muy relevantes de estos una vez que salen al mercado:\n",
        "\n",
        "**1. La potencial evaluación (Positivo, Negativo, etc...) que le den los usuarios que jugarán el juego.**\n",
        "\n",
        "**2. Las potenciales ventas del juego.**\n",
        "\n",
        "Si bien la idea puede sonar excelente, Don Rene carece en su totalidad de una formación en Ciencia de los Datos, por lo que decide ir en ayuda de expertos para implementar su idea.\n",
        "\n",
        "Sin embargo, como fiel discipulo del libre mercado, decide no contratar a un equipo en particular, si no que tener la libertad de elegir entre muchos equipos que compiten entre si para saber cuál contratar. Para esto recurre a una triquiñuela recurrentemente utilizada en data science: Establecer una competencia abierta y contratar a los que cumplan mejor sus requisitos.\n",
        "\n",
        "\n",
        "Para esto, Don Rene abre una competencia en la plataforma Codalab (plataforma similar a Kaggle) la cuál, espera que se replete de buenas propuestas. Los equipos que mejor evaluaciones obtengan (los primeros 5 de cada tabla) serán contratados y retribuidos con un cupón canjeable con la friolera cantidad de 1 punto bonus para el proyecto en el curso MDS7202.\n",
        "\n"
      ],
      "id": "VGSc0-sg3pv0"
    },
    {
      "cell_type": "markdown",
      "metadata": {
        "id": "THQEVmvZ3pv0"
      },
      "source": [
        "\n",
        "\n",
        "### Definición Formal del Problema\n",
        "\n",
        "El objetivo de este proyecto es relativamente sencillo, pero en extremo ambicioso: Tendrán que aplicar todo lo aprendido hasta este momento con el fin de solucionar 2 problemas distintos: \n",
        "\n",
        "1. **Clasificación de potenciales evaluaciones con las que los jugadores evaluarán los juegos**. Las posibles clases que deben asignar a cada juego son `('Negative', 'Mixed', 'Mostly Positive', 'Positive', 'Very Positive')`. La métrica de evaluación utilizada para medir la clasificación es `f1_weighted`.\n",
        "2. **Regresión de las potenciales ventas que tendrán los juegos**. La métrica de evaluación utilizada para medir la clasificación es `r_2`.\n",
        "\n",
        "Para esto, ustedes contarán un dataset que cuenta con diversa información de los juegos de la plataforma Steam (tales como fecha de lanzamiento, logros disponibles, plataforma, desarrollador, distribuidor, tags, etc...) más las etiquetas y valores a predecir.\n",
        "\n",
        "\n",
        "El objetivo final es que participen en la competencia generada en Codalab. Una competencia de Data Science funciona generalmente de la siguiente manera: \n",
        "\n",
        "1. Se plantea un problema que los equipos deben resolver.\n",
        "2. Se provee de datos de entrenamiento a los equipos para que generen modelos que resuelvan el problema.\n",
        "3. Se provee de datos de prueba que los equipos deberán predecir con los modelos creados. Una vez predichos, los equipos deben subir los archivos a la plataforma, la cuál los evaluará y publicará en un tablero disponible para todos los participantes.\n",
        "\n",
        "Por este motivo, se les provee de dos datasets: `train.pickle` y `test.pickle`.\n",
        "\n",
        "- Por una parte, `train.pickle` está preparado que lo utilizen como conjunto de entrenamiento del modelo; por lo que incluye las etiquetas y valores por predecir. \n",
        "\n",
        "- Por otra parte, la evaluación de la competencia será hecha usando `test.pickle`. Es decir, este dataset solo contiene características de los juegos y ustedes deberán predecir tanto las potenciales evaluaciones como las posibles ventas de estos y subir sus resultados.\n",
        "\n",
        "- Además, tendrán sample subissions, es decir, un ejemplo de como subir las evaluaciones.\n",
        "\n",
        "Obviamente para subir archivos a la competencia deberán registrarse en Codalab. **Puden participar máximo 5 veces en la competencia** (la idea es evitar que se sobreajusten a los datos que deben predecir)\n",
        "\n",
        "**IMPORTANTE**: Para la clasificación no usen la cantidad de ventas (target de la regresión) como atributo. Por otro lado, para la regresión no utilicen las evaluaciones como atributo para predecir. Infringir estas reglas implicará en no contar el puntaje de la competencia como tampoco poder participar de los bonus por los tops.\n"
      ],
      "id": "THQEVmvZ3pv0"
    },
    {
      "cell_type": "markdown",
      "metadata": {
        "id": "9McNIeVC3pv1"
      },
      "source": [
        "---\n",
        "\n",
        "## Secciones Requeridas en el Informe\n",
        "\n",
        "La siguiente lista detalla las secciones que debe contener su notebook para resolver el proyecto. Es importante que al momento de desarrollar cada una de las secciones, estas sean escritas en un formato tipo **informe**, donde describan detalladamente cada uno de los puntos realizados.\n",
        "\n",
        "### 1. Introducción [0.5 Puntos]\n",
        "\n",
        "*Esta sección es literalmente una muy breve introducción con todo lo necesario para entender que hicieron en su proyecto.*\n",
        "\n",
        "- Describir brevemente ambos problemas planteados (clasificación y regresión).\n",
        "- Describir brevemente los datos de entrada que les provee el problema.\n",
        "- Describir qué métricas se ocupan para la evaluación del problema y por qué se utilizan.\n",
        "- [Escribir al final] Describir brevemente el modelo que usaron para resolver el problema (incluyendo las transformaciones intermedias de datos).\n",
        "- [Escribir al final] Indicar si lograron resolver el problema a través de su modelo. Indiquen además si creen que los resultados de su mejor modelo son aceptables y como les fue con respecto al resto de los equipos.\n",
        "\n",
        "### 2. Análisis Exploratorio de Datos [1.5 Punto]\n",
        "\n",
        "\n",
        "*La idea de esta sección es que exploren el dataset y obtengan una idea de como son los datos de su problema para que en la siguientes secciones, puedan modelarlos.*\n",
        "\n",
        "- Analizar cantidad de datos nulos, tipos de datos, duplicados, distribuciones de las variables a través de histogramas.\n",
        "- Generar visualizaciones de las interacciones (como por ejemplo, una scatter matrix) en las distintas variables.\n",
        "- Ver las correlaciones entre las distintas variables y los valores faltantes de cada una de estas. \n",
        "- Proyectar los datos con PCA, T-SNE o UMAP para ver si existen relaciones entre las distintas variables de forma bi o tri dimensional.\n",
        "- Reportar los patrones y relaciones interesantes.\n",
        "- No restringirse a lo mencionado anteriormente.\n",
        "\n",
        "### 3. Preparación de Datos [1 Punto]\n",
        "\n",
        "*Esta sección consiste en generar los distintos pasos para preparar sus datos con el fin de luego poder crear su modelo.*\n",
        "\n",
        "- Descartar datos nulos y outliers.\n",
        "- Preprocesar datos categóricos y ordinales.\n",
        "- Escalar/estandarizar datos numéricos.\n",
        "- Codificar texto.\n",
        "- Setear las transformaciones en un `ColumnTransformer`.\n",
        "- Probar las transformaciones.\n",
        "\n",
        "### 4. Creación de los *Baseline* [0.5 Punto]\n",
        "\n",
        "*En esta sección crearán el modelo más básico posible que resuelva el problema. La idea de este modelo usarlo como comparación para que en el siguiente paso lo puedan mejorar.*\n",
        "\n",
        "- Generar un pipeline para la clasificación un clasificador relativamente sencillo (a su elección).\n",
        "- Generar un pipeline para la regresión con  un regresor relativamente sencillo (a su elección).\n",
        "- Evaluar ambos modelos según las métricas de evaluación y reportar.\n",
        "\n",
        "### 5. Optimización de los Modelos [1 Puntos]\n",
        "\n",
        "*Aquí deberán mejorar los modelos al variar los hiperparámetros que están ocupando. No se les pide 100% de nada, si se va a demorar la edad del universo en explorar su grilla, entonces achíquenla a algo que sepan que va a terminar.*\n",
        "\n",
        "- Usar **`HalvingGridSearchCV`** para tunear hipermarámetros.\n",
        "- Agregar técnicas de reduccion de dimensionalidad como `PCA` o de seleccion de atributos, como también usar mejores clasificadores y explorar sus hiperparámetros. \n",
        "- Probar distintos parámetros para las transformaciones de datos, seleccion de atributos, clasificadores, etc...\n",
        "- Probar modelos basados en gradient boosting/bagging.  \n",
        "- Probar activando/descativando los procesadores de texto, de categorías, etc...\n",
        "- Recuerden setear la búsqueda para optimizar la métrica que se evalua en la competencia.\n",
        "\n",
        "- **Generen grillas decentes que terminen ojalá antes que cierre el curso.**\n",
        "    \n",
        "### 6. Concluir [0.5 Punto] \n",
        "\n",
        "\n",
        "*Aquí deben escribir una breve conclusión del trabajo que hicieron en donde incluyan (pero no se limiten) a responder las siguientes preguntas:*\n",
        "\n",
        "- ¿Pudieron resolver exitosamente el problema?\n",
        "- ¿Son aceptables los resultados obtenidos?\n",
        "- ¿Como fue el rendimiento del baseline?\n",
        "- ¿Pudieron optimizar el baseline?\n",
        "- ¿Que tanto mejoro el baseline con respecto a sus optimizaciones?\n",
        "- ¿Estuvieron conformes con sus resultados?\n",
        "- ¿Creen que hayan mejores formas de modelar el problema?\n",
        "- ¿Es didáctico usar una competencia?\n",
        "- ¿En general, qué aprendieron del proyecto?¿Qué no aprendieron y les gustaría haber aprendido?\n",
        "- Etc...\n",
        "\n",
        "\n",
        "### 7. Punto por superar el baseline de la competencia. [1 Punto]\n",
        "\n",
        "*Este punto es solo informativo, no deben escribir nada aquí*"
      ],
      "id": "9McNIeVC3pv1"
    },
    {
      "cell_type": "markdown",
      "metadata": {
        "id": "Uo_JbF-S3pv1"
      },
      "source": [
        "---\n",
        "\n",
        "## Esquema de la Tarea\n",
        "\n",
        "\n",
        "Pueden usar el siguiente esquema para organizar la tarea (y borrar todo lo anterior).\n",
        "Obviamente **no deben limitarse a lo que está escrito en esta**: puede incrementar en caso de más técnicas y obviar algunas partes en caso que alguna y otro punto no aplique a su problema.\n",
        "\n",
        "Pueden borrar las instrucciones anteriores y quedarse solo con lo que viene a continuación.\n",
        "\n",
        "\n",
        "---\n",
        "---\n",
        "<br>\n",
        "\n",
        "<br>\n",
        "\n",
        "<br>"
      ],
      "id": "Uo_JbF-S3pv1"
    },
    {
      "cell_type": "markdown",
      "metadata": {
        "id": "f8v2to7-3pv1"
      },
      "source": [
        "\n",
        "\n",
        "# Proyecto\n",
        "\n",
        "### Equipo:\n",
        "\n",
        "- Roberto Barceló\n",
        "\n",
        "- roberto.barcelo\n",
        "\n",
        "- roberto.barcelo\n",
        "\n",
        "### Link de repositorio de GitHub: https://github.com/RobertoBarcelo/Lab_PCPCD_MDS7202/blob/7a4d85376fa078aeec4a76b029fd44a774d4d879/Proyecto.ipynb\n",
        "\n"
      ],
      "id": "f8v2to7-3pv1"
    },
    {
      "cell_type": "markdown",
      "metadata": {
        "id": "dHT7oe6E3pv1"
      },
      "source": [
        "\n",
        "## 1. Introducción\n",
        "\n",
        "El objetivo de este proyecto consiste en generar dos modelos capaces de evaluar la factibilidad que don Rene destacó como variables relevantes. Estas son ventas estimadas y rating de los videojuegos. El estimar correctamente estas variables a priori, podría entregar información valiosa sobre si invertir o no en dicho vidoejuego.\n",
        "\n",
        "Para ello el trabajo se divide en el estudio de dos problemas, un problema de clasificación y otro de regresión. Se utilizan como métricas de evaluación para ambos problemas el score f1 y r2, respectivamente.\n",
        "\n",
        "En las siguientes secciones se abordara el problema de forma estructurada. Partiendo por un análisis exploratorio de los datos, donde se identificarán las variables, sus distribuciones y diferentes formatos. Luego se prepararán estos datos para ser procesados, haciendo imputaciones de datos que mostraron ser relevantes para la resolución del problema. A continuación implementaremos algunos modelos para tener una base de predicción para posteriormente realizar un ajuste de parámetros para obtener un mejor poder de predicción y mayor robustez.\n",
        "\n",
        "Finalmente concluiremos lod esarrollado en el proceso y discuitiremos los resultados obtenidos.\n"
      ],
      "id": "dHT7oe6E3pv1"
    },
    {
      "cell_type": "markdown",
      "metadata": {
        "id": "wZR-D01W3pv2"
      },
      "source": [
        "---\n",
        "## 2. Análisis Exploratorio de Datos"
      ],
      "id": "wZR-D01W3pv2"
    },
    {
      "cell_type": "markdown",
      "source": [
        "Comenzamos conectandonos a drive y importando las librerias necesarias para la realización de este laboratorio."
      ],
      "metadata": {
        "id": "tPu0lORFpYUk"
      },
      "id": "tPu0lORFpYUk"
    },
    {
      "cell_type": "code",
      "execution_count": 1,
      "metadata": {
        "colab": {
          "base_uri": "https://localhost:8080/"
        },
        "id": "txMsDUo9FTCn",
        "outputId": "d87f4313-b931-4399-d913-58b556f93e8f"
      },
      "outputs": [
        {
          "output_type": "stream",
          "name": "stdout",
          "text": [
            "Drive already mounted at /content/drive; to attempt to forcibly remount, call drive.mount(\"/content/drive\", force_remount=True).\n"
          ]
        }
      ],
      "source": [
        "from google.colab import drive\n",
        "drive.mount('/content/drive')"
      ],
      "id": "txMsDUo9FTCn"
    },
    {
      "cell_type": "code",
      "execution_count": 2,
      "metadata": {
        "colab": {
          "base_uri": "https://localhost:8080/"
        },
        "id": "3iZ2fSACFdad",
        "outputId": "11942fe0-cffe-45f5-d6f2-8f2e8f5c7f63"
      },
      "outputs": [
        {
          "output_type": "stream",
          "name": "stdout",
          "text": [
            "Looking in indexes: https://pypi.org/simple, https://us-python.pkg.dev/colab-wheels/public/simple/\n",
            "Requirement already satisfied: plotly in /usr/local/lib/python3.8/dist-packages (5.11.0)\n",
            "Requirement already satisfied: tenacity>=6.2.0 in /usr/local/lib/python3.8/dist-packages (from plotly) (8.1.0)\n"
          ]
        }
      ],
      "source": [
        "import numpy as np\n",
        "import pandas as pd\n",
        "import seaborn as sns\n",
        "import matplotlib.pyplot as plt\n",
        "from sklearn.pipeline import make_pipeline\n",
        "from sklearn.pipeline import Pipeline\n",
        "from sklearn.compose import ColumnTransformer\n",
        "from sklearn.model_selection import train_test_split \n",
        "\n",
        "# Pre-procesamiento\n",
        "from sklearn.preprocessing import MinMaxScaler\n",
        "from sklearn.preprocessing import StandardScaler\n",
        "from sklearn.preprocessing import FunctionTransformer\n",
        "from sklearn.preprocessing import PowerTransformer\n",
        "from sklearn.preprocessing import OneHotEncoder\n",
        "from sklearn.feature_extraction.text import CountVectorizer, TfidfVectorizer\n",
        "\n",
        "# Modelos\n",
        "from sklearn.tree import DecisionTreeClassifier\n",
        "from sklearn.ensemble import RandomForestClassifier, RandomForestRegressor\n",
        "from sklearn.linear_model import Ridge, Lasso\n",
        "from sklearn.svm import SVR, SVC\n",
        "\n",
        "# Metricas de evaluación\n",
        "from sklearn.metrics import classification_report, confusion_matrix\n",
        "from sklearn.metrics import accuracy_score\n",
        "from sklearn.metrics import f1_score\n",
        "from sklearn.metrics import cohen_kappa_score\n",
        "from sklearn.metrics import mean_squared_error\n",
        "from sklearn.metrics import r2_score\n",
        "\n",
        "#Libreria para plotear\n",
        "!pip install --upgrade plotly\n",
        "import plotly.express as px\n",
        "from plotly.subplots import make_subplots\n",
        "import plotly.graph_objects as go"
      ],
      "id": "3iZ2fSACFdad"
    },
    {
      "cell_type": "markdown",
      "source": [
        "Importamos el dataframe utiolizado para el entrenamiento y simultaneamente tambien importamos el dataframe para el testeo"
      ],
      "metadata": {
        "id": "C7cDO17LpflK"
      },
      "id": "C7cDO17LpflK"
    },
    {
      "cell_type": "code",
      "execution_count": 3,
      "metadata": {
        "id": "uU_p87CpFsDX"
      },
      "outputs": [],
      "source": [
        "# cargamos el archivo en pandas\n",
        "df_train = pd.read_pickle('/content/drive/MyDrive/MDS7202_LPCPCD/Competencia/Proyecto/train.pickle')"
      ],
      "id": "uU_p87CpFsDX"
    },
    {
      "cell_type": "code",
      "execution_count": 4,
      "metadata": {
        "colab": {
          "base_uri": "https://localhost:8080/",
          "height": 406
        },
        "id": "1xa87YPbF6hn",
        "outputId": "b6692ced-6ddb-4ca8-e7b4-762a1861a821"
      },
      "outputs": [
        {
          "output_type": "execute_result",
          "data": {
            "text/plain": [
              "                name release_date  english                     developer  \\\n",
              "0      An Aspie Life   2018-03-29        1  Bradley Hennessey;Joe Watson   \n",
              "1  GhostControl Inc.   2014-06-06        1                     bumblebee   \n",
              "2            Deponia   2012-08-06        1        Daedalic Entertainment   \n",
              "3      Atlas Reactor   2016-10-04        1                  Trion Worlds   \n",
              "4            CHUCHEL   2018-03-07        1                Amanita Design   \n",
              "\n",
              "                        publisher          platforms  required_age  \\\n",
              "0               EnderLost Studios            windows             0   \n",
              "1  Application Systems Heidelberg  windows;mac;linux             0   \n",
              "2          Daedalic Entertainment  windows;mac;linux             0   \n",
              "3                    Trion Worlds            windows             0   \n",
              "4                  Amanita Design        windows;mac             0   \n",
              "\n",
              "                                          categories  \\\n",
              "0                   Single-player;Steam Achievements   \n",
              "1  Single-player;Steam Achievements;Steam Trading...   \n",
              "2  Single-player;Steam Achievements;Steam Trading...   \n",
              "3  Multi-player;Online Multi-Player;Steam Achieve...   \n",
              "4  Single-player;Steam Achievements;Steam Trading...   \n",
              "\n",
              "                                           genres  \\\n",
              "0  Adventure;Casual;Free to Play;Indie;Simulation   \n",
              "1                Casual;Indie;Simulation;Strategy   \n",
              "2                                 Adventure;Indie   \n",
              "3                           Free to Play;Strategy   \n",
              "4                          Adventure;Casual;Indie   \n",
              "\n",
              "                                tags  achievements  average_playtime  price  \\\n",
              "0       Free to Play;Adventure;Indie            23                 0   0.00   \n",
              "1        Turn-Based;Indie;Simulation            53                65  10.99   \n",
              "2     Adventure;Point & Click;Comedy            19               217   6.99   \n",
              "3  Free to Play;Multiplayer;Strategy           121              1240   0.00   \n",
              "4             Adventure;Indie;Casual             7               245   7.99   \n",
              "\n",
              "                                   short_description  estimated_sells  \\\n",
              "0  One day your roommate Leaves for no reason. Yo...             3914   \n",
              "1  Manage a team of ghosthunters and free London ...            10728   \n",
              "2  In Deponia, the world has degenerated into a v...           635792   \n",
              "3  SEASON 6 NOW LIVE! The battle for Atlas contin...           253864   \n",
              "4  CHUCHEL is a comedy adventure game from the cr...            49818   \n",
              "\n",
              "            rating  \n",
              "0            Mixed  \n",
              "1            Mixed  \n",
              "2         Positive  \n",
              "3         Positive  \n",
              "4  Mostly Positive  "
            ],
            "text/html": [
              "\n",
              "  <div id=\"df-f44505cb-709d-443b-b842-0bbdae4a07a1\">\n",
              "    <div class=\"colab-df-container\">\n",
              "      <div>\n",
              "<style scoped>\n",
              "    .dataframe tbody tr th:only-of-type {\n",
              "        vertical-align: middle;\n",
              "    }\n",
              "\n",
              "    .dataframe tbody tr th {\n",
              "        vertical-align: top;\n",
              "    }\n",
              "\n",
              "    .dataframe thead th {\n",
              "        text-align: right;\n",
              "    }\n",
              "</style>\n",
              "<table border=\"1\" class=\"dataframe\">\n",
              "  <thead>\n",
              "    <tr style=\"text-align: right;\">\n",
              "      <th></th>\n",
              "      <th>name</th>\n",
              "      <th>release_date</th>\n",
              "      <th>english</th>\n",
              "      <th>developer</th>\n",
              "      <th>publisher</th>\n",
              "      <th>platforms</th>\n",
              "      <th>required_age</th>\n",
              "      <th>categories</th>\n",
              "      <th>genres</th>\n",
              "      <th>tags</th>\n",
              "      <th>achievements</th>\n",
              "      <th>average_playtime</th>\n",
              "      <th>price</th>\n",
              "      <th>short_description</th>\n",
              "      <th>estimated_sells</th>\n",
              "      <th>rating</th>\n",
              "    </tr>\n",
              "  </thead>\n",
              "  <tbody>\n",
              "    <tr>\n",
              "      <th>0</th>\n",
              "      <td>An Aspie Life</td>\n",
              "      <td>2018-03-29</td>\n",
              "      <td>1</td>\n",
              "      <td>Bradley Hennessey;Joe Watson</td>\n",
              "      <td>EnderLost Studios</td>\n",
              "      <td>windows</td>\n",
              "      <td>0</td>\n",
              "      <td>Single-player;Steam Achievements</td>\n",
              "      <td>Adventure;Casual;Free to Play;Indie;Simulation</td>\n",
              "      <td>Free to Play;Adventure;Indie</td>\n",
              "      <td>23</td>\n",
              "      <td>0</td>\n",
              "      <td>0.00</td>\n",
              "      <td>One day your roommate Leaves for no reason. Yo...</td>\n",
              "      <td>3914</td>\n",
              "      <td>Mixed</td>\n",
              "    </tr>\n",
              "    <tr>\n",
              "      <th>1</th>\n",
              "      <td>GhostControl Inc.</td>\n",
              "      <td>2014-06-06</td>\n",
              "      <td>1</td>\n",
              "      <td>bumblebee</td>\n",
              "      <td>Application Systems Heidelberg</td>\n",
              "      <td>windows;mac;linux</td>\n",
              "      <td>0</td>\n",
              "      <td>Single-player;Steam Achievements;Steam Trading...</td>\n",
              "      <td>Casual;Indie;Simulation;Strategy</td>\n",
              "      <td>Turn-Based;Indie;Simulation</td>\n",
              "      <td>53</td>\n",
              "      <td>65</td>\n",
              "      <td>10.99</td>\n",
              "      <td>Manage a team of ghosthunters and free London ...</td>\n",
              "      <td>10728</td>\n",
              "      <td>Mixed</td>\n",
              "    </tr>\n",
              "    <tr>\n",
              "      <th>2</th>\n",
              "      <td>Deponia</td>\n",
              "      <td>2012-08-06</td>\n",
              "      <td>1</td>\n",
              "      <td>Daedalic Entertainment</td>\n",
              "      <td>Daedalic Entertainment</td>\n",
              "      <td>windows;mac;linux</td>\n",
              "      <td>0</td>\n",
              "      <td>Single-player;Steam Achievements;Steam Trading...</td>\n",
              "      <td>Adventure;Indie</td>\n",
              "      <td>Adventure;Point &amp; Click;Comedy</td>\n",
              "      <td>19</td>\n",
              "      <td>217</td>\n",
              "      <td>6.99</td>\n",
              "      <td>In Deponia, the world has degenerated into a v...</td>\n",
              "      <td>635792</td>\n",
              "      <td>Positive</td>\n",
              "    </tr>\n",
              "    <tr>\n",
              "      <th>3</th>\n",
              "      <td>Atlas Reactor</td>\n",
              "      <td>2016-10-04</td>\n",
              "      <td>1</td>\n",
              "      <td>Trion Worlds</td>\n",
              "      <td>Trion Worlds</td>\n",
              "      <td>windows</td>\n",
              "      <td>0</td>\n",
              "      <td>Multi-player;Online Multi-Player;Steam Achieve...</td>\n",
              "      <td>Free to Play;Strategy</td>\n",
              "      <td>Free to Play;Multiplayer;Strategy</td>\n",
              "      <td>121</td>\n",
              "      <td>1240</td>\n",
              "      <td>0.00</td>\n",
              "      <td>SEASON 6 NOW LIVE! The battle for Atlas contin...</td>\n",
              "      <td>253864</td>\n",
              "      <td>Positive</td>\n",
              "    </tr>\n",
              "    <tr>\n",
              "      <th>4</th>\n",
              "      <td>CHUCHEL</td>\n",
              "      <td>2018-03-07</td>\n",
              "      <td>1</td>\n",
              "      <td>Amanita Design</td>\n",
              "      <td>Amanita Design</td>\n",
              "      <td>windows;mac</td>\n",
              "      <td>0</td>\n",
              "      <td>Single-player;Steam Achievements;Steam Trading...</td>\n",
              "      <td>Adventure;Casual;Indie</td>\n",
              "      <td>Adventure;Indie;Casual</td>\n",
              "      <td>7</td>\n",
              "      <td>245</td>\n",
              "      <td>7.99</td>\n",
              "      <td>CHUCHEL is a comedy adventure game from the cr...</td>\n",
              "      <td>49818</td>\n",
              "      <td>Mostly Positive</td>\n",
              "    </tr>\n",
              "  </tbody>\n",
              "</table>\n",
              "</div>\n",
              "      <button class=\"colab-df-convert\" onclick=\"convertToInteractive('df-f44505cb-709d-443b-b842-0bbdae4a07a1')\"\n",
              "              title=\"Convert this dataframe to an interactive table.\"\n",
              "              style=\"display:none;\">\n",
              "        \n",
              "  <svg xmlns=\"http://www.w3.org/2000/svg\" height=\"24px\"viewBox=\"0 0 24 24\"\n",
              "       width=\"24px\">\n",
              "    <path d=\"M0 0h24v24H0V0z\" fill=\"none\"/>\n",
              "    <path d=\"M18.56 5.44l.94 2.06.94-2.06 2.06-.94-2.06-.94-.94-2.06-.94 2.06-2.06.94zm-11 1L8.5 8.5l.94-2.06 2.06-.94-2.06-.94L8.5 2.5l-.94 2.06-2.06.94zm10 10l.94 2.06.94-2.06 2.06-.94-2.06-.94-.94-2.06-.94 2.06-2.06.94z\"/><path d=\"M17.41 7.96l-1.37-1.37c-.4-.4-.92-.59-1.43-.59-.52 0-1.04.2-1.43.59L10.3 9.45l-7.72 7.72c-.78.78-.78 2.05 0 2.83L4 21.41c.39.39.9.59 1.41.59.51 0 1.02-.2 1.41-.59l7.78-7.78 2.81-2.81c.8-.78.8-2.07 0-2.86zM5.41 20L4 18.59l7.72-7.72 1.47 1.35L5.41 20z\"/>\n",
              "  </svg>\n",
              "      </button>\n",
              "      \n",
              "  <style>\n",
              "    .colab-df-container {\n",
              "      display:flex;\n",
              "      flex-wrap:wrap;\n",
              "      gap: 12px;\n",
              "    }\n",
              "\n",
              "    .colab-df-convert {\n",
              "      background-color: #E8F0FE;\n",
              "      border: none;\n",
              "      border-radius: 50%;\n",
              "      cursor: pointer;\n",
              "      display: none;\n",
              "      fill: #1967D2;\n",
              "      height: 32px;\n",
              "      padding: 0 0 0 0;\n",
              "      width: 32px;\n",
              "    }\n",
              "\n",
              "    .colab-df-convert:hover {\n",
              "      background-color: #E2EBFA;\n",
              "      box-shadow: 0px 1px 2px rgba(60, 64, 67, 0.3), 0px 1px 3px 1px rgba(60, 64, 67, 0.15);\n",
              "      fill: #174EA6;\n",
              "    }\n",
              "\n",
              "    [theme=dark] .colab-df-convert {\n",
              "      background-color: #3B4455;\n",
              "      fill: #D2E3FC;\n",
              "    }\n",
              "\n",
              "    [theme=dark] .colab-df-convert:hover {\n",
              "      background-color: #434B5C;\n",
              "      box-shadow: 0px 1px 3px 1px rgba(0, 0, 0, 0.15);\n",
              "      filter: drop-shadow(0px 1px 2px rgba(0, 0, 0, 0.3));\n",
              "      fill: #FFFFFF;\n",
              "    }\n",
              "  </style>\n",
              "\n",
              "      <script>\n",
              "        const buttonEl =\n",
              "          document.querySelector('#df-f44505cb-709d-443b-b842-0bbdae4a07a1 button.colab-df-convert');\n",
              "        buttonEl.style.display =\n",
              "          google.colab.kernel.accessAllowed ? 'block' : 'none';\n",
              "\n",
              "        async function convertToInteractive(key) {\n",
              "          const element = document.querySelector('#df-f44505cb-709d-443b-b842-0bbdae4a07a1');\n",
              "          const dataTable =\n",
              "            await google.colab.kernel.invokeFunction('convertToInteractive',\n",
              "                                                     [key], {});\n",
              "          if (!dataTable) return;\n",
              "\n",
              "          const docLinkHtml = 'Like what you see? Visit the ' +\n",
              "            '<a target=\"_blank\" href=https://colab.research.google.com/notebooks/data_table.ipynb>data table notebook</a>'\n",
              "            + ' to learn more about interactive tables.';\n",
              "          element.innerHTML = '';\n",
              "          dataTable['output_type'] = 'display_data';\n",
              "          await google.colab.output.renderOutput(dataTable, element);\n",
              "          const docLink = document.createElement('div');\n",
              "          docLink.innerHTML = docLinkHtml;\n",
              "          element.appendChild(docLink);\n",
              "        }\n",
              "      </script>\n",
              "    </div>\n",
              "  </div>\n",
              "  "
            ]
          },
          "metadata": {},
          "execution_count": 4
        }
      ],
      "source": [
        "# visuallizamos la tabla\n",
        "df_train.head()"
      ],
      "id": "1xa87YPbF6hn"
    },
    {
      "cell_type": "code",
      "execution_count": 5,
      "metadata": {
        "id": "cJLOEpU9F_V7"
      },
      "outputs": [],
      "source": [
        "df_test = pd.read_pickle('/content/drive/MyDrive/MDS7202_LPCPCD/Competencia/Proyecto/test.pickle')"
      ],
      "id": "cJLOEpU9F_V7"
    },
    {
      "cell_type": "code",
      "execution_count": 6,
      "metadata": {
        "colab": {
          "base_uri": "https://localhost:8080/",
          "height": 35
        },
        "id": "QCmvq4z2VhcH",
        "outputId": "1e1c7983-0105-413c-ee94-f8ee5198eaf1"
      },
      "outputs": [
        {
          "output_type": "execute_result",
          "data": {
            "text/plain": [
              "'&quot;Moe Jigsaw&quot; is the definitive version of the digital jigsaw puzzle that collects only &quot;Moe &amp; Kawaii&quot; illustrations, that is one of the Japanese cultures.'"
            ],
            "application/vnd.google.colaboratory.intrinsic+json": {
              "type": "string"
            }
          },
          "metadata": {},
          "execution_count": 6
        }
      ],
      "source": [
        "df_train['short_description'][7878]"
      ],
      "id": "QCmvq4z2VhcH"
    },
    {
      "cell_type": "markdown",
      "source": [
        "Describimos las características numericas del dataframe"
      ],
      "metadata": {
        "id": "pMwkXmK9ps1T"
      },
      "id": "pMwkXmK9ps1T"
    },
    {
      "cell_type": "code",
      "execution_count": 7,
      "metadata": {
        "colab": {
          "base_uri": "https://localhost:8080/",
          "height": 300
        },
        "id": "kUn3tTH3nv7X",
        "outputId": "90da4e25-eba3-4185-c19c-63080b6135f4"
      },
      "outputs": [
        {
          "output_type": "execute_result",
          "data": {
            "text/plain": [
              "           english  required_age  achievements  average_playtime        price  \\\n",
              "count  7881.000000    7881.00000   7881.000000       7881.000000  7881.000000   \n",
              "mean      0.985789       0.78924     43.170156        439.296790     8.431342   \n",
              "std       0.118369       3.55538    265.399206       3303.162083     8.755668   \n",
              "min       0.000000       0.00000      0.000000          0.000000     0.000000   \n",
              "25%       1.000000       0.00000      0.000000          0.000000     1.990000   \n",
              "50%       1.000000       0.00000     15.000000         27.000000     6.990000   \n",
              "75%       1.000000       0.00000     35.000000        251.000000    11.390000   \n",
              "max       1.000000      18.00000   9821.000000     190625.000000    78.990000   \n",
              "\n",
              "       estimated_sells  \n",
              "count     7.881000e+03  \n",
              "mean      2.105767e+05  \n",
              "std       1.513926e+06  \n",
              "min       3.600000e+03  \n",
              "25%       9.724000e+03  \n",
              "50%       2.150800e+04  \n",
              "75%       7.357300e+04  \n",
              "max       7.944129e+07  "
            ],
            "text/html": [
              "\n",
              "  <div id=\"df-d7d917bc-60c2-4f1b-9e74-c494c5d4ee18\">\n",
              "    <div class=\"colab-df-container\">\n",
              "      <div>\n",
              "<style scoped>\n",
              "    .dataframe tbody tr th:only-of-type {\n",
              "        vertical-align: middle;\n",
              "    }\n",
              "\n",
              "    .dataframe tbody tr th {\n",
              "        vertical-align: top;\n",
              "    }\n",
              "\n",
              "    .dataframe thead th {\n",
              "        text-align: right;\n",
              "    }\n",
              "</style>\n",
              "<table border=\"1\" class=\"dataframe\">\n",
              "  <thead>\n",
              "    <tr style=\"text-align: right;\">\n",
              "      <th></th>\n",
              "      <th>english</th>\n",
              "      <th>required_age</th>\n",
              "      <th>achievements</th>\n",
              "      <th>average_playtime</th>\n",
              "      <th>price</th>\n",
              "      <th>estimated_sells</th>\n",
              "    </tr>\n",
              "  </thead>\n",
              "  <tbody>\n",
              "    <tr>\n",
              "      <th>count</th>\n",
              "      <td>7881.000000</td>\n",
              "      <td>7881.00000</td>\n",
              "      <td>7881.000000</td>\n",
              "      <td>7881.000000</td>\n",
              "      <td>7881.000000</td>\n",
              "      <td>7.881000e+03</td>\n",
              "    </tr>\n",
              "    <tr>\n",
              "      <th>mean</th>\n",
              "      <td>0.985789</td>\n",
              "      <td>0.78924</td>\n",
              "      <td>43.170156</td>\n",
              "      <td>439.296790</td>\n",
              "      <td>8.431342</td>\n",
              "      <td>2.105767e+05</td>\n",
              "    </tr>\n",
              "    <tr>\n",
              "      <th>std</th>\n",
              "      <td>0.118369</td>\n",
              "      <td>3.55538</td>\n",
              "      <td>265.399206</td>\n",
              "      <td>3303.162083</td>\n",
              "      <td>8.755668</td>\n",
              "      <td>1.513926e+06</td>\n",
              "    </tr>\n",
              "    <tr>\n",
              "      <th>min</th>\n",
              "      <td>0.000000</td>\n",
              "      <td>0.00000</td>\n",
              "      <td>0.000000</td>\n",
              "      <td>0.000000</td>\n",
              "      <td>0.000000</td>\n",
              "      <td>3.600000e+03</td>\n",
              "    </tr>\n",
              "    <tr>\n",
              "      <th>25%</th>\n",
              "      <td>1.000000</td>\n",
              "      <td>0.00000</td>\n",
              "      <td>0.000000</td>\n",
              "      <td>0.000000</td>\n",
              "      <td>1.990000</td>\n",
              "      <td>9.724000e+03</td>\n",
              "    </tr>\n",
              "    <tr>\n",
              "      <th>50%</th>\n",
              "      <td>1.000000</td>\n",
              "      <td>0.00000</td>\n",
              "      <td>15.000000</td>\n",
              "      <td>27.000000</td>\n",
              "      <td>6.990000</td>\n",
              "      <td>2.150800e+04</td>\n",
              "    </tr>\n",
              "    <tr>\n",
              "      <th>75%</th>\n",
              "      <td>1.000000</td>\n",
              "      <td>0.00000</td>\n",
              "      <td>35.000000</td>\n",
              "      <td>251.000000</td>\n",
              "      <td>11.390000</td>\n",
              "      <td>7.357300e+04</td>\n",
              "    </tr>\n",
              "    <tr>\n",
              "      <th>max</th>\n",
              "      <td>1.000000</td>\n",
              "      <td>18.00000</td>\n",
              "      <td>9821.000000</td>\n",
              "      <td>190625.000000</td>\n",
              "      <td>78.990000</td>\n",
              "      <td>7.944129e+07</td>\n",
              "    </tr>\n",
              "  </tbody>\n",
              "</table>\n",
              "</div>\n",
              "      <button class=\"colab-df-convert\" onclick=\"convertToInteractive('df-d7d917bc-60c2-4f1b-9e74-c494c5d4ee18')\"\n",
              "              title=\"Convert this dataframe to an interactive table.\"\n",
              "              style=\"display:none;\">\n",
              "        \n",
              "  <svg xmlns=\"http://www.w3.org/2000/svg\" height=\"24px\"viewBox=\"0 0 24 24\"\n",
              "       width=\"24px\">\n",
              "    <path d=\"M0 0h24v24H0V0z\" fill=\"none\"/>\n",
              "    <path d=\"M18.56 5.44l.94 2.06.94-2.06 2.06-.94-2.06-.94-.94-2.06-.94 2.06-2.06.94zm-11 1L8.5 8.5l.94-2.06 2.06-.94-2.06-.94L8.5 2.5l-.94 2.06-2.06.94zm10 10l.94 2.06.94-2.06 2.06-.94-2.06-.94-.94-2.06-.94 2.06-2.06.94z\"/><path d=\"M17.41 7.96l-1.37-1.37c-.4-.4-.92-.59-1.43-.59-.52 0-1.04.2-1.43.59L10.3 9.45l-7.72 7.72c-.78.78-.78 2.05 0 2.83L4 21.41c.39.39.9.59 1.41.59.51 0 1.02-.2 1.41-.59l7.78-7.78 2.81-2.81c.8-.78.8-2.07 0-2.86zM5.41 20L4 18.59l7.72-7.72 1.47 1.35L5.41 20z\"/>\n",
              "  </svg>\n",
              "      </button>\n",
              "      \n",
              "  <style>\n",
              "    .colab-df-container {\n",
              "      display:flex;\n",
              "      flex-wrap:wrap;\n",
              "      gap: 12px;\n",
              "    }\n",
              "\n",
              "    .colab-df-convert {\n",
              "      background-color: #E8F0FE;\n",
              "      border: none;\n",
              "      border-radius: 50%;\n",
              "      cursor: pointer;\n",
              "      display: none;\n",
              "      fill: #1967D2;\n",
              "      height: 32px;\n",
              "      padding: 0 0 0 0;\n",
              "      width: 32px;\n",
              "    }\n",
              "\n",
              "    .colab-df-convert:hover {\n",
              "      background-color: #E2EBFA;\n",
              "      box-shadow: 0px 1px 2px rgba(60, 64, 67, 0.3), 0px 1px 3px 1px rgba(60, 64, 67, 0.15);\n",
              "      fill: #174EA6;\n",
              "    }\n",
              "\n",
              "    [theme=dark] .colab-df-convert {\n",
              "      background-color: #3B4455;\n",
              "      fill: #D2E3FC;\n",
              "    }\n",
              "\n",
              "    [theme=dark] .colab-df-convert:hover {\n",
              "      background-color: #434B5C;\n",
              "      box-shadow: 0px 1px 3px 1px rgba(0, 0, 0, 0.15);\n",
              "      filter: drop-shadow(0px 1px 2px rgba(0, 0, 0, 0.3));\n",
              "      fill: #FFFFFF;\n",
              "    }\n",
              "  </style>\n",
              "\n",
              "      <script>\n",
              "        const buttonEl =\n",
              "          document.querySelector('#df-d7d917bc-60c2-4f1b-9e74-c494c5d4ee18 button.colab-df-convert');\n",
              "        buttonEl.style.display =\n",
              "          google.colab.kernel.accessAllowed ? 'block' : 'none';\n",
              "\n",
              "        async function convertToInteractive(key) {\n",
              "          const element = document.querySelector('#df-d7d917bc-60c2-4f1b-9e74-c494c5d4ee18');\n",
              "          const dataTable =\n",
              "            await google.colab.kernel.invokeFunction('convertToInteractive',\n",
              "                                                     [key], {});\n",
              "          if (!dataTable) return;\n",
              "\n",
              "          const docLinkHtml = 'Like what you see? Visit the ' +\n",
              "            '<a target=\"_blank\" href=https://colab.research.google.com/notebooks/data_table.ipynb>data table notebook</a>'\n",
              "            + ' to learn more about interactive tables.';\n",
              "          element.innerHTML = '';\n",
              "          dataTable['output_type'] = 'display_data';\n",
              "          await google.colab.output.renderOutput(dataTable, element);\n",
              "          const docLink = document.createElement('div');\n",
              "          docLink.innerHTML = docLinkHtml;\n",
              "          element.appendChild(docLink);\n",
              "        }\n",
              "      </script>\n",
              "    </div>\n",
              "  </div>\n",
              "  "
            ]
          },
          "metadata": {},
          "execution_count": 7
        }
      ],
      "source": [
        "df_train.describe()"
      ],
      "id": "kUn3tTH3nv7X"
    },
    {
      "cell_type": "markdown",
      "source": [
        "Veamos todas las columnas contenidas y el tipo de dato que estas contienen."
      ],
      "metadata": {
        "id": "NyvhtYOlpxUz"
      },
      "id": "NyvhtYOlpxUz"
    },
    {
      "cell_type": "code",
      "execution_count": 8,
      "metadata": {
        "colab": {
          "base_uri": "https://localhost:8080/"
        },
        "id": "hGyZpWiOn8WX",
        "outputId": "348fd8b9-d1eb-42e6-f61b-e32560b01818"
      },
      "outputs": [
        {
          "output_type": "stream",
          "name": "stdout",
          "text": [
            "<class 'pandas.core.frame.DataFrame'>\n",
            "RangeIndex: 7881 entries, 0 to 7880\n",
            "Data columns (total 16 columns):\n",
            " #   Column             Non-Null Count  Dtype   \n",
            "---  ------             --------------  -----   \n",
            " 0   name               7881 non-null   object  \n",
            " 1   release_date       7881 non-null   object  \n",
            " 2   english            7881 non-null   int64   \n",
            " 3   developer          7881 non-null   object  \n",
            " 4   publisher          7881 non-null   object  \n",
            " 5   platforms          7881 non-null   object  \n",
            " 6   required_age       7881 non-null   int64   \n",
            " 7   categories         7881 non-null   object  \n",
            " 8   genres             7881 non-null   object  \n",
            " 9   tags               7881 non-null   object  \n",
            " 10  achievements       7881 non-null   int64   \n",
            " 11  average_playtime   7881 non-null   int64   \n",
            " 12  price              7881 non-null   float64 \n",
            " 13  short_description  7881 non-null   object  \n",
            " 14  estimated_sells    7881 non-null   int64   \n",
            " 15  rating             7881 non-null   category\n",
            "dtypes: category(1), float64(1), int64(5), object(9)\n",
            "memory usage: 931.4+ KB\n"
          ]
        }
      ],
      "source": [
        "df_train.info()"
      ],
      "id": "hGyZpWiOn8WX"
    },
    {
      "cell_type": "markdown",
      "source": [
        "Vemos que tenemos en total 16 características, incluyendo los target. De estas 5 son categorías numericas, mientras que las demás son objetos compuestos por texto. Posteriormente transformaremos algunas de estas columnas a variables categóricas y codificaremos los textos que estas contienen."
      ],
      "metadata": {
        "id": "qcEAsFvjp1-I"
      },
      "id": "qcEAsFvjp1-I"
    },
    {
      "cell_type": "markdown",
      "source": [
        "A contiunuación vemos que no existen valores nulos dentro del dataframe"
      ],
      "metadata": {
        "id": "w2KA23N3qMkJ"
      },
      "id": "w2KA23N3qMkJ"
    },
    {
      "cell_type": "code",
      "execution_count": 9,
      "metadata": {
        "colab": {
          "base_uri": "https://localhost:8080/"
        },
        "id": "x2OcT8DPoGVx",
        "outputId": "8639f9d8-b482-4c30-ccfd-9a5d044f4610"
      },
      "outputs": [
        {
          "output_type": "execute_result",
          "data": {
            "text/plain": [
              "name                 False\n",
              "release_date         False\n",
              "english              False\n",
              "developer            False\n",
              "publisher            False\n",
              "platforms            False\n",
              "required_age         False\n",
              "categories           False\n",
              "genres               False\n",
              "tags                 False\n",
              "achievements         False\n",
              "average_playtime     False\n",
              "price                False\n",
              "short_description    False\n",
              "estimated_sells      False\n",
              "rating               False\n",
              "dtype: bool"
            ]
          },
          "metadata": {},
          "execution_count": 9
        }
      ],
      "source": [
        "df_train.isna().any()"
      ],
      "id": "x2OcT8DPoGVx"
    },
    {
      "cell_type": "markdown",
      "source": [
        "Observemos la frecuencia de algunas categorías interesantes."
      ],
      "metadata": {
        "id": "wc9omkm1qTPB"
      },
      "id": "wc9omkm1qTPB"
    },
    {
      "cell_type": "code",
      "execution_count": 10,
      "metadata": {
        "colab": {
          "base_uri": "https://localhost:8080/"
        },
        "id": "My1LMgPJRswE",
        "outputId": "4ac41a18-1269-4416-daf3-309c405426b0"
      },
      "outputs": [
        {
          "output_type": "execute_result",
          "data": {
            "text/plain": [
              "An Aspie Life           1\n",
              "Ballistic Attack        1\n",
              "Infinity Runner         1\n",
              "Party Hard 2            1\n",
              "LEAVES - The Journey    1\n",
              "                       ..\n",
              "NightCry                1\n",
              "LOTUS-Simulator         1\n",
              "BlazeRush               1\n",
              "Night Shift             1\n",
              "Intake                  1\n",
              "Name: name, Length: 7881, dtype: int64"
            ]
          },
          "metadata": {},
          "execution_count": 10
        }
      ],
      "source": [
        "df_train['name'].value_counts()"
      ],
      "id": "My1LMgPJRswE"
    },
    {
      "cell_type": "code",
      "execution_count": 11,
      "metadata": {
        "colab": {
          "base_uri": "https://localhost:8080/"
        },
        "id": "KXFvo0s6G5yx",
        "outputId": "e842d8c8-8c12-4fab-b9a5-de77afabd8d2"
      },
      "outputs": [
        {
          "output_type": "execute_result",
          "data": {
            "text/plain": [
              "KOEI TECMO GAMES CO., LTD.    32\n",
              "Valve                         23\n",
              "Square Enix                   19\n",
              "Ubisoft Montreal              17\n",
              "Quiet River                   17\n",
              "                              ..\n",
              "General Interactive Co.        1\n",
              "tri-Ace                        1\n",
              "KITATUS STUDIOS                1\n",
              "ChairKilling                   1\n",
              "The Munky                      1\n",
              "Name: developer, Length: 5365, dtype: int64"
            ]
          },
          "metadata": {},
          "execution_count": 11
        }
      ],
      "source": [
        "df_train['developer'].value_counts()"
      ],
      "id": "KXFvo0s6G5yx"
    },
    {
      "cell_type": "code",
      "execution_count": 12,
      "metadata": {
        "colab": {
          "base_uri": "https://localhost:8080/"
        },
        "id": "tspjI5rGkfyS",
        "outputId": "20b877a0-cbc9-4ed4-d944-58923a0036b4"
      },
      "outputs": [
        {
          "output_type": "execute_result",
          "data": {
            "text/plain": [
              "windows              4589\n",
              "windows;mac;linux    2006\n",
              "windows;mac          1118\n",
              "windows;linux         167\n",
              "mac                     1\n",
              "Name: platforms, dtype: int64"
            ]
          },
          "metadata": {},
          "execution_count": 12
        }
      ],
      "source": [
        "df_train['platforms'].value_counts()"
      ],
      "id": "tspjI5rGkfyS"
    },
    {
      "cell_type": "code",
      "execution_count": 13,
      "metadata": {
        "colab": {
          "base_uri": "https://localhost:8080/"
        },
        "id": "e_-6yJSakvJ2",
        "outputId": "72d279d2-e1ef-4661-e842-2cd95ffec7fd"
      },
      "outputs": [
        {
          "output_type": "execute_result",
          "data": {
            "text/plain": [
              "Single-player                                                                                                                                        756\n",
              "Single-player;Steam Achievements;Steam Trading Cards                                                                                                 399\n",
              "Single-player;Steam Achievements;Full controller support;Steam Trading Cards;Steam Cloud                                                             360\n",
              "Single-player;Steam Achievements;Steam Trading Cards;Steam Cloud                                                                                     352\n",
              "Single-player;Steam Trading Cards                                                                                                                    303\n",
              "                                                                                                                                                    ... \n",
              "Single-player;Multi-player;Co-op;Cross-Platform Multiplayer;Steam Achievements;Steam Trading Cards;Captions available;Includes level editor            1\n",
              "Multi-player;Online Multi-Player;Steam Achievements;Steam Trading Cards;Steam Workshop;Steam Cloud;Valve Anti-Cheat enabled;Includes level editor      1\n",
              "Single-player;Online Multi-Player;MMO;Online Co-op;Includes level editor                                                                               1\n",
              "Single-player;Multi-player;Steam Achievements;Steam Trading Cards;Includes level editor                                                                1\n",
              "Single-player;Multi-player;Online Multi-Player;Local Multi-Player;Online Co-op;Cross-Platform Multiplayer                                              1\n",
              "Name: categories, Length: 1933, dtype: int64"
            ]
          },
          "metadata": {},
          "execution_count": 13
        }
      ],
      "source": [
        "df_train['categories'].value_counts()"
      ],
      "id": "e_-6yJSakvJ2"
    },
    {
      "cell_type": "code",
      "execution_count": 14,
      "metadata": {
        "colab": {
          "base_uri": "https://localhost:8080/"
        },
        "id": "R4slBu-RaH4W",
        "outputId": "4d8cfd17-cc82-4310-d26e-1cf072b6c180"
      },
      "outputs": [
        {
          "output_type": "execute_result",
          "data": {
            "text/plain": [
              "0        3315\n",
              "1          65\n",
              "3          46\n",
              "9          35\n",
              "8          30\n",
              "         ... \n",
              "403         1\n",
              "946         1\n",
              "5442        1\n",
              "1625        1\n",
              "54618       1\n",
              "Name: average_playtime, Length: 1257, dtype: int64"
            ]
          },
          "metadata": {},
          "execution_count": 14
        }
      ],
      "source": [
        "df_train['average_playtime'].value_counts()"
      ],
      "id": "R4slBu-RaH4W"
    },
    {
      "cell_type": "code",
      "execution_count": 15,
      "metadata": {
        "colab": {
          "base_uri": "https://localhost:8080/"
        },
        "id": "1UHabzK1qdZ1",
        "outputId": "50b00abb-cea6-41a1-8235-b5a3caa79a02"
      },
      "outputs": [
        {
          "output_type": "execute_result",
          "data": {
            "text/plain": [
              "0     7502\n",
              "18     199\n",
              "16     136\n",
              "12      34\n",
              "7        6\n",
              "3        4\n",
              "Name: required_age, dtype: int64"
            ]
          },
          "metadata": {},
          "execution_count": 15
        }
      ],
      "source": [
        "df_train['required_age'].value_counts()"
      ],
      "id": "1UHabzK1qdZ1"
    },
    {
      "cell_type": "code",
      "execution_count": 16,
      "metadata": {
        "colab": {
          "base_uri": "https://localhost:8080/"
        },
        "id": "VnskTwGHfmy-",
        "outputId": "bda7913a-bdc1-49ba-8b48-da68b20fbb16"
      },
      "outputs": [
        {
          "output_type": "execute_result",
          "data": {
            "text/plain": [
              "Positive           2031\n",
              "Mostly Positive    1707\n",
              "Mixed              1656\n",
              "Negative           1290\n",
              "Very Positive      1197\n",
              "Name: rating, dtype: int64"
            ]
          },
          "metadata": {},
          "execution_count": 16
        }
      ],
      "source": [
        "df_train['rating'].value_counts()"
      ],
      "id": "VnskTwGHfmy-"
    },
    {
      "cell_type": "markdown",
      "source": [
        "Vemos que en general estas categorias se encuentran bastante esparcidas y no parecen estar concentradas ni dispersas de acuerdo a un patrón. Cosas como nombres y descripciones tineden a ser bastante únicas. nLKa variable objetivo 'rating' muestra cierto desbalance en sus clases, pero no es demsiado grave en este caso."
      ],
      "metadata": {
        "id": "AvwXAfDkqcE6"
      },
      "id": "AvwXAfDkqcE6"
    },
    {
      "cell_type": "code",
      "execution_count": 17,
      "metadata": {
        "colab": {
          "base_uri": "https://localhost:8080/"
        },
        "id": "y4ECbXaiGY3o",
        "outputId": "ba9b2fad-466b-4c78-a6ae-7a30935c9bbf"
      },
      "outputs": [
        {
          "output_type": "execute_result",
          "data": {
            "text/plain": [
              "name                 0\n",
              "release_date         0\n",
              "english              0\n",
              "developer            0\n",
              "publisher            0\n",
              "platforms            0\n",
              "required_age         0\n",
              "categories           0\n",
              "genres               0\n",
              "tags                 0\n",
              "achievements         0\n",
              "average_playtime     0\n",
              "price                0\n",
              "short_description    0\n",
              "estimated_sells      0\n",
              "rating               0\n",
              "dtype: int64"
            ]
          },
          "metadata": {},
          "execution_count": 17
        }
      ],
      "source": [
        "# veamos la cantidad de valores nulos por columna\n",
        "df_train.isnull().sum()"
      ],
      "id": "y4ECbXaiGY3o"
    },
    {
      "cell_type": "code",
      "execution_count": 18,
      "metadata": {
        "id": "yZPBcKeoRmKh"
      },
      "outputs": [],
      "source": [
        "# dropeamos los valores nulos a pesar de que no existan (medida de precaucion)\n",
        "df_train.dropna(inplace=True)"
      ],
      "id": "yZPBcKeoRmKh"
    },
    {
      "cell_type": "code",
      "execution_count": 19,
      "metadata": {
        "colab": {
          "base_uri": "https://localhost:8080/"
        },
        "id": "r7zeqJTwGNJ3",
        "outputId": "251d2e0f-1959-4675-cc22-5cf8c70bbc84"
      },
      "outputs": [
        {
          "output_type": "execute_result",
          "data": {
            "text/plain": [
              "name                   object\n",
              "release_date           object\n",
              "english                 int64\n",
              "developer              object\n",
              "publisher              object\n",
              "platforms              object\n",
              "required_age            int64\n",
              "categories             object\n",
              "genres                 object\n",
              "tags                   object\n",
              "achievements            int64\n",
              "average_playtime        int64\n",
              "price                 float64\n",
              "short_description      object\n",
              "estimated_sells         int64\n",
              "rating               category\n",
              "dtype: object"
            ]
          },
          "metadata": {},
          "execution_count": 19
        }
      ],
      "source": [
        "# Evaluemos los atributos a nivel de categoría\n",
        "df_train.dtypes"
      ],
      "id": "r7zeqJTwGNJ3"
    },
    {
      "cell_type": "markdown",
      "source": [
        "En vista que la fecha individula no aporta mucho valor, creamos dos nuevas columnas correspondientes a los años y los meses, debido a que los datos pueden estar relacionados mediante algun grado de estacionalidad."
      ],
      "metadata": {
        "id": "xToCBaWhq1MM"
      },
      "id": "xToCBaWhq1MM"
    },
    {
      "cell_type": "code",
      "execution_count": 20,
      "metadata": {
        "id": "694coBi9Syfw"
      },
      "outputs": [],
      "source": [
        "#df_train['release_date'] = pd.to_datetime(df_train['release_date'])\n",
        "df_train['year'] = pd.to_datetime(df_train['release_date']).dt.year\n",
        "df_train['month'] = pd.to_datetime(df_train['release_date']).dt.month"
      ],
      "id": "694coBi9Syfw"
    },
    {
      "cell_type": "markdown",
      "metadata": {
        "id": "H9uRe-awAM-w"
      },
      "source": [
        "Agregamos data correspondiente a las fechas de lanzamiento de las consolas de videojuegos mas importantes, estas consolas están en un mercado competitivo por los usuarios de los videojuegos, por lo que acaparan la mayor cantidad de usuarios cuando están en sus lanzamientos"
      ],
      "id": "H9uRe-awAM-w"
    },
    {
      "cell_type": "code",
      "execution_count": 21,
      "metadata": {
        "id": "jIdr4ARXACPU"
      },
      "outputs": [],
      "source": [
        "df_consolas = pd.read_csv('/content/drive/MyDrive/MDS7202_LPCPCD/Competencia/Proyecto/consolas_lanzamiento.csv')\n",
        "# procesamos un poco la tabla de datos\n",
        "df_consolas = df_consolas.drop(labels=['Unnamed: 0'], axis=1)\n",
        "df_consolas = df_consolas.dropna()\n",
        "df_consolas = df_consolas.reset_index().drop(['index'],axis=1).rename(columns={'Unnamed: 1': 'Consola','Unnamed: 2':'Release_date'}).drop(0)\n",
        "df_consolas['Release_date'] = pd.to_datetime(df_consolas['Release_date'])"
      ],
      "id": "jIdr4ARXACPU"
    },
    {
      "cell_type": "code",
      "execution_count": 22,
      "metadata": {
        "colab": {
          "base_uri": "https://localhost:8080/"
        },
        "id": "S6Q_1tq5AlnJ",
        "outputId": "1594f72d-6e6f-473c-abde-1637a14464d4"
      },
      "outputs": [
        {
          "output_type": "execute_result",
          "data": {
            "text/plain": [
              "name                   object\n",
              "release_date           object\n",
              "english                 int64\n",
              "developer              object\n",
              "publisher              object\n",
              "platforms              object\n",
              "required_age            int64\n",
              "categories             object\n",
              "genres                 object\n",
              "tags                   object\n",
              "achievements            int64\n",
              "average_playtime        int64\n",
              "price                 float64\n",
              "short_description      object\n",
              "estimated_sells         int64\n",
              "rating               category\n",
              "year                    int64\n",
              "month                   int64\n",
              "dtype: object"
            ]
          },
          "metadata": {},
          "execution_count": 22
        }
      ],
      "source": [
        "df_train.dtypes"
      ],
      "id": "S6Q_1tq5AlnJ"
    },
    {
      "cell_type": "code",
      "execution_count": 23,
      "metadata": {
        "colab": {
          "base_uri": "https://localhost:8080/",
          "height": 551
        },
        "id": "h9o7e3RrPk7G",
        "outputId": "a83cd5e8-7092-4c94-8b2a-bdef9d5a08ea"
      },
      "outputs": [
        {
          "output_type": "execute_result",
          "data": {
            "text/plain": [
              "                                       Consola Release_date\n",
              "1                                  PlayStation   1994-01-01\n",
              "2                                PlayStation 2   2000-01-01\n",
              "3                                PlayStation 3   2006-01-01\n",
              "4                                PlayStation 4   2013-01-01\n",
              "5                                PlayStation 5   2020-01-01\n",
              "6                                         Xbox   2001-01-01\n",
              "7                                     Xbox 360   2005-01-01\n",
              "8                                     Xbox One   2013-01-01\n",
              "9                              Xbox Series X/S   2020-01-01\n",
              "10         Nintendo Entertainment System (NES)   1983-01-01\n",
              "11  Super Nintendo Entertainment System (SNES)   1990-01-01\n",
              "12                                 Nintendo 64   1996-01-01\n",
              "13                                    GameCube   2001-01-01\n",
              "14                                         Wii   2006-01-01\n",
              "15                                       Wii U   2012-01-01\n",
              "16                                      Switch   2017-01-01"
            ],
            "text/html": [
              "\n",
              "  <div id=\"df-154483a1-bc29-495c-a4af-ac05327dd8c0\">\n",
              "    <div class=\"colab-df-container\">\n",
              "      <div>\n",
              "<style scoped>\n",
              "    .dataframe tbody tr th:only-of-type {\n",
              "        vertical-align: middle;\n",
              "    }\n",
              "\n",
              "    .dataframe tbody tr th {\n",
              "        vertical-align: top;\n",
              "    }\n",
              "\n",
              "    .dataframe thead th {\n",
              "        text-align: right;\n",
              "    }\n",
              "</style>\n",
              "<table border=\"1\" class=\"dataframe\">\n",
              "  <thead>\n",
              "    <tr style=\"text-align: right;\">\n",
              "      <th></th>\n",
              "      <th>Consola</th>\n",
              "      <th>Release_date</th>\n",
              "    </tr>\n",
              "  </thead>\n",
              "  <tbody>\n",
              "    <tr>\n",
              "      <th>1</th>\n",
              "      <td>PlayStation</td>\n",
              "      <td>1994-01-01</td>\n",
              "    </tr>\n",
              "    <tr>\n",
              "      <th>2</th>\n",
              "      <td>PlayStation 2</td>\n",
              "      <td>2000-01-01</td>\n",
              "    </tr>\n",
              "    <tr>\n",
              "      <th>3</th>\n",
              "      <td>PlayStation 3</td>\n",
              "      <td>2006-01-01</td>\n",
              "    </tr>\n",
              "    <tr>\n",
              "      <th>4</th>\n",
              "      <td>PlayStation 4</td>\n",
              "      <td>2013-01-01</td>\n",
              "    </tr>\n",
              "    <tr>\n",
              "      <th>5</th>\n",
              "      <td>PlayStation 5</td>\n",
              "      <td>2020-01-01</td>\n",
              "    </tr>\n",
              "    <tr>\n",
              "      <th>6</th>\n",
              "      <td>Xbox</td>\n",
              "      <td>2001-01-01</td>\n",
              "    </tr>\n",
              "    <tr>\n",
              "      <th>7</th>\n",
              "      <td>Xbox 360</td>\n",
              "      <td>2005-01-01</td>\n",
              "    </tr>\n",
              "    <tr>\n",
              "      <th>8</th>\n",
              "      <td>Xbox One</td>\n",
              "      <td>2013-01-01</td>\n",
              "    </tr>\n",
              "    <tr>\n",
              "      <th>9</th>\n",
              "      <td>Xbox Series X/S</td>\n",
              "      <td>2020-01-01</td>\n",
              "    </tr>\n",
              "    <tr>\n",
              "      <th>10</th>\n",
              "      <td>Nintendo Entertainment System (NES)</td>\n",
              "      <td>1983-01-01</td>\n",
              "    </tr>\n",
              "    <tr>\n",
              "      <th>11</th>\n",
              "      <td>Super Nintendo Entertainment System (SNES)</td>\n",
              "      <td>1990-01-01</td>\n",
              "    </tr>\n",
              "    <tr>\n",
              "      <th>12</th>\n",
              "      <td>Nintendo 64</td>\n",
              "      <td>1996-01-01</td>\n",
              "    </tr>\n",
              "    <tr>\n",
              "      <th>13</th>\n",
              "      <td>GameCube</td>\n",
              "      <td>2001-01-01</td>\n",
              "    </tr>\n",
              "    <tr>\n",
              "      <th>14</th>\n",
              "      <td>Wii</td>\n",
              "      <td>2006-01-01</td>\n",
              "    </tr>\n",
              "    <tr>\n",
              "      <th>15</th>\n",
              "      <td>Wii U</td>\n",
              "      <td>2012-01-01</td>\n",
              "    </tr>\n",
              "    <tr>\n",
              "      <th>16</th>\n",
              "      <td>Switch</td>\n",
              "      <td>2017-01-01</td>\n",
              "    </tr>\n",
              "  </tbody>\n",
              "</table>\n",
              "</div>\n",
              "      <button class=\"colab-df-convert\" onclick=\"convertToInteractive('df-154483a1-bc29-495c-a4af-ac05327dd8c0')\"\n",
              "              title=\"Convert this dataframe to an interactive table.\"\n",
              "              style=\"display:none;\">\n",
              "        \n",
              "  <svg xmlns=\"http://www.w3.org/2000/svg\" height=\"24px\"viewBox=\"0 0 24 24\"\n",
              "       width=\"24px\">\n",
              "    <path d=\"M0 0h24v24H0V0z\" fill=\"none\"/>\n",
              "    <path d=\"M18.56 5.44l.94 2.06.94-2.06 2.06-.94-2.06-.94-.94-2.06-.94 2.06-2.06.94zm-11 1L8.5 8.5l.94-2.06 2.06-.94-2.06-.94L8.5 2.5l-.94 2.06-2.06.94zm10 10l.94 2.06.94-2.06 2.06-.94-2.06-.94-.94-2.06-.94 2.06-2.06.94z\"/><path d=\"M17.41 7.96l-1.37-1.37c-.4-.4-.92-.59-1.43-.59-.52 0-1.04.2-1.43.59L10.3 9.45l-7.72 7.72c-.78.78-.78 2.05 0 2.83L4 21.41c.39.39.9.59 1.41.59.51 0 1.02-.2 1.41-.59l7.78-7.78 2.81-2.81c.8-.78.8-2.07 0-2.86zM5.41 20L4 18.59l7.72-7.72 1.47 1.35L5.41 20z\"/>\n",
              "  </svg>\n",
              "      </button>\n",
              "      \n",
              "  <style>\n",
              "    .colab-df-container {\n",
              "      display:flex;\n",
              "      flex-wrap:wrap;\n",
              "      gap: 12px;\n",
              "    }\n",
              "\n",
              "    .colab-df-convert {\n",
              "      background-color: #E8F0FE;\n",
              "      border: none;\n",
              "      border-radius: 50%;\n",
              "      cursor: pointer;\n",
              "      display: none;\n",
              "      fill: #1967D2;\n",
              "      height: 32px;\n",
              "      padding: 0 0 0 0;\n",
              "      width: 32px;\n",
              "    }\n",
              "\n",
              "    .colab-df-convert:hover {\n",
              "      background-color: #E2EBFA;\n",
              "      box-shadow: 0px 1px 2px rgba(60, 64, 67, 0.3), 0px 1px 3px 1px rgba(60, 64, 67, 0.15);\n",
              "      fill: #174EA6;\n",
              "    }\n",
              "\n",
              "    [theme=dark] .colab-df-convert {\n",
              "      background-color: #3B4455;\n",
              "      fill: #D2E3FC;\n",
              "    }\n",
              "\n",
              "    [theme=dark] .colab-df-convert:hover {\n",
              "      background-color: #434B5C;\n",
              "      box-shadow: 0px 1px 3px 1px rgba(0, 0, 0, 0.15);\n",
              "      filter: drop-shadow(0px 1px 2px rgba(0, 0, 0, 0.3));\n",
              "      fill: #FFFFFF;\n",
              "    }\n",
              "  </style>\n",
              "\n",
              "      <script>\n",
              "        const buttonEl =\n",
              "          document.querySelector('#df-154483a1-bc29-495c-a4af-ac05327dd8c0 button.colab-df-convert');\n",
              "        buttonEl.style.display =\n",
              "          google.colab.kernel.accessAllowed ? 'block' : 'none';\n",
              "\n",
              "        async function convertToInteractive(key) {\n",
              "          const element = document.querySelector('#df-154483a1-bc29-495c-a4af-ac05327dd8c0');\n",
              "          const dataTable =\n",
              "            await google.colab.kernel.invokeFunction('convertToInteractive',\n",
              "                                                     [key], {});\n",
              "          if (!dataTable) return;\n",
              "\n",
              "          const docLinkHtml = 'Like what you see? Visit the ' +\n",
              "            '<a target=\"_blank\" href=https://colab.research.google.com/notebooks/data_table.ipynb>data table notebook</a>'\n",
              "            + ' to learn more about interactive tables.';\n",
              "          element.innerHTML = '';\n",
              "          dataTable['output_type'] = 'display_data';\n",
              "          await google.colab.output.renderOutput(dataTable, element);\n",
              "          const docLink = document.createElement('div');\n",
              "          docLink.innerHTML = docLinkHtml;\n",
              "          element.appendChild(docLink);\n",
              "        }\n",
              "      </script>\n",
              "    </div>\n",
              "  </div>\n",
              "  "
            ]
          },
          "metadata": {},
          "execution_count": 23
        }
      ],
      "source": [
        "df_consolas"
      ],
      "id": "h9o7e3RrPk7G"
    },
    {
      "cell_type": "markdown",
      "source": [
        "Creamos una función para agregar estas distancias"
      ],
      "metadata": {
        "id": "vebzn7URrE1L"
      },
      "id": "vebzn7URrE1L"
    },
    {
      "cell_type": "code",
      "execution_count": 24,
      "metadata": {
        "id": "aCyt-_KAaZ8d"
      },
      "outputs": [],
      "source": [
        "def dist_dias(df_train,df_consolas):\n",
        "  # copiamos el dataframe d3e entrada\n",
        "  df_salida = df_train.copy()\n",
        "  # obtenemos una lista de las consolas\n",
        "  list_consolas = df_consolas.Consola.values.tolist()\n",
        "  for cns in list_consolas:\n",
        "    fecha = df_consolas.loc[df_consolas['Consola']==cns]['Release_date'].values[0]\n",
        "    df_salida['dist_'+cns] = 10000/(pd.to_datetime(df_train['release_date']) - fecha).dt.days\n",
        "    df_salida['dist_'+cns].replace([np.inf, -np.inf], 10000, inplace=True)\n",
        "    df_salida['dist_'+cns] = df_salida['dist_'+cns].clip(lower=0)\n",
        "  df_salida.reset_index()\n",
        "  return df_salida"
      ],
      "id": "aCyt-_KAaZ8d"
    },
    {
      "cell_type": "code",
      "execution_count": 25,
      "metadata": {
        "colab": {
          "base_uri": "https://localhost:8080/",
          "height": 887
        },
        "id": "WyUNFKVFbXcW",
        "outputId": "1cacbe9d-ac5b-42d7-b936-5d66fb0b9ab0"
      },
      "outputs": [
        {
          "output_type": "execute_result",
          "data": {
            "text/plain": [
              "                      name release_date  english  \\\n",
              "0            An Aspie Life   2018-03-29        1   \n",
              "1        GhostControl Inc.   2014-06-06        1   \n",
              "2                  Deponia   2012-08-06        1   \n",
              "3            Atlas Reactor   2016-10-04        1   \n",
              "4                  CHUCHEL   2018-03-07        1   \n",
              "...                    ...          ...      ...   \n",
              "7876  KOEWOTAYORINI / 声之寄托   2018-03-26        0   \n",
              "7877               Montaro   2016-07-25        1   \n",
              "7878            Moe Jigsaw   2018-03-23        1   \n",
              "7879      Drunkn Bar Fight   2016-11-28        1   \n",
              "7880                Intake   2013-11-06        1   \n",
              "\n",
              "                         developer                       publisher  \\\n",
              "0     Bradley Hennessey;Joe Watson               EnderLost Studios   \n",
              "1                        bumblebee  Application Systems Heidelberg   \n",
              "2           Daedalic Entertainment          Daedalic Entertainment   \n",
              "3                     Trion Worlds                    Trion Worlds   \n",
              "4                   Amanita Design                  Amanita Design   \n",
              "...                            ...                             ...   \n",
              "7876                          あみそ組       Pujia8 Studio;Gamera Game   \n",
              "7877                       JCKSLAP                            MBDL   \n",
              "7878                     ARES Inc.                       ARES Inc.   \n",
              "7879                     The Munky                       The Munky   \n",
              "7880          Cipher Prime Studios            Cipher Prime Studios   \n",
              "\n",
              "              platforms  required_age  \\\n",
              "0               windows             0   \n",
              "1     windows;mac;linux             0   \n",
              "2     windows;mac;linux             0   \n",
              "3               windows             0   \n",
              "4           windows;mac             0   \n",
              "...                 ...           ...   \n",
              "7876            windows             0   \n",
              "7877            windows             0   \n",
              "7878            windows             0   \n",
              "7879            windows             0   \n",
              "7880        windows;mac             0   \n",
              "\n",
              "                                             categories  \\\n",
              "0                      Single-player;Steam Achievements   \n",
              "1     Single-player;Steam Achievements;Steam Trading...   \n",
              "2     Single-player;Steam Achievements;Steam Trading...   \n",
              "3     Multi-player;Online Multi-Player;Steam Achieve...   \n",
              "4     Single-player;Steam Achievements;Steam Trading...   \n",
              "...                                                 ...   \n",
              "7876       Single-player;Steam Achievements;Steam Cloud   \n",
              "7877  Single-player;Steam Achievements;Steam Trading...   \n",
              "7878  Single-player;Steam Achievements;Steam Trading...   \n",
              "7879  Single-player;Multi-player;Online Multi-Player...   \n",
              "7880  Single-player;Steam Achievements;Steam Cloud;S...   \n",
              "\n",
              "                                              genres  \\\n",
              "0     Adventure;Casual;Free to Play;Indie;Simulation   \n",
              "1                   Casual;Indie;Simulation;Strategy   \n",
              "2                                    Adventure;Indie   \n",
              "3                              Free to Play;Strategy   \n",
              "4                             Adventure;Casual;Indie   \n",
              "...                                              ...   \n",
              "7876                Adventure;Free to Play;Indie;RPG   \n",
              "7877                                    Casual;Indie   \n",
              "7878                                    Casual;Indie   \n",
              "7879                       Action;Indie;Early Access   \n",
              "7880                                    Action;Indie   \n",
              "\n",
              "                                   tags  ...  dist_Xbox 360  dist_Xbox One  \\\n",
              "0          Free to Play;Adventure;Indie  ...       2.068252       5.227392   \n",
              "1           Turn-Based;Indie;Simulation  ...       2.904444      19.193858   \n",
              "2        Adventure;Point & Click;Comedy  ...       3.604903       0.000000   \n",
              "3     Free to Play;Multiplayer;Strategy  ...       2.328831       7.288630   \n",
              "4                Adventure;Indie;Casual  ...       2.077706       5.288207   \n",
              "...                                 ...  ...            ...            ...   \n",
              "7876       Free to Play;Adventure;Anime  ...       2.069536       5.235602   \n",
              "7877                  Memes;Cute;Casual  ...       2.367985       7.686395   \n",
              "7878                Casual;Nudity;Indie  ...       2.070822       5.243838   \n",
              "7879          Early Access;Action;Indie  ...       2.299379       7.007708   \n",
              "7880      Indie;Action;Great Soundtrack  ...       3.095017      32.362460   \n",
              "\n",
              "      dist_Xbox Series X/S dist_Nintendo Entertainment System (NES)  \\\n",
              "0                      0.0                                 0.776940   \n",
              "1                      0.0                                 0.871156   \n",
              "2                      0.0                                 0.925069   \n",
              "3                      0.0                                 0.811030   \n",
              "4                      0.0                                 0.778271   \n",
              "...                    ...                                      ...   \n",
              "7876                   0.0                                 0.777122   \n",
              "7877                   0.0                                 0.815727   \n",
              "7878                   0.0                                 0.777303   \n",
              "7879                   0.0                                 0.807428   \n",
              "7880                   0.0                                 0.887548   \n",
              "\n",
              "      dist_Super Nintendo Entertainment System (SNES) dist_Nintendo 64  \\\n",
              "0                                            0.969556         1.231072   \n",
              "1                                            1.120825         1.485663   \n",
              "2                                            1.211681         1.649621   \n",
              "3                                            1.023227         1.318913   \n",
              "4                                            0.971628         1.234416   \n",
              "...                                               ...              ...   \n",
              "7876                                         0.969838         1.231527   \n",
              "7877                                         1.030715         1.331381   \n",
              "7878                                         0.970120         1.231982   \n",
              "7879                                         1.017501         1.309415   \n",
              "7880                                         1.148106         1.533978   \n",
              "\n",
              "      dist_GameCube  dist_Wii  dist_Wii U  dist_Switch  \n",
              "0          1.588310  2.237136    4.387889    22.123894  \n",
              "1          2.039152  3.248863   11.273957     0.000000  \n",
              "2          2.361275  4.151100   45.871560     0.000000  \n",
              "3          1.737619  2.545177    5.753740     0.000000  \n",
              "4          1.593880  2.248201    4.430660    23.255814  \n",
              "...             ...       ...         ...          ...  \n",
              "7876       1.589067  2.238639    4.393673    22.271715  \n",
              "7877       1.759324  2.592017    5.998800     0.000000  \n",
              "7878       1.589825  2.240143    4.399472    22.421525  \n",
              "7879       1.721170  2.510040    5.577245     0.000000  \n",
              "7880       2.131287  3.489184   14.814815     0.000000  \n",
              "\n",
              "[7881 rows x 34 columns]"
            ],
            "text/html": [
              "\n",
              "  <div id=\"df-f235e914-ef44-4512-a417-c590181f7a63\">\n",
              "    <div class=\"colab-df-container\">\n",
              "      <div>\n",
              "<style scoped>\n",
              "    .dataframe tbody tr th:only-of-type {\n",
              "        vertical-align: middle;\n",
              "    }\n",
              "\n",
              "    .dataframe tbody tr th {\n",
              "        vertical-align: top;\n",
              "    }\n",
              "\n",
              "    .dataframe thead th {\n",
              "        text-align: right;\n",
              "    }\n",
              "</style>\n",
              "<table border=\"1\" class=\"dataframe\">\n",
              "  <thead>\n",
              "    <tr style=\"text-align: right;\">\n",
              "      <th></th>\n",
              "      <th>name</th>\n",
              "      <th>release_date</th>\n",
              "      <th>english</th>\n",
              "      <th>developer</th>\n",
              "      <th>publisher</th>\n",
              "      <th>platforms</th>\n",
              "      <th>required_age</th>\n",
              "      <th>categories</th>\n",
              "      <th>genres</th>\n",
              "      <th>tags</th>\n",
              "      <th>...</th>\n",
              "      <th>dist_Xbox 360</th>\n",
              "      <th>dist_Xbox One</th>\n",
              "      <th>dist_Xbox Series X/S</th>\n",
              "      <th>dist_Nintendo Entertainment System (NES)</th>\n",
              "      <th>dist_Super Nintendo Entertainment System (SNES)</th>\n",
              "      <th>dist_Nintendo 64</th>\n",
              "      <th>dist_GameCube</th>\n",
              "      <th>dist_Wii</th>\n",
              "      <th>dist_Wii U</th>\n",
              "      <th>dist_Switch</th>\n",
              "    </tr>\n",
              "  </thead>\n",
              "  <tbody>\n",
              "    <tr>\n",
              "      <th>0</th>\n",
              "      <td>An Aspie Life</td>\n",
              "      <td>2018-03-29</td>\n",
              "      <td>1</td>\n",
              "      <td>Bradley Hennessey;Joe Watson</td>\n",
              "      <td>EnderLost Studios</td>\n",
              "      <td>windows</td>\n",
              "      <td>0</td>\n",
              "      <td>Single-player;Steam Achievements</td>\n",
              "      <td>Adventure;Casual;Free to Play;Indie;Simulation</td>\n",
              "      <td>Free to Play;Adventure;Indie</td>\n",
              "      <td>...</td>\n",
              "      <td>2.068252</td>\n",
              "      <td>5.227392</td>\n",
              "      <td>0.0</td>\n",
              "      <td>0.776940</td>\n",
              "      <td>0.969556</td>\n",
              "      <td>1.231072</td>\n",
              "      <td>1.588310</td>\n",
              "      <td>2.237136</td>\n",
              "      <td>4.387889</td>\n",
              "      <td>22.123894</td>\n",
              "    </tr>\n",
              "    <tr>\n",
              "      <th>1</th>\n",
              "      <td>GhostControl Inc.</td>\n",
              "      <td>2014-06-06</td>\n",
              "      <td>1</td>\n",
              "      <td>bumblebee</td>\n",
              "      <td>Application Systems Heidelberg</td>\n",
              "      <td>windows;mac;linux</td>\n",
              "      <td>0</td>\n",
              "      <td>Single-player;Steam Achievements;Steam Trading...</td>\n",
              "      <td>Casual;Indie;Simulation;Strategy</td>\n",
              "      <td>Turn-Based;Indie;Simulation</td>\n",
              "      <td>...</td>\n",
              "      <td>2.904444</td>\n",
              "      <td>19.193858</td>\n",
              "      <td>0.0</td>\n",
              "      <td>0.871156</td>\n",
              "      <td>1.120825</td>\n",
              "      <td>1.485663</td>\n",
              "      <td>2.039152</td>\n",
              "      <td>3.248863</td>\n",
              "      <td>11.273957</td>\n",
              "      <td>0.000000</td>\n",
              "    </tr>\n",
              "    <tr>\n",
              "      <th>2</th>\n",
              "      <td>Deponia</td>\n",
              "      <td>2012-08-06</td>\n",
              "      <td>1</td>\n",
              "      <td>Daedalic Entertainment</td>\n",
              "      <td>Daedalic Entertainment</td>\n",
              "      <td>windows;mac;linux</td>\n",
              "      <td>0</td>\n",
              "      <td>Single-player;Steam Achievements;Steam Trading...</td>\n",
              "      <td>Adventure;Indie</td>\n",
              "      <td>Adventure;Point &amp; Click;Comedy</td>\n",
              "      <td>...</td>\n",
              "      <td>3.604903</td>\n",
              "      <td>0.000000</td>\n",
              "      <td>0.0</td>\n",
              "      <td>0.925069</td>\n",
              "      <td>1.211681</td>\n",
              "      <td>1.649621</td>\n",
              "      <td>2.361275</td>\n",
              "      <td>4.151100</td>\n",
              "      <td>45.871560</td>\n",
              "      <td>0.000000</td>\n",
              "    </tr>\n",
              "    <tr>\n",
              "      <th>3</th>\n",
              "      <td>Atlas Reactor</td>\n",
              "      <td>2016-10-04</td>\n",
              "      <td>1</td>\n",
              "      <td>Trion Worlds</td>\n",
              "      <td>Trion Worlds</td>\n",
              "      <td>windows</td>\n",
              "      <td>0</td>\n",
              "      <td>Multi-player;Online Multi-Player;Steam Achieve...</td>\n",
              "      <td>Free to Play;Strategy</td>\n",
              "      <td>Free to Play;Multiplayer;Strategy</td>\n",
              "      <td>...</td>\n",
              "      <td>2.328831</td>\n",
              "      <td>7.288630</td>\n",
              "      <td>0.0</td>\n",
              "      <td>0.811030</td>\n",
              "      <td>1.023227</td>\n",
              "      <td>1.318913</td>\n",
              "      <td>1.737619</td>\n",
              "      <td>2.545177</td>\n",
              "      <td>5.753740</td>\n",
              "      <td>0.000000</td>\n",
              "    </tr>\n",
              "    <tr>\n",
              "      <th>4</th>\n",
              "      <td>CHUCHEL</td>\n",
              "      <td>2018-03-07</td>\n",
              "      <td>1</td>\n",
              "      <td>Amanita Design</td>\n",
              "      <td>Amanita Design</td>\n",
              "      <td>windows;mac</td>\n",
              "      <td>0</td>\n",
              "      <td>Single-player;Steam Achievements;Steam Trading...</td>\n",
              "      <td>Adventure;Casual;Indie</td>\n",
              "      <td>Adventure;Indie;Casual</td>\n",
              "      <td>...</td>\n",
              "      <td>2.077706</td>\n",
              "      <td>5.288207</td>\n",
              "      <td>0.0</td>\n",
              "      <td>0.778271</td>\n",
              "      <td>0.971628</td>\n",
              "      <td>1.234416</td>\n",
              "      <td>1.593880</td>\n",
              "      <td>2.248201</td>\n",
              "      <td>4.430660</td>\n",
              "      <td>23.255814</td>\n",
              "    </tr>\n",
              "    <tr>\n",
              "      <th>...</th>\n",
              "      <td>...</td>\n",
              "      <td>...</td>\n",
              "      <td>...</td>\n",
              "      <td>...</td>\n",
              "      <td>...</td>\n",
              "      <td>...</td>\n",
              "      <td>...</td>\n",
              "      <td>...</td>\n",
              "      <td>...</td>\n",
              "      <td>...</td>\n",
              "      <td>...</td>\n",
              "      <td>...</td>\n",
              "      <td>...</td>\n",
              "      <td>...</td>\n",
              "      <td>...</td>\n",
              "      <td>...</td>\n",
              "      <td>...</td>\n",
              "      <td>...</td>\n",
              "      <td>...</td>\n",
              "      <td>...</td>\n",
              "      <td>...</td>\n",
              "    </tr>\n",
              "    <tr>\n",
              "      <th>7876</th>\n",
              "      <td>KOEWOTAYORINI / 声之寄托</td>\n",
              "      <td>2018-03-26</td>\n",
              "      <td>0</td>\n",
              "      <td>あみそ組</td>\n",
              "      <td>Pujia8 Studio;Gamera Game</td>\n",
              "      <td>windows</td>\n",
              "      <td>0</td>\n",
              "      <td>Single-player;Steam Achievements;Steam Cloud</td>\n",
              "      <td>Adventure;Free to Play;Indie;RPG</td>\n",
              "      <td>Free to Play;Adventure;Anime</td>\n",
              "      <td>...</td>\n",
              "      <td>2.069536</td>\n",
              "      <td>5.235602</td>\n",
              "      <td>0.0</td>\n",
              "      <td>0.777122</td>\n",
              "      <td>0.969838</td>\n",
              "      <td>1.231527</td>\n",
              "      <td>1.589067</td>\n",
              "      <td>2.238639</td>\n",
              "      <td>4.393673</td>\n",
              "      <td>22.271715</td>\n",
              "    </tr>\n",
              "    <tr>\n",
              "      <th>7877</th>\n",
              "      <td>Montaro</td>\n",
              "      <td>2016-07-25</td>\n",
              "      <td>1</td>\n",
              "      <td>JCKSLAP</td>\n",
              "      <td>MBDL</td>\n",
              "      <td>windows</td>\n",
              "      <td>0</td>\n",
              "      <td>Single-player;Steam Achievements;Steam Trading...</td>\n",
              "      <td>Casual;Indie</td>\n",
              "      <td>Memes;Cute;Casual</td>\n",
              "      <td>...</td>\n",
              "      <td>2.367985</td>\n",
              "      <td>7.686395</td>\n",
              "      <td>0.0</td>\n",
              "      <td>0.815727</td>\n",
              "      <td>1.030715</td>\n",
              "      <td>1.331381</td>\n",
              "      <td>1.759324</td>\n",
              "      <td>2.592017</td>\n",
              "      <td>5.998800</td>\n",
              "      <td>0.000000</td>\n",
              "    </tr>\n",
              "    <tr>\n",
              "      <th>7878</th>\n",
              "      <td>Moe Jigsaw</td>\n",
              "      <td>2018-03-23</td>\n",
              "      <td>1</td>\n",
              "      <td>ARES Inc.</td>\n",
              "      <td>ARES Inc.</td>\n",
              "      <td>windows</td>\n",
              "      <td>0</td>\n",
              "      <td>Single-player;Steam Achievements;Steam Trading...</td>\n",
              "      <td>Casual;Indie</td>\n",
              "      <td>Casual;Nudity;Indie</td>\n",
              "      <td>...</td>\n",
              "      <td>2.070822</td>\n",
              "      <td>5.243838</td>\n",
              "      <td>0.0</td>\n",
              "      <td>0.777303</td>\n",
              "      <td>0.970120</td>\n",
              "      <td>1.231982</td>\n",
              "      <td>1.589825</td>\n",
              "      <td>2.240143</td>\n",
              "      <td>4.399472</td>\n",
              "      <td>22.421525</td>\n",
              "    </tr>\n",
              "    <tr>\n",
              "      <th>7879</th>\n",
              "      <td>Drunkn Bar Fight</td>\n",
              "      <td>2016-11-28</td>\n",
              "      <td>1</td>\n",
              "      <td>The Munky</td>\n",
              "      <td>The Munky</td>\n",
              "      <td>windows</td>\n",
              "      <td>0</td>\n",
              "      <td>Single-player;Multi-player;Online Multi-Player...</td>\n",
              "      <td>Action;Indie;Early Access</td>\n",
              "      <td>Early Access;Action;Indie</td>\n",
              "      <td>...</td>\n",
              "      <td>2.299379</td>\n",
              "      <td>7.007708</td>\n",
              "      <td>0.0</td>\n",
              "      <td>0.807428</td>\n",
              "      <td>1.017501</td>\n",
              "      <td>1.309415</td>\n",
              "      <td>1.721170</td>\n",
              "      <td>2.510040</td>\n",
              "      <td>5.577245</td>\n",
              "      <td>0.000000</td>\n",
              "    </tr>\n",
              "    <tr>\n",
              "      <th>7880</th>\n",
              "      <td>Intake</td>\n",
              "      <td>2013-11-06</td>\n",
              "      <td>1</td>\n",
              "      <td>Cipher Prime Studios</td>\n",
              "      <td>Cipher Prime Studios</td>\n",
              "      <td>windows;mac</td>\n",
              "      <td>0</td>\n",
              "      <td>Single-player;Steam Achievements;Steam Cloud;S...</td>\n",
              "      <td>Action;Indie</td>\n",
              "      <td>Indie;Action;Great Soundtrack</td>\n",
              "      <td>...</td>\n",
              "      <td>3.095017</td>\n",
              "      <td>32.362460</td>\n",
              "      <td>0.0</td>\n",
              "      <td>0.887548</td>\n",
              "      <td>1.148106</td>\n",
              "      <td>1.533978</td>\n",
              "      <td>2.131287</td>\n",
              "      <td>3.489184</td>\n",
              "      <td>14.814815</td>\n",
              "      <td>0.000000</td>\n",
              "    </tr>\n",
              "  </tbody>\n",
              "</table>\n",
              "<p>7881 rows × 34 columns</p>\n",
              "</div>\n",
              "      <button class=\"colab-df-convert\" onclick=\"convertToInteractive('df-f235e914-ef44-4512-a417-c590181f7a63')\"\n",
              "              title=\"Convert this dataframe to an interactive table.\"\n",
              "              style=\"display:none;\">\n",
              "        \n",
              "  <svg xmlns=\"http://www.w3.org/2000/svg\" height=\"24px\"viewBox=\"0 0 24 24\"\n",
              "       width=\"24px\">\n",
              "    <path d=\"M0 0h24v24H0V0z\" fill=\"none\"/>\n",
              "    <path d=\"M18.56 5.44l.94 2.06.94-2.06 2.06-.94-2.06-.94-.94-2.06-.94 2.06-2.06.94zm-11 1L8.5 8.5l.94-2.06 2.06-.94-2.06-.94L8.5 2.5l-.94 2.06-2.06.94zm10 10l.94 2.06.94-2.06 2.06-.94-2.06-.94-.94-2.06-.94 2.06-2.06.94z\"/><path d=\"M17.41 7.96l-1.37-1.37c-.4-.4-.92-.59-1.43-.59-.52 0-1.04.2-1.43.59L10.3 9.45l-7.72 7.72c-.78.78-.78 2.05 0 2.83L4 21.41c.39.39.9.59 1.41.59.51 0 1.02-.2 1.41-.59l7.78-7.78 2.81-2.81c.8-.78.8-2.07 0-2.86zM5.41 20L4 18.59l7.72-7.72 1.47 1.35L5.41 20z\"/>\n",
              "  </svg>\n",
              "      </button>\n",
              "      \n",
              "  <style>\n",
              "    .colab-df-container {\n",
              "      display:flex;\n",
              "      flex-wrap:wrap;\n",
              "      gap: 12px;\n",
              "    }\n",
              "\n",
              "    .colab-df-convert {\n",
              "      background-color: #E8F0FE;\n",
              "      border: none;\n",
              "      border-radius: 50%;\n",
              "      cursor: pointer;\n",
              "      display: none;\n",
              "      fill: #1967D2;\n",
              "      height: 32px;\n",
              "      padding: 0 0 0 0;\n",
              "      width: 32px;\n",
              "    }\n",
              "\n",
              "    .colab-df-convert:hover {\n",
              "      background-color: #E2EBFA;\n",
              "      box-shadow: 0px 1px 2px rgba(60, 64, 67, 0.3), 0px 1px 3px 1px rgba(60, 64, 67, 0.15);\n",
              "      fill: #174EA6;\n",
              "    }\n",
              "\n",
              "    [theme=dark] .colab-df-convert {\n",
              "      background-color: #3B4455;\n",
              "      fill: #D2E3FC;\n",
              "    }\n",
              "\n",
              "    [theme=dark] .colab-df-convert:hover {\n",
              "      background-color: #434B5C;\n",
              "      box-shadow: 0px 1px 3px 1px rgba(0, 0, 0, 0.15);\n",
              "      filter: drop-shadow(0px 1px 2px rgba(0, 0, 0, 0.3));\n",
              "      fill: #FFFFFF;\n",
              "    }\n",
              "  </style>\n",
              "\n",
              "      <script>\n",
              "        const buttonEl =\n",
              "          document.querySelector('#df-f235e914-ef44-4512-a417-c590181f7a63 button.colab-df-convert');\n",
              "        buttonEl.style.display =\n",
              "          google.colab.kernel.accessAllowed ? 'block' : 'none';\n",
              "\n",
              "        async function convertToInteractive(key) {\n",
              "          const element = document.querySelector('#df-f235e914-ef44-4512-a417-c590181f7a63');\n",
              "          const dataTable =\n",
              "            await google.colab.kernel.invokeFunction('convertToInteractive',\n",
              "                                                     [key], {});\n",
              "          if (!dataTable) return;\n",
              "\n",
              "          const docLinkHtml = 'Like what you see? Visit the ' +\n",
              "            '<a target=\"_blank\" href=https://colab.research.google.com/notebooks/data_table.ipynb>data table notebook</a>'\n",
              "            + ' to learn more about interactive tables.';\n",
              "          element.innerHTML = '';\n",
              "          dataTable['output_type'] = 'display_data';\n",
              "          await google.colab.output.renderOutput(dataTable, element);\n",
              "          const docLink = document.createElement('div');\n",
              "          docLink.innerHTML = docLinkHtml;\n",
              "          element.appendChild(docLink);\n",
              "        }\n",
              "      </script>\n",
              "    </div>\n",
              "  </div>\n",
              "  "
            ]
          },
          "metadata": {},
          "execution_count": 25
        }
      ],
      "source": [
        "df_train = dist_dias(df_train,df_consolas)\n",
        "df_train"
      ],
      "id": "WyUNFKVFbXcW"
    },
    {
      "cell_type": "code",
      "execution_count": 26,
      "metadata": {
        "colab": {
          "base_uri": "https://localhost:8080/"
        },
        "id": "yM75tSSMcoDu",
        "outputId": "a8d8e573-505d-4b27-a8ca-689a85ac9a6d"
      },
      "outputs": [
        {
          "output_type": "execute_result",
          "data": {
            "text/plain": [
              "name                                               0\n",
              "release_date                                       0\n",
              "english                                            0\n",
              "developer                                          0\n",
              "publisher                                          0\n",
              "platforms                                          0\n",
              "required_age                                       0\n",
              "categories                                         0\n",
              "genres                                             0\n",
              "tags                                               0\n",
              "achievements                                       0\n",
              "average_playtime                                   0\n",
              "price                                              0\n",
              "short_description                                  0\n",
              "estimated_sells                                    0\n",
              "rating                                             0\n",
              "year                                               0\n",
              "month                                              0\n",
              "dist_PlayStation                                   0\n",
              "dist_PlayStation 2                                 0\n",
              "dist_PlayStation 3                                 0\n",
              "dist_PlayStation 4                                 0\n",
              "dist_PlayStation 5                                 0\n",
              "dist_Xbox                                          0\n",
              "dist_Xbox 360                                      0\n",
              "dist_Xbox One                                      0\n",
              "dist_Xbox Series X/S                               0\n",
              "dist_Nintendo Entertainment System (NES)           0\n",
              "dist_Super Nintendo Entertainment System (SNES)    0\n",
              "dist_Nintendo 64                                   0\n",
              "dist_GameCube                                      0\n",
              "dist_Wii                                           0\n",
              "dist_Wii U                                         0\n",
              "dist_Switch                                        0\n",
              "dtype: int64"
            ]
          },
          "metadata": {},
          "execution_count": 26
        }
      ],
      "source": [
        "# veamos la cantidad de valores nulos por columna\n",
        "df_train.isnull().sum()"
      ],
      "id": "yM75tSSMcoDu"
    },
    {
      "cell_type": "markdown",
      "source": [
        "A continuación implementamos un modelo preentrenado de BERT\n",
        "\n"
      ],
      "metadata": {
        "id": "Kdjm5ihkrJgU"
      },
      "id": "Kdjm5ihkrJgU"
    },
    {
      "cell_type": "markdown",
      "metadata": {
        "id": "1ejkn8KblAWS"
      },
      "source": [
        "## Sentimientos de descripciones"
      ],
      "id": "1ejkn8KblAWS"
    },
    {
      "cell_type": "markdown",
      "metadata": {
        "id": "TVlpBXktjyPb"
      },
      "source": [
        "Análisis de sentimientos en las descripciones con BERT:\n",
        "\n",
        "Utilizamos BERT para crear un modelo de análisis de sentimientos sobre las descripciones de los videojuegos, las funciones objetivos son el rating de los videojuegos. Divididos en 3 clases: \n",
        "\n",
        "Negativo: Negative\n",
        "\n",
        "Neutro: Mixed, Mostly Positive\n",
        "\n",
        "Positivo: Positive,  Very Positive\n",
        "\n",
        "Luego con este modelo generamos una nueva columna que entrega el sentimiento clasificado por BERT.\n",
        "\n"
      ],
      "id": "TVlpBXktjyPb"
    },
    {
      "cell_type": "code",
      "execution_count": null,
      "metadata": {
        "colab": {
          "base_uri": "https://localhost:8080/"
        },
        "id": "njFEGwP7lJpI",
        "outputId": "503f313f-9f89-4bad-f69c-a4f752fc065d"
      },
      "outputs": [
        {
          "name": "stdout",
          "output_type": "stream",
          "text": [
            "Looking in indexes: https://pypi.org/simple, https://us-python.pkg.dev/colab-wheels/public/simple/\n",
            "Requirement already satisfied: transformers in /usr/local/lib/python3.8/dist-packages (4.25.1)\n",
            "Requirement already satisfied: tqdm>=4.27 in /usr/local/lib/python3.8/dist-packages (from transformers) (4.64.1)\n",
            "Requirement already satisfied: tokenizers!=0.11.3,<0.14,>=0.11.1 in /usr/local/lib/python3.8/dist-packages (from transformers) (0.13.2)\n",
            "Requirement already satisfied: regex!=2019.12.17 in /usr/local/lib/python3.8/dist-packages (from transformers) (2022.6.2)\n",
            "Requirement already satisfied: filelock in /usr/local/lib/python3.8/dist-packages (from transformers) (3.8.0)\n",
            "Requirement already satisfied: packaging>=20.0 in /usr/local/lib/python3.8/dist-packages (from transformers) (21.3)\n",
            "Requirement already satisfied: numpy>=1.17 in /usr/local/lib/python3.8/dist-packages (from transformers) (1.21.6)\n",
            "Requirement already satisfied: huggingface-hub<1.0,>=0.10.0 in /usr/local/lib/python3.8/dist-packages (from transformers) (0.11.1)\n",
            "Requirement already satisfied: pyyaml>=5.1 in /usr/local/lib/python3.8/dist-packages (from transformers) (6.0)\n",
            "Requirement already satisfied: requests in /usr/local/lib/python3.8/dist-packages (from transformers) (2.23.0)\n",
            "Requirement already satisfied: typing-extensions>=3.7.4.3 in /usr/local/lib/python3.8/dist-packages (from huggingface-hub<1.0,>=0.10.0->transformers) (4.4.0)\n",
            "Requirement already satisfied: pyparsing!=3.0.5,>=2.0.2 in /usr/local/lib/python3.8/dist-packages (from packaging>=20.0->transformers) (3.0.9)\n",
            "Requirement already satisfied: certifi>=2017.4.17 in /usr/local/lib/python3.8/dist-packages (from requests->transformers) (2022.9.24)\n",
            "Requirement already satisfied: urllib3!=1.25.0,!=1.25.1,<1.26,>=1.21.1 in /usr/local/lib/python3.8/dist-packages (from requests->transformers) (1.24.3)\n",
            "Requirement already satisfied: chardet<4,>=3.0.2 in /usr/local/lib/python3.8/dist-packages (from requests->transformers) (3.0.4)\n",
            "Requirement already satisfied: idna<3,>=2.5 in /usr/local/lib/python3.8/dist-packages (from requests->transformers) (2.10)\n"
          ]
        }
      ],
      "source": [
        "!pip install transformers"
      ],
      "id": "njFEGwP7lJpI"
    },
    {
      "cell_type": "code",
      "execution_count": null,
      "metadata": {
        "id": "h_FLhjKMlTwR"
      },
      "outputs": [],
      "source": [
        "# librerias necesarias\n",
        "from transformers import BertModel, BertTokenizer, AdamW, get_linear_schedule_with_warmup\n",
        "import torch\n",
        "from torch import nn, optim\n",
        "from torch.utils.data import Dataset, DataLoader\n",
        "from collections import defaultdict"
      ],
      "id": "h_FLhjKMlTwR"
    },
    {
      "cell_type": "code",
      "execution_count": null,
      "metadata": {
        "id": "qgxRTc0ElNrx"
      },
      "outputs": [],
      "source": [
        "from transformers import BertTokenizer, TFBertForSequenceClassification\n",
        "\n",
        "#model = TFBertForSequenceClassification.from_pretrained('bert-base-cased')\n",
        "tokenizer = BertTokenizer.from_pretrained('bert-base-cased')"
      ],
      "id": "qgxRTc0ElNrx"
    },
    {
      "cell_type": "markdown",
      "metadata": {
        "id": "yDPIJpCGm9uq"
      },
      "source": [
        "Tratemos con los datos ahora"
      ],
      "id": "yDPIJpCGm9uq"
    },
    {
      "cell_type": "code",
      "execution_count": null,
      "metadata": {
        "colab": {
          "base_uri": "https://localhost:8080/"
        },
        "id": "xEDcJgHBncQS",
        "outputId": "25a52881-3320-42b5-b778-ff9d32d748e5"
      },
      "outputs": [
        {
          "data": {
            "text/plain": [
              "Index(['name', 'release_date', 'english', 'developer', 'publisher',\n",
              "       'platforms', 'required_age', 'categories', 'genres', 'tags',\n",
              "       'achievements', 'average_playtime', 'price', 'short_description',\n",
              "       'estimated_sells', 'rating', 'year', 'month', 'dist_PlayStation',\n",
              "       'dist_PlayStation 2', 'dist_PlayStation 3', 'dist_PlayStation 4',\n",
              "       'dist_PlayStation 5', 'dist_Xbox', 'dist_Xbox 360', 'dist_Xbox One',\n",
              "       'dist_Xbox Series X/S', 'dist_Nintendo Entertainment System (NES)',\n",
              "       'dist_Super Nintendo Entertainment System (SNES)', 'dist_Nintendo 64',\n",
              "       'dist_GameCube', 'dist_Wii', 'dist_Wii U', 'dist_Switch'],\n",
              "      dtype='object')"
            ]
          },
          "execution_count": 30,
          "metadata": {},
          "output_type": "execute_result"
        }
      ],
      "source": [
        "df_train.columns"
      ],
      "id": "xEDcJgHBncQS"
    },
    {
      "cell_type": "code",
      "execution_count": null,
      "metadata": {
        "colab": {
          "base_uri": "https://localhost:8080/",
          "height": 424
        },
        "id": "r4Oefd4Tlodh",
        "outputId": "1da73635-bd38-4c15-c575-8a4ed8a866e8"
      },
      "outputs": [
        {
          "data": {
            "text/html": [
              "\n",
              "  <div id=\"df-547a0be0-7b60-4f6f-86ef-b1970fbed3a9\">\n",
              "    <div class=\"colab-df-container\">\n",
              "      <div>\n",
              "<style scoped>\n",
              "    .dataframe tbody tr th:only-of-type {\n",
              "        vertical-align: middle;\n",
              "    }\n",
              "\n",
              "    .dataframe tbody tr th {\n",
              "        vertical-align: top;\n",
              "    }\n",
              "\n",
              "    .dataframe thead th {\n",
              "        text-align: right;\n",
              "    }\n",
              "</style>\n",
              "<table border=\"1\" class=\"dataframe\">\n",
              "  <thead>\n",
              "    <tr style=\"text-align: right;\">\n",
              "      <th></th>\n",
              "      <th>short_description</th>\n",
              "      <th>rating</th>\n",
              "    </tr>\n",
              "  </thead>\n",
              "  <tbody>\n",
              "    <tr>\n",
              "      <th>0</th>\n",
              "      <td>One day your roommate Leaves for no reason. Yo...</td>\n",
              "      <td>Mixed</td>\n",
              "    </tr>\n",
              "    <tr>\n",
              "      <th>1</th>\n",
              "      <td>Manage a team of ghosthunters and free London ...</td>\n",
              "      <td>Mixed</td>\n",
              "    </tr>\n",
              "    <tr>\n",
              "      <th>2</th>\n",
              "      <td>In Deponia, the world has degenerated into a v...</td>\n",
              "      <td>Positive</td>\n",
              "    </tr>\n",
              "    <tr>\n",
              "      <th>3</th>\n",
              "      <td>SEASON 6 NOW LIVE! The battle for Atlas contin...</td>\n",
              "      <td>Positive</td>\n",
              "    </tr>\n",
              "    <tr>\n",
              "      <th>4</th>\n",
              "      <td>CHUCHEL is a comedy adventure game from the cr...</td>\n",
              "      <td>Mostly Positive</td>\n",
              "    </tr>\n",
              "    <tr>\n",
              "      <th>...</th>\n",
              "      <td>...</td>\n",
              "      <td>...</td>\n",
              "    </tr>\n",
              "    <tr>\n",
              "      <th>7876</th>\n",
              "      <td>“喂喂，求求你啦！救救我！” ——你接到这样一个电话 发出这样的求救，给你打电话的人，是一名...</td>\n",
              "      <td>Positive</td>\n",
              "    </tr>\n",
              "    <tr>\n",
              "      <th>7877</th>\n",
              "      <td>Montaro is a DOGE.</td>\n",
              "      <td>Very Positive</td>\n",
              "    </tr>\n",
              "    <tr>\n",
              "      <th>7878</th>\n",
              "      <td>&amp;quot;Moe Jigsaw&amp;quot; is the definitive versi...</td>\n",
              "      <td>Mostly Positive</td>\n",
              "    </tr>\n",
              "    <tr>\n",
              "      <th>7879</th>\n",
              "      <td>VR PARTY GAMEDrunkn Bar Fight is a simple, imm...</td>\n",
              "      <td>Mostly Positive</td>\n",
              "    </tr>\n",
              "    <tr>\n",
              "      <th>7880</th>\n",
              "      <td>Intake is the new retro-futuristic drugstep ar...</td>\n",
              "      <td>Very Positive</td>\n",
              "    </tr>\n",
              "  </tbody>\n",
              "</table>\n",
              "<p>7881 rows × 2 columns</p>\n",
              "</div>\n",
              "      <button class=\"colab-df-convert\" onclick=\"convertToInteractive('df-547a0be0-7b60-4f6f-86ef-b1970fbed3a9')\"\n",
              "              title=\"Convert this dataframe to an interactive table.\"\n",
              "              style=\"display:none;\">\n",
              "        \n",
              "  <svg xmlns=\"http://www.w3.org/2000/svg\" height=\"24px\"viewBox=\"0 0 24 24\"\n",
              "       width=\"24px\">\n",
              "    <path d=\"M0 0h24v24H0V0z\" fill=\"none\"/>\n",
              "    <path d=\"M18.56 5.44l.94 2.06.94-2.06 2.06-.94-2.06-.94-.94-2.06-.94 2.06-2.06.94zm-11 1L8.5 8.5l.94-2.06 2.06-.94-2.06-.94L8.5 2.5l-.94 2.06-2.06.94zm10 10l.94 2.06.94-2.06 2.06-.94-2.06-.94-.94-2.06-.94 2.06-2.06.94z\"/><path d=\"M17.41 7.96l-1.37-1.37c-.4-.4-.92-.59-1.43-.59-.52 0-1.04.2-1.43.59L10.3 9.45l-7.72 7.72c-.78.78-.78 2.05 0 2.83L4 21.41c.39.39.9.59 1.41.59.51 0 1.02-.2 1.41-.59l7.78-7.78 2.81-2.81c.8-.78.8-2.07 0-2.86zM5.41 20L4 18.59l7.72-7.72 1.47 1.35L5.41 20z\"/>\n",
              "  </svg>\n",
              "      </button>\n",
              "      \n",
              "  <style>\n",
              "    .colab-df-container {\n",
              "      display:flex;\n",
              "      flex-wrap:wrap;\n",
              "      gap: 12px;\n",
              "    }\n",
              "\n",
              "    .colab-df-convert {\n",
              "      background-color: #E8F0FE;\n",
              "      border: none;\n",
              "      border-radius: 50%;\n",
              "      cursor: pointer;\n",
              "      display: none;\n",
              "      fill: #1967D2;\n",
              "      height: 32px;\n",
              "      padding: 0 0 0 0;\n",
              "      width: 32px;\n",
              "    }\n",
              "\n",
              "    .colab-df-convert:hover {\n",
              "      background-color: #E2EBFA;\n",
              "      box-shadow: 0px 1px 2px rgba(60, 64, 67, 0.3), 0px 1px 3px 1px rgba(60, 64, 67, 0.15);\n",
              "      fill: #174EA6;\n",
              "    }\n",
              "\n",
              "    [theme=dark] .colab-df-convert {\n",
              "      background-color: #3B4455;\n",
              "      fill: #D2E3FC;\n",
              "    }\n",
              "\n",
              "    [theme=dark] .colab-df-convert:hover {\n",
              "      background-color: #434B5C;\n",
              "      box-shadow: 0px 1px 3px 1px rgba(0, 0, 0, 0.15);\n",
              "      filter: drop-shadow(0px 1px 2px rgba(0, 0, 0, 0.3));\n",
              "      fill: #FFFFFF;\n",
              "    }\n",
              "  </style>\n",
              "\n",
              "      <script>\n",
              "        const buttonEl =\n",
              "          document.querySelector('#df-547a0be0-7b60-4f6f-86ef-b1970fbed3a9 button.colab-df-convert');\n",
              "        buttonEl.style.display =\n",
              "          google.colab.kernel.accessAllowed ? 'block' : 'none';\n",
              "\n",
              "        async function convertToInteractive(key) {\n",
              "          const element = document.querySelector('#df-547a0be0-7b60-4f6f-86ef-b1970fbed3a9');\n",
              "          const dataTable =\n",
              "            await google.colab.kernel.invokeFunction('convertToInteractive',\n",
              "                                                     [key], {});\n",
              "          if (!dataTable) return;\n",
              "\n",
              "          const docLinkHtml = 'Like what you see? Visit the ' +\n",
              "            '<a target=\"_blank\" href=https://colab.research.google.com/notebooks/data_table.ipynb>data table notebook</a>'\n",
              "            + ' to learn more about interactive tables.';\n",
              "          element.innerHTML = '';\n",
              "          dataTable['output_type'] = 'display_data';\n",
              "          await google.colab.output.renderOutput(dataTable, element);\n",
              "          const docLink = document.createElement('div');\n",
              "          docLink.innerHTML = docLinkHtml;\n",
              "          element.appendChild(docLink);\n",
              "        }\n",
              "      </script>\n",
              "    </div>\n",
              "  </div>\n",
              "  "
            ],
            "text/plain": [
              "                                      short_description           rating\n",
              "0     One day your roommate Leaves for no reason. Yo...            Mixed\n",
              "1     Manage a team of ghosthunters and free London ...            Mixed\n",
              "2     In Deponia, the world has degenerated into a v...         Positive\n",
              "3     SEASON 6 NOW LIVE! The battle for Atlas contin...         Positive\n",
              "4     CHUCHEL is a comedy adventure game from the cr...  Mostly Positive\n",
              "...                                                 ...              ...\n",
              "7876  “喂喂，求求你啦！救救我！” ——你接到这样一个电话 发出这样的求救，给你打电话的人，是一名...         Positive\n",
              "7877                                 Montaro is a DOGE.    Very Positive\n",
              "7878  &quot;Moe Jigsaw&quot; is the definitive versi...  Mostly Positive\n",
              "7879  VR PARTY GAMEDrunkn Bar Fight is a simple, imm...  Mostly Positive\n",
              "7880  Intake is the new retro-futuristic drugstep ar...    Very Positive\n",
              "\n",
              "[7881 rows x 2 columns]"
            ]
          },
          "execution_count": 31,
          "metadata": {},
          "output_type": "execute_result"
        }
      ],
      "source": [
        "df_sentimientos = df_train[['short_description','rating']].copy()\n",
        "df_sentimientos"
      ],
      "id": "r4Oefd4Tlodh"
    },
    {
      "cell_type": "code",
      "execution_count": null,
      "metadata": {
        "colab": {
          "base_uri": "https://localhost:8080/",
          "height": 424
        },
        "id": "zDM8zXrMLEQC",
        "outputId": "dc7b6bf0-6df1-4cf5-8935-8a9df63039a8"
      },
      "outputs": [
        {
          "data": {
            "text/html": [
              "\n",
              "  <div id=\"df-a08346e3-9910-49a7-819f-11b0e98a017d\">\n",
              "    <div class=\"colab-df-container\">\n",
              "      <div>\n",
              "<style scoped>\n",
              "    .dataframe tbody tr th:only-of-type {\n",
              "        vertical-align: middle;\n",
              "    }\n",
              "\n",
              "    .dataframe tbody tr th {\n",
              "        vertical-align: top;\n",
              "    }\n",
              "\n",
              "    .dataframe thead th {\n",
              "        text-align: right;\n",
              "    }\n",
              "</style>\n",
              "<table border=\"1\" class=\"dataframe\">\n",
              "  <thead>\n",
              "    <tr style=\"text-align: right;\">\n",
              "      <th></th>\n",
              "      <th>short_description</th>\n",
              "    </tr>\n",
              "  </thead>\n",
              "  <tbody>\n",
              "    <tr>\n",
              "      <th>0</th>\n",
              "      <td>Climb mountains. Beat your friends. Be a douch...</td>\n",
              "    </tr>\n",
              "    <tr>\n",
              "      <th>1</th>\n",
              "      <td>Inspired by Aztec legend, this action/rpg side...</td>\n",
              "    </tr>\n",
              "    <tr>\n",
              "      <th>2</th>\n",
              "      <td>Dash, evade, and smash your way to the truth a...</td>\n",
              "    </tr>\n",
              "    <tr>\n",
              "      <th>3</th>\n",
              "      <td>42 Players Start. Only 1 will survive.Down to ...</td>\n",
              "    </tr>\n",
              "    <tr>\n",
              "      <th>4</th>\n",
              "      <td>Take the role of a plane crash survivor strand...</td>\n",
              "    </tr>\n",
              "    <tr>\n",
              "      <th>...</th>\n",
              "      <td>...</td>\n",
              "    </tr>\n",
              "    <tr>\n",
              "      <th>871</th>\n",
              "      <td>Make the balls jump, upgrade and change the wo...</td>\n",
              "    </tr>\n",
              "    <tr>\n",
              "      <th>872</th>\n",
              "      <td>A melody of life and death surrounding a sickl...</td>\n",
              "    </tr>\n",
              "    <tr>\n",
              "      <th>873</th>\n",
              "      <td>Tank Universal creates a huge virtual 'Tron-li...</td>\n",
              "    </tr>\n",
              "    <tr>\n",
              "      <th>874</th>\n",
              "      <td>Now includes all three premium DLC packs (Unto...</td>\n",
              "    </tr>\n",
              "    <tr>\n",
              "      <th>875</th>\n",
              "      <td>&amp;quot;Toukiden: Kiwami&amp;quot; is a hunting acti...</td>\n",
              "    </tr>\n",
              "  </tbody>\n",
              "</table>\n",
              "<p>876 rows × 1 columns</p>\n",
              "</div>\n",
              "      <button class=\"colab-df-convert\" onclick=\"convertToInteractive('df-a08346e3-9910-49a7-819f-11b0e98a017d')\"\n",
              "              title=\"Convert this dataframe to an interactive table.\"\n",
              "              style=\"display:none;\">\n",
              "        \n",
              "  <svg xmlns=\"http://www.w3.org/2000/svg\" height=\"24px\"viewBox=\"0 0 24 24\"\n",
              "       width=\"24px\">\n",
              "    <path d=\"M0 0h24v24H0V0z\" fill=\"none\"/>\n",
              "    <path d=\"M18.56 5.44l.94 2.06.94-2.06 2.06-.94-2.06-.94-.94-2.06-.94 2.06-2.06.94zm-11 1L8.5 8.5l.94-2.06 2.06-.94-2.06-.94L8.5 2.5l-.94 2.06-2.06.94zm10 10l.94 2.06.94-2.06 2.06-.94-2.06-.94-.94-2.06-.94 2.06-2.06.94z\"/><path d=\"M17.41 7.96l-1.37-1.37c-.4-.4-.92-.59-1.43-.59-.52 0-1.04.2-1.43.59L10.3 9.45l-7.72 7.72c-.78.78-.78 2.05 0 2.83L4 21.41c.39.39.9.59 1.41.59.51 0 1.02-.2 1.41-.59l7.78-7.78 2.81-2.81c.8-.78.8-2.07 0-2.86zM5.41 20L4 18.59l7.72-7.72 1.47 1.35L5.41 20z\"/>\n",
              "  </svg>\n",
              "      </button>\n",
              "      \n",
              "  <style>\n",
              "    .colab-df-container {\n",
              "      display:flex;\n",
              "      flex-wrap:wrap;\n",
              "      gap: 12px;\n",
              "    }\n",
              "\n",
              "    .colab-df-convert {\n",
              "      background-color: #E8F0FE;\n",
              "      border: none;\n",
              "      border-radius: 50%;\n",
              "      cursor: pointer;\n",
              "      display: none;\n",
              "      fill: #1967D2;\n",
              "      height: 32px;\n",
              "      padding: 0 0 0 0;\n",
              "      width: 32px;\n",
              "    }\n",
              "\n",
              "    .colab-df-convert:hover {\n",
              "      background-color: #E2EBFA;\n",
              "      box-shadow: 0px 1px 2px rgba(60, 64, 67, 0.3), 0px 1px 3px 1px rgba(60, 64, 67, 0.15);\n",
              "      fill: #174EA6;\n",
              "    }\n",
              "\n",
              "    [theme=dark] .colab-df-convert {\n",
              "      background-color: #3B4455;\n",
              "      fill: #D2E3FC;\n",
              "    }\n",
              "\n",
              "    [theme=dark] .colab-df-convert:hover {\n",
              "      background-color: #434B5C;\n",
              "      box-shadow: 0px 1px 3px 1px rgba(0, 0, 0, 0.15);\n",
              "      filter: drop-shadow(0px 1px 2px rgba(0, 0, 0, 0.3));\n",
              "      fill: #FFFFFF;\n",
              "    }\n",
              "  </style>\n",
              "\n",
              "      <script>\n",
              "        const buttonEl =\n",
              "          document.querySelector('#df-a08346e3-9910-49a7-819f-11b0e98a017d button.colab-df-convert');\n",
              "        buttonEl.style.display =\n",
              "          google.colab.kernel.accessAllowed ? 'block' : 'none';\n",
              "\n",
              "        async function convertToInteractive(key) {\n",
              "          const element = document.querySelector('#df-a08346e3-9910-49a7-819f-11b0e98a017d');\n",
              "          const dataTable =\n",
              "            await google.colab.kernel.invokeFunction('convertToInteractive',\n",
              "                                                     [key], {});\n",
              "          if (!dataTable) return;\n",
              "\n",
              "          const docLinkHtml = 'Like what you see? Visit the ' +\n",
              "            '<a target=\"_blank\" href=https://colab.research.google.com/notebooks/data_table.ipynb>data table notebook</a>'\n",
              "            + ' to learn more about interactive tables.';\n",
              "          element.innerHTML = '';\n",
              "          dataTable['output_type'] = 'display_data';\n",
              "          await google.colab.output.renderOutput(dataTable, element);\n",
              "          const docLink = document.createElement('div');\n",
              "          docLink.innerHTML = docLinkHtml;\n",
              "          element.appendChild(docLink);\n",
              "        }\n",
              "      </script>\n",
              "    </div>\n",
              "  </div>\n",
              "  "
            ],
            "text/plain": [
              "                                     short_description\n",
              "0    Climb mountains. Beat your friends. Be a douch...\n",
              "1    Inspired by Aztec legend, this action/rpg side...\n",
              "2    Dash, evade, and smash your way to the truth a...\n",
              "3    42 Players Start. Only 1 will survive.Down to ...\n",
              "4    Take the role of a plane crash survivor strand...\n",
              "..                                                 ...\n",
              "871  Make the balls jump, upgrade and change the wo...\n",
              "872  A melody of life and death surrounding a sickl...\n",
              "873  Tank Universal creates a huge virtual 'Tron-li...\n",
              "874  Now includes all three premium DLC packs (Unto...\n",
              "875  &quot;Toukiden: Kiwami&quot; is a hunting acti...\n",
              "\n",
              "[876 rows x 1 columns]"
            ]
          },
          "execution_count": 32,
          "metadata": {},
          "output_type": "execute_result"
        }
      ],
      "source": [
        "df_sentimientos_testing = df_test[['short_description']].copy()\n",
        "df_sentimientos_testing"
      ],
      "id": "zDM8zXrMLEQC"
    },
    {
      "cell_type": "code",
      "execution_count": null,
      "metadata": {
        "id": "USHNV_swocq8"
      },
      "outputs": [],
      "source": [
        "# Funcion para convertir los rating en sentimientos\n",
        "def to_sentiment(rating):\n",
        "    \n",
        "    # Convert to class\n",
        "    if rating == 'Negative':\n",
        "        return 0\n",
        "    elif rating == 'Mixed':\n",
        "        return 1\n",
        "    elif rating == 'Mostly Positive':\n",
        "        return 1\n",
        "    elif rating == 'Positive':\n",
        "        return 2\n",
        "    else:\n",
        "        return 2\n",
        "\n",
        "# Apply to the dataset \n",
        "df_sentimientos['sentiment'] = df_sentimientos.rating.apply(to_sentiment)"
      ],
      "id": "USHNV_swocq8"
    },
    {
      "cell_type": "code",
      "execution_count": null,
      "metadata": {
        "colab": {
          "base_uri": "https://localhost:8080/"
        },
        "id": "6E6fTG1NpAAE",
        "outputId": "d6e27e6c-915a-47bb-cfcb-8c7679c8cb85"
      },
      "outputs": [
        {
          "data": {
            "text/plain": [
              "1    3363\n",
              "2    3228\n",
              "0    1290\n",
              "Name: sentiment, dtype: int64"
            ]
          },
          "execution_count": 34,
          "metadata": {},
          "output_type": "execute_result"
        }
      ],
      "source": [
        "df_sentimientos['sentiment'].value_counts()"
      ],
      "id": "6E6fTG1NpAAE"
    },
    {
      "cell_type": "markdown",
      "metadata": {
        "id": "HxIqzt1IpcWj"
      },
      "source": [
        "BERT opera sobre una secuencia de palabras de tamaño fijo, por lo que seteamos esta secuenciaq en el máximo"
      ],
      "id": "HxIqzt1IpcWj"
    },
    {
      "cell_type": "code",
      "execution_count": null,
      "metadata": {
        "colab": {
          "base_uri": "https://localhost:8080/"
        },
        "id": "MvgMyo60pjuS",
        "outputId": "fdd1fd49-5973-4bd0-9d7e-c8b553d60268"
      },
      "outputs": [
        {
          "name": "stderr",
          "output_type": "stream",
          "text": [
            "Truncation was not explicitly activated but `max_length` is provided a specific value, please use `truncation=True` to explicitly truncate examples to max length. Defaulting to 'longest_first' truncation strategy. If you encode pairs of sequences (GLUE-style) with the tokenizer you can select this strategy more precisely by providing a specific strategy to `truncation`.\n"
          ]
        }
      ],
      "source": [
        "# Store length of each review \n",
        "token_lens = []\n",
        "\n",
        "# Iterate through the content slide\n",
        "for txt in df_sentimientos.short_description:\n",
        "    tokens = tokenizer.encode(txt, max_length=512)\n",
        "    token_lens.append(len(tokens))"
      ],
      "id": "MvgMyo60pjuS"
    },
    {
      "cell_type": "code",
      "execution_count": null,
      "metadata": {
        "colab": {
          "base_uri": "https://localhost:8080/"
        },
        "id": "K_65Tj7twq0b",
        "outputId": "a032631f-51d3-4988-f7fa-0ebc183effa4"
      },
      "outputs": [
        {
          "data": {
            "text/plain": [
              "282"
            ]
          },
          "execution_count": 143,
          "metadata": {},
          "output_type": "execute_result"
        }
      ],
      "source": [
        "max(token_lens)"
      ],
      "id": "K_65Tj7twq0b"
    },
    {
      "cell_type": "code",
      "execution_count": null,
      "metadata": {
        "colab": {
          "base_uri": "https://localhost:8080/",
          "height": 351
        },
        "id": "vrXcRahDpx7U",
        "outputId": "f1798ede-a11f-4106-ba45-16ba34013974"
      },
      "outputs": [
        {
          "name": "stderr",
          "output_type": "stream",
          "text": [
            "/usr/local/lib/python3.8/dist-packages/seaborn/distributions.py:2619: FutureWarning: `distplot` is a deprecated function and will be removed in a future version. Please adapt your code to use either `displot` (a figure-level function with similar flexibility) or `histplot` (an axes-level function for histograms).\n",
            "  warnings.warn(msg, FutureWarning)\n"
          ]
        },
        {
          "data": {
            "text/plain": [
              "Text(0.5, 0, 'Token count')"
            ]
          },
          "execution_count": 144,
          "metadata": {},
          "output_type": "execute_result"
        },
        {
          "data": {
            "image/png": "[encoded data removed]",
            "text/plain": [
              "<Figure size 432x288 with 1 Axes>"
            ]
          },
          "metadata": {},
          "output_type": "display_data"
        }
      ],
      "source": [
        "# plot the distribution of review lengths \n",
        "sns.distplot(token_lens)\n",
        "plt.xlim([0, 256]);\n",
        "plt.xlabel('Token count')"
      ],
      "id": "vrXcRahDpx7U"
    },
    {
      "cell_type": "markdown",
      "metadata": {
        "id": "jFUk9oxAp9rK"
      },
      "source": [
        "Elegimos a mano una descripcion de largo máximo 180, para poder cubrir la mayoria de las descripciones"
      ],
      "id": "jFUk9oxAp9rK"
    },
    {
      "cell_type": "code",
      "execution_count": null,
      "metadata": {
        "id": "zf7vmtJgp2ui"
      },
      "outputs": [],
      "source": [
        "MAX_LEN = 180"
      ],
      "id": "zf7vmtJgp2ui"
    },
    {
      "cell_type": "markdown",
      "metadata": {
        "id": "IhTaqt2nqJ1S"
      },
      "source": [
        "Creamos una clase para procesar los datos y lograr tokenizar los atributos"
      ],
      "id": "IhTaqt2nqJ1S"
    },
    {
      "cell_type": "code",
      "execution_count": null,
      "metadata": {
        "id": "rZoQr7OlqOUb"
      },
      "outputs": [],
      "source": [
        "class VGReviewDataset(Dataset):\n",
        "    # Constructor Function \n",
        "    def __init__(self, reviews, targets, tokenizer, max_len):\n",
        "        self.reviews = reviews\n",
        "        self.targets = targets\n",
        "        self.tokenizer = tokenizer\n",
        "        self.max_len = max_len\n",
        "    \n",
        "    # Length magic method\n",
        "    def __len__(self):\n",
        "        return len(self.reviews)\n",
        "    \n",
        "    # get item magic method\n",
        "    def __getitem__(self, item):\n",
        "        review = str(self.reviews[item])\n",
        "        target = self.targets[item]\n",
        "        \n",
        "        # Encoded format to be returned \n",
        "        encoding = self.tokenizer.encode_plus(\n",
        "            review,\n",
        "            add_special_tokens=True,\n",
        "            max_length=self.max_len,\n",
        "            return_token_type_ids=False,\n",
        "            pad_to_max_length=True,\n",
        "            return_attention_mask=True,\n",
        "            return_tensors='pt',\n",
        "        )\n",
        "        \n",
        "        return {\n",
        "            'review_text': review,\n",
        "            'input_ids': encoding['input_ids'].flatten(),\n",
        "            'attention_mask': encoding['attention_mask'].flatten(),\n",
        "            'targets': torch.tensor(target, dtype=torch.long)\n",
        "        }"
      ],
      "id": "rZoQr7OlqOUb"
    },
    {
      "cell_type": "markdown",
      "metadata": {
        "id": "B7CuNa9Gqvhq"
      },
      "source": [
        "Dividimos las clases de entrenamiento y testing:\n"
      ],
      "id": "B7CuNa9Gqvhq"
    },
    {
      "cell_type": "code",
      "execution_count": null,
      "metadata": {
        "id": "5SJ68ZUfq2HC"
      },
      "outputs": [],
      "source": [
        "df_train_bert, df_test_bert = train_test_split(df_sentimientos, test_size=0.2, random_state=123)"
      ],
      "id": "5SJ68ZUfq2HC"
    },
    {
      "cell_type": "markdown",
      "metadata": {
        "id": "L9JFhaGaq9-t"
      },
      "source": [
        "Creamos un dataloader"
      ],
      "id": "L9JFhaGaq9-t"
    },
    {
      "cell_type": "code",
      "execution_count": null,
      "metadata": {
        "id": "BFa5AXOtq_fb"
      },
      "outputs": [],
      "source": [
        "def create_data_loader(df, tokenizer, max_len, batch_size):\n",
        "    ds = VGReviewDataset(\n",
        "        reviews=df.short_description.to_numpy(),\n",
        "        targets=df.sentiment.to_numpy(),\n",
        "        tokenizer=tokenizer,\n",
        "        max_len=max_len\n",
        "    )\n",
        "    \n",
        "    return DataLoader(\n",
        "        ds,\n",
        "        batch_size=batch_size,\n",
        "        num_workers=0\n",
        "    )"
      ],
      "id": "BFa5AXOtq_fb"
    },
    {
      "cell_type": "code",
      "execution_count": null,
      "metadata": {
        "id": "PNrO67ggrLlL"
      },
      "outputs": [],
      "source": [
        "# Create train, test and val data loaders\n",
        "BATCH_SIZE = 18\n",
        "train_data_loader = create_data_loader(df_train_bert, tokenizer, MAX_LEN, BATCH_SIZE)\n",
        "test_data_loader = create_data_loader(df_test_bert, tokenizer, MAX_LEN, BATCH_SIZE)"
      ],
      "id": "PNrO67ggrLlL"
    },
    {
      "cell_type": "code",
      "execution_count": null,
      "metadata": {
        "colab": {
          "base_uri": "https://localhost:8080/"
        },
        "id": "63DD6hxUzBJ6",
        "outputId": "2d207cc7-3e89-40c0-c46c-a0525ba0e092"
      },
      "outputs": [
        {
          "name": "stderr",
          "output_type": "stream",
          "text": [
            "Truncation was not explicitly activated but `max_length` is provided a specific value, please use `truncation=True` to explicitly truncate examples to max length. Defaulting to 'longest_first' truncation strategy. If you encode pairs of sequences (GLUE-style) with the tokenizer you can select this strategy more precisely by providing a specific strategy to `truncation`.\n"
          ]
        },
        {
          "name": "stdout",
          "output_type": "stream",
          "text": [
            "dict_keys(['review_text', 'input_ids', 'attention_mask', 'targets'])\n",
            "torch.Size([18, 180])\n",
            "torch.Size([18, 180])\n",
            "torch.Size([18])\n"
          ]
        },
        {
          "name": "stderr",
          "output_type": "stream",
          "text": [
            "/usr/local/lib/python3.8/dist-packages/transformers/tokenization_utils_base.py:2336: FutureWarning: The `pad_to_max_length` argument is deprecated and will be removed in a future version, use `padding=True` or `padding='longest'` to pad to the longest sequence in the batch, or use `padding='max_length'` to pad to a max length. In this case, you can give a specific length with `max_length` (e.g. `max_length=45`) or leave max_length to None to pad to the maximal input size of the model (e.g. 512 for Bert).\n",
            "  warnings.warn(\n"
          ]
        }
      ],
      "source": [
        "# Examples \n",
        "data = next(iter(train_data_loader))\n",
        "print(data.keys())\n",
        "\n",
        "print(data['input_ids'].shape)\n",
        "print(data['attention_mask'].shape)\n",
        "print(data['targets'].shape)"
      ],
      "id": "63DD6hxUzBJ6"
    },
    {
      "cell_type": "markdown",
      "metadata": {
        "id": "ckuSCOWfraY7"
      },
      "source": [
        "Creamos la clase de clasificacion de reviews basados en las descripciones"
      ],
      "id": "ckuSCOWfraY7"
    },
    {
      "cell_type": "code",
      "execution_count": null,
      "metadata": {
        "id": "MmeyB1z9rfgD"
      },
      "outputs": [],
      "source": [
        "# Build the Sentiment Classifier class \n",
        "class SentimentClassifier(nn.Module):\n",
        "    \n",
        "    # Constructor class \n",
        "    def __init__(self, n_classes):\n",
        "        super(SentimentClassifier, self).__init__()\n",
        "        self.bert = BertModel.from_pretrained('bert-base-cased')\n",
        "        self.drop = nn.Dropout(p=0.3)\n",
        "        self.out = nn.Linear(self.bert.config.hidden_size, n_classes)\n",
        "    \n",
        "    # Forward propagaion class\n",
        "    def forward(self, input_ids, attention_mask):\n",
        "        _, pooled_output = self.bert(\n",
        "          input_ids=input_ids,\n",
        "          attention_mask=attention_mask,\n",
        "          return_dict=False\n",
        "        )\n",
        "        #  Add a dropout layer \n",
        "        output = self.drop(pooled_output)\n",
        "        return self.out(output)"
      ],
      "id": "MmeyB1z9rfgD"
    },
    {
      "cell_type": "markdown",
      "metadata": {
        "id": "CTeLWW4Ortl7"
      },
      "source": [
        "Iniciamos el modelo"
      ],
      "id": "CTeLWW4Ortl7"
    },
    {
      "cell_type": "code",
      "execution_count": null,
      "metadata": {
        "colab": {
          "base_uri": "https://localhost:8080/"
        },
        "id": "MZgbbsd7rtE6",
        "outputId": "47b1a95f-4e9b-4224-e22a-aa122ba21c74"
      },
      "outputs": [
        {
          "name": "stderr",
          "output_type": "stream",
          "text": [
            "Some weights of the model checkpoint at bert-base-cased were not used when initializing BertModel: ['cls.predictions.transform.LayerNorm.weight', 'cls.predictions.transform.dense.bias', 'cls.seq_relationship.weight', 'cls.predictions.bias', 'cls.seq_relationship.bias', 'cls.predictions.transform.LayerNorm.bias', 'cls.predictions.transform.dense.weight', 'cls.predictions.decoder.weight']\n",
            "- This IS expected if you are initializing BertModel from the checkpoint of a model trained on another task or with another architecture (e.g. initializing a BertForSequenceClassification model from a BertForPreTraining model).\n",
            "- This IS NOT expected if you are initializing BertModel from the checkpoint of a model that you expect to be exactly identical (initializing a BertForSequenceClassification model from a BertForSequenceClassification model).\n"
          ]
        }
      ],
      "source": [
        "# Instantiate the model and move to classifier\n",
        "class_names = ['negative', 'neutral','positive']\n",
        "# Set GPU\n",
        "device = torch.device(\"cuda\" if torch.cuda.is_available() else \"cpu\")\n",
        "\n",
        "model = SentimentClassifier(len(class_names))\n",
        "model.load_state_dict(torch.load('/content/drive/MyDrive/MDS7202_LPCPCD/Competencia/Proyecto/modelo_bert'))\n",
        "model.eval()\n",
        "model = model.to(device)"
      ],
      "id": "MZgbbsd7rtE6"
    },
    {
      "cell_type": "markdown",
      "metadata": {
        "id": "uxxcVhdOsYGD"
      },
      "source": [
        "###Comenzamos el entrenamiento"
      ],
      "id": "uxxcVhdOsYGD"
    },
    {
      "cell_type": "code",
      "execution_count": null,
      "metadata": {
        "colab": {
          "base_uri": "https://localhost:8080/"
        },
        "id": "QagiRw9wsabD",
        "outputId": "47c551d2-313c-4b65-e0f7-e82277c4d699"
      },
      "outputs": [
        {
          "name": "stderr",
          "output_type": "stream",
          "text": [
            "/usr/local/lib/python3.8/dist-packages/transformers/optimization.py:306: FutureWarning: This implementation of AdamW is deprecated and will be removed in a future version. Use the PyTorch implementation torch.optim.AdamW instead, or set `no_deprecation_warning=True` to disable this warning\n",
            "  warnings.warn(\n"
          ]
        }
      ],
      "source": [
        "# Number of iterations \n",
        "EPOCHS = 5\n",
        "\n",
        "# Optimizer Adam \n",
        "optimizer = AdamW(model.parameters(), lr=2e-5, correct_bias=False)\n",
        "\n",
        "total_steps = len(train_data_loader) * EPOCHS\n",
        "\n",
        "scheduler = get_linear_schedule_with_warmup(\n",
        "    optimizer,\n",
        "    num_warmup_steps=0,\n",
        "    num_training_steps=total_steps\n",
        ")\n",
        "\n",
        "# Set the loss function \n",
        "loss_fn = nn.CrossEntropyLoss().to(device)"
      ],
      "id": "QagiRw9wsabD"
    },
    {
      "cell_type": "code",
      "execution_count": null,
      "metadata": {
        "id": "6dlKRmeCsgya"
      },
      "outputs": [],
      "source": [
        "# Function for a single training iteration\n",
        "def train_epoch(model, data_loader, loss_fn, optimizer, device, scheduler, n_examples):\n",
        "    model = model.train()\n",
        "    losses = []\n",
        "    correct_predictions = 0\n",
        "    \n",
        "    for d in data_loader:\n",
        "        input_ids = d[\"input_ids\"].to(device)\n",
        "        attention_mask = d[\"attention_mask\"].to(device)\n",
        "        targets = d[\"targets\"].to(device)\n",
        "        \n",
        "        outputs = model(\n",
        "            input_ids=input_ids,\n",
        "            attention_mask=attention_mask\n",
        "        )\n",
        "        \n",
        "        _, preds = torch.max(outputs, dim=1)\n",
        "        loss = loss_fn(outputs, targets)\n",
        "        correct_predictions += torch.sum(preds == targets)\n",
        "        losses.append(loss.item())\n",
        "        \n",
        "        # Backward prop\n",
        "        loss.backward()\n",
        "        \n",
        "        # Gradient Descent\n",
        "        nn.utils.clip_grad_norm_(model.parameters(), max_norm=1.0)\n",
        "        optimizer.step()\n",
        "        scheduler.step()\n",
        "        optimizer.zero_grad()\n",
        "    \n",
        "    return correct_predictions.double() / n_examples, np.mean(losses)"
      ],
      "id": "6dlKRmeCsgya"
    },
    {
      "cell_type": "code",
      "execution_count": null,
      "metadata": {
        "id": "EJ-7ttWTsnH6"
      },
      "outputs": [],
      "source": [
        "def eval_model(model, data_loader, loss_fn, device, n_examples):\n",
        "    model = model.eval()\n",
        "    \n",
        "    losses = []\n",
        "    correct_predictions = 0\n",
        "    \n",
        "    with torch.no_grad():\n",
        "        for d in data_loader:\n",
        "            input_ids = d[\"input_ids\"].to(device)\n",
        "            attention_mask = d[\"attention_mask\"].to(device)\n",
        "            targets = d[\"targets\"].to(device)\n",
        "            \n",
        "            # Get model ouptuts\n",
        "            outputs = model(\n",
        "                input_ids=input_ids,\n",
        "                attention_mask=attention_mask\n",
        "            )\n",
        "            \n",
        "            _, preds = torch.max(outputs, dim=1)\n",
        "            loss = loss_fn(outputs, targets)\n",
        "            \n",
        "            correct_predictions += torch.sum(preds == targets)\n",
        "            losses.append(loss.item())\n",
        "            \n",
        "    return correct_predictions.double() / n_examples, np.mean(losses)"
      ],
      "id": "EJ-7ttWTsnH6"
    },
    {
      "cell_type": "code",
      "execution_count": null,
      "metadata": {
        "colab": {
          "base_uri": "https://localhost:8080/"
        },
        "id": "MyLFbbTMsqQL",
        "outputId": "bc263810-1c64-475a-951c-63c4ed67eab2"
      },
      "outputs": [
        {
          "name": "stdout",
          "output_type": "stream",
          "text": [
            "Epoch 1/5\n",
            "----------\n"
          ]
        },
        {
          "name": "stderr",
          "output_type": "stream",
          "text": [
            "/usr/local/lib/python3.8/dist-packages/transformers/tokenization_utils_base.py:2336: FutureWarning: The `pad_to_max_length` argument is deprecated and will be removed in a future version, use `padding=True` or `padding='longest'` to pad to the longest sequence in the batch, or use `padding='max_length'` to pad to a max length. In this case, you can give a specific length with `max_length` (e.g. `max_length=45`) or leave max_length to None to pad to the maximal input size of the model (e.g. 512 for Bert).\n",
            "  warnings.warn(\n"
          ]
        },
        {
          "name": "stdout",
          "output_type": "stream",
          "text": [
            "Train loss 1.046602859456315 accuracy 0.4236992385786802\n",
            "Val   loss 1.0163804319771854 accuracy 0.4679771718452758\n",
            "\n",
            "Epoch 2/5\n",
            "----------\n",
            "Train loss 0.9960921163912173 accuracy 0.480488578680203\n",
            "Val   loss 1.0378316654400392 accuracy 0.48763474952441344\n",
            "\n",
            "Epoch 3/5\n",
            "----------\n",
            "Train loss 0.8502563439373277 accuracy 0.5951776649746192\n",
            "Val   loss 1.2592817003076726 accuracy 0.4724159797083069\n",
            "\n",
            "Epoch 4/5\n",
            "----------\n",
            "Train loss 0.6383026879906994 accuracy 0.7293781725888324\n",
            "Val   loss 1.4778241210363128 accuracy 0.45529486366518707\n",
            "\n",
            "Epoch 5/5\n",
            "----------\n",
            "Train loss 0.488674960818216 accuracy 0.8058375634517766\n",
            "Val   loss 1.5362522182139484 accuracy 0.46924540266328474\n",
            "\n",
            "CPU times: user 17min 22s, sys: 8.63 s, total: 17min 31s\n",
            "Wall time: 17min 45s\n"
          ]
        }
      ],
      "source": [
        "%%time\n",
        "\n",
        "history = defaultdict(list)\n",
        "best_accuracy = 0\n",
        "\n",
        "for epoch in range(EPOCHS):\n",
        "    \n",
        "    # Show details \n",
        "    print(f\"Epoch {epoch + 1}/{EPOCHS}\")\n",
        "    print(\"-\" * 10)\n",
        "    \n",
        "    train_acc, train_loss = train_epoch(\n",
        "        model,\n",
        "        train_data_loader,\n",
        "        loss_fn,\n",
        "        optimizer,\n",
        "        device,\n",
        "        scheduler,\n",
        "        len(df_train_bert)\n",
        "    )\n",
        "    \n",
        "    print(f\"Train loss {train_loss} accuracy {train_acc}\")\n",
        "    \n",
        "    # Get model performance (accuracy and loss)\n",
        "    val_acc, val_loss = eval_model(\n",
        "        model,\n",
        "        test_data_loader,\n",
        "        loss_fn,\n",
        "        device,\n",
        "        len(df_test_bert)\n",
        "    )\n",
        "    \n",
        "    print(f\"Val   loss {val_loss} accuracy {val_acc}\")\n",
        "    print()\n",
        "    \n",
        "    history['train_acc'].append(train_acc)\n",
        "    history['train_loss'].append(train_loss)\n",
        "    history['val_acc'].append(val_acc)\n",
        "    history['val_loss'].append(val_loss)\n",
        "    \n",
        "    # If we beat prev performance\n",
        "    if val_acc > best_accuracy:\n",
        "        torch.save(model.state_dict(), 'best_model_state.bin')\n",
        "        best_accuracy = val_acc"
      ],
      "id": "MyLFbbTMsqQL"
    },
    {
      "cell_type": "code",
      "execution_count": null,
      "metadata": {
        "colab": {
          "base_uri": "https://localhost:8080/"
        },
        "id": "4u7DNpXz29MB",
        "outputId": "ba3fb173-29f5-46ac-b55f-4edacdff5d0d"
      },
      "outputs": [
        {
          "name": "stderr",
          "output_type": "stream",
          "text": [
            "/usr/local/lib/python3.8/dist-packages/transformers/tokenization_utils_base.py:2336: FutureWarning: The `pad_to_max_length` argument is deprecated and will be removed in a future version, use `padding=True` or `padding='longest'` to pad to the longest sequence in the batch, or use `padding='max_length'` to pad to a max length. In this case, you can give a specific length with `max_length` (e.g. `max_length=45`) or leave max_length to None to pad to the maximal input size of the model (e.g. 512 for Bert).\n",
            "  warnings.warn(\n"
          ]
        },
        {
          "data": {
            "text/plain": [
              "0.46924540266328474"
            ]
          },
          "execution_count": 48,
          "metadata": {},
          "output_type": "execute_result"
        }
      ],
      "source": [
        "test_acc, _ = eval_model(\n",
        "  model,\n",
        "  test_data_loader,\n",
        "  loss_fn,\n",
        "  device,\n",
        "  len(df_test_bert)\n",
        ")\n",
        "\n",
        "test_acc.item()"
      ],
      "id": "4u7DNpXz29MB"
    },
    {
      "cell_type": "code",
      "execution_count": null,
      "metadata": {
        "id": "9edfcc2V3Cdr"
      },
      "outputs": [],
      "source": [
        "def get_predictions(model, data_loader):\n",
        "    model = model.eval()\n",
        "\n",
        "    review_texts = []\n",
        "    predictions = []\n",
        "    prediction_probs = []\n",
        "    real_values = []\n",
        "\n",
        "    with torch.no_grad():\n",
        "        for d in data_loader:\n",
        "            texts = d[\"review_text\"]\n",
        "            input_ids = d[\"input_ids\"].to(device)\n",
        "            attention_mask = d[\"attention_mask\"].to(device)\n",
        "            targets = d[\"targets\"].to(device)\n",
        "\n",
        "            # Get outouts\n",
        "            outputs = model(\n",
        "                input_ids=input_ids,\n",
        "                attention_mask=attention_mask\n",
        "            )\n",
        "            _, preds = torch.max(outputs, dim=1)\n",
        "\n",
        "            review_texts.extend(texts)\n",
        "            predictions.extend(preds)\n",
        "            prediction_probs.extend(outputs)\n",
        "            real_values.extend(targets)\n",
        "\n",
        "    predictions = torch.stack(predictions).cpu()\n",
        "    prediction_probs = torch.stack(prediction_probs).cpu()\n",
        "    real_values = torch.stack(real_values).cpu()\n",
        "\n",
        "    return review_texts, predictions, prediction_probs, real_values"
      ],
      "id": "9edfcc2V3Cdr"
    },
    {
      "cell_type": "markdown",
      "source": [
        "Veamos las predicciones del modelo"
      ],
      "metadata": {
        "id": "MXRZR19fratU"
      },
      "id": "MXRZR19fratU"
    },
    {
      "cell_type": "code",
      "execution_count": null,
      "metadata": {
        "id": "s0YHl3Qr3FDS"
      },
      "outputs": [],
      "source": [
        "y_review_texts, y_pred_bert, y_pred_probs, y_test_bert = get_predictions(\n",
        "    model,\n",
        "    test_data_loader\n",
        ")"
      ],
      "id": "s0YHl3Qr3FDS"
    },
    {
      "cell_type": "markdown",
      "source": [
        "Creamos un reporte de los resultados, viendo que tiene un poder de clasificacion moderado"
      ],
      "metadata": {
        "id": "ff1_QvH2rdxz"
      },
      "id": "ff1_QvH2rdxz"
    },
    {
      "cell_type": "code",
      "execution_count": null,
      "metadata": {
        "colab": {
          "base_uri": "https://localhost:8080/"
        },
        "id": "bsCEj2bO3G3K",
        "outputId": "0554f22e-2cbd-4942-a3d9-93fcb75b4066"
      },
      "outputs": [
        {
          "name": "stdout",
          "output_type": "stream",
          "text": [
            "              precision    recall  f1-score   support\n",
            "\n",
            "    negative       0.33      0.11      0.17       275\n",
            "     neutral       0.45      0.61      0.52       673\n",
            "    positive       0.52      0.48      0.50       629\n",
            "\n",
            "    accuracy                           0.47      1577\n",
            "   macro avg       0.43      0.40      0.39      1577\n",
            "weighted avg       0.46      0.47      0.45      1577\n",
            "\n"
          ]
        }
      ],
      "source": [
        "print(classification_report(y_test_bert, y_pred_bert, target_names=class_names))"
      ],
      "id": "bsCEj2bO3G3K"
    },
    {
      "cell_type": "code",
      "execution_count": null,
      "metadata": {
        "colab": {
          "base_uri": "https://localhost:8080/",
          "height": 300
        },
        "id": "GN1fXx2k3WDZ",
        "outputId": "4fcc9139-5d3c-4d09-9212-e8d0db2ae09c"
      },
      "outputs": [
        {
          "data": {
            "image/png": "[encoded data removed]",
            "text/plain": [
              "<Figure size 432x288 with 2 Axes>"
            ]
          },
          "metadata": {},
          "output_type": "display_data"
        }
      ],
      "source": [
        "def show_confusion_matrix(confusion_matrix):\n",
        "    hmap = sns.heatmap(confusion_matrix, annot=True, fmt=\"d\", cmap=\"Blues\")\n",
        "    hmap.yaxis.set_ticklabels(hmap.yaxis.get_ticklabels(), rotation=0, ha='right')\n",
        "    hmap.xaxis.set_ticklabels(hmap.xaxis.get_ticklabels(), rotation=30, ha='right')\n",
        "    plt.ylabel('True sentiment')\n",
        "    plt.xlabel('Predicted sentiment');\n",
        "\n",
        "cm = confusion_matrix(y_test_bert, y_pred_bert)\n",
        "df_cm = pd.DataFrame(cm, index=class_names, columns=class_names)\n",
        "show_confusion_matrix(df_cm)"
      ],
      "id": "GN1fXx2k3WDZ"
    },
    {
      "cell_type": "markdown",
      "metadata": {
        "id": "VUqEhkaEEaui"
      },
      "source": [
        "Guardamos el modelo"
      ],
      "id": "VUqEhkaEEaui"
    },
    {
      "cell_type": "code",
      "execution_count": null,
      "metadata": {
        "id": "QVTeWbi2Ecph"
      },
      "outputs": [],
      "source": [
        "torch.save(model.state_dict(),'/content/drive/MyDrive/MDS7202_LPCPCD/Competencia/Proyecto/modelo_bert')"
      ],
      "id": "QVTeWbi2Ecph"
    },
    {
      "cell_type": "markdown",
      "metadata": {
        "id": "rePGCB55PkQY"
      },
      "source": [
        "## predicciones sobre conjuntos de entrenamiento y test originales"
      ],
      "id": "rePGCB55PkQY"
    },
    {
      "cell_type": "markdown",
      "metadata": {
        "id": "OMTMrHQQA1fh"
      },
      "source": [
        "Generamos predicciones para el conjunto de tratining y testing originales, agregando una columna con los valores de las probabilidades"
      ],
      "id": "OMTMrHQQA1fh"
    },
    {
      "cell_type": "code",
      "execution_count": null,
      "metadata": {
        "id": "8PekSn0pC8Pp"
      },
      "outputs": [],
      "source": [
        "def predictionPipeline(text):\n",
        "  encoded_review = tokenizer.encode_plus(\n",
        "      text,\n",
        "      max_length=MAX_LEN,\n",
        "      add_special_tokens=True,\n",
        "      return_token_type_ids=False,\n",
        "      pad_to_max_length=True,\n",
        "      return_attention_mask=True,\n",
        "      return_tensors='pt',\n",
        "    )\n",
        "\n",
        "  input_ids = encoded_review['input_ids'].to(device)\n",
        "  attention_mask = encoded_review['attention_mask'].to(device)\n",
        "\n",
        "  output = model(input_ids, attention_mask)\n",
        "  #_, prediction = torch.max(output, dim=1)\n",
        "\n",
        "  #return class_names[prediction]\n",
        "  return pd.DataFrame(output[0].tolist())\n",
        "\n",
        "#df2['prediction']=df2['cleaned_tweet'].apply(predictionPipeline)"
      ],
      "id": "8PekSn0pC8Pp"
    },
    {
      "cell_type": "markdown",
      "metadata": {
        "id": "Xob86p8CDhOo"
      },
      "source": [
        "Aplicamos la prediccion a todo el dataframe"
      ],
      "id": "Xob86p8CDhOo"
    },
    {
      "cell_type": "code",
      "execution_count": null,
      "metadata": {
        "id": "roVI9KiADfXB"
      },
      "outputs": [],
      "source": [
        "# Apply to the dataset \n",
        "df_sentimientos_testing['prediccion_sentimiento'] = df_sentimientos_testing.short_description.apply(predictionPipeline)"
      ],
      "id": "roVI9KiADfXB"
    },
    {
      "cell_type": "code",
      "execution_count": null,
      "metadata": {
        "colab": {
          "base_uri": "https://localhost:8080/"
        },
        "id": "wcWF4cP3RhZh",
        "outputId": "ad64ff53-dc26-4c31-d942-f0d9eb22a391"
      },
      "outputs": [
        {
          "name": "stderr",
          "output_type": "stream",
          "text": [
            "/usr/local/lib/python3.8/dist-packages/transformers/tokenization_utils_base.py:2336: FutureWarning: The `pad_to_max_length` argument is deprecated and will be removed in a future version, use `padding=True` or `padding='longest'` to pad to the longest sequence in the batch, or use `padding='max_length'` to pad to a max length. In this case, you can give a specific length with `max_length` (e.g. `max_length=45`) or leave max_length to None to pad to the maximal input size of the model (e.g. 512 for Bert).\n",
            "  warnings.warn(\n"
          ]
        }
      ],
      "source": [
        "df_sentimientos['prediccion_sentimiento'] = df_sentimientos.short_description.apply(predictionPipeline)"
      ],
      "id": "wcWF4cP3RhZh"
    },
    {
      "cell_type": "markdown",
      "source": [
        "Guardamos las predicciones obtenidas en formato csv"
      ],
      "metadata": {
        "id": "hsSEa3YUrqZ0"
      },
      "id": "hsSEa3YUrqZ0"
    },
    {
      "cell_type": "code",
      "execution_count": null,
      "metadata": {
        "id": "wq67b0qZR4KO"
      },
      "outputs": [],
      "source": [
        "df_sentimientos.to_csv('/content/drive/MyDrive/MDS7202_LPCPCD/Competencia/Proyecto/sentimientos_training.csv')\n",
        "df_sentimientos_testing.to_csv('/content/drive/MyDrive/MDS7202_LPCPCD/Competencia/Proyecto/sentimientos_testing.csv')"
      ],
      "id": "wq67b0qZR4KO"
    },
    {
      "cell_type": "markdown",
      "metadata": {
        "id": "Kslg8W2zSfcO"
      },
      "source": [
        "# Integramos las caracteristicas de sentimientos a los dataframes originales "
      ],
      "id": "Kslg8W2zSfcO"
    },
    {
      "cell_type": "markdown",
      "source": [
        "Agregamos las columnas obtenidas al dataframe original de entrenamiento y testing, de esta forma tenemos tres nuevas columnas que indican el grado de pertenencia a una de las tres clases en base a la descripcion en texto de los videojuegos. Este método se utiliza para codificar de forma simple la relación entre la descripción y los reviews de los videojuegos. De esta forma capturamos información de estos datos con un modelo anidado y podemos realizar pruebas mas veloces en modelos possteriores al reducir la dimensionalidad del problema"
      ],
      "metadata": {
        "id": "swAlEubDrttK"
      },
      "id": "swAlEubDrttK"
    },
    {
      "cell_type": "code",
      "execution_count": 27,
      "metadata": {
        "id": "J1mD0VCjgGVq"
      },
      "outputs": [],
      "source": [
        "df_sentimientos = pd.read_csv('/content/drive/MyDrive/MDS7202_LPCPCD/Competencia/Proyecto/sentimientos_training.csv')\n",
        "df_sentimientos_testing = pd.read_csv('/content/drive/MyDrive/MDS7202_LPCPCD/Competencia/Proyecto/sentimientos_testing.csv')"
      ],
      "id": "J1mD0VCjgGVq"
    },
    {
      "cell_type": "code",
      "execution_count": 28,
      "metadata": {
        "colab": {
          "base_uri": "https://localhost:8080/",
          "height": 424
        },
        "id": "m9YMbRUFTYLG",
        "outputId": "eb017710-4c90-4e03-c4f5-2edcdf0cf05c"
      },
      "outputs": [
        {
          "output_type": "execute_result",
          "data": {
            "text/plain": [
              "      Unnamed: 0                                  short_description  \\\n",
              "0              0  One day your roommate Leaves for no reason. Yo...   \n",
              "1              1  Manage a team of ghosthunters and free London ...   \n",
              "2              2  In Deponia, the world has degenerated into a v...   \n",
              "3              3  SEASON 6 NOW LIVE! The battle for Atlas contin...   \n",
              "4              4  CHUCHEL is a comedy adventure game from the cr...   \n",
              "...          ...                                                ...   \n",
              "7876        7876  “喂喂，求求你啦！救救我！” ——你接到这样一个电话 发出这样的求救，给你打电话的人，是一名...   \n",
              "7877        7877                                 Montaro is a DOGE.   \n",
              "7878        7878  &quot;Moe Jigsaw&quot; is the definitive versi...   \n",
              "7879        7879  VR PARTY GAMEDrunkn Bar Fight is a simple, imm...   \n",
              "7880        7880  Intake is the new retro-futuristic drugstep ar...   \n",
              "\n",
              "               rating  sentiment  \\\n",
              "0               Mixed          1   \n",
              "1               Mixed          1   \n",
              "2            Positive          2   \n",
              "3            Positive          2   \n",
              "4     Mostly Positive          1   \n",
              "...               ...        ...   \n",
              "7876         Positive          2   \n",
              "7877    Very Positive          2   \n",
              "7878  Mostly Positive          1   \n",
              "7879  Mostly Positive          1   \n",
              "7880    Very Positive          2   \n",
              "\n",
              "                                 prediccion_sentimiento  \n",
              "0               0\\n0  0.843294\\n1  0.968711\\n2 -2.05...  \n",
              "1               0\\n0 -0.892821\\n1  1.589771\\n2 -0.58...  \n",
              "2               0\\n0 -2.344548\\n1 -0.897998\\n2  3.72...  \n",
              "3               0\\n0 -2.280627\\n1  0.085291\\n2  2.46...  \n",
              "4               0\\n0 -2.581257\\n1 -0.048627\\n2  3.17...  \n",
              "...                                                 ...  \n",
              "7876            0\\n0 -2.318358\\n1  0.921371\\n2  1.77...  \n",
              "7877            0\\n0 -2.633180\\n1 -0.015791\\n2  3.11...  \n",
              "7878            0\\n0 -2.059745\\n1  0.570459\\n2  1.82...  \n",
              "7879            0\\n0 -0.429817\\n1  2.273812\\n2 -1.79...  \n",
              "7880            0\\n0 -2.252388\\n1 -0.931616\\n2  3.64...  \n",
              "\n",
              "[7881 rows x 5 columns]"
            ],
            "text/html": [
              "\n",
              "  <div id=\"df-c961f7c8-ae87-4a98-8ba4-7b102197e576\">\n",
              "    <div class=\"colab-df-container\">\n",
              "      <div>\n",
              "<style scoped>\n",
              "    .dataframe tbody tr th:only-of-type {\n",
              "        vertical-align: middle;\n",
              "    }\n",
              "\n",
              "    .dataframe tbody tr th {\n",
              "        vertical-align: top;\n",
              "    }\n",
              "\n",
              "    .dataframe thead th {\n",
              "        text-align: right;\n",
              "    }\n",
              "</style>\n",
              "<table border=\"1\" class=\"dataframe\">\n",
              "  <thead>\n",
              "    <tr style=\"text-align: right;\">\n",
              "      <th></th>\n",
              "      <th>Unnamed: 0</th>\n",
              "      <th>short_description</th>\n",
              "      <th>rating</th>\n",
              "      <th>sentiment</th>\n",
              "      <th>prediccion_sentimiento</th>\n",
              "    </tr>\n",
              "  </thead>\n",
              "  <tbody>\n",
              "    <tr>\n",
              "      <th>0</th>\n",
              "      <td>0</td>\n",
              "      <td>One day your roommate Leaves for no reason. Yo...</td>\n",
              "      <td>Mixed</td>\n",
              "      <td>1</td>\n",
              "      <td>0\\n0  0.843294\\n1  0.968711\\n2 -2.05...</td>\n",
              "    </tr>\n",
              "    <tr>\n",
              "      <th>1</th>\n",
              "      <td>1</td>\n",
              "      <td>Manage a team of ghosthunters and free London ...</td>\n",
              "      <td>Mixed</td>\n",
              "      <td>1</td>\n",
              "      <td>0\\n0 -0.892821\\n1  1.589771\\n2 -0.58...</td>\n",
              "    </tr>\n",
              "    <tr>\n",
              "      <th>2</th>\n",
              "      <td>2</td>\n",
              "      <td>In Deponia, the world has degenerated into a v...</td>\n",
              "      <td>Positive</td>\n",
              "      <td>2</td>\n",
              "      <td>0\\n0 -2.344548\\n1 -0.897998\\n2  3.72...</td>\n",
              "    </tr>\n",
              "    <tr>\n",
              "      <th>3</th>\n",
              "      <td>3</td>\n",
              "      <td>SEASON 6 NOW LIVE! The battle for Atlas contin...</td>\n",
              "      <td>Positive</td>\n",
              "      <td>2</td>\n",
              "      <td>0\\n0 -2.280627\\n1  0.085291\\n2  2.46...</td>\n",
              "    </tr>\n",
              "    <tr>\n",
              "      <th>4</th>\n",
              "      <td>4</td>\n",
              "      <td>CHUCHEL is a comedy adventure game from the cr...</td>\n",
              "      <td>Mostly Positive</td>\n",
              "      <td>1</td>\n",
              "      <td>0\\n0 -2.581257\\n1 -0.048627\\n2  3.17...</td>\n",
              "    </tr>\n",
              "    <tr>\n",
              "      <th>...</th>\n",
              "      <td>...</td>\n",
              "      <td>...</td>\n",
              "      <td>...</td>\n",
              "      <td>...</td>\n",
              "      <td>...</td>\n",
              "    </tr>\n",
              "    <tr>\n",
              "      <th>7876</th>\n",
              "      <td>7876</td>\n",
              "      <td>“喂喂，求求你啦！救救我！” ——你接到这样一个电话 发出这样的求救，给你打电话的人，是一名...</td>\n",
              "      <td>Positive</td>\n",
              "      <td>2</td>\n",
              "      <td>0\\n0 -2.318358\\n1  0.921371\\n2  1.77...</td>\n",
              "    </tr>\n",
              "    <tr>\n",
              "      <th>7877</th>\n",
              "      <td>7877</td>\n",
              "      <td>Montaro is a DOGE.</td>\n",
              "      <td>Very Positive</td>\n",
              "      <td>2</td>\n",
              "      <td>0\\n0 -2.633180\\n1 -0.015791\\n2  3.11...</td>\n",
              "    </tr>\n",
              "    <tr>\n",
              "      <th>7878</th>\n",
              "      <td>7878</td>\n",
              "      <td>&amp;quot;Moe Jigsaw&amp;quot; is the definitive versi...</td>\n",
              "      <td>Mostly Positive</td>\n",
              "      <td>1</td>\n",
              "      <td>0\\n0 -2.059745\\n1  0.570459\\n2  1.82...</td>\n",
              "    </tr>\n",
              "    <tr>\n",
              "      <th>7879</th>\n",
              "      <td>7879</td>\n",
              "      <td>VR PARTY GAMEDrunkn Bar Fight is a simple, imm...</td>\n",
              "      <td>Mostly Positive</td>\n",
              "      <td>1</td>\n",
              "      <td>0\\n0 -0.429817\\n1  2.273812\\n2 -1.79...</td>\n",
              "    </tr>\n",
              "    <tr>\n",
              "      <th>7880</th>\n",
              "      <td>7880</td>\n",
              "      <td>Intake is the new retro-futuristic drugstep ar...</td>\n",
              "      <td>Very Positive</td>\n",
              "      <td>2</td>\n",
              "      <td>0\\n0 -2.252388\\n1 -0.931616\\n2  3.64...</td>\n",
              "    </tr>\n",
              "  </tbody>\n",
              "</table>\n",
              "<p>7881 rows × 5 columns</p>\n",
              "</div>\n",
              "      <button class=\"colab-df-convert\" onclick=\"convertToInteractive('df-c961f7c8-ae87-4a98-8ba4-7b102197e576')\"\n",
              "              title=\"Convert this dataframe to an interactive table.\"\n",
              "              style=\"display:none;\">\n",
              "        \n",
              "  <svg xmlns=\"http://www.w3.org/2000/svg\" height=\"24px\"viewBox=\"0 0 24 24\"\n",
              "       width=\"24px\">\n",
              "    <path d=\"M0 0h24v24H0V0z\" fill=\"none\"/>\n",
              "    <path d=\"M18.56 5.44l.94 2.06.94-2.06 2.06-.94-2.06-.94-.94-2.06-.94 2.06-2.06.94zm-11 1L8.5 8.5l.94-2.06 2.06-.94-2.06-.94L8.5 2.5l-.94 2.06-2.06.94zm10 10l.94 2.06.94-2.06 2.06-.94-2.06-.94-.94-2.06-.94 2.06-2.06.94z\"/><path d=\"M17.41 7.96l-1.37-1.37c-.4-.4-.92-.59-1.43-.59-.52 0-1.04.2-1.43.59L10.3 9.45l-7.72 7.72c-.78.78-.78 2.05 0 2.83L4 21.41c.39.39.9.59 1.41.59.51 0 1.02-.2 1.41-.59l7.78-7.78 2.81-2.81c.8-.78.8-2.07 0-2.86zM5.41 20L4 18.59l7.72-7.72 1.47 1.35L5.41 20z\"/>\n",
              "  </svg>\n",
              "      </button>\n",
              "      \n",
              "  <style>\n",
              "    .colab-df-container {\n",
              "      display:flex;\n",
              "      flex-wrap:wrap;\n",
              "      gap: 12px;\n",
              "    }\n",
              "\n",
              "    .colab-df-convert {\n",
              "      background-color: #E8F0FE;\n",
              "      border: none;\n",
              "      border-radius: 50%;\n",
              "      cursor: pointer;\n",
              "      display: none;\n",
              "      fill: #1967D2;\n",
              "      height: 32px;\n",
              "      padding: 0 0 0 0;\n",
              "      width: 32px;\n",
              "    }\n",
              "\n",
              "    .colab-df-convert:hover {\n",
              "      background-color: #E2EBFA;\n",
              "      box-shadow: 0px 1px 2px rgba(60, 64, 67, 0.3), 0px 1px 3px 1px rgba(60, 64, 67, 0.15);\n",
              "      fill: #174EA6;\n",
              "    }\n",
              "\n",
              "    [theme=dark] .colab-df-convert {\n",
              "      background-color: #3B4455;\n",
              "      fill: #D2E3FC;\n",
              "    }\n",
              "\n",
              "    [theme=dark] .colab-df-convert:hover {\n",
              "      background-color: #434B5C;\n",
              "      box-shadow: 0px 1px 3px 1px rgba(0, 0, 0, 0.15);\n",
              "      filter: drop-shadow(0px 1px 2px rgba(0, 0, 0, 0.3));\n",
              "      fill: #FFFFFF;\n",
              "    }\n",
              "  </style>\n",
              "\n",
              "      <script>\n",
              "        const buttonEl =\n",
              "          document.querySelector('#df-c961f7c8-ae87-4a98-8ba4-7b102197e576 button.colab-df-convert');\n",
              "        buttonEl.style.display =\n",
              "          google.colab.kernel.accessAllowed ? 'block' : 'none';\n",
              "\n",
              "        async function convertToInteractive(key) {\n",
              "          const element = document.querySelector('#df-c961f7c8-ae87-4a98-8ba4-7b102197e576');\n",
              "          const dataTable =\n",
              "            await google.colab.kernel.invokeFunction('convertToInteractive',\n",
              "                                                     [key], {});\n",
              "          if (!dataTable) return;\n",
              "\n",
              "          const docLinkHtml = 'Like what you see? Visit the ' +\n",
              "            '<a target=\"_blank\" href=https://colab.research.google.com/notebooks/data_table.ipynb>data table notebook</a>'\n",
              "            + ' to learn more about interactive tables.';\n",
              "          element.innerHTML = '';\n",
              "          dataTable['output_type'] = 'display_data';\n",
              "          await google.colab.output.renderOutput(dataTable, element);\n",
              "          const docLink = document.createElement('div');\n",
              "          docLink.innerHTML = docLinkHtml;\n",
              "          element.appendChild(docLink);\n",
              "        }\n",
              "      </script>\n",
              "    </div>\n",
              "  </div>\n",
              "  "
            ]
          },
          "metadata": {},
          "execution_count": 28
        }
      ],
      "source": [
        "df_sentimientos"
      ],
      "id": "m9YMbRUFTYLG"
    },
    {
      "cell_type": "code",
      "execution_count": 29,
      "metadata": {
        "colab": {
          "base_uri": "https://localhost:8080/"
        },
        "id": "9fkUEilQghh0",
        "outputId": "c923731b-20db-42eb-c483-0e750b5aef65"
      },
      "outputs": [
        {
          "output_type": "execute_result",
          "data": {
            "text/plain": [
              "Unnamed: 0                 int64\n",
              "short_description         object\n",
              "rating                    object\n",
              "sentiment                  int64\n",
              "prediccion_sentimiento    object\n",
              "dtype: object"
            ]
          },
          "metadata": {},
          "execution_count": 29
        }
      ],
      "source": [
        "df_sentimientos.dtypes"
      ],
      "id": "9fkUEilQghh0"
    },
    {
      "cell_type": "code",
      "execution_count": 30,
      "metadata": {
        "id": "RNhq5VsShYnH"
      },
      "outputs": [],
      "source": [
        "# definimos una funcion para obtener las predicciones individuales de cada clase y almacenarlas en una columna\n",
        "import re\n",
        "def columna_prob_sentimiento(str_probs,clase):\n",
        "  s = str_probs+'\\n3'\n",
        "  value = re.search(r' (.*?)\\n'+str(clase),s).group(1)\n",
        "  return value"
      ],
      "id": "RNhq5VsShYnH"
    },
    {
      "cell_type": "markdown",
      "source": [
        "Inntegramos las predicciones de cada descripcion a su match correspondiente"
      ],
      "metadata": {
        "id": "Fo8JKpMdsPhO"
      },
      "id": "Fo8JKpMdsPhO"
    },
    {
      "cell_type": "code",
      "execution_count": 31,
      "metadata": {
        "id": "kekJARpUwMGU"
      },
      "outputs": [],
      "source": [
        "# definimos una funcion para sumar las predicciones de sentimientos a un dataframe\n",
        "def pred_sent_add_dataframe(df_original,df_sent):\n",
        "  df_salida = df_original.copy()\n",
        "  df_salida['pred_sent_0'] = df_sent.apply(lambda x: columna_prob_sentimiento(x.prediccion_sentimiento,1),axis=1).astype(float)\n",
        "  df_salida['pred_sent_1'] = df_sent.apply(lambda x: columna_prob_sentimiento(x.prediccion_sentimiento,2),axis=1).astype(float)\n",
        "  df_salida['pred_sent_2'] = df_sent.apply(lambda x: columna_prob_sentimiento(x.prediccion_sentimiento,3),axis=1).astype(float)\n",
        "  return df_salida"
      ],
      "id": "kekJARpUwMGU"
    },
    {
      "cell_type": "code",
      "execution_count": 32,
      "metadata": {
        "colab": {
          "base_uri": "https://localhost:8080/"
        },
        "id": "jAi2GY15w6Qr",
        "outputId": "31686691-4b36-4e03-9c9c-ee134c5c3a0e"
      },
      "outputs": [
        {
          "output_type": "execute_result",
          "data": {
            "text/plain": [
              "Index(['name', 'release_date', 'english', 'developer', 'publisher',\n",
              "       'platforms', 'required_age', 'categories', 'genres', 'tags',\n",
              "       'achievements', 'average_playtime', 'price', 'short_description',\n",
              "       'estimated_sells', 'rating', 'year', 'month', 'dist_PlayStation',\n",
              "       'dist_PlayStation 2', 'dist_PlayStation 3', 'dist_PlayStation 4',\n",
              "       'dist_PlayStation 5', 'dist_Xbox', 'dist_Xbox 360', 'dist_Xbox One',\n",
              "       'dist_Xbox Series X/S', 'dist_Nintendo Entertainment System (NES)',\n",
              "       'dist_Super Nintendo Entertainment System (SNES)', 'dist_Nintendo 64',\n",
              "       'dist_GameCube', 'dist_Wii', 'dist_Wii U', 'dist_Switch'],\n",
              "      dtype='object')"
            ]
          },
          "metadata": {},
          "execution_count": 32
        }
      ],
      "source": [
        "df_train.columns"
      ],
      "id": "jAi2GY15w6Qr"
    },
    {
      "cell_type": "code",
      "execution_count": 33,
      "metadata": {
        "id": "MwEQ0qwhw1vU"
      },
      "outputs": [],
      "source": [
        "# agregamos los datos de probabilidad de sentimientos a los dataframe de entrenamiento y evaluacion\n",
        "df_train = pred_sent_add_dataframe(df_train,df_sentimientos)\n",
        "df_test = pred_sent_add_dataframe(df_test,df_sentimientos_testing)"
      ],
      "id": "MwEQ0qwhw1vU"
    },
    {
      "cell_type": "code",
      "execution_count": 34,
      "metadata": {
        "colab": {
          "base_uri": "https://localhost:8080/"
        },
        "id": "PoaDGcFrxM2b",
        "outputId": "39b279b9-a6d4-414a-edae-a080358a9efe"
      },
      "outputs": [
        {
          "output_type": "execute_result",
          "data": {
            "text/plain": [
              "0      1.846106\n",
              "1      1.454211\n",
              "2     -0.598220\n",
              "3      1.372748\n",
              "4      1.506248\n",
              "         ...   \n",
              "871    1.467991\n",
              "872    1.519823\n",
              "873    2.104084\n",
              "874    1.046129\n",
              "875    1.744321\n",
              "Name: pred_sent_1, Length: 876, dtype: float64"
            ]
          },
          "metadata": {},
          "execution_count": 34
        }
      ],
      "source": [
        "df_test.pred_sent_1"
      ],
      "id": "PoaDGcFrxM2b"
    },
    {
      "cell_type": "code",
      "execution_count": 35,
      "metadata": {
        "colab": {
          "base_uri": "https://localhost:8080/",
          "height": 887
        },
        "id": "ssPhPbgNTTyw",
        "outputId": "3c1a72f3-9016-4723-f78c-31931b2364d4"
      },
      "outputs": [
        {
          "output_type": "execute_result",
          "data": {
            "text/plain": [
              "                      name release_date  english  \\\n",
              "0            An Aspie Life   2018-03-29        1   \n",
              "1        GhostControl Inc.   2014-06-06        1   \n",
              "2                  Deponia   2012-08-06        1   \n",
              "3            Atlas Reactor   2016-10-04        1   \n",
              "4                  CHUCHEL   2018-03-07        1   \n",
              "...                    ...          ...      ...   \n",
              "7876  KOEWOTAYORINI / 声之寄托   2018-03-26        0   \n",
              "7877               Montaro   2016-07-25        1   \n",
              "7878            Moe Jigsaw   2018-03-23        1   \n",
              "7879      Drunkn Bar Fight   2016-11-28        1   \n",
              "7880                Intake   2013-11-06        1   \n",
              "\n",
              "                         developer                       publisher  \\\n",
              "0     Bradley Hennessey;Joe Watson               EnderLost Studios   \n",
              "1                        bumblebee  Application Systems Heidelberg   \n",
              "2           Daedalic Entertainment          Daedalic Entertainment   \n",
              "3                     Trion Worlds                    Trion Worlds   \n",
              "4                   Amanita Design                  Amanita Design   \n",
              "...                            ...                             ...   \n",
              "7876                          あみそ組       Pujia8 Studio;Gamera Game   \n",
              "7877                       JCKSLAP                            MBDL   \n",
              "7878                     ARES Inc.                       ARES Inc.   \n",
              "7879                     The Munky                       The Munky   \n",
              "7880          Cipher Prime Studios            Cipher Prime Studios   \n",
              "\n",
              "              platforms  required_age  \\\n",
              "0               windows             0   \n",
              "1     windows;mac;linux             0   \n",
              "2     windows;mac;linux             0   \n",
              "3               windows             0   \n",
              "4           windows;mac             0   \n",
              "...                 ...           ...   \n",
              "7876            windows             0   \n",
              "7877            windows             0   \n",
              "7878            windows             0   \n",
              "7879            windows             0   \n",
              "7880        windows;mac             0   \n",
              "\n",
              "                                             categories  \\\n",
              "0                      Single-player;Steam Achievements   \n",
              "1     Single-player;Steam Achievements;Steam Trading...   \n",
              "2     Single-player;Steam Achievements;Steam Trading...   \n",
              "3     Multi-player;Online Multi-Player;Steam Achieve...   \n",
              "4     Single-player;Steam Achievements;Steam Trading...   \n",
              "...                                                 ...   \n",
              "7876       Single-player;Steam Achievements;Steam Cloud   \n",
              "7877  Single-player;Steam Achievements;Steam Trading...   \n",
              "7878  Single-player;Steam Achievements;Steam Trading...   \n",
              "7879  Single-player;Multi-player;Online Multi-Player...   \n",
              "7880  Single-player;Steam Achievements;Steam Cloud;S...   \n",
              "\n",
              "                                              genres  \\\n",
              "0     Adventure;Casual;Free to Play;Indie;Simulation   \n",
              "1                   Casual;Indie;Simulation;Strategy   \n",
              "2                                    Adventure;Indie   \n",
              "3                              Free to Play;Strategy   \n",
              "4                             Adventure;Casual;Indie   \n",
              "...                                              ...   \n",
              "7876                Adventure;Free to Play;Indie;RPG   \n",
              "7877                                    Casual;Indie   \n",
              "7878                                    Casual;Indie   \n",
              "7879                       Action;Indie;Early Access   \n",
              "7880                                    Action;Indie   \n",
              "\n",
              "                                   tags  ...  \\\n",
              "0          Free to Play;Adventure;Indie  ...   \n",
              "1           Turn-Based;Indie;Simulation  ...   \n",
              "2        Adventure;Point & Click;Comedy  ...   \n",
              "3     Free to Play;Multiplayer;Strategy  ...   \n",
              "4                Adventure;Indie;Casual  ...   \n",
              "...                                 ...  ...   \n",
              "7876       Free to Play;Adventure;Anime  ...   \n",
              "7877                  Memes;Cute;Casual  ...   \n",
              "7878                Casual;Nudity;Indie  ...   \n",
              "7879          Early Access;Action;Indie  ...   \n",
              "7880      Indie;Action;Great Soundtrack  ...   \n",
              "\n",
              "      dist_Nintendo Entertainment System (NES)  \\\n",
              "0                                     0.776940   \n",
              "1                                     0.871156   \n",
              "2                                     0.925069   \n",
              "3                                     0.811030   \n",
              "4                                     0.778271   \n",
              "...                                        ...   \n",
              "7876                                  0.777122   \n",
              "7877                                  0.815727   \n",
              "7878                                  0.777303   \n",
              "7879                                  0.807428   \n",
              "7880                                  0.887548   \n",
              "\n",
              "      dist_Super Nintendo Entertainment System (SNES)  dist_Nintendo 64  \\\n",
              "0                                            0.969556          1.231072   \n",
              "1                                            1.120825          1.485663   \n",
              "2                                            1.211681          1.649621   \n",
              "3                                            1.023227          1.318913   \n",
              "4                                            0.971628          1.234416   \n",
              "...                                               ...               ...   \n",
              "7876                                         0.969838          1.231527   \n",
              "7877                                         1.030715          1.331381   \n",
              "7878                                         0.970120          1.231982   \n",
              "7879                                         1.017501          1.309415   \n",
              "7880                                         1.148106          1.533978   \n",
              "\n",
              "     dist_GameCube  dist_Wii dist_Wii U  dist_Switch  pred_sent_0  \\\n",
              "0         1.588310  2.237136   4.387889    22.123894     0.843294   \n",
              "1         2.039152  3.248863  11.273957     0.000000    -0.892821   \n",
              "2         2.361275  4.151100  45.871560     0.000000    -2.344548   \n",
              "3         1.737619  2.545177   5.753740     0.000000    -2.280627   \n",
              "4         1.593880  2.248201   4.430660    23.255814    -2.581257   \n",
              "...            ...       ...        ...          ...          ...   \n",
              "7876      1.589067  2.238639   4.393673    22.271715    -2.318358   \n",
              "7877      1.759324  2.592017   5.998800     0.000000    -2.633180   \n",
              "7878      1.589825  2.240143   4.399472    22.421525    -2.059745   \n",
              "7879      1.721170  2.510040   5.577245     0.000000    -0.429817   \n",
              "7880      2.131287  3.489184  14.814815     0.000000    -2.252388   \n",
              "\n",
              "      pred_sent_1  pred_sent_2  \n",
              "0        0.968711    -2.052107  \n",
              "1        1.589771    -0.580979  \n",
              "2       -0.897998     3.725896  \n",
              "3        0.085291     2.462217  \n",
              "4       -0.048627     3.176043  \n",
              "...           ...          ...  \n",
              "7876     0.921371     1.777699  \n",
              "7877    -0.015791     3.110903  \n",
              "7878     0.570459     1.828324  \n",
              "7879     2.273812    -1.791619  \n",
              "7880    -0.931616     3.641082  \n",
              "\n",
              "[7881 rows x 37 columns]"
            ],
            "text/html": [
              "\n",
              "  <div id=\"df-4572cd3b-b3b5-4ba9-b894-10c17f79c895\">\n",
              "    <div class=\"colab-df-container\">\n",
              "      <div>\n",
              "<style scoped>\n",
              "    .dataframe tbody tr th:only-of-type {\n",
              "        vertical-align: middle;\n",
              "    }\n",
              "\n",
              "    .dataframe tbody tr th {\n",
              "        vertical-align: top;\n",
              "    }\n",
              "\n",
              "    .dataframe thead th {\n",
              "        text-align: right;\n",
              "    }\n",
              "</style>\n",
              "<table border=\"1\" class=\"dataframe\">\n",
              "  <thead>\n",
              "    <tr style=\"text-align: right;\">\n",
              "      <th></th>\n",
              "      <th>name</th>\n",
              "      <th>release_date</th>\n",
              "      <th>english</th>\n",
              "      <th>developer</th>\n",
              "      <th>publisher</th>\n",
              "      <th>platforms</th>\n",
              "      <th>required_age</th>\n",
              "      <th>categories</th>\n",
              "      <th>genres</th>\n",
              "      <th>tags</th>\n",
              "      <th>...</th>\n",
              "      <th>dist_Nintendo Entertainment System (NES)</th>\n",
              "      <th>dist_Super Nintendo Entertainment System (SNES)</th>\n",
              "      <th>dist_Nintendo 64</th>\n",
              "      <th>dist_GameCube</th>\n",
              "      <th>dist_Wii</th>\n",
              "      <th>dist_Wii U</th>\n",
              "      <th>dist_Switch</th>\n",
              "      <th>pred_sent_0</th>\n",
              "      <th>pred_sent_1</th>\n",
              "      <th>pred_sent_2</th>\n",
              "    </tr>\n",
              "  </thead>\n",
              "  <tbody>\n",
              "    <tr>\n",
              "      <th>0</th>\n",
              "      <td>An Aspie Life</td>\n",
              "      <td>2018-03-29</td>\n",
              "      <td>1</td>\n",
              "      <td>Bradley Hennessey;Joe Watson</td>\n",
              "      <td>EnderLost Studios</td>\n",
              "      <td>windows</td>\n",
              "      <td>0</td>\n",
              "      <td>Single-player;Steam Achievements</td>\n",
              "      <td>Adventure;Casual;Free to Play;Indie;Simulation</td>\n",
              "      <td>Free to Play;Adventure;Indie</td>\n",
              "      <td>...</td>\n",
              "      <td>0.776940</td>\n",
              "      <td>0.969556</td>\n",
              "      <td>1.231072</td>\n",
              "      <td>1.588310</td>\n",
              "      <td>2.237136</td>\n",
              "      <td>4.387889</td>\n",
              "      <td>22.123894</td>\n",
              "      <td>0.843294</td>\n",
              "      <td>0.968711</td>\n",
              "      <td>-2.052107</td>\n",
              "    </tr>\n",
              "    <tr>\n",
              "      <th>1</th>\n",
              "      <td>GhostControl Inc.</td>\n",
              "      <td>2014-06-06</td>\n",
              "      <td>1</td>\n",
              "      <td>bumblebee</td>\n",
              "      <td>Application Systems Heidelberg</td>\n",
              "      <td>windows;mac;linux</td>\n",
              "      <td>0</td>\n",
              "      <td>Single-player;Steam Achievements;Steam Trading...</td>\n",
              "      <td>Casual;Indie;Simulation;Strategy</td>\n",
              "      <td>Turn-Based;Indie;Simulation</td>\n",
              "      <td>...</td>\n",
              "      <td>0.871156</td>\n",
              "      <td>1.120825</td>\n",
              "      <td>1.485663</td>\n",
              "      <td>2.039152</td>\n",
              "      <td>3.248863</td>\n",
              "      <td>11.273957</td>\n",
              "      <td>0.000000</td>\n",
              "      <td>-0.892821</td>\n",
              "      <td>1.589771</td>\n",
              "      <td>-0.580979</td>\n",
              "    </tr>\n",
              "    <tr>\n",
              "      <th>2</th>\n",
              "      <td>Deponia</td>\n",
              "      <td>2012-08-06</td>\n",
              "      <td>1</td>\n",
              "      <td>Daedalic Entertainment</td>\n",
              "      <td>Daedalic Entertainment</td>\n",
              "      <td>windows;mac;linux</td>\n",
              "      <td>0</td>\n",
              "      <td>Single-player;Steam Achievements;Steam Trading...</td>\n",
              "      <td>Adventure;Indie</td>\n",
              "      <td>Adventure;Point &amp; Click;Comedy</td>\n",
              "      <td>...</td>\n",
              "      <td>0.925069</td>\n",
              "      <td>1.211681</td>\n",
              "      <td>1.649621</td>\n",
              "      <td>2.361275</td>\n",
              "      <td>4.151100</td>\n",
              "      <td>45.871560</td>\n",
              "      <td>0.000000</td>\n",
              "      <td>-2.344548</td>\n",
              "      <td>-0.897998</td>\n",
              "      <td>3.725896</td>\n",
              "    </tr>\n",
              "    <tr>\n",
              "      <th>3</th>\n",
              "      <td>Atlas Reactor</td>\n",
              "      <td>2016-10-04</td>\n",
              "      <td>1</td>\n",
              "      <td>Trion Worlds</td>\n",
              "      <td>Trion Worlds</td>\n",
              "      <td>windows</td>\n",
              "      <td>0</td>\n",
              "      <td>Multi-player;Online Multi-Player;Steam Achieve...</td>\n",
              "      <td>Free to Play;Strategy</td>\n",
              "      <td>Free to Play;Multiplayer;Strategy</td>\n",
              "      <td>...</td>\n",
              "      <td>0.811030</td>\n",
              "      <td>1.023227</td>\n",
              "      <td>1.318913</td>\n",
              "      <td>1.737619</td>\n",
              "      <td>2.545177</td>\n",
              "      <td>5.753740</td>\n",
              "      <td>0.000000</td>\n",
              "      <td>-2.280627</td>\n",
              "      <td>0.085291</td>\n",
              "      <td>2.462217</td>\n",
              "    </tr>\n",
              "    <tr>\n",
              "      <th>4</th>\n",
              "      <td>CHUCHEL</td>\n",
              "      <td>2018-03-07</td>\n",
              "      <td>1</td>\n",
              "      <td>Amanita Design</td>\n",
              "      <td>Amanita Design</td>\n",
              "      <td>windows;mac</td>\n",
              "      <td>0</td>\n",
              "      <td>Single-player;Steam Achievements;Steam Trading...</td>\n",
              "      <td>Adventure;Casual;Indie</td>\n",
              "      <td>Adventure;Indie;Casual</td>\n",
              "      <td>...</td>\n",
              "      <td>0.778271</td>\n",
              "      <td>0.971628</td>\n",
              "      <td>1.234416</td>\n",
              "      <td>1.593880</td>\n",
              "      <td>2.248201</td>\n",
              "      <td>4.430660</td>\n",
              "      <td>23.255814</td>\n",
              "      <td>-2.581257</td>\n",
              "      <td>-0.048627</td>\n",
              "      <td>3.176043</td>\n",
              "    </tr>\n",
              "    <tr>\n",
              "      <th>...</th>\n",
              "      <td>...</td>\n",
              "      <td>...</td>\n",
              "      <td>...</td>\n",
              "      <td>...</td>\n",
              "      <td>...</td>\n",
              "      <td>...</td>\n",
              "      <td>...</td>\n",
              "      <td>...</td>\n",
              "      <td>...</td>\n",
              "      <td>...</td>\n",
              "      <td>...</td>\n",
              "      <td>...</td>\n",
              "      <td>...</td>\n",
              "      <td>...</td>\n",
              "      <td>...</td>\n",
              "      <td>...</td>\n",
              "      <td>...</td>\n",
              "      <td>...</td>\n",
              "      <td>...</td>\n",
              "      <td>...</td>\n",
              "      <td>...</td>\n",
              "    </tr>\n",
              "    <tr>\n",
              "      <th>7876</th>\n",
              "      <td>KOEWOTAYORINI / 声之寄托</td>\n",
              "      <td>2018-03-26</td>\n",
              "      <td>0</td>\n",
              "      <td>あみそ組</td>\n",
              "      <td>Pujia8 Studio;Gamera Game</td>\n",
              "      <td>windows</td>\n",
              "      <td>0</td>\n",
              "      <td>Single-player;Steam Achievements;Steam Cloud</td>\n",
              "      <td>Adventure;Free to Play;Indie;RPG</td>\n",
              "      <td>Free to Play;Adventure;Anime</td>\n",
              "      <td>...</td>\n",
              "      <td>0.777122</td>\n",
              "      <td>0.969838</td>\n",
              "      <td>1.231527</td>\n",
              "      <td>1.589067</td>\n",
              "      <td>2.238639</td>\n",
              "      <td>4.393673</td>\n",
              "      <td>22.271715</td>\n",
              "      <td>-2.318358</td>\n",
              "      <td>0.921371</td>\n",
              "      <td>1.777699</td>\n",
              "    </tr>\n",
              "    <tr>\n",
              "      <th>7877</th>\n",
              "      <td>Montaro</td>\n",
              "      <td>2016-07-25</td>\n",
              "      <td>1</td>\n",
              "      <td>JCKSLAP</td>\n",
              "      <td>MBDL</td>\n",
              "      <td>windows</td>\n",
              "      <td>0</td>\n",
              "      <td>Single-player;Steam Achievements;Steam Trading...</td>\n",
              "      <td>Casual;Indie</td>\n",
              "      <td>Memes;Cute;Casual</td>\n",
              "      <td>...</td>\n",
              "      <td>0.815727</td>\n",
              "      <td>1.030715</td>\n",
              "      <td>1.331381</td>\n",
              "      <td>1.759324</td>\n",
              "      <td>2.592017</td>\n",
              "      <td>5.998800</td>\n",
              "      <td>0.000000</td>\n",
              "      <td>-2.633180</td>\n",
              "      <td>-0.015791</td>\n",
              "      <td>3.110903</td>\n",
              "    </tr>\n",
              "    <tr>\n",
              "      <th>7878</th>\n",
              "      <td>Moe Jigsaw</td>\n",
              "      <td>2018-03-23</td>\n",
              "      <td>1</td>\n",
              "      <td>ARES Inc.</td>\n",
              "      <td>ARES Inc.</td>\n",
              "      <td>windows</td>\n",
              "      <td>0</td>\n",
              "      <td>Single-player;Steam Achievements;Steam Trading...</td>\n",
              "      <td>Casual;Indie</td>\n",
              "      <td>Casual;Nudity;Indie</td>\n",
              "      <td>...</td>\n",
              "      <td>0.777303</td>\n",
              "      <td>0.970120</td>\n",
              "      <td>1.231982</td>\n",
              "      <td>1.589825</td>\n",
              "      <td>2.240143</td>\n",
              "      <td>4.399472</td>\n",
              "      <td>22.421525</td>\n",
              "      <td>-2.059745</td>\n",
              "      <td>0.570459</td>\n",
              "      <td>1.828324</td>\n",
              "    </tr>\n",
              "    <tr>\n",
              "      <th>7879</th>\n",
              "      <td>Drunkn Bar Fight</td>\n",
              "      <td>2016-11-28</td>\n",
              "      <td>1</td>\n",
              "      <td>The Munky</td>\n",
              "      <td>The Munky</td>\n",
              "      <td>windows</td>\n",
              "      <td>0</td>\n",
              "      <td>Single-player;Multi-player;Online Multi-Player...</td>\n",
              "      <td>Action;Indie;Early Access</td>\n",
              "      <td>Early Access;Action;Indie</td>\n",
              "      <td>...</td>\n",
              "      <td>0.807428</td>\n",
              "      <td>1.017501</td>\n",
              "      <td>1.309415</td>\n",
              "      <td>1.721170</td>\n",
              "      <td>2.510040</td>\n",
              "      <td>5.577245</td>\n",
              "      <td>0.000000</td>\n",
              "      <td>-0.429817</td>\n",
              "      <td>2.273812</td>\n",
              "      <td>-1.791619</td>\n",
              "    </tr>\n",
              "    <tr>\n",
              "      <th>7880</th>\n",
              "      <td>Intake</td>\n",
              "      <td>2013-11-06</td>\n",
              "      <td>1</td>\n",
              "      <td>Cipher Prime Studios</td>\n",
              "      <td>Cipher Prime Studios</td>\n",
              "      <td>windows;mac</td>\n",
              "      <td>0</td>\n",
              "      <td>Single-player;Steam Achievements;Steam Cloud;S...</td>\n",
              "      <td>Action;Indie</td>\n",
              "      <td>Indie;Action;Great Soundtrack</td>\n",
              "      <td>...</td>\n",
              "      <td>0.887548</td>\n",
              "      <td>1.148106</td>\n",
              "      <td>1.533978</td>\n",
              "      <td>2.131287</td>\n",
              "      <td>3.489184</td>\n",
              "      <td>14.814815</td>\n",
              "      <td>0.000000</td>\n",
              "      <td>-2.252388</td>\n",
              "      <td>-0.931616</td>\n",
              "      <td>3.641082</td>\n",
              "    </tr>\n",
              "  </tbody>\n",
              "</table>\n",
              "<p>7881 rows × 37 columns</p>\n",
              "</div>\n",
              "      <button class=\"colab-df-convert\" onclick=\"convertToInteractive('df-4572cd3b-b3b5-4ba9-b894-10c17f79c895')\"\n",
              "              title=\"Convert this dataframe to an interactive table.\"\n",
              "              style=\"display:none;\">\n",
              "        \n",
              "  <svg xmlns=\"http://www.w3.org/2000/svg\" height=\"24px\"viewBox=\"0 0 24 24\"\n",
              "       width=\"24px\">\n",
              "    <path d=\"M0 0h24v24H0V0z\" fill=\"none\"/>\n",
              "    <path d=\"M18.56 5.44l.94 2.06.94-2.06 2.06-.94-2.06-.94-.94-2.06-.94 2.06-2.06.94zm-11 1L8.5 8.5l.94-2.06 2.06-.94-2.06-.94L8.5 2.5l-.94 2.06-2.06.94zm10 10l.94 2.06.94-2.06 2.06-.94-2.06-.94-.94-2.06-.94 2.06-2.06.94z\"/><path d=\"M17.41 7.96l-1.37-1.37c-.4-.4-.92-.59-1.43-.59-.52 0-1.04.2-1.43.59L10.3 9.45l-7.72 7.72c-.78.78-.78 2.05 0 2.83L4 21.41c.39.39.9.59 1.41.59.51 0 1.02-.2 1.41-.59l7.78-7.78 2.81-2.81c.8-.78.8-2.07 0-2.86zM5.41 20L4 18.59l7.72-7.72 1.47 1.35L5.41 20z\"/>\n",
              "  </svg>\n",
              "      </button>\n",
              "      \n",
              "  <style>\n",
              "    .colab-df-container {\n",
              "      display:flex;\n",
              "      flex-wrap:wrap;\n",
              "      gap: 12px;\n",
              "    }\n",
              "\n",
              "    .colab-df-convert {\n",
              "      background-color: #E8F0FE;\n",
              "      border: none;\n",
              "      border-radius: 50%;\n",
              "      cursor: pointer;\n",
              "      display: none;\n",
              "      fill: #1967D2;\n",
              "      height: 32px;\n",
              "      padding: 0 0 0 0;\n",
              "      width: 32px;\n",
              "    }\n",
              "\n",
              "    .colab-df-convert:hover {\n",
              "      background-color: #E2EBFA;\n",
              "      box-shadow: 0px 1px 2px rgba(60, 64, 67, 0.3), 0px 1px 3px 1px rgba(60, 64, 67, 0.15);\n",
              "      fill: #174EA6;\n",
              "    }\n",
              "\n",
              "    [theme=dark] .colab-df-convert {\n",
              "      background-color: #3B4455;\n",
              "      fill: #D2E3FC;\n",
              "    }\n",
              "\n",
              "    [theme=dark] .colab-df-convert:hover {\n",
              "      background-color: #434B5C;\n",
              "      box-shadow: 0px 1px 3px 1px rgba(0, 0, 0, 0.15);\n",
              "      filter: drop-shadow(0px 1px 2px rgba(0, 0, 0, 0.3));\n",
              "      fill: #FFFFFF;\n",
              "    }\n",
              "  </style>\n",
              "\n",
              "      <script>\n",
              "        const buttonEl =\n",
              "          document.querySelector('#df-4572cd3b-b3b5-4ba9-b894-10c17f79c895 button.colab-df-convert');\n",
              "        buttonEl.style.display =\n",
              "          google.colab.kernel.accessAllowed ? 'block' : 'none';\n",
              "\n",
              "        async function convertToInteractive(key) {\n",
              "          const element = document.querySelector('#df-4572cd3b-b3b5-4ba9-b894-10c17f79c895');\n",
              "          const dataTable =\n",
              "            await google.colab.kernel.invokeFunction('convertToInteractive',\n",
              "                                                     [key], {});\n",
              "          if (!dataTable) return;\n",
              "\n",
              "          const docLinkHtml = 'Like what you see? Visit the ' +\n",
              "            '<a target=\"_blank\" href=https://colab.research.google.com/notebooks/data_table.ipynb>data table notebook</a>'\n",
              "            + ' to learn more about interactive tables.';\n",
              "          element.innerHTML = '';\n",
              "          dataTable['output_type'] = 'display_data';\n",
              "          await google.colab.output.renderOutput(dataTable, element);\n",
              "          const docLink = document.createElement('div');\n",
              "          docLink.innerHTML = docLinkHtml;\n",
              "          element.appendChild(docLink);\n",
              "        }\n",
              "      </script>\n",
              "    </div>\n",
              "  </div>\n",
              "  "
            ]
          },
          "metadata": {},
          "execution_count": 35
        }
      ],
      "source": [
        "df_train"
      ],
      "id": "ssPhPbgNTTyw"
    },
    {
      "cell_type": "markdown",
      "metadata": {
        "id": "ppo9fu643ulD"
      },
      "source": [
        "Creamos una nueva columna de vaiables categoricas rating a numericas para ver sus distribuciones"
      ],
      "id": "ppo9fu643ulD"
    },
    {
      "cell_type": "code",
      "execution_count": 36,
      "metadata": {
        "colab": {
          "base_uri": "https://localhost:8080/"
        },
        "id": "o3gJ_P_p4Ehw",
        "outputId": "3a8c2f72-473d-4394-f91b-081f80947d64"
      },
      "outputs": [
        {
          "output_type": "execute_result",
          "data": {
            "text/plain": [
              "Positive           2031\n",
              "Mostly Positive    1707\n",
              "Mixed              1656\n",
              "Negative           1290\n",
              "Very Positive      1197\n",
              "Name: rating, dtype: int64"
            ]
          },
          "metadata": {},
          "execution_count": 36
        }
      ],
      "source": [
        "df_train.rating.value_counts()"
      ],
      "id": "o3gJ_P_p4Ehw"
    },
    {
      "cell_type": "code",
      "execution_count": 37,
      "metadata": {
        "colab": {
          "base_uri": "https://localhost:8080/"
        },
        "id": "-aNMShNa35DB",
        "outputId": "afea444d-efb0-4f4f-cd24-58039516bc69"
      },
      "outputs": [
        {
          "output_type": "execute_result",
          "data": {
            "text/plain": [
              "3    2031\n",
              "2    1707\n",
              "1    1656\n",
              "0    1290\n",
              "4    1197\n",
              "Name: rating_num, dtype: int64"
            ]
          },
          "metadata": {},
          "execution_count": 37
        }
      ],
      "source": [
        "dic_rating = {'Negative':0,'Mixed':1,'Mostly Positive':2,'Positive':3,'Very Positive':4}\n",
        "df_train['rating_num'] = df_train.rating.replace(dic_rating)\n",
        "df_train.rating_num.value_counts()"
      ],
      "id": "-aNMShNa35DB"
    },
    {
      "cell_type": "markdown",
      "metadata": {
        "id": "wNo_0cMinsdB"
      },
      "source": [
        "## Histogramas"
      ],
      "id": "wNo_0cMinsdB"
    },
    {
      "cell_type": "markdown",
      "metadata": {
        "id": "6ud78nQFR6h4"
      },
      "source": [
        "A continuación veamos los histogramas de las diferentes variables numericas"
      ],
      "id": "6ud78nQFR6h4"
    },
    {
      "cell_type": "code",
      "execution_count": 38,
      "metadata": {
        "colab": {
          "base_uri": "https://localhost:8080/",
          "height": 297
        },
        "id": "4gn30ajV5DEy",
        "outputId": "3ff335b1-81eb-4432-ac3e-e884681f17cf"
      },
      "outputs": [
        {
          "output_type": "execute_result",
          "data": {
            "text/plain": [
              "<matplotlib.axes._subplots.AxesSubplot at 0x7fc74de28af0>"
            ]
          },
          "metadata": {},
          "execution_count": 38
        },
        {
          "output_type": "display_data",
          "data": {
            "text/plain": [
              "<Figure size 432x288 with 1 Axes>"
            ],
            "image/png": "[encoded data removed]"
          },
          "metadata": {
            "needs_background": "light"
          }
        }
      ],
      "source": [
        "sns.histplot(x='rating_num', data=df_train)"
      ],
      "id": "4gn30ajV5DEy"
    },
    {
      "cell_type": "code",
      "execution_count": 39,
      "metadata": {
        "colab": {
          "base_uri": "https://localhost:8080/",
          "height": 301
        },
        "id": "5M9w-qa15Fbw",
        "outputId": "d95aadba-70e0-4dbd-a6c8-f3e46ddb4f39"
      },
      "outputs": [
        {
          "output_type": "execute_result",
          "data": {
            "text/plain": [
              "<matplotlib.axes._subplots.AxesSubplot at 0x7fc74d616a90>"
            ]
          },
          "metadata": {},
          "execution_count": 39
        },
        {
          "output_type": "display_data",
          "data": {
            "text/plain": [
              "<Figure size 432x288 with 1 Axes>"
            ],
            "image/png": "[encoded data removed]"
          },
          "metadata": {
            "needs_background": "light"
          }
        }
      ],
      "source": [
        "sns.histplot(x='estimated_sells', data=df_train,log_scale=True, bins=10)"
      ],
      "id": "5M9w-qa15Fbw"
    },
    {
      "cell_type": "code",
      "execution_count": 40,
      "metadata": {
        "colab": {
          "base_uri": "https://localhost:8080/",
          "height": 298
        },
        "id": "ALllk9gHRxHZ",
        "outputId": "517e00b5-d9b5-4600-a0e0-81e851983fad"
      },
      "outputs": [
        {
          "output_type": "execute_result",
          "data": {
            "text/plain": [
              "<matplotlib.axes._subplots.AxesSubplot at 0x7fc74ced3370>"
            ]
          },
          "metadata": {},
          "execution_count": 40
        },
        {
          "output_type": "display_data",
          "data": {
            "text/plain": [
              "<Figure size 432x288 with 1 Axes>"
            ],
            "image/png": "[encoded data removed]"
          },
          "metadata": {
            "needs_background": "light"
          }
        }
      ],
      "source": [
        "sns.histplot(x='year', data=df_train)"
      ],
      "id": "ALllk9gHRxHZ"
    },
    {
      "cell_type": "code",
      "execution_count": 41,
      "metadata": {
        "colab": {
          "base_uri": "https://localhost:8080/",
          "height": 296
        },
        "id": "mB-bbKv-cGWG",
        "outputId": "2a6d4346-f237-4304-fa09-b14bb9622ab3"
      },
      "outputs": [
        {
          "output_type": "execute_result",
          "data": {
            "text/plain": [
              "<matplotlib.axes._subplots.AxesSubplot at 0x7fc74cd629d0>"
            ]
          },
          "metadata": {},
          "execution_count": 41
        },
        {
          "output_type": "display_data",
          "data": {
            "text/plain": [
              "<Figure size 432x288 with 1 Axes>"
            ],
            "image/png": "[encoded data removed]"
          },
          "metadata": {
            "needs_background": "light"
          }
        }
      ],
      "source": [
        "sns.histplot(x='month', data=df_train)"
      ],
      "id": "mB-bbKv-cGWG"
    },
    {
      "cell_type": "code",
      "execution_count": 42,
      "metadata": {
        "colab": {
          "base_uri": "https://localhost:8080/",
          "height": 297
        },
        "id": "VkCh0srESQzH",
        "outputId": "dc6c169e-d056-4796-d790-25d9bac3b458"
      },
      "outputs": [
        {
          "output_type": "execute_result",
          "data": {
            "text/plain": [
              "<matplotlib.axes._subplots.AxesSubplot at 0x7fc74ce716a0>"
            ]
          },
          "metadata": {},
          "execution_count": 42
        },
        {
          "output_type": "display_data",
          "data": {
            "text/plain": [
              "<Figure size 432x288 with 1 Axes>"
            ],
            "image/png": "[encoded data removed]"
          },
          "metadata": {
            "needs_background": "light"
          }
        }
      ],
      "source": [
        "sns.histplot(x='required_age', data=df_train)"
      ],
      "id": "VkCh0srESQzH"
    },
    {
      "cell_type": "code",
      "execution_count": 43,
      "metadata": {
        "colab": {
          "base_uri": "https://localhost:8080/",
          "height": 296
        },
        "id": "c7GX_85WTh6A",
        "outputId": "0902aed3-7af0-440f-f617-f5b29117efdf"
      },
      "outputs": [
        {
          "output_type": "execute_result",
          "data": {
            "text/plain": [
              "<matplotlib.axes._subplots.AxesSubplot at 0x7fc74cd03580>"
            ]
          },
          "metadata": {},
          "execution_count": 43
        },
        {
          "output_type": "display_data",
          "data": {
            "text/plain": [
              "<Figure size 432x288 with 1 Axes>"
            ],
            "image/png": "[encoded data removed]"
          },
          "metadata": {
            "needs_background": "light"
          }
        }
      ],
      "source": [
        "sns.histplot(x='achievements', data=df_train, bins=10)"
      ],
      "id": "c7GX_85WTh6A"
    },
    {
      "cell_type": "code",
      "execution_count": 44,
      "metadata": {
        "colab": {
          "base_uri": "https://localhost:8080/",
          "height": 297
        },
        "id": "Yjx9v7deoTMo",
        "outputId": "005e017e-ff5f-4bb3-89ef-03648f124a83"
      },
      "outputs": [
        {
          "output_type": "execute_result",
          "data": {
            "text/plain": [
              "<matplotlib.axes._subplots.AxesSubplot at 0x7fc74cc79d30>"
            ]
          },
          "metadata": {},
          "execution_count": 44
        },
        {
          "output_type": "display_data",
          "data": {
            "text/plain": [
              "<Figure size 432x288 with 1 Axes>"
            ],
            "image/png": "[encoded data removed]"
          },
          "metadata": {
            "needs_background": "light"
          }
        }
      ],
      "source": [
        "sns.histplot(x='average_playtime', data=df_train, bins=15)"
      ],
      "id": "Yjx9v7deoTMo"
    },
    {
      "cell_type": "code",
      "execution_count": 45,
      "metadata": {
        "colab": {
          "base_uri": "https://localhost:8080/",
          "height": 296
        },
        "id": "fM_qvhTHU4e2",
        "outputId": "6c51f47e-5190-4f7b-e7a6-df3c2987bef0"
      },
      "outputs": [
        {
          "output_type": "execute_result",
          "data": {
            "text/plain": [
              "<matplotlib.axes._subplots.AxesSubplot at 0x7fc74cbfaa90>"
            ]
          },
          "metadata": {},
          "execution_count": 45
        },
        {
          "output_type": "display_data",
          "data": {
            "text/plain": [
              "<Figure size 432x288 with 1 Axes>"
            ],
            "image/png": "[encoded data removed]"
          },
          "metadata": {
            "needs_background": "light"
          }
        }
      ],
      "source": [
        "sns.histplot(x='price', data=df_train, bins=10)"
      ],
      "id": "fM_qvhTHU4e2"
    },
    {
      "cell_type": "code",
      "execution_count": 46,
      "metadata": {
        "colab": {
          "base_uri": "https://localhost:8080/",
          "height": 297
        },
        "id": "51DJZTUU2siB",
        "outputId": "9a5618da-500b-403f-8212-416a0e8299a7"
      },
      "outputs": [
        {
          "output_type": "execute_result",
          "data": {
            "text/plain": [
              "<matplotlib.axes._subplots.AxesSubplot at 0x7fc74cb7aa00>"
            ]
          },
          "metadata": {},
          "execution_count": 46
        },
        {
          "output_type": "display_data",
          "data": {
            "text/plain": [
              "<Figure size 432x288 with 1 Axes>"
            ],
            "image/png": "[encoded data removed]"
          },
          "metadata": {
            "needs_background": "light"
          }
        }
      ],
      "source": [
        "sns.histplot(x='pred_sent_0', data=df_train, bins=10)"
      ],
      "id": "51DJZTUU2siB"
    },
    {
      "cell_type": "code",
      "execution_count": 47,
      "metadata": {
        "colab": {
          "base_uri": "https://localhost:8080/",
          "height": 297
        },
        "id": "D1_5j4Cn20J5",
        "outputId": "2ab1f005-3f8c-4958-eadb-9bf0888d18d8"
      },
      "outputs": [
        {
          "output_type": "execute_result",
          "data": {
            "text/plain": [
              "<matplotlib.axes._subplots.AxesSubplot at 0x7fc74cae92e0>"
            ]
          },
          "metadata": {},
          "execution_count": 47
        },
        {
          "output_type": "display_data",
          "data": {
            "text/plain": [
              "<Figure size 432x288 with 1 Axes>"
            ],
            "image/png": "[encoded data removed]"
          },
          "metadata": {
            "needs_background": "light"
          }
        }
      ],
      "source": [
        "sns.histplot(x='pred_sent_1', data=df_train, bins=10)"
      ],
      "id": "D1_5j4Cn20J5"
    },
    {
      "cell_type": "code",
      "execution_count": 48,
      "metadata": {
        "colab": {
          "base_uri": "https://localhost:8080/",
          "height": 297
        },
        "id": "Yt8JNR4f21vx",
        "outputId": "7c8434b8-6b28-4513-ecc2-288240f03efd"
      },
      "outputs": [
        {
          "output_type": "execute_result",
          "data": {
            "text/plain": [
              "<matplotlib.axes._subplots.AxesSubplot at 0x7fc74cac3310>"
            ]
          },
          "metadata": {},
          "execution_count": 48
        },
        {
          "output_type": "display_data",
          "data": {
            "text/plain": [
              "<Figure size 432x288 with 1 Axes>"
            ],
            "image/png": "[encoded data removed]"
          },
          "metadata": {
            "needs_background": "light"
          }
        }
      ],
      "source": [
        "sns.histplot(x='pred_sent_2', data=df_train, bins=10)"
      ],
      "id": "Yt8JNR4f21vx"
    },
    {
      "cell_type": "markdown",
      "source": [
        "Podemos notar que en general se encuentran bastante concentrados en pequeños rangos para las variables numericas provistas por default. Además existen variablkes muy sobre representadas. Estas variables apoprtan poco poder de predicción y estimnación debido a estas causas."
      ],
      "metadata": {
        "id": "BSxL_QJls4dc"
      },
      "id": "BSxL_QJls4dc"
    },
    {
      "cell_type": "markdown",
      "metadata": {
        "id": "qiVz86zQnvzF"
      },
      "source": [
        "## Boxplot"
      ],
      "id": "qiVz86zQnvzF"
    },
    {
      "cell_type": "markdown",
      "source": [
        "Veamos la distribución de las variables"
      ],
      "metadata": {
        "id": "xW0zVJaYtVI2"
      },
      "id": "xW0zVJaYtVI2"
    },
    {
      "cell_type": "code",
      "execution_count": 49,
      "metadata": {
        "colab": {
          "base_uri": "https://localhost:8080/",
          "height": 1000
        },
        "id": "ZkK8OBzvnx01",
        "outputId": "b82439c9-3b9e-4a2e-836d-5322630c5569"
      },
      "outputs": [
        {
          "output_type": "execute_result",
          "data": {
            "text/plain": [
              "english                                               AxesSubplot(0.125,0.772143;0.133621x0.107857)\n",
              "required_age                                       AxesSubplot(0.285345,0.772143;0.133621x0.107857)\n",
              "achievements                                        AxesSubplot(0.44569,0.772143;0.133621x0.107857)\n",
              "average_playtime                                   AxesSubplot(0.606034,0.772143;0.133621x0.107857)\n",
              "price                                              AxesSubplot(0.766379,0.772143;0.133621x0.107857)\n",
              "estimated_sells                                       AxesSubplot(0.125,0.642714;0.133621x0.107857)\n",
              "year                                               AxesSubplot(0.285345,0.642714;0.133621x0.107857)\n",
              "month                                               AxesSubplot(0.44569,0.642714;0.133621x0.107857)\n",
              "dist_PlayStation                                   AxesSubplot(0.606034,0.642714;0.133621x0.107857)\n",
              "dist_PlayStation 2                                 AxesSubplot(0.766379,0.642714;0.133621x0.107857)\n",
              "dist_PlayStation 3                                    AxesSubplot(0.125,0.513286;0.133621x0.107857)\n",
              "dist_PlayStation 4                                 AxesSubplot(0.285345,0.513286;0.133621x0.107857)\n",
              "dist_PlayStation 5                                  AxesSubplot(0.44569,0.513286;0.133621x0.107857)\n",
              "dist_Xbox                                          AxesSubplot(0.606034,0.513286;0.133621x0.107857)\n",
              "dist_Xbox 360                                      AxesSubplot(0.766379,0.513286;0.133621x0.107857)\n",
              "dist_Xbox One                                         AxesSubplot(0.125,0.383857;0.133621x0.107857)\n",
              "dist_Xbox Series X/S                               AxesSubplot(0.285345,0.383857;0.133621x0.107857)\n",
              "dist_Nintendo Entertainment System (NES)            AxesSubplot(0.44569,0.383857;0.133621x0.107857)\n",
              "dist_Super Nintendo Entertainment System (SNES)    AxesSubplot(0.606034,0.383857;0.133621x0.107857)\n",
              "dist_Nintendo 64                                   AxesSubplot(0.766379,0.383857;0.133621x0.107857)\n",
              "dist_GameCube                                         AxesSubplot(0.125,0.254429;0.133621x0.107857)\n",
              "dist_Wii                                           AxesSubplot(0.285345,0.254429;0.133621x0.107857)\n",
              "dist_Wii U                                          AxesSubplot(0.44569,0.254429;0.133621x0.107857)\n",
              "dist_Switch                                        AxesSubplot(0.606034,0.254429;0.133621x0.107857)\n",
              "pred_sent_0                                        AxesSubplot(0.766379,0.254429;0.133621x0.107857)\n",
              "pred_sent_1                                              AxesSubplot(0.125,0.125;0.133621x0.107857)\n",
              "pred_sent_2                                           AxesSubplot(0.285345,0.125;0.133621x0.107857)\n",
              "rating_num                                             AxesSubplot(0.44569,0.125;0.133621x0.107857)\n",
              "dtype: object"
            ]
          },
          "metadata": {},
          "execution_count": 49
        },
        {
          "output_type": "display_data",
          "data": {
            "text/plain": [
              "<Figure size 1440x1440 with 30 Axes>"
            ],
            "image/png": "[encoded data removed]"
          },
          "metadata": {
            "needs_background": "light"
          }
        }
      ],
      "source": [
        "df_train.plot(kind='box' , subplots = True , figsize = (20,20), layout = (6,5))"
      ],
      "id": "ZkK8OBzvnx01"
    },
    {
      "cell_type": "markdown",
      "source": [
        "Vemos que se repite el comportamiento observado anteriormente, miuentras que las variables generadas manualmente si se encuentran mas distribuidas dentro de las diferentes instancias."
      ],
      "metadata": {
        "id": "y1SpAapbtaHU"
      },
      "id": "y1SpAapbtaHU"
    },
    {
      "cell_type": "code",
      "execution_count": 50,
      "metadata": {
        "colab": {
          "base_uri": "https://localhost:8080/",
          "height": 1000
        },
        "id": "U-6cQRypW0Gz",
        "outputId": "881101d0-0d84-4adf-a465-18dc0115958f"
      },
      "outputs": [
        {
          "output_type": "display_data",
          "data": {
            "text/plain": [
              "<Figure size 1440x1080 with 2 Axes>"
            ],
            "image/png": "[encoded data removed]"
          },
          "metadata": {
            "needs_background": "light"
          }
        }
      ],
      "source": [
        "corr_ = df_train.drop(['dist_PlayStation 5','dist_Xbox Series X/S'], axis = 1).corr()\n",
        "\n",
        "plt.figure(figsize=(20,15))\n",
        "\n",
        "sns.heatmap(corr_, annot=True, linewidths=.2, cmap='RdYlBu_r')\n",
        "\n",
        "plt.show()"
      ],
      "id": "U-6cQRypW0Gz"
    },
    {
      "cell_type": "markdown",
      "metadata": {
        "id": "z86A45gi3pv2"
      },
      "source": [
        "\n",
        "\n",
        "Al efectuar el análisis exploratorio de datos pudimos notar lo siguiente:\n",
        "\n",
        "Las variables imputadas se correlacionan con las clases objetivo al menos a nivel comparable al que lo hacían las variables en bruto. Vemos que, como era de esperarse, la variable de rating está bastante correlacionada con la variable de prediccion de rating. Así mismo las ventas estimadas si tienen cierto grado de correlación con las distancia a el lanzamiento de consolas competitivas. Esta variable muestra que parte del mercado de videojuegos es capturado cuando una nueva consola sale al mercado."
      ],
      "id": "z86A45gi3pv2"
    },
    {
      "cell_type": "markdown",
      "metadata": {
        "id": "63G38UBn3pv2"
      },
      "source": [
        "---\n",
        "\n",
        "## 3. Preparación de Datos\n",
        "\n",
        "Para preparar nuestros datos, primero eliminamos duplicados y outliers...:"
      ],
      "id": "63G38UBn3pv2"
    },
    {
      "cell_type": "markdown",
      "metadata": {
        "id": "uYzn9UR_uqBd"
      },
      "source": [
        "Cambiamos el dtype de los datos para hacer el preprocesamiento"
      ],
      "id": "uYzn9UR_uqBd"
    },
    {
      "cell_type": "code",
      "execution_count": 51,
      "metadata": {
        "id": "ij7kMyvnucW4"
      },
      "outputs": [],
      "source": [
        "df_train['required_age']=df_train['required_age'].astype('object')"
      ],
      "id": "ij7kMyvnucW4"
    },
    {
      "cell_type": "code",
      "execution_count": 52,
      "metadata": {
        "colab": {
          "base_uri": "https://localhost:8080/"
        },
        "id": "z9lfxmBMsn_N",
        "outputId": "f52de85c-91f0-45cb-d3a6-0574947a8b70"
      },
      "outputs": [
        {
          "output_type": "execute_result",
          "data": {
            "text/plain": [
              "Index(['name', 'release_date', 'english', 'developer', 'publisher',\n",
              "       'platforms', 'required_age', 'categories', 'genres', 'tags',\n",
              "       'achievements', 'average_playtime', 'price', 'short_description',\n",
              "       'estimated_sells', 'rating', 'year', 'month', 'dist_PlayStation',\n",
              "       'dist_PlayStation 2', 'dist_PlayStation 3', 'dist_PlayStation 4',\n",
              "       'dist_PlayStation 5', 'dist_Xbox', 'dist_Xbox 360', 'dist_Xbox One',\n",
              "       'dist_Xbox Series X/S', 'dist_Nintendo Entertainment System (NES)',\n",
              "       'dist_Super Nintendo Entertainment System (SNES)', 'dist_Nintendo 64',\n",
              "       'dist_GameCube', 'dist_Wii', 'dist_Wii U', 'dist_Switch', 'pred_sent_0',\n",
              "       'pred_sent_1', 'pred_sent_2', 'rating_num'],\n",
              "      dtype='object')"
            ]
          },
          "metadata": {},
          "execution_count": 52
        }
      ],
      "source": [
        "df_train.columns"
      ],
      "id": "z9lfxmBMsn_N"
    },
    {
      "cell_type": "markdown",
      "metadata": {
        "id": "3Tu-vCZMPt0L"
      },
      "source": [
        "Creamos un tokenizador para obtener informacion de los tokens incluidos en la columna \"categories2"
      ],
      "id": "3Tu-vCZMPt0L"
    },
    {
      "cell_type": "markdown",
      "metadata": {
        "id": "TiGvjNStVTJ-"
      },
      "source": [
        "Al vectorizar tags, obtenemos una columna que indica si el juego es gratis o no, por lo que no generamos el encodig adicional"
      ],
      "id": "TiGvjNStVTJ-"
    },
    {
      "cell_type": "markdown",
      "source": [
        "Obtenemos los conjuntos de entrenamiento y testing con las columnas que consideramos relevantes para la tarea de regresión y clasificación. Para ello el conjunto de entrenamiento es de 80% del dataset original y el de validación (test) es de 20% del dataset de entrenamiento"
      ],
      "metadata": {
        "id": "1Xn4rWpoujYL"
      },
      "id": "1Xn4rWpoujYL"
    },
    {
      "cell_type": "code",
      "execution_count": 53,
      "metadata": {
        "id": "F9fSm9aKVGie"
      },
      "outputs": [],
      "source": [
        "## definimos primero el problema de regresion\n",
        "X = df_train.drop(labels=['estimated_sells','release_date','rating','publisher','dist_Xbox Series X/S','dist_PlayStation 5','name','short_description','rating_num'], axis=1)\n",
        "y = df_train.estimated_sells\n",
        "X_train, X_test, y_train, y_test = train_test_split(X,y, test_size = 0.2, random_state=123)"
      ],
      "id": "F9fSm9aKVGie"
    },
    {
      "cell_type": "code",
      "execution_count": 54,
      "metadata": {
        "colab": {
          "base_uri": "https://localhost:8080/",
          "height": 852
        },
        "id": "qNpYZIgppyqz",
        "outputId": "8451f2cd-dc99-4442-878e-a26395aaea88"
      },
      "outputs": [
        {
          "output_type": "execute_result",
          "data": {
            "text/plain": [
              "      english                       developer          platforms required_age  \\\n",
              "3148        1      KOEI TECMO GAMES CO., LTD.            windows           18   \n",
              "2134        1                      Starbreeze  windows;mac;linux            0   \n",
              "4292        1                Emblematic Group            windows            0   \n",
              "6255        1                   Daniel Davies  windows;mac;linux            0   \n",
              "2870        1                      Cinemaware            windows            0   \n",
              "...       ...                             ...                ...          ...   \n",
              "4060        1  Victor Solodilov;Denis Novikov        windows;mac            0   \n",
              "1346        1                       Volcanoid      windows;linux            0   \n",
              "3454        1              Big Head Games Ltd            windows            0   \n",
              "7533        1                Dustwind Studios            windows            0   \n",
              "3582        1                    COLOPL, Inc.            windows            0   \n",
              "\n",
              "                                             categories  \\\n",
              "3148  Single-player;Steam Achievements;Full controll...   \n",
              "2134      Single-player;Steam Trading Cards;Steam Cloud   \n",
              "4292                                      Single-player   \n",
              "6255  Single-player;Multi-player;Co-op;Cross-Platfor...   \n",
              "2870  Single-player;Steam Achievements;Steam Trading...   \n",
              "...                                                 ...   \n",
              "4060  Single-player;Steam Achievements;Steam Trading...   \n",
              "1346       Single-player;Steam Achievements;Steam Cloud   \n",
              "3454                         Single-player;Multi-player   \n",
              "7533  Single-player;Online Multi-Player;Online Co-op...   \n",
              "3582  Single-player;Multi-player;Steam Achievements;...   \n",
              "\n",
              "                                         genres  \\\n",
              "3148  Sexual Content;Nudity;Violent;Gore;Action   \n",
              "2134                                        RPG   \n",
              "4292              Free to Play;Indie;Simulation   \n",
              "6255          Adventure;Casual;Indie;Simulation   \n",
              "2870                          Action;Simulation   \n",
              "...                                         ...   \n",
              "4060                     Adventure;Casual;Indie   \n",
              "1346             Action;Simulation;Early Access   \n",
              "3454                              Casual;Sports   \n",
              "7533         Violent;Gore;Action;Indie;Strategy   \n",
              "3582                       Action;Casual;Sports   \n",
              "\n",
              "                                                   tags  achievements  \\\n",
              "3148                        Anime;Action;Hack and Slash            40   \n",
              "2134                            RPG;Action;Third Person             0   \n",
              "4292                      Free to Play;Indie;Simulation             0   \n",
              "6255                                 Indie;Memes;Casual             0   \n",
              "2870                      Simulation;Action;World War I            12   \n",
              "...                                                 ...           ...   \n",
              "4060                                Casual;Indie;Puzzle            19   \n",
              "1346                       Early Access;Survival;Action            15   \n",
              "3454                           Sports;Casual;Simulation             0   \n",
              "7533  Character Customization;Post-apocalyptic;Real ...            29   \n",
              "3582                               Sports;Action;Casual            11   \n",
              "\n",
              "      average_playtime  price  ...  dist_Nintendo Entertainment System (NES)  \\\n",
              "3148                78  49.99  ...                                  0.801925   \n",
              "2134               213   3.99  ...                                  0.890155   \n",
              "4292                 0   0.00  ...                                  0.806387   \n",
              "6255                 0   3.99  ...                                  0.849041   \n",
              "2870                 0  12.99  ...                                  0.861178   \n",
              "...                ...    ...  ...                                       ...   \n",
              "4060               140   3.99  ...                                  0.842460   \n",
              "1346                 0  15.49  ...                                  0.758898   \n",
              "3454                 1   9.99  ...                                  0.871688   \n",
              "7533               341  19.49  ...                                  0.768640   \n",
              "3582                 0   5.99  ...                                  0.821625   \n",
              "\n",
              "      dist_Super Nintendo Entertainment System (SNES)  dist_Nintendo 64  \\\n",
              "3148                                         1.008776          1.295001   \n",
              "2134                                         1.152472          1.541782   \n",
              "4292                                         1.015847          1.306677   \n",
              "6255                                         1.084481          1.422475   \n",
              "2870                                         1.104362          1.456876   \n",
              "...                                               ...               ...   \n",
              "4060                                         1.073768          1.404100   \n",
              "1346                                         0.941620          1.186380   \n",
              "3454                                         1.121705          1.487210   \n",
              "7533                                         0.956663          1.210361   \n",
              "3582                                         1.040150          1.347164   \n",
              "\n",
              "      dist_GameCube  dist_Wii  dist_Wii U  dist_Switch  pred_sent_0  \\\n",
              "3148       1.696353  2.457606    5.324814   196.078431     0.230625   \n",
              "2134       2.146383  3.529827   15.576324     0.000000    -0.508581   \n",
              "4292       1.716444  2.500000    5.527916     0.000000    -0.602963   \n",
              "6255       1.921968  2.961208    8.431703     0.000000     2.482549   \n",
              "2870       1.985309  3.114295    9.803922     0.000000    -0.725395   \n",
              "...             ...       ...         ...          ...          ...   \n",
              "4060       1.888574  2.882675    7.824726     0.000000    -2.502259   \n",
              "1346       1.514693  2.093802    3.868472    13.192612    -1.637189   \n",
              "3454       2.042067  3.256268   11.363636     0.000000    -0.679910   \n",
              "7533       1.554002  2.169668    4.135649    16.920474    -0.354613   \n",
              "3582       1.786991  2.652520    6.333122     0.000000    -2.668111   \n",
              "\n",
              "      pred_sent_1  pred_sent_2  \n",
              "3148     1.506481    -1.779603  \n",
              "2134     1.824301    -1.131541  \n",
              "4292     1.503827    -0.963550  \n",
              "6255     0.226341    -3.206716  \n",
              "2870     1.803680    -0.830884  \n",
              "...           ...          ...  \n",
              "4060    -0.471385     3.407770  \n",
              "1346     1.873270     0.302117  \n",
              "3454     1.729955    -1.034595  \n",
              "7533     2.092661    -1.760898  \n",
              "3582    -0.314596     3.637015  \n",
              "\n",
              "[6304 rows x 29 columns]"
            ],
            "text/html": [
              "\n",
              "  <div id=\"df-03288975-d11a-45dd-812e-3b29bf5b5b9e\">\n",
              "    <div class=\"colab-df-container\">\n",
              "      <div>\n",
              "<style scoped>\n",
              "    .dataframe tbody tr th:only-of-type {\n",
              "        vertical-align: middle;\n",
              "    }\n",
              "\n",
              "    .dataframe tbody tr th {\n",
              "        vertical-align: top;\n",
              "    }\n",
              "\n",
              "    .dataframe thead th {\n",
              "        text-align: right;\n",
              "    }\n",
              "</style>\n",
              "<table border=\"1\" class=\"dataframe\">\n",
              "  <thead>\n",
              "    <tr style=\"text-align: right;\">\n",
              "      <th></th>\n",
              "      <th>english</th>\n",
              "      <th>developer</th>\n",
              "      <th>platforms</th>\n",
              "      <th>required_age</th>\n",
              "      <th>categories</th>\n",
              "      <th>genres</th>\n",
              "      <th>tags</th>\n",
              "      <th>achievements</th>\n",
              "      <th>average_playtime</th>\n",
              "      <th>price</th>\n",
              "      <th>...</th>\n",
              "      <th>dist_Nintendo Entertainment System (NES)</th>\n",
              "      <th>dist_Super Nintendo Entertainment System (SNES)</th>\n",
              "      <th>dist_Nintendo 64</th>\n",
              "      <th>dist_GameCube</th>\n",
              "      <th>dist_Wii</th>\n",
              "      <th>dist_Wii U</th>\n",
              "      <th>dist_Switch</th>\n",
              "      <th>pred_sent_0</th>\n",
              "      <th>pred_sent_1</th>\n",
              "      <th>pred_sent_2</th>\n",
              "    </tr>\n",
              "  </thead>\n",
              "  <tbody>\n",
              "    <tr>\n",
              "      <th>3148</th>\n",
              "      <td>1</td>\n",
              "      <td>KOEI TECMO GAMES CO., LTD.</td>\n",
              "      <td>windows</td>\n",
              "      <td>18</td>\n",
              "      <td>Single-player;Steam Achievements;Full controll...</td>\n",
              "      <td>Sexual Content;Nudity;Violent;Gore;Action</td>\n",
              "      <td>Anime;Action;Hack and Slash</td>\n",
              "      <td>40</td>\n",
              "      <td>78</td>\n",
              "      <td>49.99</td>\n",
              "      <td>...</td>\n",
              "      <td>0.801925</td>\n",
              "      <td>1.008776</td>\n",
              "      <td>1.295001</td>\n",
              "      <td>1.696353</td>\n",
              "      <td>2.457606</td>\n",
              "      <td>5.324814</td>\n",
              "      <td>196.078431</td>\n",
              "      <td>0.230625</td>\n",
              "      <td>1.506481</td>\n",
              "      <td>-1.779603</td>\n",
              "    </tr>\n",
              "    <tr>\n",
              "      <th>2134</th>\n",
              "      <td>1</td>\n",
              "      <td>Starbreeze</td>\n",
              "      <td>windows;mac;linux</td>\n",
              "      <td>0</td>\n",
              "      <td>Single-player;Steam Trading Cards;Steam Cloud</td>\n",
              "      <td>RPG</td>\n",
              "      <td>RPG;Action;Third Person</td>\n",
              "      <td>0</td>\n",
              "      <td>213</td>\n",
              "      <td>3.99</td>\n",
              "      <td>...</td>\n",
              "      <td>0.890155</td>\n",
              "      <td>1.152472</td>\n",
              "      <td>1.541782</td>\n",
              "      <td>2.146383</td>\n",
              "      <td>3.529827</td>\n",
              "      <td>15.576324</td>\n",
              "      <td>0.000000</td>\n",
              "      <td>-0.508581</td>\n",
              "      <td>1.824301</td>\n",
              "      <td>-1.131541</td>\n",
              "    </tr>\n",
              "    <tr>\n",
              "      <th>4292</th>\n",
              "      <td>1</td>\n",
              "      <td>Emblematic Group</td>\n",
              "      <td>windows</td>\n",
              "      <td>0</td>\n",
              "      <td>Single-player</td>\n",
              "      <td>Free to Play;Indie;Simulation</td>\n",
              "      <td>Free to Play;Indie;Simulation</td>\n",
              "      <td>0</td>\n",
              "      <td>0</td>\n",
              "      <td>0.00</td>\n",
              "      <td>...</td>\n",
              "      <td>0.806387</td>\n",
              "      <td>1.015847</td>\n",
              "      <td>1.306677</td>\n",
              "      <td>1.716444</td>\n",
              "      <td>2.500000</td>\n",
              "      <td>5.527916</td>\n",
              "      <td>0.000000</td>\n",
              "      <td>-0.602963</td>\n",
              "      <td>1.503827</td>\n",
              "      <td>-0.963550</td>\n",
              "    </tr>\n",
              "    <tr>\n",
              "      <th>6255</th>\n",
              "      <td>1</td>\n",
              "      <td>Daniel Davies</td>\n",
              "      <td>windows;mac;linux</td>\n",
              "      <td>0</td>\n",
              "      <td>Single-player;Multi-player;Co-op;Cross-Platfor...</td>\n",
              "      <td>Adventure;Casual;Indie;Simulation</td>\n",
              "      <td>Indie;Memes;Casual</td>\n",
              "      <td>0</td>\n",
              "      <td>0</td>\n",
              "      <td>3.99</td>\n",
              "      <td>...</td>\n",
              "      <td>0.849041</td>\n",
              "      <td>1.084481</td>\n",
              "      <td>1.422475</td>\n",
              "      <td>1.921968</td>\n",
              "      <td>2.961208</td>\n",
              "      <td>8.431703</td>\n",
              "      <td>0.000000</td>\n",
              "      <td>2.482549</td>\n",
              "      <td>0.226341</td>\n",
              "      <td>-3.206716</td>\n",
              "    </tr>\n",
              "    <tr>\n",
              "      <th>2870</th>\n",
              "      <td>1</td>\n",
              "      <td>Cinemaware</td>\n",
              "      <td>windows</td>\n",
              "      <td>0</td>\n",
              "      <td>Single-player;Steam Achievements;Steam Trading...</td>\n",
              "      <td>Action;Simulation</td>\n",
              "      <td>Simulation;Action;World War I</td>\n",
              "      <td>12</td>\n",
              "      <td>0</td>\n",
              "      <td>12.99</td>\n",
              "      <td>...</td>\n",
              "      <td>0.861178</td>\n",
              "      <td>1.104362</td>\n",
              "      <td>1.456876</td>\n",
              "      <td>1.985309</td>\n",
              "      <td>3.114295</td>\n",
              "      <td>9.803922</td>\n",
              "      <td>0.000000</td>\n",
              "      <td>-0.725395</td>\n",
              "      <td>1.803680</td>\n",
              "      <td>-0.830884</td>\n",
              "    </tr>\n",
              "    <tr>\n",
              "      <th>...</th>\n",
              "      <td>...</td>\n",
              "      <td>...</td>\n",
              "      <td>...</td>\n",
              "      <td>...</td>\n",
              "      <td>...</td>\n",
              "      <td>...</td>\n",
              "      <td>...</td>\n",
              "      <td>...</td>\n",
              "      <td>...</td>\n",
              "      <td>...</td>\n",
              "      <td>...</td>\n",
              "      <td>...</td>\n",
              "      <td>...</td>\n",
              "      <td>...</td>\n",
              "      <td>...</td>\n",
              "      <td>...</td>\n",
              "      <td>...</td>\n",
              "      <td>...</td>\n",
              "      <td>...</td>\n",
              "      <td>...</td>\n",
              "      <td>...</td>\n",
              "    </tr>\n",
              "    <tr>\n",
              "      <th>4060</th>\n",
              "      <td>1</td>\n",
              "      <td>Victor Solodilov;Denis Novikov</td>\n",
              "      <td>windows;mac</td>\n",
              "      <td>0</td>\n",
              "      <td>Single-player;Steam Achievements;Steam Trading...</td>\n",
              "      <td>Adventure;Casual;Indie</td>\n",
              "      <td>Casual;Indie;Puzzle</td>\n",
              "      <td>19</td>\n",
              "      <td>140</td>\n",
              "      <td>3.99</td>\n",
              "      <td>...</td>\n",
              "      <td>0.842460</td>\n",
              "      <td>1.073768</td>\n",
              "      <td>1.404100</td>\n",
              "      <td>1.888574</td>\n",
              "      <td>2.882675</td>\n",
              "      <td>7.824726</td>\n",
              "      <td>0.000000</td>\n",
              "      <td>-2.502259</td>\n",
              "      <td>-0.471385</td>\n",
              "      <td>3.407770</td>\n",
              "    </tr>\n",
              "    <tr>\n",
              "      <th>1346</th>\n",
              "      <td>1</td>\n",
              "      <td>Volcanoid</td>\n",
              "      <td>windows;linux</td>\n",
              "      <td>0</td>\n",
              "      <td>Single-player;Steam Achievements;Steam Cloud</td>\n",
              "      <td>Action;Simulation;Early Access</td>\n",
              "      <td>Early Access;Survival;Action</td>\n",
              "      <td>15</td>\n",
              "      <td>0</td>\n",
              "      <td>15.49</td>\n",
              "      <td>...</td>\n",
              "      <td>0.758898</td>\n",
              "      <td>0.941620</td>\n",
              "      <td>1.186380</td>\n",
              "      <td>1.514693</td>\n",
              "      <td>2.093802</td>\n",
              "      <td>3.868472</td>\n",
              "      <td>13.192612</td>\n",
              "      <td>-1.637189</td>\n",
              "      <td>1.873270</td>\n",
              "      <td>0.302117</td>\n",
              "    </tr>\n",
              "    <tr>\n",
              "      <th>3454</th>\n",
              "      <td>1</td>\n",
              "      <td>Big Head Games Ltd</td>\n",
              "      <td>windows</td>\n",
              "      <td>0</td>\n",
              "      <td>Single-player;Multi-player</td>\n",
              "      <td>Casual;Sports</td>\n",
              "      <td>Sports;Casual;Simulation</td>\n",
              "      <td>0</td>\n",
              "      <td>1</td>\n",
              "      <td>9.99</td>\n",
              "      <td>...</td>\n",
              "      <td>0.871688</td>\n",
              "      <td>1.121705</td>\n",
              "      <td>1.487210</td>\n",
              "      <td>2.042067</td>\n",
              "      <td>3.256268</td>\n",
              "      <td>11.363636</td>\n",
              "      <td>0.000000</td>\n",
              "      <td>-0.679910</td>\n",
              "      <td>1.729955</td>\n",
              "      <td>-1.034595</td>\n",
              "    </tr>\n",
              "    <tr>\n",
              "      <th>7533</th>\n",
              "      <td>1</td>\n",
              "      <td>Dustwind Studios</td>\n",
              "      <td>windows</td>\n",
              "      <td>0</td>\n",
              "      <td>Single-player;Online Multi-Player;Online Co-op...</td>\n",
              "      <td>Violent;Gore;Action;Indie;Strategy</td>\n",
              "      <td>Character Customization;Post-apocalyptic;Real ...</td>\n",
              "      <td>29</td>\n",
              "      <td>341</td>\n",
              "      <td>19.49</td>\n",
              "      <td>...</td>\n",
              "      <td>0.768640</td>\n",
              "      <td>0.956663</td>\n",
              "      <td>1.210361</td>\n",
              "      <td>1.554002</td>\n",
              "      <td>2.169668</td>\n",
              "      <td>4.135649</td>\n",
              "      <td>16.920474</td>\n",
              "      <td>-0.354613</td>\n",
              "      <td>2.092661</td>\n",
              "      <td>-1.760898</td>\n",
              "    </tr>\n",
              "    <tr>\n",
              "      <th>3582</th>\n",
              "      <td>1</td>\n",
              "      <td>COLOPL, Inc.</td>\n",
              "      <td>windows</td>\n",
              "      <td>0</td>\n",
              "      <td>Single-player;Multi-player;Steam Achievements;...</td>\n",
              "      <td>Action;Casual;Sports</td>\n",
              "      <td>Sports;Action;Casual</td>\n",
              "      <td>11</td>\n",
              "      <td>0</td>\n",
              "      <td>5.99</td>\n",
              "      <td>...</td>\n",
              "      <td>0.821625</td>\n",
              "      <td>1.040150</td>\n",
              "      <td>1.347164</td>\n",
              "      <td>1.786991</td>\n",
              "      <td>2.652520</td>\n",
              "      <td>6.333122</td>\n",
              "      <td>0.000000</td>\n",
              "      <td>-2.668111</td>\n",
              "      <td>-0.314596</td>\n",
              "      <td>3.637015</td>\n",
              "    </tr>\n",
              "  </tbody>\n",
              "</table>\n",
              "<p>6304 rows × 29 columns</p>\n",
              "</div>\n",
              "      <button class=\"colab-df-convert\" onclick=\"convertToInteractive('df-03288975-d11a-45dd-812e-3b29bf5b5b9e')\"\n",
              "              title=\"Convert this dataframe to an interactive table.\"\n",
              "              style=\"display:none;\">\n",
              "        \n",
              "  <svg xmlns=\"http://www.w3.org/2000/svg\" height=\"24px\"viewBox=\"0 0 24 24\"\n",
              "       width=\"24px\">\n",
              "    <path d=\"M0 0h24v24H0V0z\" fill=\"none\"/>\n",
              "    <path d=\"M18.56 5.44l.94 2.06.94-2.06 2.06-.94-2.06-.94-.94-2.06-.94 2.06-2.06.94zm-11 1L8.5 8.5l.94-2.06 2.06-.94-2.06-.94L8.5 2.5l-.94 2.06-2.06.94zm10 10l.94 2.06.94-2.06 2.06-.94-2.06-.94-.94-2.06-.94 2.06-2.06.94z\"/><path d=\"M17.41 7.96l-1.37-1.37c-.4-.4-.92-.59-1.43-.59-.52 0-1.04.2-1.43.59L10.3 9.45l-7.72 7.72c-.78.78-.78 2.05 0 2.83L4 21.41c.39.39.9.59 1.41.59.51 0 1.02-.2 1.41-.59l7.78-7.78 2.81-2.81c.8-.78.8-2.07 0-2.86zM5.41 20L4 18.59l7.72-7.72 1.47 1.35L5.41 20z\"/>\n",
              "  </svg>\n",
              "      </button>\n",
              "      \n",
              "  <style>\n",
              "    .colab-df-container {\n",
              "      display:flex;\n",
              "      flex-wrap:wrap;\n",
              "      gap: 12px;\n",
              "    }\n",
              "\n",
              "    .colab-df-convert {\n",
              "      background-color: #E8F0FE;\n",
              "      border: none;\n",
              "      border-radius: 50%;\n",
              "      cursor: pointer;\n",
              "      display: none;\n",
              "      fill: #1967D2;\n",
              "      height: 32px;\n",
              "      padding: 0 0 0 0;\n",
              "      width: 32px;\n",
              "    }\n",
              "\n",
              "    .colab-df-convert:hover {\n",
              "      background-color: #E2EBFA;\n",
              "      box-shadow: 0px 1px 2px rgba(60, 64, 67, 0.3), 0px 1px 3px 1px rgba(60, 64, 67, 0.15);\n",
              "      fill: #174EA6;\n",
              "    }\n",
              "\n",
              "    [theme=dark] .colab-df-convert {\n",
              "      background-color: #3B4455;\n",
              "      fill: #D2E3FC;\n",
              "    }\n",
              "\n",
              "    [theme=dark] .colab-df-convert:hover {\n",
              "      background-color: #434B5C;\n",
              "      box-shadow: 0px 1px 3px 1px rgba(0, 0, 0, 0.15);\n",
              "      filter: drop-shadow(0px 1px 2px rgba(0, 0, 0, 0.3));\n",
              "      fill: #FFFFFF;\n",
              "    }\n",
              "  </style>\n",
              "\n",
              "      <script>\n",
              "        const buttonEl =\n",
              "          document.querySelector('#df-03288975-d11a-45dd-812e-3b29bf5b5b9e button.colab-df-convert');\n",
              "        buttonEl.style.display =\n",
              "          google.colab.kernel.accessAllowed ? 'block' : 'none';\n",
              "\n",
              "        async function convertToInteractive(key) {\n",
              "          const element = document.querySelector('#df-03288975-d11a-45dd-812e-3b29bf5b5b9e');\n",
              "          const dataTable =\n",
              "            await google.colab.kernel.invokeFunction('convertToInteractive',\n",
              "                                                     [key], {});\n",
              "          if (!dataTable) return;\n",
              "\n",
              "          const docLinkHtml = 'Like what you see? Visit the ' +\n",
              "            '<a target=\"_blank\" href=https://colab.research.google.com/notebooks/data_table.ipynb>data table notebook</a>'\n",
              "            + ' to learn more about interactive tables.';\n",
              "          element.innerHTML = '';\n",
              "          dataTable['output_type'] = 'display_data';\n",
              "          await google.colab.output.renderOutput(dataTable, element);\n",
              "          const docLink = document.createElement('div');\n",
              "          docLink.innerHTML = docLinkHtml;\n",
              "          element.appendChild(docLink);\n",
              "        }\n",
              "      </script>\n",
              "    </div>\n",
              "  </div>\n",
              "  "
            ]
          },
          "metadata": {},
          "execution_count": 54
        }
      ],
      "source": [
        "X_train"
      ],
      "id": "qNpYZIgppyqz"
    },
    {
      "cell_type": "code",
      "execution_count": 55,
      "metadata": {
        "colab": {
          "base_uri": "https://localhost:8080/"
        },
        "id": "7wHNFztGgSYl",
        "outputId": "65543b53-6176-49fd-c41a-453922343017"
      },
      "outputs": [
        {
          "output_type": "execute_result",
          "data": {
            "text/plain": [
              "Index(['english', 'developer', 'platforms', 'required_age', 'categories',\n",
              "       'genres', 'tags', 'achievements', 'average_playtime', 'price', 'year',\n",
              "       'month', 'dist_PlayStation', 'dist_PlayStation 2', 'dist_PlayStation 3',\n",
              "       'dist_PlayStation 4', 'dist_Xbox', 'dist_Xbox 360', 'dist_Xbox One',\n",
              "       'dist_Nintendo Entertainment System (NES)',\n",
              "       'dist_Super Nintendo Entertainment System (SNES)', 'dist_Nintendo 64',\n",
              "       'dist_GameCube', 'dist_Wii', 'dist_Wii U', 'dist_Switch', 'pred_sent_0',\n",
              "       'pred_sent_1', 'pred_sent_2'],\n",
              "      dtype='object')"
            ]
          },
          "metadata": {},
          "execution_count": 55
        }
      ],
      "source": [
        "X_train.columns"
      ],
      "id": "7wHNFztGgSYl"
    },
    {
      "cell_type": "markdown",
      "metadata": {
        "id": "UDCRo70K3pv3"
      },
      "source": [
        "Luego, preparamos un `ColumnTransformer` que prepara los datos:"
      ],
      "id": "UDCRo70K3pv3"
    },
    {
      "cell_type": "code",
      "execution_count": 56,
      "metadata": {
        "id": "1iUZr4in3pv3"
      },
      "outputs": [],
      "source": [
        "## Código StandardScaler\n",
        "preprocess = ColumnTransformer([\n",
        "    #('name', OneHotEncoder(dtype='int', handle_unknown='ignore'), ['name']),\n",
        "    ('platforms', CountVectorizer(token_pattern=\"(?u)[a-zA-Z][a-z -]+\"), 'platforms'),\n",
        "    ('developer', OneHotEncoder(dtype='int', handle_unknown='ignore'), ['developer']),\n",
        "    ('required_age', OneHotEncoder(dtype='int', handle_unknown='ignore'), ['required_age']),\n",
        "    ('categories', CountVectorizer(token_pattern=\"(?u)[a-zA-Z][a-z -]+\"), 'categories'),\n",
        "    ('tags', CountVectorizer(token_pattern=\"(?u)[a-zA-Z][a-z -]+\"), 'tags'),\n",
        "    ('genres', CountVectorizer(token_pattern=\"(?u)[a-zA-Z][a-z -]+\"), 'genres'),\n",
        "    ('Estandarizador', MinMaxScaler(), ['dist_PlayStation', 'dist_PlayStation 2',\n",
        "       'dist_PlayStation 3', 'dist_PlayStation 4',\n",
        "       'dist_Xbox', 'dist_Xbox 360', 'dist_Xbox One',\n",
        "       'dist_Nintendo Entertainment System (NES)',\n",
        "       'dist_Super Nintendo Entertainment System (SNES)', 'dist_Nintendo 64',\n",
        "       'dist_GameCube', 'dist_Wii', 'dist_Wii U', 'dist_Switch','pred_sent_0',\n",
        "       'pred_sent_1', 'pred_sent_2']),\n",
        "    #('achievements', MinMaxScaler(), 'achievements'),\n",
        "    #('price', StandardScaler(), 'price'),\n",
        "    #('description_tfidf', TfidfVectorizer(max_features = 50000, ngram_range=(1,3)), 'short_description')\n",
        "    ],remainder='passthrough')"
      ],
      "id": "1iUZr4in3pv3"
    },
    {
      "cell_type": "code",
      "execution_count": 57,
      "metadata": {
        "colab": {
          "base_uri": "https://localhost:8080/"
        },
        "id": "M9Z4p6M0sXHf",
        "outputId": "bc4aeba9-08d0-46dd-d84b-41bc58632a28"
      },
      "outputs": [
        {
          "output_type": "execute_result",
          "data": {
            "text/plain": [
              "english                                              int64\n",
              "developer                                           object\n",
              "platforms                                           object\n",
              "required_age                                        object\n",
              "categories                                          object\n",
              "genres                                              object\n",
              "tags                                                object\n",
              "achievements                                         int64\n",
              "average_playtime                                     int64\n",
              "price                                              float64\n",
              "year                                                 int64\n",
              "month                                                int64\n",
              "dist_PlayStation                                   float64\n",
              "dist_PlayStation 2                                 float64\n",
              "dist_PlayStation 3                                 float64\n",
              "dist_PlayStation 4                                 float64\n",
              "dist_Xbox                                          float64\n",
              "dist_Xbox 360                                      float64\n",
              "dist_Xbox One                                      float64\n",
              "dist_Nintendo Entertainment System (NES)           float64\n",
              "dist_Super Nintendo Entertainment System (SNES)    float64\n",
              "dist_Nintendo 64                                   float64\n",
              "dist_GameCube                                      float64\n",
              "dist_Wii                                           float64\n",
              "dist_Wii U                                         float64\n",
              "dist_Switch                                        float64\n",
              "pred_sent_0                                        float64\n",
              "pred_sent_1                                        float64\n",
              "pred_sent_2                                        float64\n",
              "dtype: object"
            ]
          },
          "metadata": {},
          "execution_count": 57
        }
      ],
      "source": [
        "X_train.dtypes"
      ],
      "id": "M9Z4p6M0sXHf"
    },
    {
      "cell_type": "markdown",
      "metadata": {
        "id": "hD8bd9v83pv3"
      },
      "source": [
        "..."
      ],
      "id": "hD8bd9v83pv3"
    },
    {
      "cell_type": "markdown",
      "metadata": {
        "id": "cAdXCpNn3pv3"
      },
      "source": [
        "---\n",
        "\n",
        "## 4. Baseline"
      ],
      "id": "cAdXCpNn3pv3"
    },
    {
      "cell_type": "markdown",
      "metadata": {
        "id": "2xk9ZyAk3pv3"
      },
      "source": [
        "Adjuntamos las transformaciones anteriores en un solo `Pipeline` y agregamos al final un clasificador sencillo `ClasificadorX` \n"
      ],
      "id": "2xk9ZyAk3pv3"
    },
    {
      "cell_type": "code",
      "execution_count": 58,
      "metadata": {
        "colab": {
          "base_uri": "https://localhost:8080/"
        },
        "id": "Drso66MS3pv3",
        "outputId": "6698c1d4-d41f-48db-eef2-37a672072280"
      },
      "outputs": [
        {
          "output_type": "execute_result",
          "data": {
            "text/plain": [
              "Pipeline(steps=[('columntransformer',\n",
              "                 ColumnTransformer(remainder='passthrough',\n",
              "                                   transformers=[('platforms',\n",
              "                                                  CountVectorizer(token_pattern='(?u)[a-zA-Z][a-z '\n",
              "                                                                                '-]+'),\n",
              "                                                  'platforms'),\n",
              "                                                 ('developer',\n",
              "                                                  OneHotEncoder(dtype='int',\n",
              "                                                                handle_unknown='ignore'),\n",
              "                                                  ['developer']),\n",
              "                                                 ('required_age',\n",
              "                                                  OneHotEncoder(dtype='int',\n",
              "                                                                handle_unknown='ignore'),\n",
              "                                                  ['required_age']),\n",
              "                                                 ('categories...\n",
              "                                                   'dist_PlayStation 2',\n",
              "                                                   'dist_PlayStation 3',\n",
              "                                                   'dist_PlayStation 4',\n",
              "                                                   'dist_Xbox', 'dist_Xbox 360',\n",
              "                                                   'dist_Xbox One',\n",
              "                                                   'dist_Nintendo '\n",
              "                                                   'Entertainment System (NES)',\n",
              "                                                   'dist_Super Nintendo '\n",
              "                                                   'Entertainment System '\n",
              "                                                   '(SNES)',\n",
              "                                                   'dist_Nintendo 64',\n",
              "                                                   'dist_GameCube', 'dist_Wii',\n",
              "                                                   'dist_Wii U', 'dist_Switch',\n",
              "                                                   'pred_sent_0', 'pred_sent_1',\n",
              "                                                   'pred_sent_2'])])),\n",
              "                ('ridge', Ridge(fit_intercept=False, solver='lsqr'))])"
            ]
          },
          "metadata": {},
          "execution_count": 58
        }
      ],
      "source": [
        "## Código\n",
        "\n",
        "# pipeline_clf = [('etapa1', etapa1), ..., ('clf', Clasificador)]\n",
        "# pipeline_rg = [('etapa1', etapa1), ..., ('clf', Regresor)]\n",
        "\n",
        "# Evalauación\n",
        "# classfication_report(...)\n",
        "# ....\n",
        "model_reg = make_pipeline(\n",
        "    preprocess,\n",
        "    Ridge(solver = \"lsqr\", fit_intercept=False))\n",
        "model_reg.fit(X_train, y_train)"
      ],
      "id": "Drso66MS3pv3"
    },
    {
      "cell_type": "markdown",
      "metadata": {
        "id": "iPIGJ1LZcnWS"
      },
      "source": [
        "# otros modelos de regresion"
      ],
      "id": "iPIGJ1LZcnWS"
    },
    {
      "cell_type": "code",
      "execution_count": 59,
      "metadata": {
        "colab": {
          "base_uri": "https://localhost:8080/"
        },
        "id": "a3EmFVU71Ia9",
        "outputId": "75c863a7-f150-4058-8203-ca1c0964d3f1"
      },
      "outputs": [
        {
          "output_type": "execute_result",
          "data": {
            "text/plain": [
              "Pipeline(steps=[('columntransformer',\n",
              "                 ColumnTransformer(remainder='passthrough',\n",
              "                                   transformers=[('platforms',\n",
              "                                                  CountVectorizer(token_pattern='(?u)[a-zA-Z][a-z '\n",
              "                                                                                '-]+'),\n",
              "                                                  'platforms'),\n",
              "                                                 ('developer',\n",
              "                                                  OneHotEncoder(dtype='int',\n",
              "                                                                handle_unknown='ignore'),\n",
              "                                                  ['developer']),\n",
              "                                                 ('required_age',\n",
              "                                                  OneHotEncoder(dtype='int',\n",
              "                                                                handle_unknown='ignore'),\n",
              "                                                  ['required_age']),\n",
              "                                                 ('categories...\n",
              "                                                   'dist_PlayStation 2',\n",
              "                                                   'dist_PlayStation 3',\n",
              "                                                   'dist_PlayStation 4',\n",
              "                                                   'dist_Xbox', 'dist_Xbox 360',\n",
              "                                                   'dist_Xbox One',\n",
              "                                                   'dist_Nintendo '\n",
              "                                                   'Entertainment System (NES)',\n",
              "                                                   'dist_Super Nintendo '\n",
              "                                                   'Entertainment System '\n",
              "                                                   '(SNES)',\n",
              "                                                   'dist_Nintendo 64',\n",
              "                                                   'dist_GameCube', 'dist_Wii',\n",
              "                                                   'dist_Wii U', 'dist_Switch',\n",
              "                                                   'pred_sent_0', 'pred_sent_1',\n",
              "                                                   'pred_sent_2'])])),\n",
              "                ('randomforestregressor', RandomForestRegressor())])"
            ]
          },
          "metadata": {},
          "execution_count": 59
        }
      ],
      "source": [
        "model_reg2 = make_pipeline(\n",
        "    preprocess,\n",
        "    RandomForestRegressor())\n",
        "model_reg2.fit(X_train, y_train)"
      ],
      "id": "a3EmFVU71Ia9"
    },
    {
      "cell_type": "code",
      "execution_count": 60,
      "metadata": {
        "colab": {
          "base_uri": "https://localhost:8080/"
        },
        "id": "fYCmddb7VtiI",
        "outputId": "9387fb2f-4c73-41a0-83cc-79d0a4d9734e"
      },
      "outputs": [
        {
          "output_type": "execute_result",
          "data": {
            "text/plain": [
              "Pipeline(steps=[('columntransformer',\n",
              "                 ColumnTransformer(remainder='passthrough',\n",
              "                                   transformers=[('platforms',\n",
              "                                                  CountVectorizer(token_pattern='(?u)[a-zA-Z][a-z '\n",
              "                                                                                '-]+'),\n",
              "                                                  'platforms'),\n",
              "                                                 ('developer',\n",
              "                                                  OneHotEncoder(dtype='int',\n",
              "                                                                handle_unknown='ignore'),\n",
              "                                                  ['developer']),\n",
              "                                                 ('required_age',\n",
              "                                                  OneHotEncoder(dtype='int',\n",
              "                                                                handle_unknown='ignore'),\n",
              "                                                  ['required_age']),\n",
              "                                                 ('categories...\n",
              "                                                   'dist_PlayStation 2',\n",
              "                                                   'dist_PlayStation 3',\n",
              "                                                   'dist_PlayStation 4',\n",
              "                                                   'dist_Xbox', 'dist_Xbox 360',\n",
              "                                                   'dist_Xbox One',\n",
              "                                                   'dist_Nintendo '\n",
              "                                                   'Entertainment System (NES)',\n",
              "                                                   'dist_Super Nintendo '\n",
              "                                                   'Entertainment System '\n",
              "                                                   '(SNES)',\n",
              "                                                   'dist_Nintendo 64',\n",
              "                                                   'dist_GameCube', 'dist_Wii',\n",
              "                                                   'dist_Wii U', 'dist_Switch',\n",
              "                                                   'pred_sent_0', 'pred_sent_1',\n",
              "                                                   'pred_sent_2'])])),\n",
              "                ('elasticnet', ElasticNet(random_state=123))])"
            ]
          },
          "metadata": {},
          "execution_count": 60
        }
      ],
      "source": [
        "from sklearn.linear_model import ElasticNet\n",
        "model_reg4 = make_pipeline(\n",
        "    preprocess,\n",
        "    ElasticNet(random_state=123))\n",
        "model_reg4.fit(X_train, y_train)"
      ],
      "id": "fYCmddb7VtiI"
    },
    {
      "cell_type": "markdown",
      "metadata": {
        "id": "j_WQSx44csau"
      },
      "source": [
        "# testing"
      ],
      "id": "j_WQSx44csau"
    },
    {
      "cell_type": "markdown",
      "source": [
        "Vemos que de los resultado sobtenidos por los modelos baseline, el modelo que mas destaca es el de Random Forest Regressor. Obteniendo resultados al menos dentro del rango de lo esperado."
      ],
      "metadata": {
        "id": "JnMEbjUNuTH8"
      },
      "id": "JnMEbjUNuTH8"
    },
    {
      "cell_type": "code",
      "execution_count": 61,
      "metadata": {
        "id": "1wdRBqZYprUm"
      },
      "outputs": [],
      "source": [
        "y_train_pred_reg = model_reg.predict(X_train)\n",
        "y_pred_reg = model_reg.predict(X_test)"
      ],
      "id": "1wdRBqZYprUm"
    },
    {
      "cell_type": "code",
      "execution_count": 62,
      "metadata": {
        "colab": {
          "base_uri": "https://localhost:8080/"
        },
        "id": "xPi1k43jxovG",
        "outputId": "77bbd24c-7fe4-48a2-dfde-24e78249e490"
      },
      "outputs": [
        {
          "output_type": "stream",
          "name": "stdout",
          "text": [
            "Train RMSE: 1498312.7917\n",
            "Test RMSE: 1474542.7426\n",
            "Train R2: -36.2542\n",
            "Test R2: -34.9955\n"
          ]
        }
      ],
      "source": [
        "train_rmse = np.sqrt(mean_squared_error(y_train_pred_reg, y_train))\n",
        "test_rmse = np.sqrt(mean_squared_error(y_pred_reg, y_test))\n",
        "train_r2 = r2_score(y_train_pred_reg,y_train) \n",
        "test_r2 = r2_score(y_pred_reg,y_test) \n",
        "print('Train RMSE: %.4f' % train_rmse)\n",
        "print('Test RMSE: %.4f' % test_rmse)\n",
        "print('Train R2: %.4f' % train_r2)\n",
        "print('Test R2: %.4f' % test_r2)"
      ],
      "id": "xPi1k43jxovG"
    },
    {
      "cell_type": "code",
      "execution_count": 63,
      "metadata": {
        "colab": {
          "base_uri": "https://localhost:8080/"
        },
        "id": "EEhtGhnndhU9",
        "outputId": "954e5b45-898f-484a-9a31-9c2066efabf3"
      },
      "outputs": [
        {
          "output_type": "stream",
          "name": "stdout",
          "text": [
            "Train RMSE: 501884.8628\n",
            "Test RMSE: 1148046.7082\n",
            "Train R2: 0.7812\n",
            "Test R2: -2.2115\n"
          ]
        }
      ],
      "source": [
        "y_train_pred_reg2 = model_reg2.predict(X_train)\n",
        "y_pred_reg2 = model_reg2.predict(X_test)\n",
        "train_rmse = np.sqrt(mean_squared_error(y_train_pred_reg2, y_train))\n",
        "test_rmse = np.sqrt(mean_squared_error(y_pred_reg2, y_test))\n",
        "train_r2 = r2_score(y_train_pred_reg2,y_train) \n",
        "test_r2 = r2_score(y_pred_reg2,y_test) \n",
        "print('Train RMSE: %.4f' % train_rmse)\n",
        "print('Test RMSE: %.4f' % test_rmse)\n",
        "print('Train R2: %.4f' % train_r2)\n",
        "print('Test R2: %.4f' % test_r2)"
      ],
      "id": "EEhtGhnndhU9"
    },
    {
      "cell_type": "code",
      "execution_count": 64,
      "metadata": {
        "colab": {
          "base_uri": "https://localhost:8080/"
        },
        "id": "pAdW9c7oWCdH",
        "outputId": "8838d0b1-d2f1-43ab-b491-af5e3136b10c"
      },
      "outputs": [
        {
          "output_type": "stream",
          "name": "stdout",
          "text": [
            "Train RMSE: 1468211.8761\n",
            "Test RMSE: 1432353.4355\n",
            "Train R2: -22.2758\n",
            "Test R2: -20.4840\n"
          ]
        }
      ],
      "source": [
        "y_train_pred_reg4 = model_reg4.predict(X_train)\n",
        "y_pred_reg4 = model_reg4.predict(X_test)\n",
        "train_rmse = np.sqrt(mean_squared_error(y_train_pred_reg4, y_train))\n",
        "test_rmse = np.sqrt(mean_squared_error(y_pred_reg4, y_test))\n",
        "train_r2 = r2_score(y_train_pred_reg4,y_train) \n",
        "test_r2 = r2_score(y_pred_reg4,y_test) \n",
        "print('Train RMSE: %.4f' % train_rmse)\n",
        "print('Test RMSE: %.4f' % test_rmse)\n",
        "print('Train R2: %.4f' % train_r2)\n",
        "print('Test R2: %.4f' % test_r2)"
      ],
      "id": "pAdW9c7oWCdH"
    },
    {
      "cell_type": "markdown",
      "metadata": {
        "id": "Iso6yTpUczF2"
      },
      "source": [
        "# Modelos de clasificacion"
      ],
      "id": "Iso6yTpUczF2"
    },
    {
      "cell_type": "markdown",
      "source": [
        "Aplicamos la misma lógica al los conjutnos en este caso, al dejar la semilla random idéntica, obtenemos los mismos conjuntos de entrenamiento y validación que en el caso anterior."
      ],
      "metadata": {
        "id": "jc-t-4i_u43l"
      },
      "id": "jc-t-4i_u43l"
    },
    {
      "cell_type": "code",
      "execution_count": 65,
      "metadata": {
        "id": "4d3gv6yudL7H"
      },
      "outputs": [],
      "source": [
        "## definimos primero el problema de clasificacion\n",
        "X_cls = df_train.drop(labels=['estimated_sells','release_date','rating','publisher','dist_Xbox Series X/S','dist_PlayStation 5','name','short_description','rating_num'], axis=1)\n",
        "y_cls = df_train.rating\n",
        "X_train_c, X_test_c, y_train_c, y_test_c = train_test_split(X_cls,y_cls, test_size = 0.1, random_state=123)"
      ],
      "id": "4d3gv6yudL7H"
    },
    {
      "cell_type": "code",
      "execution_count": 66,
      "metadata": {
        "id": "Tb30NrV-dhNG"
      },
      "outputs": [],
      "source": [
        "## Código StandardScaler\n",
        "preprocess_cls = ColumnTransformer([\n",
        "    #('name', OneHotEncoder(dtype='int', handle_unknown='ignore'), ['name']),\n",
        "    ('platforms', CountVectorizer(token_pattern=\"(?u)[a-zA-Z][a-z -]+\"), 'platforms'),\n",
        "    ('developer', OneHotEncoder(dtype='int', handle_unknown='ignore'), ['developer']),\n",
        "    ('required_age', OneHotEncoder(dtype='int', handle_unknown='ignore'), ['required_age']),\n",
        "    ('categories', CountVectorizer(token_pattern=\"(?u)[a-zA-Z][a-z -]+\"), 'categories'),\n",
        "    ('tags', CountVectorizer(token_pattern=\"(?u)[a-zA-Z][a-z -]+\"), 'tags'),\n",
        "    ('genres', CountVectorizer(token_pattern=\"(?u)[a-zA-Z][a-z -]+\"), 'genres'),\n",
        "    ('Estandarizador', MinMaxScaler(), ['dist_PlayStation', 'dist_PlayStation 2',\n",
        "       'dist_PlayStation 3', 'dist_PlayStation 4',\n",
        "       'dist_Xbox', 'dist_Xbox 360', 'dist_Xbox One',\n",
        "       'dist_Nintendo Entertainment System (NES)',\n",
        "       'dist_Super Nintendo Entertainment System (SNES)', 'dist_Nintendo 64',\n",
        "       'dist_GameCube', 'dist_Wii', 'dist_Wii U', 'dist_Switch','pred_sent_0',\n",
        "       'pred_sent_1', 'pred_sent_2']),\n",
        "    #('achievements', MinMaxScaler(), 'achievements'),\n",
        "    #('price', StandardScaler(), 'price'),\n",
        "    #('description_tfidf', TfidfVectorizer(max_features = 50000, ngram_range=(1,3)), 'short_description')\n",
        "    ],remainder='passthrough')"
      ],
      "id": "Tb30NrV-dhNG"
    },
    {
      "cell_type": "markdown",
      "source": [
        "Implementamos un modelo Random Forest"
      ],
      "metadata": {
        "id": "THQb8fUlvPLF"
      },
      "id": "THQb8fUlvPLF"
    },
    {
      "cell_type": "code",
      "execution_count": 67,
      "metadata": {
        "colab": {
          "base_uri": "https://localhost:8080/"
        },
        "id": "njTt7FpudDjW",
        "outputId": "a604f910-20cb-49a3-d889-f8614009610d"
      },
      "outputs": [
        {
          "output_type": "execute_result",
          "data": {
            "text/plain": [
              "Pipeline(steps=[('columntransformer',\n",
              "                 ColumnTransformer(remainder='passthrough',\n",
              "                                   transformers=[('platforms',\n",
              "                                                  CountVectorizer(token_pattern='(?u)[a-zA-Z][a-z '\n",
              "                                                                                '-]+'),\n",
              "                                                  'platforms'),\n",
              "                                                 ('developer',\n",
              "                                                  OneHotEncoder(dtype='int',\n",
              "                                                                handle_unknown='ignore'),\n",
              "                                                  ['developer']),\n",
              "                                                 ('required_age',\n",
              "                                                  OneHotEncoder(dtype='int',\n",
              "                                                                handle_unknown='ignore'),\n",
              "                                                  ['required_age']),\n",
              "                                                 ('categories...\n",
              "                                                   'dist_PlayStation 2',\n",
              "                                                   'dist_PlayStation 3',\n",
              "                                                   'dist_PlayStation 4',\n",
              "                                                   'dist_Xbox', 'dist_Xbox 360',\n",
              "                                                   'dist_Xbox One',\n",
              "                                                   'dist_Nintendo '\n",
              "                                                   'Entertainment System (NES)',\n",
              "                                                   'dist_Super Nintendo '\n",
              "                                                   'Entertainment System '\n",
              "                                                   '(SNES)',\n",
              "                                                   'dist_Nintendo 64',\n",
              "                                                   'dist_GameCube', 'dist_Wii',\n",
              "                                                   'dist_Wii U', 'dist_Switch',\n",
              "                                                   'pred_sent_0', 'pred_sent_1',\n",
              "                                                   'pred_sent_2'])])),\n",
              "                ('randomforestclassifier', RandomForestClassifier())])"
            ]
          },
          "metadata": {},
          "execution_count": 67
        }
      ],
      "source": [
        "model_cls = make_pipeline(\n",
        "    preprocess_cls,\n",
        "    RandomForestClassifier())\n",
        "model_cls.fit(X_train_c, y_train_c)"
      ],
      "id": "njTt7FpudDjW"
    },
    {
      "cell_type": "code",
      "execution_count": 68,
      "metadata": {
        "id": "zoo-w7uTeIan"
      },
      "outputs": [],
      "source": [
        "y_train_pred_c = model_cls.predict(X_train_c)\n",
        "y_pred_c = model_cls.predict(X_test_c)"
      ],
      "id": "zoo-w7uTeIan"
    },
    {
      "cell_type": "code",
      "execution_count": 69,
      "metadata": {
        "colab": {
          "base_uri": "https://localhost:8080/"
        },
        "id": "6-JEyxtxeM4J",
        "outputId": "054aba75-25ac-4d70-ca79-844f54682a5e"
      },
      "outputs": [
        {
          "output_type": "stream",
          "name": "stdout",
          "text": [
            "                 precision    recall  f1-score   support\n",
            "\n",
            "          Mixed       0.22      0.32      0.26       151\n",
            "Mostly Positive       0.25      0.31      0.28       179\n",
            "       Negative       0.28      0.14      0.19       134\n",
            "       Positive       0.29      0.36      0.32       195\n",
            "  Very Positive       0.57      0.18      0.27       130\n",
            "\n",
            "       accuracy                           0.27       789\n",
            "      macro avg       0.32      0.26      0.26       789\n",
            "   weighted avg       0.31      0.27      0.27       789\n",
            "\n"
          ]
        }
      ],
      "source": [
        "print(classification_report(y_test_c,y_pred_c))"
      ],
      "id": "6-JEyxtxeM4J"
    },
    {
      "cell_type": "code",
      "execution_count": 70,
      "metadata": {
        "colab": {
          "base_uri": "https://localhost:8080/"
        },
        "id": "j4uK15sqXHjv",
        "outputId": "cc97d084-f814-4c0d-dd01-2cedd335bc98"
      },
      "outputs": [
        {
          "output_type": "stream",
          "name": "stdout",
          "text": [
            "                 precision    recall  f1-score   support\n",
            "\n",
            "          Mixed       1.00      1.00      1.00      1505\n",
            "Mostly Positive       1.00      1.00      1.00      1528\n",
            "       Negative       1.00      1.00      1.00      1156\n",
            "       Positive       1.00      1.00      1.00      1836\n",
            "  Very Positive       1.00      1.00      1.00      1067\n",
            "\n",
            "       accuracy                           1.00      7092\n",
            "      macro avg       1.00      1.00      1.00      7092\n",
            "   weighted avg       1.00      1.00      1.00      7092\n",
            "\n"
          ]
        }
      ],
      "source": [
        "print(classification_report(y_train_c,y_train_pred_c))"
      ],
      "id": "j4uK15sqXHjv"
    },
    {
      "cell_type": "markdown",
      "source": [
        "Implementamos un modelo SVM"
      ],
      "metadata": {
        "id": "EpbHat1BvNMr"
      },
      "id": "EpbHat1BvNMr"
    },
    {
      "cell_type": "code",
      "execution_count": 71,
      "metadata": {
        "colab": {
          "base_uri": "https://localhost:8080/"
        },
        "id": "hSNp_uLDe7Dm",
        "outputId": "c4b30236-8b6e-4159-8223-90f846abf53c"
      },
      "outputs": [
        {
          "output_type": "execute_result",
          "data": {
            "text/plain": [
              "Pipeline(steps=[('columntransformer',\n",
              "                 ColumnTransformer(remainder='passthrough',\n",
              "                                   transformers=[('platforms',\n",
              "                                                  CountVectorizer(token_pattern='(?u)[a-zA-Z][a-z '\n",
              "                                                                                '-]+'),\n",
              "                                                  'platforms'),\n",
              "                                                 ('developer',\n",
              "                                                  OneHotEncoder(dtype='int',\n",
              "                                                                handle_unknown='ignore'),\n",
              "                                                  ['developer']),\n",
              "                                                 ('required_age',\n",
              "                                                  OneHotEncoder(dtype='int',\n",
              "                                                                handle_unknown='ignore'),\n",
              "                                                  ['required_age']),\n",
              "                                                 ('categories...\n",
              "                                                  MinMaxScaler(),\n",
              "                                                  ['dist_PlayStation',\n",
              "                                                   'dist_PlayStation 2',\n",
              "                                                   'dist_PlayStation 3',\n",
              "                                                   'dist_PlayStation 4',\n",
              "                                                   'dist_Xbox', 'dist_Xbox 360',\n",
              "                                                   'dist_Xbox One',\n",
              "                                                   'dist_Nintendo '\n",
              "                                                   'Entertainment System (NES)',\n",
              "                                                   'dist_Super Nintendo '\n",
              "                                                   'Entertainment System '\n",
              "                                                   '(SNES)',\n",
              "                                                   'dist_Nintendo 64',\n",
              "                                                   'dist_GameCube', 'dist_Wii',\n",
              "                                                   'dist_Wii U', 'dist_Switch',\n",
              "                                                   'pred_sent_0', 'pred_sent_1',\n",
              "                                                   'pred_sent_2'])])),\n",
              "                ('svc', SVC())])"
            ]
          },
          "metadata": {},
          "execution_count": 71
        }
      ],
      "source": [
        "model_cls2 = make_pipeline(\n",
        "    preprocess_cls,\n",
        "    SVC())\n",
        "model_cls2.fit(X_train_c, y_train_c)"
      ],
      "id": "hSNp_uLDe7Dm"
    },
    {
      "cell_type": "code",
      "execution_count": 72,
      "metadata": {
        "id": "nZPwX_rifJxo"
      },
      "outputs": [],
      "source": [
        "y_train_pred_c2 = model_cls.predict(X_train_c)\n",
        "y_pred_c2 = model_cls.predict(X_test_c)"
      ],
      "id": "nZPwX_rifJxo"
    },
    {
      "cell_type": "code",
      "execution_count": 73,
      "metadata": {
        "colab": {
          "base_uri": "https://localhost:8080/"
        },
        "id": "MDtzqIZSfLT3",
        "outputId": "a630e3d5-12dd-4acc-f501-2714eb5f6e5e"
      },
      "outputs": [
        {
          "output_type": "stream",
          "name": "stdout",
          "text": [
            "                 precision    recall  f1-score   support\n",
            "\n",
            "          Mixed       0.22      0.32      0.26       151\n",
            "Mostly Positive       0.25      0.31      0.28       179\n",
            "       Negative       0.28      0.14      0.19       134\n",
            "       Positive       0.29      0.36      0.32       195\n",
            "  Very Positive       0.57      0.18      0.27       130\n",
            "\n",
            "       accuracy                           0.27       789\n",
            "      macro avg       0.32      0.26      0.26       789\n",
            "   weighted avg       0.31      0.27      0.27       789\n",
            "\n"
          ]
        }
      ],
      "source": [
        "print(classification_report(y_test_c,y_pred_c2))"
      ],
      "id": "MDtzqIZSfLT3"
    },
    {
      "cell_type": "code",
      "execution_count": 74,
      "metadata": {
        "colab": {
          "base_uri": "https://localhost:8080/"
        },
        "id": "Nmi6S0ARXegT",
        "outputId": "b03b4b88-4d05-4eca-a971-649f217001b4"
      },
      "outputs": [
        {
          "output_type": "stream",
          "name": "stdout",
          "text": [
            "                 precision    recall  f1-score   support\n",
            "\n",
            "          Mixed       1.00      1.00      1.00      1505\n",
            "Mostly Positive       1.00      1.00      1.00      1528\n",
            "       Negative       1.00      1.00      1.00      1156\n",
            "       Positive       1.00      1.00      1.00      1836\n",
            "  Very Positive       1.00      1.00      1.00      1067\n",
            "\n",
            "       accuracy                           1.00      7092\n",
            "      macro avg       1.00      1.00      1.00      7092\n",
            "   weighted avg       1.00      1.00      1.00      7092\n",
            "\n"
          ]
        }
      ],
      "source": [
        "print(classification_report(y_train_c,y_train_pred_c2))"
      ],
      "id": "Nmi6S0ARXegT"
    },
    {
      "cell_type": "markdown",
      "source": [
        "Viendo los resultados de los dos modelos son comparables, pero elegimos random forest por su robustez y debido a la versatilidad de este tipo de modelos."
      ],
      "metadata": {
        "id": "KT82z74YvKe3"
      },
      "id": "KT82z74YvKe3"
    },
    {
      "cell_type": "markdown",
      "metadata": {
        "id": "5L8iIkYD3pv3"
      },
      "source": [
        "---\n",
        "\n",
        "## 5. Optimización del Modelo\n",
        "\n",
        "Ahora utilizamos HalvingGridSearchCV para realizar una variación de hiperparámetros de los dos modelos de random forest utilizados."
      ],
      "id": "5L8iIkYD3pv3"
    },
    {
      "cell_type": "markdown",
      "source": [
        "En primer lugar implementamos el modelo de clasificación"
      ],
      "metadata": {
        "id": "153YobAJvpZP"
      },
      "id": "153YobAJvpZP"
    },
    {
      "cell_type": "code",
      "execution_count": 76,
      "metadata": {
        "id": "K4D2HdXG3pv3"
      },
      "outputs": [],
      "source": [
        "from sklearn.experimental import enable_halving_search_cv \n",
        "from sklearn.model_selection import HalvingGridSearchCV\n",
        "grilla_parametros = { \n",
        "    'randomforestclassifier__n_estimators': [200, 500],\n",
        "    'randomforestclassifier__max_features': ['auto', 'sqrt','log2'],\n",
        "    'randomforestclassifier__criterion' :['gini', 'entropy']\n",
        "} \n",
        "#                      {'clf': clf_2, 'steps'; n},\n",
        "#                      {...}, \n",
        "#                     ]\n",
        "gs_2 = HalvingGridSearchCV(model_cls, grilla_parametros).fit(X_train_c,y_train_c)"
      ],
      "id": "K4D2HdXG3pv3"
    },
    {
      "cell_type": "markdown",
      "metadata": {
        "id": "Avx47waQ3pv3"
      },
      "source": [
        "Pudimos ver que mejor modelo mejora los resultados obtenidos en el baseline."
      ],
      "id": "Avx47waQ3pv3"
    },
    {
      "cell_type": "code",
      "execution_count": 77,
      "metadata": {
        "colab": {
          "base_uri": "https://localhost:8080/"
        },
        "id": "0a71-8i63pv3",
        "outputId": "b49aad2e-a01b-46e8-ad3c-03e46246f9a2"
      },
      "outputs": [
        {
          "output_type": "execute_result",
          "data": {
            "text/plain": [
              "{'randomforestclassifier__criterion': 'gini',\n",
              " 'randomforestclassifier__max_features': 'sqrt',\n",
              " 'randomforestclassifier__n_estimators': 500}"
            ]
          },
          "metadata": {},
          "execution_count": 77
        }
      ],
      "source": [
        "gs_2.best_params_"
      ],
      "id": "0a71-8i63pv3"
    },
    {
      "cell_type": "code",
      "execution_count": 78,
      "metadata": {
        "id": "9DLpf31c--07"
      },
      "outputs": [],
      "source": [
        "y_train_pred_gs_2 = gs_2.predict(X_train_c)\n",
        "y_pred_gs_2 = gs_2.predict(X_test_c)"
      ],
      "id": "9DLpf31c--07"
    },
    {
      "cell_type": "code",
      "execution_count": 79,
      "metadata": {
        "colab": {
          "base_uri": "https://localhost:8080/"
        },
        "id": "ixf5bGON_Ljy",
        "outputId": "12338391-76a2-48ff-f99c-28ac91cf448b"
      },
      "outputs": [
        {
          "output_type": "stream",
          "name": "stdout",
          "text": [
            "                 precision    recall  f1-score   support\n",
            "\n",
            "          Mixed       0.24      0.35      0.28       151\n",
            "Mostly Positive       0.25      0.32      0.28       179\n",
            "       Negative       0.36      0.18      0.24       134\n",
            "       Positive       0.30      0.37      0.33       195\n",
            "  Very Positive       0.57      0.15      0.24       130\n",
            "\n",
            "       accuracy                           0.29       789\n",
            "      macro avg       0.34      0.27      0.28       789\n",
            "   weighted avg       0.33      0.29      0.28       789\n",
            "\n"
          ]
        }
      ],
      "source": [
        "print(classification_report(y_test_c,y_pred_gs_2))"
      ],
      "id": "ixf5bGON_Ljy"
    },
    {
      "cell_type": "code",
      "execution_count": 80,
      "metadata": {
        "colab": {
          "base_uri": "https://localhost:8080/"
        },
        "id": "Wbpx3GbXXtC2",
        "outputId": "41c369cb-d5f0-412b-914b-40449f24ec93"
      },
      "outputs": [
        {
          "output_type": "stream",
          "name": "stdout",
          "text": [
            "                 precision    recall  f1-score   support\n",
            "\n",
            "          Mixed       1.00      1.00      1.00      1505\n",
            "Mostly Positive       1.00      1.00      1.00      1528\n",
            "       Negative       1.00      1.00      1.00      1156\n",
            "       Positive       1.00      1.00      1.00      1836\n",
            "  Very Positive       1.00      1.00      1.00      1067\n",
            "\n",
            "       accuracy                           1.00      7092\n",
            "      macro avg       1.00      1.00      1.00      7092\n",
            "   weighted avg       1.00      1.00      1.00      7092\n",
            "\n"
          ]
        }
      ],
      "source": [
        "print(classification_report(y_train_c,y_train_pred_gs_2))"
      ],
      "id": "Wbpx3GbXXtC2"
    },
    {
      "cell_type": "markdown",
      "source": [
        "Ahora el modelo de regresión"
      ],
      "metadata": {
        "id": "gou95WSbvoaV"
      },
      "id": "gou95WSbvoaV"
    },
    {
      "cell_type": "code",
      "execution_count": 83,
      "metadata": {
        "id": "IYjP7S9vj6Al"
      },
      "outputs": [],
      "source": [
        "grilla_parametros = {\n",
        "    'randomforestregressor__n_estimators': [100, 300, 500],\n",
        "    'randomforestregressor__max_depth': [2,4,8]\n",
        "}\n",
        "#                      {'clf': clf_2, 'steps'; n},\n",
        "#                      {...}, \n",
        "#                     ]\n",
        "gs_3 = HalvingGridSearchCV(model_reg2, grilla_parametros, cv=5).fit(X_train,y_train)"
      ],
      "id": "IYjP7S9vj6Al"
    },
    {
      "cell_type": "markdown",
      "source": [
        "Vemos que tiene resultados comparables (en la misma vecindad) que el modelo de regresión sin variación de parámetros. A pesar de ello nos da un R2 score de -3, lo cuál indica que el modelo de regresión en els eteo experimental, tiene pobre poder de regresión. Esto se puede deber principalmente a la dispersiónde las ventas, al tener datos de ventas de juegos virales, estas métricas no son capaces de predecir estos outliers, por lo que es posible que estos mismos estén perjudicando el performance de los modelos."
      ],
      "metadata": {
        "id": "0OzSHA7LvyTb"
      },
      "id": "0OzSHA7LvyTb"
    },
    {
      "cell_type": "code",
      "execution_count": 84,
      "metadata": {
        "colab": {
          "base_uri": "https://localhost:8080/"
        },
        "id": "VpPnXXbtj84U",
        "outputId": "0fb42485-ff47-4a97-cd35-4a2e63951f76"
      },
      "outputs": [
        {
          "output_type": "execute_result",
          "data": {
            "text/plain": [
              "{'randomforestregressor__max_depth': 8,\n",
              " 'randomforestregressor__n_estimators': 500}"
            ]
          },
          "metadata": {},
          "execution_count": 84
        }
      ],
      "source": [
        "gs_3.best_params_"
      ],
      "id": "VpPnXXbtj84U"
    },
    {
      "cell_type": "code",
      "execution_count": 85,
      "metadata": {
        "id": "Gf4c7Tfo_UQQ",
        "colab": {
          "base_uri": "https://localhost:8080/"
        },
        "outputId": "61b70602-11a6-4dbe-fbce-dbdb732df7b9"
      },
      "outputs": [
        {
          "output_type": "stream",
          "name": "stdout",
          "text": [
            "Train RMSE: 653416.8998\n",
            "Test RMSE: 1196746.7393\n",
            "Train R2: 0.5354\n",
            "Test R2: -3.4311\n"
          ]
        }
      ],
      "source": [
        "y_train_pred_gs_3 = gs_3.predict(X_train)\n",
        "y_pred_gs_3 = gs_3.predict(X_test)\n",
        "train_rmse = np.sqrt(mean_squared_error(y_train_pred_gs_3, y_train))\n",
        "test_rmse = np.sqrt(mean_squared_error(y_pred_gs_3, y_test))\n",
        "train_r2 = r2_score(y_train_pred_gs_3,y_train) \n",
        "test_r2 = r2_score(y_pred_gs_3,y_test) \n",
        "print('Train RMSE: %.4f' % train_rmse)\n",
        "print('Test RMSE: %.4f' % test_rmse)\n",
        "print('Train R2: %.4f' % train_r2)\n",
        "print('Test R2: %.4f' % test_r2)"
      ],
      "id": "Gf4c7Tfo_UQQ"
    },
    {
      "cell_type": "markdown",
      "metadata": {
        "id": "8LxwsT2f3pv3"
      },
      "source": [
        "---\n",
        "\n",
        "## 6. Conclusiones"
      ],
      "id": "8LxwsT2f3pv3"
    },
    {
      "cell_type": "markdown",
      "metadata": {
        "id": "HnXM1nT83pv3"
      },
      "source": [],
      "id": "HnXM1nT83pv3"
    },
    {
      "cell_type": "markdown",
      "source": [
        "A modo de conlusión podemos ver que los modelos no resuelven exitosamente el problema, estos son son robustos ni obtienen un pode rde regresión y predicción que se podría catalogar como aceptable. Existen muchas razones para explicar este comportamiento de los modelos, pero la mayor parte radican en la calidad y disponibilidad de los datos y la naturaleza dle problema mismo. El estimar si un videojuego tendrá éxito o no, no es una tarea sencilla. Existen muchas variables socioeconómicas y culturales que afectan tanto la exposición de los videojuegos, como la recepción del público. Se hizo un intento por poder incorporar algo de estqa información con la inclusión de datos de un mercado competitivo, pero no fue suficiente.\n",
        "\n",
        "Una variable que podría resultar interesante de incluir es el rating otrogado por expertos. este tipo de información suele obtenerse de reseñas sobre los pilotois de los videjouegos desarrollados y pueden entregar datos importntes sobre el comportamiento y ptaron de compra del usuario final.\n",
        "\n",
        "El proyecto tuvo muchos aprendizajes, el principal fue el uso de modelos anidados y como estos afectan el preformance final sobre un grupo de datos que no se han utilizado (a nivel competencia dieron mejores resultados que las iteraciones iniciales). Así mismo se hizo uso de buenas prácticas de programación y optimización de los códigos para una realización mas veloz. Por lo que los conocimientos del curso y sus aprendizajes se entienden por logrados."
      ],
      "metadata": {
        "id": "YHbUM_nAwY0U"
      },
      "id": "YHbUM_nAwY0U"
    },
    {
      "cell_type": "markdown",
      "metadata": {
        "id": "fT4HetBy3pv3"
      },
      "source": [
        "---\n",
        "\n",
        "<br>\n",
        "\n",
        "### Anexo: Generación de Archivo Submit de la Competencia"
      ],
      "id": "fT4HetBy3pv3"
    },
    {
      "cell_type": "markdown",
      "metadata": {
        "id": "RzGwbHzr3pv3"
      },
      "source": [
        "Para subir los resultados obtenidos a la pagina de CodaLab utilice la función `generateFiles` entregada mas abajo. Esto es debido a que usted deberá generar archivos que respeten extrictamente el formato de CodaLab, de lo contario los resultados no se veran reflejados en la pagina de la competencia.\n",
        "\n",
        "Para los resultados obtenidos en su modelo de clasificación y regresión, estos serán guardados en un archivo zip que contenga los archivos `predicctions_clf.txt` para la clasificación y `predicctions_rgr.clf` para la regresión. Los resultados, como se comento antes, deberan ser obtenidos en base al dataset `test.pickle` y en cada una de las lineas deberan presentar las predicciones realizadas.\n",
        "\n",
        "Ejemplos de archivos:\n",
        "\n",
        "- [ ] `predicctions_clf.txt`\n",
        "\n",
        "        Mostly Positive\n",
        "        Mostly Positive\n",
        "        Negative\n",
        "        Positive\n",
        "        Negative\n",
        "        Positive\n",
        "        ...\n",
        "\n",
        "- [ ] `predicctions_rgr.txt`\n",
        "\n",
        "        16103.58\n",
        "        16103.58\n",
        "        16041.89\n",
        "        9328.62\n",
        "        107976.03\n",
        "        194374.08\n",
        "        ...\n",
        "\n"
      ],
      "id": "RzGwbHzr3pv3"
    },
    {
      "cell_type": "code",
      "execution_count": 86,
      "metadata": {
        "id": "QknCpO5V3pv3"
      },
      "outputs": [],
      "source": [
        "from zipfile import ZipFile\n",
        "import os\n",
        "\n",
        "def generateFiles(predict_data, clf_pipe, rgr_pipe):\n",
        "    \"\"\"Genera los archivos a subir en CodaLab\n",
        "\n",
        "    Input\n",
        "    predict_data: Dataframe con los datos de entrada a predecir\n",
        "    clf_pipe: pipeline del clf\n",
        "    rgr_pipe: pipeline del rgr\n",
        "\n",
        "    Ouput\n",
        "    archivo de txt\n",
        "    \"\"\"\n",
        "    y_pred_clf = clf_pipe.predict(predict_data)\n",
        "    y_pred_rgr = rgr_pipe.predict(predict_data)\n",
        "    \n",
        "    with open('./predictions_clf.txt', 'w') as f:\n",
        "        for item in y_pred_clf:\n",
        "            f.write(\"%s\\n\" % item)\n",
        "\n",
        "    with open('./predictions_rgr.txt', 'w') as f:\n",
        "        for item in y_pred_rgr:\n",
        "            f.write(\"%s\\n\" % item)\n",
        "\n",
        "    with ZipFile('predictions.zip', 'w') as zipObj2:\n",
        "       zipObj2.write('predictions_rgr.txt')\n",
        "       zipObj2.write('predictions_clf.txt')\n",
        "\n",
        "    os.remove(\"predictions_rgr.txt\")\n",
        "    os.remove(\"predictions_clf.txt\")"
      ],
      "id": "QknCpO5V3pv3"
    },
    {
      "cell_type": "markdown",
      "metadata": {
        "id": "tUWVLGChk7L8"
      },
      "source": [
        "Aplicamos las transformaciones correspondientes al dataframe de test"
      ],
      "id": "tUWVLGChk7L8"
    },
    {
      "cell_type": "code",
      "execution_count": 87,
      "metadata": {
        "colab": {
          "base_uri": "https://localhost:8080/",
          "height": 887
        },
        "id": "QaZgaUvdk4UT",
        "outputId": "5674ae20-3097-492c-d2d7-7983df0e4686"
      },
      "outputs": [
        {
          "output_type": "execute_result",
          "data": {
            "text/plain": [
              "                      name release_date  english                   developer  \\\n",
              "0            Frog Climbers   2016-10-06        1                    TeamCrew   \n",
              "1                   Aztaka   2009-11-05        1              Citeremis Inc.   \n",
              "2    Assault Spy / アサルトスパイ   2018-10-02        1                       Wazen   \n",
              "3              Down To One   2016-01-07        1                Gadget Games   \n",
              "4            Stranded Deep   2015-01-23        1             Beam Team Games   \n",
              "..                     ...          ...      ...                         ...   \n",
              "871           Idle Bouncer   2017-09-27        1                Upturn Games   \n",
              "872            Bai Qu · 百曲   2017-07-27        1             Magenta Factory   \n",
              "873         Tank Universal   2008-08-21        1             Dialogue Design   \n",
              "874                   DOOM   2016-05-12        1                 id Software   \n",
              "875       Toukiden: Kiwami   2015-06-25        1  KOEI TECMO GAMES CO., LTD.   \n",
              "\n",
              "                      publisher          platforms required_age  \\\n",
              "0                Dear Villagers            windows            0   \n",
              "1                Citeremis Inc.        windows;mac            0   \n",
              "2             NIS America, Inc.            windows            0   \n",
              "3                  Gadget Games            windows            0   \n",
              "4             Beam Team Pty Ltd  windows;mac;linux            0   \n",
              "..                          ...                ...          ...   \n",
              "871                Upturn Games            windows            0   \n",
              "872             Magenta Factory  windows;mac;linux            0   \n",
              "873                   Meridian4            windows            0   \n",
              "874          Bethesda Softworks            windows           18   \n",
              "875  KOEI TECMO GAMES CO., LTD.            windows            0   \n",
              "\n",
              "                                            categories  \\\n",
              "0    Single-player;Local Multi-Player;Shared/Split ...   \n",
              "1                                        Single-player   \n",
              "2                Single-player;Full controller support   \n",
              "3               Multi-player;Steam Trading Cards;Stats   \n",
              "4    Single-player;Full controller support;Includes...   \n",
              "..                                                 ...   \n",
              "871  Single-player;Steam Achievements;In-App Purcha...   \n",
              "872  Single-player;Steam Achievements;Steam Trading...   \n",
              "873                   Single-player;Steam Achievements   \n",
              "874  Single-player;Multi-player;Co-op;Steam Achieve...   \n",
              "875  Single-player;Co-op;Steam Achievements;Steam T...   \n",
              "\n",
              "                           genres                                tags  ...  \\\n",
              "0                           Indie       Indie;Local Multiplayer;Funny  ...   \n",
              "1                Action;RPG;Indie                    RPG;Action;Indie  ...   \n",
              "2                    Action;Indie  Action;Indie;Character Action Game  ...   \n",
              "3                          Action          Action;Survival;Open World  ...   \n",
              "4    Adventure;Indie;Early Access    Early Access;Survival;Open World  ...   \n",
              "..                            ...                                 ...  ...   \n",
              "871           Casual;Free to Play         Free to Play;Casual;Clicker  ...   \n",
              "872        Adventure;Casual;Indie           Visual Novel;Indie;Casual  ...   \n",
              "873                  Action;Indie                  Action;Indie;Tanks  ...   \n",
              "874                        Action                     FPS;Action;Gore  ...   \n",
              "875                        Action                Action;Hunting;Co-op  ...   \n",
              "\n",
              "     dist_Xbox 360  dist_Xbox One  dist_Xbox Series X/S  \\\n",
              "0         2.327747       7.278020                   0.0   \n",
              "1         5.652911       0.000000                   0.0   \n",
              "2         1.991239       4.761905                   0.0   \n",
              "3         2.485707       9.082652                   0.0   \n",
              "4         2.721829      13.297872                   0.0   \n",
              "..             ...            ...                   ...   \n",
              "871       2.149613       5.780347                   0.0   \n",
              "872       2.178649       5.995204                   0.0   \n",
              "873       7.530120       0.000000                   0.0   \n",
              "874       2.410219       8.149959                   0.0   \n",
              "875       2.613013      11.049724                   0.0   \n",
              "\n",
              "    dist_Nintendo Entertainment System (NES)  \\\n",
              "0                                   0.810898   \n",
              "1                                   1.019888   \n",
              "2                                   0.765814   \n",
              "3                                   0.829256   \n",
              "4                                   0.853971   \n",
              "..                                       ...   \n",
              "871                                 0.788146   \n",
              "872                                 0.792016   \n",
              "873                                 1.067920   \n",
              "874                                 0.820681   \n",
              "875                                 0.842957   \n",
              "\n",
              "     dist_Super Nintendo Entertainment System (SNES)  dist_Nintendo 64  \\\n",
              "0                                           1.023018          1.318565   \n",
              "1                                           1.379691          1.977457   \n",
              "2                                           0.952290          1.203369   \n",
              "3                                           1.052410          1.367802   \n",
              "4                                           1.092538          1.436369   \n",
              "..                                               ...               ...   \n",
              "871                                         0.987069          1.259446   \n",
              "872                                         0.993147          1.269358   \n",
              "873                                         1.469076          2.166378   \n",
              "874                                         1.038637          1.344628   \n",
              "875                                         1.074576          1.405481   \n",
              "\n",
              "     dist_GameCube   dist_Wii  dist_Wii U  dist_Switch  \n",
              "0         1.737016   2.543882    5.747126     0.000000  \n",
              "1         3.095975   7.122507    0.000000     0.000000  \n",
              "2         1.542496   2.147305    4.055150    15.649452  \n",
              "3         1.823487   2.733734    6.816633     0.000000  \n",
              "4         1.947420   3.022061    8.944544     0.000000  \n",
              "..             ...        ...         ...          ...  \n",
              "871       1.635858   2.332634    4.770992    37.174721  \n",
              "872       1.652619   2.366864    4.916421    48.309179  \n",
              "873       3.585515  10.384216    0.000000     0.000000  \n",
              "874       1.782531   2.642706    6.277464     0.000000  \n",
              "875       1.891074   2.888504    7.867821     0.000000  \n",
              "\n",
              "[876 rows x 35 columns]"
            ],
            "text/html": [
              "\n",
              "  <div id=\"df-d55ef894-b714-4a1e-8b29-0a217454de6f\">\n",
              "    <div class=\"colab-df-container\">\n",
              "      <div>\n",
              "<style scoped>\n",
              "    .dataframe tbody tr th:only-of-type {\n",
              "        vertical-align: middle;\n",
              "    }\n",
              "\n",
              "    .dataframe tbody tr th {\n",
              "        vertical-align: top;\n",
              "    }\n",
              "\n",
              "    .dataframe thead th {\n",
              "        text-align: right;\n",
              "    }\n",
              "</style>\n",
              "<table border=\"1\" class=\"dataframe\">\n",
              "  <thead>\n",
              "    <tr style=\"text-align: right;\">\n",
              "      <th></th>\n",
              "      <th>name</th>\n",
              "      <th>release_date</th>\n",
              "      <th>english</th>\n",
              "      <th>developer</th>\n",
              "      <th>publisher</th>\n",
              "      <th>platforms</th>\n",
              "      <th>required_age</th>\n",
              "      <th>categories</th>\n",
              "      <th>genres</th>\n",
              "      <th>tags</th>\n",
              "      <th>...</th>\n",
              "      <th>dist_Xbox 360</th>\n",
              "      <th>dist_Xbox One</th>\n",
              "      <th>dist_Xbox Series X/S</th>\n",
              "      <th>dist_Nintendo Entertainment System (NES)</th>\n",
              "      <th>dist_Super Nintendo Entertainment System (SNES)</th>\n",
              "      <th>dist_Nintendo 64</th>\n",
              "      <th>dist_GameCube</th>\n",
              "      <th>dist_Wii</th>\n",
              "      <th>dist_Wii U</th>\n",
              "      <th>dist_Switch</th>\n",
              "    </tr>\n",
              "  </thead>\n",
              "  <tbody>\n",
              "    <tr>\n",
              "      <th>0</th>\n",
              "      <td>Frog Climbers</td>\n",
              "      <td>2016-10-06</td>\n",
              "      <td>1</td>\n",
              "      <td>TeamCrew</td>\n",
              "      <td>Dear Villagers</td>\n",
              "      <td>windows</td>\n",
              "      <td>0</td>\n",
              "      <td>Single-player;Local Multi-Player;Shared/Split ...</td>\n",
              "      <td>Indie</td>\n",
              "      <td>Indie;Local Multiplayer;Funny</td>\n",
              "      <td>...</td>\n",
              "      <td>2.327747</td>\n",
              "      <td>7.278020</td>\n",
              "      <td>0.0</td>\n",
              "      <td>0.810898</td>\n",
              "      <td>1.023018</td>\n",
              "      <td>1.318565</td>\n",
              "      <td>1.737016</td>\n",
              "      <td>2.543882</td>\n",
              "      <td>5.747126</td>\n",
              "      <td>0.000000</td>\n",
              "    </tr>\n",
              "    <tr>\n",
              "      <th>1</th>\n",
              "      <td>Aztaka</td>\n",
              "      <td>2009-11-05</td>\n",
              "      <td>1</td>\n",
              "      <td>Citeremis Inc.</td>\n",
              "      <td>Citeremis Inc.</td>\n",
              "      <td>windows;mac</td>\n",
              "      <td>0</td>\n",
              "      <td>Single-player</td>\n",
              "      <td>Action;RPG;Indie</td>\n",
              "      <td>RPG;Action;Indie</td>\n",
              "      <td>...</td>\n",
              "      <td>5.652911</td>\n",
              "      <td>0.000000</td>\n",
              "      <td>0.0</td>\n",
              "      <td>1.019888</td>\n",
              "      <td>1.379691</td>\n",
              "      <td>1.977457</td>\n",
              "      <td>3.095975</td>\n",
              "      <td>7.122507</td>\n",
              "      <td>0.000000</td>\n",
              "      <td>0.000000</td>\n",
              "    </tr>\n",
              "    <tr>\n",
              "      <th>2</th>\n",
              "      <td>Assault Spy / アサルトスパイ</td>\n",
              "      <td>2018-10-02</td>\n",
              "      <td>1</td>\n",
              "      <td>Wazen</td>\n",
              "      <td>NIS America, Inc.</td>\n",
              "      <td>windows</td>\n",
              "      <td>0</td>\n",
              "      <td>Single-player;Full controller support</td>\n",
              "      <td>Action;Indie</td>\n",
              "      <td>Action;Indie;Character Action Game</td>\n",
              "      <td>...</td>\n",
              "      <td>1.991239</td>\n",
              "      <td>4.761905</td>\n",
              "      <td>0.0</td>\n",
              "      <td>0.765814</td>\n",
              "      <td>0.952290</td>\n",
              "      <td>1.203369</td>\n",
              "      <td>1.542496</td>\n",
              "      <td>2.147305</td>\n",
              "      <td>4.055150</td>\n",
              "      <td>15.649452</td>\n",
              "    </tr>\n",
              "    <tr>\n",
              "      <th>3</th>\n",
              "      <td>Down To One</td>\n",
              "      <td>2016-01-07</td>\n",
              "      <td>1</td>\n",
              "      <td>Gadget Games</td>\n",
              "      <td>Gadget Games</td>\n",
              "      <td>windows</td>\n",
              "      <td>0</td>\n",
              "      <td>Multi-player;Steam Trading Cards;Stats</td>\n",
              "      <td>Action</td>\n",
              "      <td>Action;Survival;Open World</td>\n",
              "      <td>...</td>\n",
              "      <td>2.485707</td>\n",
              "      <td>9.082652</td>\n",
              "      <td>0.0</td>\n",
              "      <td>0.829256</td>\n",
              "      <td>1.052410</td>\n",
              "      <td>1.367802</td>\n",
              "      <td>1.823487</td>\n",
              "      <td>2.733734</td>\n",
              "      <td>6.816633</td>\n",
              "      <td>0.000000</td>\n",
              "    </tr>\n",
              "    <tr>\n",
              "      <th>4</th>\n",
              "      <td>Stranded Deep</td>\n",
              "      <td>2015-01-23</td>\n",
              "      <td>1</td>\n",
              "      <td>Beam Team Games</td>\n",
              "      <td>Beam Team Pty Ltd</td>\n",
              "      <td>windows;mac;linux</td>\n",
              "      <td>0</td>\n",
              "      <td>Single-player;Full controller support;Includes...</td>\n",
              "      <td>Adventure;Indie;Early Access</td>\n",
              "      <td>Early Access;Survival;Open World</td>\n",
              "      <td>...</td>\n",
              "      <td>2.721829</td>\n",
              "      <td>13.297872</td>\n",
              "      <td>0.0</td>\n",
              "      <td>0.853971</td>\n",
              "      <td>1.092538</td>\n",
              "      <td>1.436369</td>\n",
              "      <td>1.947420</td>\n",
              "      <td>3.022061</td>\n",
              "      <td>8.944544</td>\n",
              "      <td>0.000000</td>\n",
              "    </tr>\n",
              "    <tr>\n",
              "      <th>...</th>\n",
              "      <td>...</td>\n",
              "      <td>...</td>\n",
              "      <td>...</td>\n",
              "      <td>...</td>\n",
              "      <td>...</td>\n",
              "      <td>...</td>\n",
              "      <td>...</td>\n",
              "      <td>...</td>\n",
              "      <td>...</td>\n",
              "      <td>...</td>\n",
              "      <td>...</td>\n",
              "      <td>...</td>\n",
              "      <td>...</td>\n",
              "      <td>...</td>\n",
              "      <td>...</td>\n",
              "      <td>...</td>\n",
              "      <td>...</td>\n",
              "      <td>...</td>\n",
              "      <td>...</td>\n",
              "      <td>...</td>\n",
              "      <td>...</td>\n",
              "    </tr>\n",
              "    <tr>\n",
              "      <th>871</th>\n",
              "      <td>Idle Bouncer</td>\n",
              "      <td>2017-09-27</td>\n",
              "      <td>1</td>\n",
              "      <td>Upturn Games</td>\n",
              "      <td>Upturn Games</td>\n",
              "      <td>windows</td>\n",
              "      <td>0</td>\n",
              "      <td>Single-player;Steam Achievements;In-App Purcha...</td>\n",
              "      <td>Casual;Free to Play</td>\n",
              "      <td>Free to Play;Casual;Clicker</td>\n",
              "      <td>...</td>\n",
              "      <td>2.149613</td>\n",
              "      <td>5.780347</td>\n",
              "      <td>0.0</td>\n",
              "      <td>0.788146</td>\n",
              "      <td>0.987069</td>\n",
              "      <td>1.259446</td>\n",
              "      <td>1.635858</td>\n",
              "      <td>2.332634</td>\n",
              "      <td>4.770992</td>\n",
              "      <td>37.174721</td>\n",
              "    </tr>\n",
              "    <tr>\n",
              "      <th>872</th>\n",
              "      <td>Bai Qu · 百曲</td>\n",
              "      <td>2017-07-27</td>\n",
              "      <td>1</td>\n",
              "      <td>Magenta Factory</td>\n",
              "      <td>Magenta Factory</td>\n",
              "      <td>windows;mac;linux</td>\n",
              "      <td>0</td>\n",
              "      <td>Single-player;Steam Achievements;Steam Trading...</td>\n",
              "      <td>Adventure;Casual;Indie</td>\n",
              "      <td>Visual Novel;Indie;Casual</td>\n",
              "      <td>...</td>\n",
              "      <td>2.178649</td>\n",
              "      <td>5.995204</td>\n",
              "      <td>0.0</td>\n",
              "      <td>0.792016</td>\n",
              "      <td>0.993147</td>\n",
              "      <td>1.269358</td>\n",
              "      <td>1.652619</td>\n",
              "      <td>2.366864</td>\n",
              "      <td>4.916421</td>\n",
              "      <td>48.309179</td>\n",
              "    </tr>\n",
              "    <tr>\n",
              "      <th>873</th>\n",
              "      <td>Tank Universal</td>\n",
              "      <td>2008-08-21</td>\n",
              "      <td>1</td>\n",
              "      <td>Dialogue Design</td>\n",
              "      <td>Meridian4</td>\n",
              "      <td>windows</td>\n",
              "      <td>0</td>\n",
              "      <td>Single-player;Steam Achievements</td>\n",
              "      <td>Action;Indie</td>\n",
              "      <td>Action;Indie;Tanks</td>\n",
              "      <td>...</td>\n",
              "      <td>7.530120</td>\n",
              "      <td>0.000000</td>\n",
              "      <td>0.0</td>\n",
              "      <td>1.067920</td>\n",
              "      <td>1.469076</td>\n",
              "      <td>2.166378</td>\n",
              "      <td>3.585515</td>\n",
              "      <td>10.384216</td>\n",
              "      <td>0.000000</td>\n",
              "      <td>0.000000</td>\n",
              "    </tr>\n",
              "    <tr>\n",
              "      <th>874</th>\n",
              "      <td>DOOM</td>\n",
              "      <td>2016-05-12</td>\n",
              "      <td>1</td>\n",
              "      <td>id Software</td>\n",
              "      <td>Bethesda Softworks</td>\n",
              "      <td>windows</td>\n",
              "      <td>18</td>\n",
              "      <td>Single-player;Multi-player;Co-op;Steam Achieve...</td>\n",
              "      <td>Action</td>\n",
              "      <td>FPS;Action;Gore</td>\n",
              "      <td>...</td>\n",
              "      <td>2.410219</td>\n",
              "      <td>8.149959</td>\n",
              "      <td>0.0</td>\n",
              "      <td>0.820681</td>\n",
              "      <td>1.038637</td>\n",
              "      <td>1.344628</td>\n",
              "      <td>1.782531</td>\n",
              "      <td>2.642706</td>\n",
              "      <td>6.277464</td>\n",
              "      <td>0.000000</td>\n",
              "    </tr>\n",
              "    <tr>\n",
              "      <th>875</th>\n",
              "      <td>Toukiden: Kiwami</td>\n",
              "      <td>2015-06-25</td>\n",
              "      <td>1</td>\n",
              "      <td>KOEI TECMO GAMES CO., LTD.</td>\n",
              "      <td>KOEI TECMO GAMES CO., LTD.</td>\n",
              "      <td>windows</td>\n",
              "      <td>0</td>\n",
              "      <td>Single-player;Co-op;Steam Achievements;Steam T...</td>\n",
              "      <td>Action</td>\n",
              "      <td>Action;Hunting;Co-op</td>\n",
              "      <td>...</td>\n",
              "      <td>2.613013</td>\n",
              "      <td>11.049724</td>\n",
              "      <td>0.0</td>\n",
              "      <td>0.842957</td>\n",
              "      <td>1.074576</td>\n",
              "      <td>1.405481</td>\n",
              "      <td>1.891074</td>\n",
              "      <td>2.888504</td>\n",
              "      <td>7.867821</td>\n",
              "      <td>0.000000</td>\n",
              "    </tr>\n",
              "  </tbody>\n",
              "</table>\n",
              "<p>876 rows × 35 columns</p>\n",
              "</div>\n",
              "      <button class=\"colab-df-convert\" onclick=\"convertToInteractive('df-d55ef894-b714-4a1e-8b29-0a217454de6f')\"\n",
              "              title=\"Convert this dataframe to an interactive table.\"\n",
              "              style=\"display:none;\">\n",
              "        \n",
              "  <svg xmlns=\"http://www.w3.org/2000/svg\" height=\"24px\"viewBox=\"0 0 24 24\"\n",
              "       width=\"24px\">\n",
              "    <path d=\"M0 0h24v24H0V0z\" fill=\"none\"/>\n",
              "    <path d=\"M18.56 5.44l.94 2.06.94-2.06 2.06-.94-2.06-.94-.94-2.06-.94 2.06-2.06.94zm-11 1L8.5 8.5l.94-2.06 2.06-.94-2.06-.94L8.5 2.5l-.94 2.06-2.06.94zm10 10l.94 2.06.94-2.06 2.06-.94-2.06-.94-.94-2.06-.94 2.06-2.06.94z\"/><path d=\"M17.41 7.96l-1.37-1.37c-.4-.4-.92-.59-1.43-.59-.52 0-1.04.2-1.43.59L10.3 9.45l-7.72 7.72c-.78.78-.78 2.05 0 2.83L4 21.41c.39.39.9.59 1.41.59.51 0 1.02-.2 1.41-.59l7.78-7.78 2.81-2.81c.8-.78.8-2.07 0-2.86zM5.41 20L4 18.59l7.72-7.72 1.47 1.35L5.41 20z\"/>\n",
              "  </svg>\n",
              "      </button>\n",
              "      \n",
              "  <style>\n",
              "    .colab-df-container {\n",
              "      display:flex;\n",
              "      flex-wrap:wrap;\n",
              "      gap: 12px;\n",
              "    }\n",
              "\n",
              "    .colab-df-convert {\n",
              "      background-color: #E8F0FE;\n",
              "      border: none;\n",
              "      border-radius: 50%;\n",
              "      cursor: pointer;\n",
              "      display: none;\n",
              "      fill: #1967D2;\n",
              "      height: 32px;\n",
              "      padding: 0 0 0 0;\n",
              "      width: 32px;\n",
              "    }\n",
              "\n",
              "    .colab-df-convert:hover {\n",
              "      background-color: #E2EBFA;\n",
              "      box-shadow: 0px 1px 2px rgba(60, 64, 67, 0.3), 0px 1px 3px 1px rgba(60, 64, 67, 0.15);\n",
              "      fill: #174EA6;\n",
              "    }\n",
              "\n",
              "    [theme=dark] .colab-df-convert {\n",
              "      background-color: #3B4455;\n",
              "      fill: #D2E3FC;\n",
              "    }\n",
              "\n",
              "    [theme=dark] .colab-df-convert:hover {\n",
              "      background-color: #434B5C;\n",
              "      box-shadow: 0px 1px 3px 1px rgba(0, 0, 0, 0.15);\n",
              "      filter: drop-shadow(0px 1px 2px rgba(0, 0, 0, 0.3));\n",
              "      fill: #FFFFFF;\n",
              "    }\n",
              "  </style>\n",
              "\n",
              "      <script>\n",
              "        const buttonEl =\n",
              "          document.querySelector('#df-d55ef894-b714-4a1e-8b29-0a217454de6f button.colab-df-convert');\n",
              "        buttonEl.style.display =\n",
              "          google.colab.kernel.accessAllowed ? 'block' : 'none';\n",
              "\n",
              "        async function convertToInteractive(key) {\n",
              "          const element = document.querySelector('#df-d55ef894-b714-4a1e-8b29-0a217454de6f');\n",
              "          const dataTable =\n",
              "            await google.colab.kernel.invokeFunction('convertToInteractive',\n",
              "                                                     [key], {});\n",
              "          if (!dataTable) return;\n",
              "\n",
              "          const docLinkHtml = 'Like what you see? Visit the ' +\n",
              "            '<a target=\"_blank\" href=https://colab.research.google.com/notebooks/data_table.ipynb>data table notebook</a>'\n",
              "            + ' to learn more about interactive tables.';\n",
              "          element.innerHTML = '';\n",
              "          dataTable['output_type'] = 'display_data';\n",
              "          await google.colab.output.renderOutput(dataTable, element);\n",
              "          const docLink = document.createElement('div');\n",
              "          docLink.innerHTML = docLinkHtml;\n",
              "          element.appendChild(docLink);\n",
              "        }\n",
              "      </script>\n",
              "    </div>\n",
              "  </div>\n",
              "  "
            ]
          },
          "metadata": {},
          "execution_count": 87
        }
      ],
      "source": [
        "df_test['year'] = pd.to_datetime(df_test['release_date']).dt.year\n",
        "df_test['month'] = pd.to_datetime(df_test['release_date']).dt.month\n",
        "df_test = dist_dias(df_test,df_consolas)\n",
        "df_test['required_age']=df_test['required_age'].astype('object')\n",
        "df_test"
      ],
      "id": "QaZgaUvdk4UT"
    },
    {
      "cell_type": "code",
      "execution_count": 88,
      "metadata": {
        "id": "eHSl8RnswiHs"
      },
      "outputs": [],
      "source": [
        "df_test_2 = df_test.drop(labels=['release_date','publisher','dist_Xbox Series X/S','dist_PlayStation 5','name','short_description'], axis=1).copy()"
      ],
      "id": "eHSl8RnswiHs"
    },
    {
      "cell_type": "code",
      "execution_count": 89,
      "metadata": {
        "colab": {
          "base_uri": "https://localhost:8080/"
        },
        "id": "UKPOqSKavGaF",
        "outputId": "8aa840c5-54db-4a93-bf19-af2e15ec637e"
      },
      "outputs": [
        {
          "output_type": "execute_result",
          "data": {
            "text/plain": [
              "name                                               False\n",
              "release_date                                       False\n",
              "english                                            False\n",
              "developer                                          False\n",
              "publisher                                          False\n",
              "platforms                                          False\n",
              "required_age                                       False\n",
              "categories                                         False\n",
              "genres                                             False\n",
              "tags                                               False\n",
              "achievements                                       False\n",
              "average_playtime                                   False\n",
              "price                                              False\n",
              "short_description                                  False\n",
              "pred_sent_0                                        False\n",
              "pred_sent_1                                        False\n",
              "pred_sent_2                                        False\n",
              "year                                               False\n",
              "month                                              False\n",
              "dist_PlayStation                                   False\n",
              "dist_PlayStation 2                                 False\n",
              "dist_PlayStation 3                                 False\n",
              "dist_PlayStation 4                                 False\n",
              "dist_PlayStation 5                                 False\n",
              "dist_Xbox                                          False\n",
              "dist_Xbox 360                                      False\n",
              "dist_Xbox One                                      False\n",
              "dist_Xbox Series X/S                               False\n",
              "dist_Nintendo Entertainment System (NES)           False\n",
              "dist_Super Nintendo Entertainment System (SNES)    False\n",
              "dist_Nintendo 64                                   False\n",
              "dist_GameCube                                      False\n",
              "dist_Wii                                           False\n",
              "dist_Wii U                                         False\n",
              "dist_Switch                                        False\n",
              "dtype: bool"
            ]
          },
          "metadata": {},
          "execution_count": 89
        }
      ],
      "source": [
        "df_test.isna().any()"
      ],
      "id": "UKPOqSKavGaF"
    },
    {
      "cell_type": "code",
      "execution_count": 90,
      "metadata": {
        "id": "Ik2q1qYqkzi0"
      },
      "outputs": [],
      "source": [
        "generateFiles(df_test_2,gs_2,gs_3)"
      ],
      "id": "Ik2q1qYqkzi0"
    }
  ],
  "metadata": {
    "colab": {
      "provenance": []
    },
    "deepnote": {},
    "deepnote_execution_queue": [],
    "deepnote_notebook_id": "cd4ffb8b-90a0-4648-9d80-2b8c0eef5325",
    "gpuClass": "standard",
    "kernelspec": {
      "display_name": "Python 3",
      "language": "python",
      "name": "python3"
    },
    "language_info": {
      "codemirror_mode": {
        "name": "ipython",
        "version": 3
      },
      "file_extension": ".py",
      "mimetype": "text/x-python",
      "name": "python",
      "nbconvert_exporter": "python",
      "pygments_lexer": "ipython3",
      "version": "3.8.10"
    }
  },
  "nbformat": 4,
  "nbformat_minor": 5
}